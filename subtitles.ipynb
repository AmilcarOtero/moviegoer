{
 "cells": [
  {
   "cell_type": "markdown",
   "metadata": {},
   "source": [
    "# subtitles\n",
    "This notebook explores the use of the `pysrt` library to analyze subtitle files. These .srt files are simply text files with specific formatting that allows them to be read by media players. The goal is to be able to assemble a scene's entire conversation and attribute individual lines to characters."
   ]
  },
  {
   "cell_type": "code",
   "execution_count": 1,
   "metadata": {},
   "outputs": [],
   "source": [
    "import pandas as pd\n",
    "import pysrt\n",
    "import pyAudioAnalysis.audioSegmentation\n",
    "import datetime"
   ]
  },
  {
   "cell_type": "code",
   "execution_count": 2,
   "metadata": {},
   "outputs": [],
   "source": [
    "subs = pysrt.open('subtitles/hobbs_shaw.srt')"
   ]
  },
  {
   "cell_type": "code",
   "execution_count": 3,
   "metadata": {},
   "outputs": [],
   "source": [
    "# subtitle files (.srt) are explicitly numbered, and start at 1\n",
    "subs.insert(0, subs[0])"
   ]
  },
  {
   "cell_type": "code",
   "execution_count": 4,
   "metadata": {
    "scrolled": false
   },
   "outputs": [
    {
     "data": {
      "text/plain": [
       "2704"
      ]
     },
     "execution_count": 4,
     "metadata": {},
     "output_type": "execute_result"
    }
   ],
   "source": [
    "len(subs)"
   ]
  },
  {
   "cell_type": "code",
   "execution_count": 5,
   "metadata": {},
   "outputs": [
    {
     "data": {
      "text/plain": [
       "'(\"Time in a Bottle\"\\nby Yungblud playing)'"
      ]
     },
     "execution_count": 5,
     "metadata": {},
     "output_type": "execute_result"
    }
   ],
   "source": [
    "subs[1].text"
   ]
  },
  {
   "cell_type": "code",
   "execution_count": 6,
   "metadata": {},
   "outputs": [
    {
     "name": "stdout",
     "output_type": "stream",
     "text": [
      "I want her on the run\n",
      "with no place to turn.\n"
     ]
    }
   ],
   "source": [
    "print(subs[62].text)"
   ]
  },
  {
   "cell_type": "code",
   "execution_count": 7,
   "metadata": {
    "scrolled": true
   },
   "outputs": [
    {
     "name": "stdout",
     "output_type": "stream",
     "text": [
      "0\n",
      "4\n",
      "32\n",
      "522\n"
     ]
    }
   ],
   "source": [
    "print(subs[62].start.hours)\n",
    "print(subs[62].start.minutes)\n",
    "print(subs[62].start.seconds)\n",
    "print(subs[62].start.milliseconds)"
   ]
  },
  {
   "cell_type": "markdown",
   "metadata": {},
   "source": [
    "# Comparison with actual audio\n",
    "We can compare the subtitles with the audio in a scene we've previously identified."
   ]
  },
  {
   "cell_type": "code",
   "execution_count": 8,
   "metadata": {},
   "outputs": [],
   "source": [
    "file = ('extracted_audio/prison_stereo.wav')"
   ]
  },
  {
   "cell_type": "code",
   "execution_count": 9,
   "metadata": {},
   "outputs": [
    {
     "data": {
      "image/png": "[encoded data removed]",
      "text/plain": [
       "<Figure size 432x288 with 1 Axes>"
      ]
     },
     "metadata": {
      "needs_background": "light"
     },
     "output_type": "display_data"
    },
    {
     "name": "stdout",
     "output_type": "stream",
     "text": [
      "CPU times: user 29.3 s, sys: 1.91 s, total: 31.2 s\n",
      "Wall time: 10.3 s\n"
     ]
    }
   ],
   "source": [
    "%%time\n",
    "clusters = pyAudioAnalysis.audioSegmentation.speaker_diarization(file, 2, mid_window=.8, mid_step=0.1, short_window=0.02, lda_dim=0, plot_res=True)"
   ]
  },
  {
   "cell_type": "code",
   "execution_count": 10,
   "metadata": {},
   "outputs": [
    {
     "data": {
      "text/plain": [
       "570"
      ]
     },
     "execution_count": 10,
     "metadata": {},
     "output_type": "execute_result"
    }
   ],
   "source": [
    "len(clusters)"
   ]
  },
  {
   "cell_type": "markdown",
   "metadata": {},
   "source": [
    "Helen Mirren:  12:47-12:49    :01-:03\n",
    "Jason Statham: 12:49-12:51    :03-:05\n",
    "Helen Mirren:  12:51-13:00    :05-:14\n",
    "Jason Statham: 13:00-13:02    :14-:16\n",
    "Silence\n",
    "Helen Mirren:  13:05-13:12    :19-:26\n",
    "Jason Statham: 13:12-13:15    :26-:29\n",
    "Double:        13:15-13:17    :29-:31\n",
    "Jason Statham: 13:19-13:24    :33-:38\n"
   ]
  },
  {
   "cell_type": "code",
   "execution_count": 31,
   "metadata": {},
   "outputs": [
    {
     "data": {
      "text/plain": [
       "'12:46'"
      ]
     },
     "execution_count": 31,
     "metadata": {},
     "output_type": "execute_result"
    }
   ],
   "source": [
    "convert_timestamp(766)\n",
    "# first subtitle after 12:46 is subs[265]"
   ]
  },
  {
   "cell_type": "code",
   "execution_count": 33,
   "metadata": {},
   "outputs": [
    {
     "data": {
      "text/plain": [
       "\"That's my boy.\""
      ]
     },
     "execution_count": 33,
     "metadata": {},
     "output_type": "execute_result"
    }
   ],
   "source": [
    "subs[265].text"
   ]
  },
  {
   "cell_type": "code",
   "execution_count": null,
   "metadata": {},
   "outputs": [],
   "source": [
    "# frame converted to HH:MM:SS, units of seconds\n",
    "# audio segmentation has one-tenth of a second\n",
    "# subtitle has HH:MM:SS:MS"
   ]
  },
  {
   "cell_type": "code",
   "execution_count": null,
   "metadata": {},
   "outputs": [],
   "source": [
    "# speaker change comes at frame 766 + 14 tenths of a second\n",
    "# 00:12:47,400\n",
    "# subtitle 265 is at 00:12:47,725\n",
    "\n",
    "# speaker change comes at frame 766 + 30 tenths of a second\n",
    "# 00:12:49,000\n",
    "# subtitle 266 is at 00:12:49,102, ends at 00:12:51,103"
   ]
  },
  {
   "cell_type": "code",
   "execution_count": 62,
   "metadata": {},
   "outputs": [],
   "source": [
    "part = subs.slice(starts_after={'minutes': 12, 'seconds': 47, 'milliseconds': 400}, ends_before={'minutes': 12, 'seconds': 49, 'milliseconds': 0})"
   ]
  },
  {
   "cell_type": "code",
   "execution_count": 66,
   "metadata": {},
   "outputs": [],
   "source": [
    "part = subs.at(minutes=12, seconds=47, milliseconds=400)"
   ]
  },
  {
   "cell_type": "code",
   "execution_count": 67,
   "metadata": {},
   "outputs": [
    {
     "data": {
      "text/plain": [
       "[<pysrt.srtitem.SubRipItem object at 0x7f62bcdbc5d0>]"
      ]
     },
     "execution_count": 67,
     "metadata": {},
     "output_type": "execute_result"
    }
   ],
   "source": [
    "part"
   ]
  },
  {
   "cell_type": "code",
   "execution_count": 69,
   "metadata": {},
   "outputs": [
    {
     "data": {
      "text/plain": [
       "264"
      ]
     },
     "execution_count": 69,
     "metadata": {},
     "output_type": "execute_result"
    }
   ],
   "source": [
    "part[0].index"
   ]
  },
  {
   "cell_type": "code",
   "execution_count": 57,
   "metadata": {},
   "outputs": [],
   "source": [
    "part = subs.slice(starts_after={'minutes': 12, 'seconds': 50, 'milliseconds': 400}, ends_after={'minutes': 12, 'seconds': 50, 'milliseconds': 0})"
   ]
  },
  {
   "cell_type": "code",
   "execution_count": 72,
   "metadata": {},
   "outputs": [
    {
     "name": "stdout",
     "output_type": "stream",
     "text": [
      "That's my boy.\n",
      "No wonder we left\n",
      "the family business.\n",
      "She loves you, you know.\n",
      "All you got to do is\n",
      "pick up the phone, Decks.\n",
      "Look at me.\n",
      "You're her big brother.\n",
      "She looks up to you.\n"
     ]
    }
   ],
   "source": [
    "print(subs[265].text)\n",
    "print(subs[266].text)\n",
    "print(subs[267].text)\n",
    "print(subs[268].text)\n",
    "print(subs[269].text)\n",
    "print(subs[270].text)"
   ]
  },
  {
   "cell_type": "code",
   "execution_count": 87,
   "metadata": {
    "scrolled": true
   },
   "outputs": [
    {
     "name": "stdout",
     "output_type": "stream",
     "text": [
      "0\n",
      "13\n",
      "0\n",
      "613\n"
     ]
    }
   ],
   "source": [
    "print(subs[271].start.hours)\n",
    "print(subs[271].start.minutes)\n",
    "print(subs[271].start.seconds)\n",
    "print(subs[271].start.milliseconds)"
   ]
  },
  {
   "cell_type": "code",
   "execution_count": 96,
   "metadata": {},
   "outputs": [],
   "source": [
    "time_obj = subs[271].start.to_time()"
   ]
  },
  {
   "cell_type": "code",
   "execution_count": 97,
   "metadata": {
    "scrolled": true
   },
   "outputs": [
    {
     "data": {
      "text/plain": [
       "datetime.time(0, 13, 0, 613000)"
      ]
     },
     "execution_count": 97,
     "metadata": {},
     "output_type": "execute_result"
    }
   ],
   "source": [
    "time_obj"
   ]
  },
  {
   "cell_type": "code",
   "execution_count": 102,
   "metadata": {},
   "outputs": [],
   "source": [
    "# first speaker change is at clusters[13]\n",
    "# frame 766 = 600 seconds\n",
    "# plus 1300 milliseconds\n",
    "first_speaker_change_time = datetime.time(0, 12, 47, 300000)"
   ]
  },
  {
   "cell_type": "code",
   "execution_count": 108,
   "metadata": {},
   "outputs": [],
   "source": [
    "first_speaker_change_pysrt = pysrt.SubRipTime.from_time(first_speaker_change_time)"
   ]
  },
  {
   "cell_type": "code",
   "execution_count": 110,
   "metadata": {},
   "outputs": [],
   "source": [
    "first_subtitle = subs.at(first_speaker_change_pysrt)"
   ]
  },
  {
   "cell_type": "code",
   "execution_count": 111,
   "metadata": {},
   "outputs": [
    {
     "data": {
      "text/plain": [
       "[<pysrt.srtitem.SubRipItem object at 0x7f62bcdbc5d0>]"
      ]
     },
     "execution_count": 111,
     "metadata": {},
     "output_type": "execute_result"
    }
   ],
   "source": [
    "first_subtitle"
   ]
  },
  {
   "cell_type": "code",
   "execution_count": 119,
   "metadata": {},
   "outputs": [],
   "source": [
    "# second speaker change is at clusters[29]\n",
    "# frame 766 = 12 minutes, 46 seconds\n",
    "# plus 2900 milliseconds\n",
    "second_speaker_change_time = datetime.time(0, 12, 49, 900000)"
   ]
  },
  {
   "cell_type": "code",
   "execution_count": null,
   "metadata": {},
   "outputs": [],
   "source": []
  },
  {
   "cell_type": "code",
   "execution_count": 120,
   "metadata": {},
   "outputs": [],
   "source": [
    "second_speaker_change_pysrt = pysrt.SubRipTime.from_time(second_speaker_change_time)"
   ]
  },
  {
   "cell_type": "code",
   "execution_count": 121,
   "metadata": {},
   "outputs": [],
   "source": [
    "jason_subtitle = subs.at(second_speaker_change_pysrt)"
   ]
  },
  {
   "cell_type": "code",
   "execution_count": 123,
   "metadata": {},
   "outputs": [
    {
     "name": "stdout",
     "output_type": "stream",
     "text": [
      "No wonder we left\n",
      "the family business.\n"
     ]
    }
   ],
   "source": [
    "print(jason_subtitle.text)"
   ]
  },
  {
   "cell_type": "code",
   "execution_count": 77,
   "metadata": {},
   "outputs": [],
   "source": [
    "# 00:13:00,613 is 00:00:14,613 is 146 cluster portions, is clusters[146]"
   ]
  },
  {
   "cell_type": "code",
   "execution_count": null,
   "metadata": {},
   "outputs": [],
   "source": [
    "part = subs.slice(starts_after={'minutes': 12, 'seconds': 50, 'milliseconds': 400}, ends_after={'minutes': 12, 'seconds': 50, 'milliseconds': 0})"
   ]
  },
  {
   "cell_type": "markdown",
   "metadata": {},
   "source": [
    "# Speaker Changes\n",
    "We have to work through two challenges.\n",
    "1. pyAudioAnalysis' `speaker_diarization` doesn't actually tell us when someone is speaking, only the character who last spoke (whether currently speaking ot not). \n",
    "2. Frame extraction and subtitle timestamps may not line up perfectly. This is due to the issue of extracting frames from a 23.976p video.\n",
    "\n",
    "Here are the speaker changes manually identified from `speaker_diarization`. I've attempted to \"line up\" the subtitles with the speaker changes by manually trying a time offset."
   ]
  },
  {
   "cell_type": "code",
   "execution_count": 44,
   "metadata": {
    "scrolled": true
   },
   "outputs": [
    {
     "name": "stdout",
     "output_type": "stream",
     "text": [
      "1.0 12\n",
      "0.0 13\n",
      "\n",
      "0.0 28\n",
      "1.0 29\n",
      "\n",
      "1.0 44\n",
      "0.0 45\n",
      "\n",
      "0.0 145\n",
      "1.0 146\n",
      "\n",
      "1.0 200\n",
      "0.0 201\n",
      "\n"
     ]
    }
   ],
   "source": [
    "# will turn this into a function\n",
    "for x in range(12, 14): # 13\n",
    "    print(clusters[x], x)\n",
    "print()\n",
    "for x in range(28, 30): # 29\n",
    "    print(clusters[x], x)\n",
    "print()\n",
    "for x in range(44, 46): # 45\n",
    "    print(clusters[x], x)\n",
    "print()\n",
    "for x in range(145, 147): #146\n",
    "    print(clusters[x], x)\n",
    "print()\n",
    "for x in range(200, 202): #201\n",
    "    print(clusters[x], x)"
   ]
  },
  {
   "cell_type": "code",
   "execution_count": 46,
   "metadata": {},
   "outputs": [
    {
     "data": {
      "text/plain": [
       "\"That's my boy.\""
      ]
     },
     "execution_count": 46,
     "metadata": {},
     "output_type": "execute_result"
    }
   ],
   "source": [
    "# first speaker change is at clusters[13]\n",
    "# frame 766 = 12 minutes, 46 seconds\n",
    "# plus 1,300 milliseconds\n",
    "first_speaker_change_time = datetime.time(0, 12, 47, 300000)\n",
    "first_speaker_change_time = datetime.time(0, 12, 47, 800000)\n",
    "first_speaker_change_pysrt = pysrt.SubRipTime.from_time(first_speaker_change_time)\n",
    "# should be helen, \"That's my boy\"\n",
    "subs.at(first_speaker_change_pysrt).text"
   ]
  },
  {
   "cell_type": "code",
   "execution_count": 29,
   "metadata": {},
   "outputs": [
    {
     "data": {
      "text/plain": [
       "264"
      ]
     },
     "execution_count": 29,
     "metadata": {},
     "output_type": "execute_result"
    }
   ],
   "source": [
    "subs.at(first_speaker_change_pysrt)[0].index"
   ]
  },
  {
   "cell_type": "code",
   "execution_count": 31,
   "metadata": {},
   "outputs": [
    {
     "data": {
      "text/plain": [
       "\"That's my boy.\""
      ]
     },
     "execution_count": 31,
     "metadata": {},
     "output_type": "execute_result"
    }
   ],
   "source": [
    "subs[265].text"
   ]
  },
  {
   "cell_type": "code",
   "execution_count": 47,
   "metadata": {},
   "outputs": [
    {
     "data": {
      "text/plain": [
       "'No wonder we left\\nthe family business.'"
      ]
     },
     "execution_count": 47,
     "metadata": {},
     "output_type": "execute_result"
    }
   ],
   "source": [
    "# second speaker change is at clusters[29]\n",
    "# frame 766 = 12 minutes, 46 seconds\n",
    "# plus 2,900 milliseconds\n",
    "second_speaker_change_time = datetime.time(0, 12, 48, 900000)\n",
    "second_speaker_change_time = datetime.time(0, 12, 49, 400000)\n",
    "second_speaker_change_pysrt = pysrt.SubRipTime.from_time(second_speaker_change_time)\n",
    "# should be Jason, \"No wonder\"\n",
    "subs.at(second_speaker_change_pysrt).text"
   ]
  },
  {
   "cell_type": "code",
   "execution_count": 35,
   "metadata": {},
   "outputs": [
    {
     "data": {
      "text/plain": [
       "'No wonder we left\\nthe family business.'"
      ]
     },
     "execution_count": 35,
     "metadata": {},
     "output_type": "execute_result"
    }
   ],
   "source": [
    "subs[(subs.at(second_speaker_change_pysrt)[0].index + 1)].text"
   ]
  },
  {
   "cell_type": "code",
   "execution_count": 49,
   "metadata": {},
   "outputs": [
    {
     "data": {
      "text/plain": [
       "'No wonder we left\\nthe family business.'"
      ]
     },
     "execution_count": 49,
     "metadata": {},
     "output_type": "execute_result"
    }
   ],
   "source": [
    "# third speaker change is at clusters[44]\n",
    "# frame 766 = 12 minutes, 46 seconds\n",
    "# plus 4,400 milliseconds\n",
    "third_speaker_change_time = datetime.time(0, 12, 50, 400000)\n",
    "third_speaker_change_time = datetime.time(0, 12, 50, 900000)\n",
    "third_speaker_change_pysrt = pysrt.SubRipTime.from_time(third_speaker_change_time)\n",
    "# should be Helen, \"she loves you\"\n",
    "subs.at(third_speaker_change_pysrt).text"
   ]
  },
  {
   "cell_type": "code",
   "execution_count": 38,
   "metadata": {},
   "outputs": [
    {
     "data": {
      "text/plain": [
       "'She loves you, you know.'"
      ]
     },
     "execution_count": 38,
     "metadata": {},
     "output_type": "execute_result"
    }
   ],
   "source": [
    "subs[(subs.at(third_speaker_change_pysrt)[0].index + 1)].text"
   ]
  },
  {
   "cell_type": "code",
   "execution_count": 50,
   "metadata": {},
   "outputs": [
    {
     "data": {
      "text/plain": [
       "'Used to.'"
      ]
     },
     "execution_count": 50,
     "metadata": {},
     "output_type": "execute_result"
    }
   ],
   "source": [
    "# fourth speaker change is at clusters[146]\n",
    "# frame 766 = 12 minutes, 46 seconds\n",
    "# plus 14,600 milliseconds\n",
    "fourth_speaker_change_time = datetime.time(0, 13, 0, 600000)\n",
    "fourth_speaker_change_time = datetime.time(0, 13, 1, 100000)\n",
    "fourth_speaker_change_pysrt = pysrt.SubRipTime.from_time(fourth_speaker_change_time)\n",
    "# should be Jason, \"used to\"\n",
    "subs.at(fourth_speaker_change_pysrt).text"
   ]
  },
  {
   "cell_type": "code",
   "execution_count": 40,
   "metadata": {},
   "outputs": [
    {
     "data": {
      "text/plain": [
       "'Used to.'"
      ]
     },
     "execution_count": 40,
     "metadata": {},
     "output_type": "execute_result"
    }
   ],
   "source": [
    "subs[(subs.at(fourth_speaker_change_pysrt)[0].index + 1)].text"
   ]
  },
  {
   "cell_type": "code",
   "execution_count": 52,
   "metadata": {},
   "outputs": [
    {
     "data": {
      "text/plain": [
       "'Well, one day, I just hope\\nthat I walk through that door'"
      ]
     },
     "execution_count": 52,
     "metadata": {},
     "output_type": "execute_result"
    }
   ],
   "source": [
    "# fifth speaker change is at clusters[201]\n",
    "# frame 766 = 12 minutes, 46 seconds\n",
    "# plus 20,100 milliseconds\n",
    "fifth_speaker_change_time = datetime.time(0, 13, 6, 100000)\n",
    "fifth_speaker_change_time = datetime.time(0, 13, 6, 600000)\n",
    "fifth_speaker_change_pysrt = pysrt.SubRipTime.from_time(fifth_speaker_change_time)\n",
    "# should be Helen, \"Well, one day\"\n",
    "subs.at(fifth_speaker_change_pysrt).text"
   ]
  },
  {
   "cell_type": "markdown",
   "metadata": {},
   "source": [
    "# Subtitles Onscreen Flag\n",
    "To assist with dialogue attribution, we can create a flag to identify if there are subtitle onscreen during a given frame. This will require converting a frame number (in its filename) to a subtitle timestamp."
   ]
  },
  {
   "cell_type": "code",
   "execution_count": 65,
   "metadata": {},
   "outputs": [
    {
     "name": "stdout",
     "output_type": "stream",
     "text": [
      "subtitle found\n"
     ]
    }
   ],
   "source": [
    "if subs.at(datetime.time(0, 12, 47, 0)) or subs.at(datetime.time(0, 12, 47, 999)):\n",
    "    print('subtitle found')"
   ]
  },
  {
   "cell_type": "code",
   "execution_count": 71,
   "metadata": {},
   "outputs": [],
   "source": [
    "def frame_to_time(seconds): \n",
    "    seconds = seconds % (24 * 3600) \n",
    "    hours = seconds // 3600\n",
    "    seconds %= 3600\n",
    "    minutes = seconds // 60\n",
    "    seconds %= 60\n",
    "    \n",
    "    timestamp = datetime.time(hours, minutes, seconds)\n",
    "    \n",
    "    return timestamp"
   ]
  },
  {
   "cell_type": "code",
   "execution_count": 73,
   "metadata": {},
   "outputs": [],
   "source": [
    "first_frame = frame_to_time(766)"
   ]
  },
  {
   "cell_type": "code",
   "execution_count": 75,
   "metadata": {},
   "outputs": [
    {
     "name": "stdout",
     "output_type": "stream",
     "text": [
      "subtitle found\n"
     ]
    }
   ],
   "source": [
    "if subs.at(first_frame) or subs.at(first_frame - datetime.time(0, 0, 0, 1)):\n",
    "    print('subtitle found')"
   ]
  },
  {
   "cell_type": "code",
   "execution_count": 81,
   "metadata": {},
   "outputs": [],
   "source": [
    "next_frame = frame_to_time(785)"
   ]
  },
  {
   "cell_type": "code",
   "execution_count": 88,
   "metadata": {},
   "outputs": [
    {
     "name": "stdout",
     "output_type": "stream",
     "text": [
      "subtitle found\n"
     ]
    }
   ],
   "source": [
    "if subs.at(next_frame) or subs.at(next_frame.replace(microsecond=999000)):\n",
    "    print('subtitle found')"
   ]
  },
  {
   "cell_type": "code",
   "execution_count": null,
   "metadata": {},
   "outputs": [],
   "source": [
    "subtitle_onscreen = []\n",
    "for frame in frame_choice:\n",
    "    time = frame_to_time(frame)\n",
    "    \n",
    "    if subs.at(time) or subs.at(time.replace(microsecond=999000)):\n",
    "        subtitle_onscreen.append(1)\n",
    "    else:\n",
    "        subtitle_onscreen.append(0)"
   ]
  }
 ],
 "metadata": {
  "kernelspec": {
   "display_name": "Python (moviegoer)",
   "language": "python",
   "name": "moviegoer"
  },
  "language_info": {
   "codemirror_mode": {
    "name": "ipython",
    "version": 3
   },
   "file_extension": ".py",
   "mimetype": "text/x-python",
   "name": "python",
   "nbconvert_exporter": "python",
   "pygments_lexer": "ipython3",
   "version": "3.7.7"
  }
 },
 "nbformat": 4,
 "nbformat_minor": 4
}
