{
 "cells": [
  {
   "cell_type": "markdown",
   "metadata": {},
   "source": [
    "The purpose of this notebook is to demonstrate the modeling process, ultimately settling on a final model and then evaluating its performance."
   ]
  },
  {
   "cell_type": "code",
   "execution_count": 1,
   "metadata": {},
   "outputs": [
    {
     "name": "stderr",
     "output_type": "stream",
     "text": [
      "Using TensorFlow backend.\n"
     ]
    }
   ],
   "source": [
    "import os\n",
    "import numpy as np\n",
    "import matplotlib.pyplot as plt\n",
    "%matplotlib inline\n",
    "from keras.preprocessing.image import ImageDataGenerator\n",
    "from keras import models, layers\n",
    "from keras.layers import Dropout\n",
    "from keras.callbacks import EarlyStopping\n",
    "import tensorflow as tf\n",
    "import metric_functions as mf"
   ]
  },
  {
   "cell_type": "code",
   "execution_count": 1,
   "metadata": {},
   "outputs": [
    {
     "name": "stdout",
     "output_type": "stream",
     "text": [
      "\u001b[33mWARNING: The directory '/.cache/pip/http' or its parent directory is not owned by the current user and the cache has been disabled. Please check the permissions and owner of that directory. If executing pip with sudo, you may want sudo's -H flag.\u001b[0m\n",
      "\u001b[33mWARNING: The directory '/.cache/pip' or its parent directory is not owned by the current user and caching wheels has been disabled. check the permissions and owner of that directory. If executing pip with sudo, you may want sudo's -H flag.\u001b[0m\n",
      "Collecting Pillow\n",
      "\u001b[?25l  Downloading https://files.pythonhosted.org/packages/e0/50/8e78e6f62ffa50d6ca95c281d5a2819bef66d023ac1b723e253de5bda9c5/Pillow-7.1.2-cp36-cp36m-manylinux1_x86_64.whl (2.1MB)\n",
      "\u001b[K     |████████████████████████████████| 2.1MB 1.6MB/s eta 0:00:01\n",
      "\u001b[?25hInstalling collected packages: Pillow\n",
      "Successfully installed Pillow-7.1.2\n",
      "\u001b[33mWARNING: You are using pip version 19.3.1; however, version 20.1 is available.\n",
      "You should consider upgrading via the 'pip install --upgrade pip' command.\u001b[0m\n",
      "Note: you may need to restart the kernel to use updated packages.\n"
     ]
    }
   ],
   "source": [
    "pip install Pillow --user"
   ]
  },
  {
   "cell_type": "code",
   "execution_count": 2,
   "metadata": {
    "scrolled": true
   },
   "outputs": [
    {
     "name": "stdout",
     "output_type": "stream",
     "text": [
      "\u001b[33mWARNING: The directory '/.cache/pip/http' or its parent directory is not owned by the current user and the cache has been disabled. Please check the permissions and owner of that directory. If executing pip with sudo, you may want sudo's -H flag.\u001b[0m\n",
      "\u001b[33mWARNING: The directory '/.cache/pip' or its parent directory is not owned by the current user and caching wheels has been disabled. check the permissions and owner of that directory. If executing pip with sudo, you may want sudo's -H flag.\u001b[0m\n",
      "Collecting keras\n",
      "\u001b[?25l  Downloading https://files.pythonhosted.org/packages/ad/fd/6bfe87920d7f4fd475acd28500a42482b6b84479832bdc0fe9e589a60ceb/Keras-2.3.1-py2.py3-none-any.whl (377kB)\n",
      "\u001b[K     |████████████████████████████████| 378kB 1.1MB/s eta 0:00:01\n",
      "\u001b[?25hRequirement already satisfied: keras-preprocessing>=1.0.5 in /usr/local/lib/python3.6/dist-packages (from keras) (1.1.0)\n",
      "Requirement already satisfied: scipy>=0.14 in /usr/local/lib/python3.6/dist-packages (from keras) (1.4.1)\n",
      "Requirement already satisfied: six>=1.9.0 in /usr/local/lib/python3.6/dist-packages (from keras) (1.13.0)\n",
      "Requirement already satisfied: numpy>=1.9.1 in /usr/local/lib/python3.6/dist-packages (from keras) (1.18.1)\n",
      "Collecting pyyaml\n",
      "\u001b[?25l  Downloading https://files.pythonhosted.org/packages/64/c2/b80047c7ac2478f9501676c988a5411ed5572f35d1beff9cae07d321512c/PyYAML-5.3.1.tar.gz (269kB)\n",
      "\u001b[K     |████████████████████████████████| 276kB 1.4MB/s eta 0:00:01\n",
      "\u001b[?25hRequirement already satisfied: h5py in /usr/local/lib/python3.6/dist-packages (from keras) (2.10.0)\n",
      "Requirement already satisfied: keras-applications>=1.0.6 in /usr/local/lib/python3.6/dist-packages (from keras) (1.0.8)\n",
      "Building wheels for collected packages: pyyaml\n",
      "\u001b[33m  WARNING: Building wheel for pyyaml failed: [Errno 13] Permission denied: '/.cache'\u001b[0m\n",
      "Failed to build pyyaml\n",
      "Installing collected packages: pyyaml, keras\n",
      "    Running setup.py install for pyyaml ... \u001b[?25ldone\n",
      "\u001b[?25hSuccessfully installed keras-2.3.1 pyyaml-5.3.1\n",
      "\u001b[33mWARNING: You are using pip version 19.3.1; however, version 20.1 is available.\n",
      "You should consider upgrading via the 'pip install --upgrade pip' command.\u001b[0m\n",
      "Note: you may need to restart the kernel to use updated packages.\n"
     ]
    }
   ],
   "source": [
    "pip install keras --user"
   ]
  },
  {
   "cell_type": "code",
   "execution_count": 3,
   "metadata": {
    "scrolled": true
   },
   "outputs": [
    {
     "name": "stdout",
     "output_type": "stream",
     "text": [
      "\u001b[33mWARNING: The directory '/.cache/pip/http' or its parent directory is not owned by the current user and the cache has been disabled. Please check the permissions and owner of that directory. If executing pip with sudo, you may want sudo's -H flag.\u001b[0m\n",
      "\u001b[33mWARNING: The directory '/.cache/pip' or its parent directory is not owned by the current user and caching wheels has been disabled. check the permissions and owner of that directory. If executing pip with sudo, you may want sudo's -H flag.\u001b[0m\n",
      "Collecting sklearn\n",
      "  Downloading https://files.pythonhosted.org/packages/1e/7a/dbb3be0ce9bd5c8b7e3d87328e79063f8b263b2b1bfa4774cb1147bfcd3f/sklearn-0.0.tar.gz\n",
      "Collecting scikit-learn\n",
      "\u001b[?25l  Downloading https://files.pythonhosted.org/packages/4b/cd/af7469eb9d2b2ba428206273585f0272b6094ae915aed0b1ca99eace56df/scikit_learn-0.23.0-cp36-cp36m-manylinux1_x86_64.whl (7.3MB)\n",
      "\u001b[K     |████████████████████████████████| 7.3MB 1.6MB/s eta 0:00:01\n",
      "\u001b[?25hCollecting joblib>=0.11\n",
      "\u001b[?25l  Downloading https://files.pythonhosted.org/packages/b8/a6/d1a816b89aa1e9e96bcb298eb1ee1854f21662ebc6d55ffa3d7b3b50122b/joblib-0.15.1-py3-none-any.whl (298kB)\n",
      "\u001b[K     |████████████████████████████████| 307kB 696kB/s eta 0:00:01\n",
      "\u001b[?25hCollecting threadpoolctl>=2.0.0\n",
      "  Downloading https://files.pythonhosted.org/packages/db/09/cab2f398e28e9f183714afde872b2ce23629f5833e467b151f18e1e08908/threadpoolctl-2.0.0-py3-none-any.whl\n",
      "Requirement already satisfied: scipy>=0.19.1 in /usr/local/lib/python3.6/dist-packages (from scikit-learn->sklearn) (1.4.1)\n",
      "Requirement already satisfied: numpy>=1.13.3 in /usr/local/lib/python3.6/dist-packages (from scikit-learn->sklearn) (1.18.1)\n",
      "Building wheels for collected packages: sklearn\n",
      "\u001b[33m  WARNING: Building wheel for sklearn failed: [Errno 13] Permission denied: '/.cache'\u001b[0m\n",
      "Failed to build sklearn\n",
      "Installing collected packages: joblib, threadpoolctl, scikit-learn, sklearn\n",
      "    Running setup.py install for sklearn ... \u001b[?25ldone\n",
      "\u001b[?25hSuccessfully installed joblib-0.15.1 scikit-learn-0.23.0 sklearn-0.0 threadpoolctl-2.0.0\n",
      "\u001b[33mWARNING: You are using pip version 19.3.1; however, version 20.1 is available.\n",
      "You should consider upgrading via the 'pip install --upgrade pip' command.\u001b[0m\n",
      "Note: you may need to restart the kernel to use updated packages.\n"
     ]
    }
   ],
   "source": [
    "pip install sklearn --user"
   ]
  },
  {
   "cell_type": "markdown",
   "metadata": {},
   "source": [
    "# Compile and Create Data <a id='data'></a>"
   ]
  },
  {
   "cell_type": "markdown",
   "metadata": {},
   "source": [
    "## Identify Working Directory"
   ]
  },
  {
   "cell_type": "code",
   "execution_count": 2,
   "metadata": {},
   "outputs": [],
   "source": [
    "working_directory = 'mixed_frames'"
   ]
  },
  {
   "cell_type": "code",
   "execution_count": 3,
   "metadata": {},
   "outputs": [
    {
     "name": "stdout",
     "output_type": "stream",
     "text": [
      "There are 5214 images in the Train set\n",
      "There are 1852 images in the Test set\n",
      "\n",
      "\n",
      "There are 1916 MCU images in the train set\n",
      "There are 3298 non-MCU images in the train set\n",
      "There are 478 MCU images in the test set\n",
      "There are 1374 non-MCU images in the test set\n"
     ]
    }
   ],
   "source": [
    "train_folder = os.path.join('mcu_data', working_directory, 'train')\n",
    "train_mcu = os.path.join(train_folder, 'mcu')\n",
    "train_non = os.path.join(train_folder, 'non_mcu')\n",
    "\n",
    "test_folder = os.path.join('mcu_data', working_directory, 'test')\n",
    "test_mcu = os.path.join(test_folder, 'mcu')\n",
    "test_non = os.path.join(test_folder, 'non_mcu')\n",
    "\n",
    "print('There are', len(os.listdir(train_mcu)) + len(os.listdir(train_non)), 'images in the Train set')\n",
    "print('There are', len(os.listdir(test_mcu)) + len(os.listdir(test_non)), 'images in the Test set')\n",
    "\n",
    "print('\\n')\n",
    "\n",
    "print('There are', len(os.listdir(train_mcu)), 'MCU images in the train set')\n",
    "print('There are', len(os.listdir(train_non)), 'non-MCU images in the train set')\n",
    "print('There are', len(os.listdir(test_mcu)), 'MCU images in the test set')\n",
    "print('There are', len(os.listdir(test_non)), 'non-MCU images in the test set')"
   ]
  },
  {
   "cell_type": "markdown",
   "metadata": {},
   "source": [
    "## Create input data with image size of 185 x 100"
   ]
  },
  {
   "cell_type": "code",
   "execution_count": 4,
   "metadata": {
    "scrolled": true
   },
   "outputs": [
    {
     "name": "stdout",
     "output_type": "stream",
     "text": [
      "Found 3031 images belonging to 2 classes.\n",
      "Found 756 images belonging to 2 classes.\n"
     ]
    }
   ],
   "source": [
    "train_datagen = ImageDataGenerator(rescale=1./255, validation_split=0.2)\n",
    "\n",
    "train_generator = train_datagen.flow_from_directory(\n",
    "    train_folder,\n",
    "    target_size = (185, 100),\n",
    "    batch_size = 4148,\n",
    "    color_mode = 'grayscale',\n",
    "    subset = 'training')\n",
    "\n",
    "val_generator = train_datagen.flow_from_directory(\n",
    "    train_folder,\n",
    "    target_size = (185, 100),\n",
    "    batch_size = 4148,\n",
    "    color_mode = 'grayscale',\n",
    "    subset = 'validation')\n"
   ]
  },
  {
   "cell_type": "code",
   "execution_count": 6,
   "metadata": {},
   "outputs": [
    {
     "name": "stdout",
     "output_type": "stream",
     "text": [
      "Found 1718 images belonging to 2 classes.\n"
     ]
    }
   ],
   "source": [
    "test_generator = ImageDataGenerator(rescale=1./255).flow_from_directory(test_folder, target_size=(185, 100), color_mode = 'grayscale', batch_size = 1781)"
   ]
  },
  {
   "cell_type": "code",
   "execution_count": 7,
   "metadata": {
    "scrolled": true
   },
   "outputs": [
    {
     "name": "stdout",
     "output_type": "stream",
     "text": [
      "train_images shape: (3031, 185, 100, 1)\n",
      "train_labels shape: (3031, 2)\n",
      "val_images shape: (756, 185, 100, 1)\n",
      "val_labels shape: (756, 2)\n",
      "test_images shape: (1718, 185, 100, 1)\n",
      "test_labels shape: (1718, 2)\n"
     ]
    }
   ],
   "source": [
    "class_labels = ['Non-MCU', 'MCU']\n",
    "train_images, train_labels = next(train_generator)\n",
    "val_images, val_labels = next(val_generator)\n",
    "test_images, test_labels = next(test_generator)\n",
    "train_y = np.reshape(train_labels[:,0], (3031,1))\n",
    "val_y = np.reshape(val_labels[:,0], (756,1))\n",
    "test_y = np.reshape(test_labels[:,0], (1718,1))\n",
    "print (\"train_images shape: \" + str(train_images.shape))\n",
    "print (\"train_labels shape: \" + str(train_labels.shape))\n",
    "print (\"val_images shape: \" + str(val_images.shape))\n",
    "print (\"val_labels shape: \" + str(val_labels.shape))\n",
    "print (\"test_images shape: \" + str(test_images.shape))\n",
    "print (\"test_labels shape: \" + str(test_labels.shape))"
   ]
  },
  {
   "cell_type": "markdown",
   "metadata": {},
   "source": [
    "### Create input data with image size of 128 x 128"
   ]
  },
  {
   "cell_type": "code",
   "execution_count": 12,
   "metadata": {
    "scrolled": true
   },
   "outputs": [
    {
     "name": "stdout",
     "output_type": "stream",
     "text": [
      "Found 4172 images belonging to 2 classes.\n",
      "Found 1042 images belonging to 2 classes.\n"
     ]
    }
   ],
   "source": [
    "train_datagen = ImageDataGenerator(rescale=1./255, validation_split=0.2)\n",
    "\n",
    "train_generator = train_datagen.flow_from_directory(\n",
    "    train_folder,\n",
    "    target_size = (128, 128),\n",
    "    batch_size = 4172,\n",
    "    color_mode = 'grayscale',\n",
    "    subset = 'training')\n",
    "\n",
    "val_generator = train_datagen.flow_from_directory(\n",
    "    train_folder,\n",
    "    target_size = (128, 128),\n",
    "    batch_size = 1042,\n",
    "    color_mode = 'grayscale',\n",
    "    subset = 'validation')\n"
   ]
  },
  {
   "cell_type": "code",
   "execution_count": 13,
   "metadata": {
    "scrolled": true
   },
   "outputs": [
    {
     "name": "stdout",
     "output_type": "stream",
     "text": [
      "Found 1852 images belonging to 2 classes.\n"
     ]
    }
   ],
   "source": [
    "test_generator = ImageDataGenerator(rescale=1./255).flow_from_directory(test_folder, target_size=(128, 128), color_mode = 'grayscale', batch_size = 1852)"
   ]
  },
  {
   "cell_type": "code",
   "execution_count": 14,
   "metadata": {
    "scrolled": true
   },
   "outputs": [
    {
     "name": "stdout",
     "output_type": "stream",
     "text": [
      "train_images shape: (4172, 128, 128, 1)\n",
      "train_labels shape: (4172, 2)\n",
      "val_images shape: (1042, 128, 128, 1)\n",
      "val_labels shape: (1042, 2)\n",
      "test_images shape: (1852, 128, 128, 1)\n",
      "test_labels shape: (1852, 2)\n"
     ]
    }
   ],
   "source": [
    "class_labels = ['Non-MCU', 'MCU']\n",
    "train_images, train_labels = next(train_generator)\n",
    "val_images, val_labels = next(val_generator)\n",
    "test_images, test_labels = next(test_generator)\n",
    "train_y = np.reshape(train_labels[:,0], (4172,1))\n",
    "val_y = np.reshape(val_labels[:,0], (1042,1))\n",
    "test_y = np.reshape(test_labels[:,0], (1852,1))\n",
    "print (\"train_images shape: \" + str(train_images.shape))\n",
    "print (\"train_labels shape: \" + str(train_labels.shape))\n",
    "print (\"val_images shape: \" + str(val_images.shape))\n",
    "print (\"val_labels shape: \" + str(val_labels.shape))\n",
    "print (\"test_images shape: \" + str(test_images.shape))\n",
    "print (\"test_labels shape: \" + str(test_labels.shape))"
   ]
  },
  {
   "cell_type": "markdown",
   "metadata": {},
   "source": [
    "# Models <a id='models'></a>\n"
   ]
  },
  {
   "cell_type": "markdown",
   "metadata": {},
   "source": [
    "### 185 x 100"
   ]
  },
  {
   "cell_type": "code",
   "execution_count": 9,
   "metadata": {},
   "outputs": [],
   "source": [
    "model_1 = models.Sequential()\n",
    "model_1.add(layers.Conv2D(128, (3, 3), activation='relu', input_shape=(185, 100, 1)))\n",
    "model_1.add(layers.MaxPooling2D((2, 2)))\n",
    "\n",
    "model_1.add(layers.Conv2D(256, (5, 5), activation='relu'))\n",
    "model_1.add(layers.MaxPooling2D((2, 2)))\n",
    "\n",
    "model_1.add(layers.Conv2D(512, (4, 4), activation='relu'))\n",
    "model_1.add(layers.MaxPooling2D((2, 2)))\n",
    "\n",
    "model_1.add(layers.Conv2D(512, (3, 3), activation='relu'))\n",
    "model_1.add(layers.MaxPooling2D((2, 2)))\n",
    "\n",
    "model_1.add(Dropout(.5))\n",
    "model_1.add(layers.Flatten())\n",
    "model_1.add(layers.Dense(128, activation='relu'))\n",
    "model_1.add(layers.Dense(1, activation='sigmoid'))\n",
    "\n",
    "model_1.compile(loss='binary_crossentropy', optimizer='rmsprop', metrics=['acc'])"
   ]
  },
  {
   "cell_type": "code",
   "execution_count": 10,
   "metadata": {
    "scrolled": false
   },
   "outputs": [
    {
     "name": "stdout",
     "output_type": "stream",
     "text": [
      "Train on 2929 samples, validate on 731 samples\n",
      "Epoch 1/10\n",
      "2929/2929 [==============================] - 30s 10ms/step - loss: 1.3979 - acc: 0.5988 - val_loss: 0.6756 - val_acc: 0.6033\n",
      "Epoch 2/10\n",
      "2929/2929 [==============================] - 25s 9ms/step - loss: 0.6985 - acc: 0.5968 - val_loss: 0.6768 - val_acc: 0.6033\n",
      "Epoch 3/10\n",
      "2929/2929 [==============================] - 25s 8ms/step - loss: 0.6694 - acc: 0.6002 - val_loss: 0.6614 - val_acc: 0.6033\n",
      "Epoch 4/10\n",
      "2929/2929 [==============================] - 26s 9ms/step - loss: 0.6558 - acc: 0.6169 - val_loss: 0.6462 - val_acc: 0.6512\n",
      "Epoch 5/10\n",
      "2929/2929 [==============================] - 25s 9ms/step - loss: 0.6313 - acc: 0.6432 - val_loss: 0.6067 - val_acc: 0.6306\n",
      "Epoch 6/10\n",
      "2929/2929 [==============================] - 27s 9ms/step - loss: 0.6004 - acc: 0.6733 - val_loss: 0.6051 - val_acc: 0.6402\n",
      "Epoch 7/10\n",
      "2929/2929 [==============================] - 25s 8ms/step - loss: 0.5802 - acc: 0.6804 - val_loss: 0.5657 - val_acc: 0.6908\n",
      "Epoch 8/10\n",
      "2929/2929 [==============================] - 25s 8ms/step - loss: 0.5516 - acc: 0.7177 - val_loss: 0.5681 - val_acc: 0.6936\n",
      "Epoch 9/10\n",
      "2929/2929 [==============================] - 26s 9ms/step - loss: 0.5296 - acc: 0.7395 - val_loss: 0.6028 - val_acc: 0.6881\n",
      "Epoch 10/10\n",
      "2929/2929 [==============================] - 26s 9ms/step - loss: 0.5106 - acc: 0.7532 - val_loss: 0.6388 - val_acc: 0.6471\n",
      "CPU times: user 2min 18s, sys: 56.6 s, total: 3min 15s\n",
      "Wall time: 4min 20s\n"
     ]
    }
   ],
   "source": [
    "%%time\n",
    "#early_stopping = [EarlyStopping(monitor = 'val_loss', patience = 10)]\n",
    "history_1 = model_1.fit(train_images,\n",
    "                                                 train_y,\n",
    "                                                 epochs=10,\n",
    "                                                 batch_size=50,\n",
    "                                                 validation_data=(val_images, val_y))\n",
    "                                             #callbacks=early_stopping)"
   ]
  },
  {
   "cell_type": "code",
   "execution_count": 11,
   "metadata": {
    "scrolled": true
   },
   "outputs": [
    {
     "name": "stdout",
     "output_type": "stream",
     "text": [
      "Accuracy \n",
      " Train: 0.771, Test: 0.656\n",
      "Loss \n",
      " Train: 0.456, Test: 0.651 \n",
      "\n"
     ]
    },
    {
     "data": {
      "image/png": "[encoded data removed]",
      "text/plain": [
       "<Figure size 432x288 with 2 Axes>"
      ]
     },
     "metadata": {
      "needs_background": "light"
     },
     "output_type": "display_data"
    },
    {
     "name": "stdout",
     "output_type": "stream",
     "text": [
      "\n",
      "\n",
      "Confusion Matrix, without normalization\n"
     ]
    },
    {
     "data": {
      "image/png": "[encoded data removed]",
      "text/plain": [
       "<Figure size 432x288 with 2 Axes>"
      ]
     },
     "metadata": {
      "needs_background": "light"
     },
     "output_type": "display_data"
    },
    {
     "name": "stdout",
     "output_type": "stream",
     "text": [
      "\n",
      "\n",
      "              precision    recall  f1-score   support\n",
      "\n",
      "     Non-MCU       0.90      0.61      0.73      1103\n",
      "         MCU       0.40      0.80      0.53       363\n",
      "\n",
      "    accuracy                           0.66      1466\n",
      "   macro avg       0.65      0.70      0.63      1466\n",
      "weighted avg       0.78      0.66      0.68      1466\n",
      "\n"
     ]
    }
   ],
   "source": [
    "print(mf.evaluate_test(model_1, history_1, class_labels, train_images, test_images, train_y, test_y))"
   ]
  },
  {
   "cell_type": "markdown",
   "metadata": {},
   "source": [
    "### 128 Model"
   ]
  },
  {
   "cell_type": "code",
   "execution_count": 20,
   "metadata": {},
   "outputs": [],
   "source": [
    "model_1 = models.Sequential()\n",
    "model_1.add(layers.Conv2D(128, (3, 3), activation='relu', input_shape=(128, 128, 1)))\n",
    "model_1.add(layers.MaxPooling2D((2, 2)))\n",
    "\n",
    "model_1.add(layers.Conv2D(256, (5, 5), activation='relu'))\n",
    "model_1.add(layers.MaxPooling2D((2, 2)))\n",
    "\n",
    "model_1.add(layers.Conv2D(512, (4, 4), activation='relu'))\n",
    "model_1.add(layers.MaxPooling2D((2, 2)))\n",
    "\n",
    "model_1.add(layers.Conv2D(1024, (3, 3), activation='relu'))\n",
    "model_1.add(layers.MaxPooling2D((2, 2)))\n",
    "\n",
    "model_1.add(Dropout(.5))\n",
    "model_1.add(layers.Flatten())\n",
    "model_1.add(layers.Dense(256, activation='relu'))\n",
    "model_1.add(Dropout(.5))\n",
    "model_1.add(layers.Dense(1, activation='sigmoid'))\n",
    "\n",
    "model_1.compile(loss='binary_crossentropy', optimizer='rmsprop', metrics=['acc'])"
   ]
  },
  {
   "cell_type": "code",
   "execution_count": 21,
   "metadata": {
    "scrolled": false
   },
   "outputs": [
    {
     "name": "stdout",
     "output_type": "stream",
     "text": [
      "Train on 4172 samples, validate on 1042 samples\n",
      "Epoch 1/30\n",
      "4172/4172 [==============================] - 38s 9ms/step - loss: 0.8997 - acc: 0.6237 - val_loss: 0.6439 - val_acc: 0.6324\n",
      "Epoch 2/30\n",
      "4172/4172 [==============================] - 36s 9ms/step - loss: 0.6810 - acc: 0.6302 - val_loss: 0.6562 - val_acc: 0.6324\n",
      "Epoch 3/30\n",
      "4172/4172 [==============================] - 34s 8ms/step - loss: 0.6621 - acc: 0.6326 - val_loss: 0.6358 - val_acc: 0.6324\n",
      "Epoch 4/30\n",
      "4172/4172 [==============================] - 32s 8ms/step - loss: 0.6480 - acc: 0.6299 - val_loss: 0.6440 - val_acc: 0.6324\n",
      "Epoch 5/30\n",
      "4172/4172 [==============================] - 33s 8ms/step - loss: 0.6413 - acc: 0.6426 - val_loss: 0.5987 - val_acc: 0.6699\n",
      "Epoch 6/30\n",
      "4172/4172 [==============================] - 35s 8ms/step - loss: 0.6093 - acc: 0.6735 - val_loss: 0.5850 - val_acc: 0.6756\n",
      "Epoch 7/30\n",
      "4172/4172 [==============================] - 36s 9ms/step - loss: 0.5674 - acc: 0.6920 - val_loss: 0.5524 - val_acc: 0.7169\n",
      "Epoch 8/30\n",
      "4172/4172 [==============================] - 34s 8ms/step - loss: 0.5475 - acc: 0.7167 - val_loss: 0.5482 - val_acc: 0.7217\n",
      "Epoch 9/30\n",
      "4172/4172 [==============================] - 34s 8ms/step - loss: 0.5221 - acc: 0.7294 - val_loss: 0.5787 - val_acc: 0.7054\n",
      "Epoch 10/30\n",
      "4172/4172 [==============================] - 37s 9ms/step - loss: 0.5017 - acc: 0.7483 - val_loss: 0.5609 - val_acc: 0.7294\n",
      "Epoch 11/30\n",
      "4172/4172 [==============================] - 34s 8ms/step - loss: 0.4734 - acc: 0.7766 - val_loss: 0.5859 - val_acc: 0.7342\n",
      "Epoch 12/30\n",
      "4172/4172 [==============================] - 34s 8ms/step - loss: 0.4423 - acc: 0.7912 - val_loss: 0.6865 - val_acc: 0.7054\n",
      "Epoch 13/30\n",
      "4172/4172 [==============================] - 35s 8ms/step - loss: 0.4093 - acc: 0.8171 - val_loss: 0.6165 - val_acc: 0.7322\n",
      "CPU times: user 4min 5s, sys: 1min 44s, total: 5min 49s\n",
      "Wall time: 7min 32s\n"
     ]
    }
   ],
   "source": [
    "%%time\n",
    "early_stopping = [EarlyStopping(monitor = 'val_loss', patience = 5)]\n",
    "history_1 = model_1.fit(train_images,\n",
    "                                                 train_y,\n",
    "                                                 epochs=30,\n",
    "                                                 batch_size=50,\n",
    "                                                 validation_data=(val_images, val_y),\n",
    "                                                 callbacks=early_stopping)"
   ]
  },
  {
   "cell_type": "code",
   "execution_count": 22,
   "metadata": {
    "scrolled": true
   },
   "outputs": [
    {
     "name": "stdout",
     "output_type": "stream",
     "text": [
      "Accuracy \n",
      " Train: 0.859, Test: 0.728\n",
      "Loss \n",
      " Train: 0.316, Test: 0.600 \n",
      "\n"
     ]
    },
    {
     "data": {
      "image/png": "[encoded data removed]",
      "text/plain": [
       "<Figure size 432x288 with 2 Axes>"
      ]
     },
     "metadata": {
      "needs_background": "light"
     },
     "output_type": "display_data"
    },
    {
     "name": "stdout",
     "output_type": "stream",
     "text": [
      "\n",
      "\n",
      "Confusion Matrix, without normalization\n"
     ]
    },
    {
     "data": {
      "image/png": "[encoded data removed]",
      "text/plain": [
       "<Figure size 432x288 with 2 Axes>"
      ]
     },
     "metadata": {
      "needs_background": "light"
     },
     "output_type": "display_data"
    },
    {
     "name": "stdout",
     "output_type": "stream",
     "text": [
      "\n",
      "\n",
      "              precision    recall  f1-score   support\n",
      "\n",
      "     Non-MCU       0.88      0.74      0.80      1374\n",
      "         MCU       0.48      0.71      0.57       478\n",
      "\n",
      "    accuracy                           0.73      1852\n",
      "   macro avg       0.68      0.72      0.69      1852\n",
      "weighted avg       0.78      0.73      0.74      1852\n",
      "\n"
     ]
    }
   ],
   "source": [
    "print(mf.evaluate_test(model_1, history_1, class_labels, train_images, test_images, train_y, test_y))"
   ]
  },
  {
   "cell_type": "markdown",
   "metadata": {},
   "source": [
    "# 128 with 6x6\n",
    "\n",
    "Is 6x6 bad because of focus? Bokeh'd characters shouldn't be identified"
   ]
  },
  {
   "cell_type": "code",
   "execution_count": 11,
   "metadata": {},
   "outputs": [],
   "source": [
    "model_2 = models.Sequential()\n",
    "model_2.add(layers.Conv2D(128, (3, 3), activation='relu', input_shape=(128, 128, 1)))\n",
    "model_2.add(layers.MaxPooling2D((2, 2)))\n",
    "\n",
    "model_2.add(layers.Conv2D(128, (6, 6), activation='relu'))\n",
    "model_2.add(layers.MaxPooling2D((2, 2)))\n",
    "\n",
    "model_2.add(layers.Conv2D(256, (5, 5), activation='relu'))\n",
    "model_2.add(layers.MaxPooling2D((2, 2)))\n",
    "\n",
    "model_2.add(layers.Conv2D(512, (4, 4), activation='relu'))\n",
    "model_2.add(layers.MaxPooling2D((2, 2)))\n",
    "\n",
    "model_2.add(layers.Conv2D(1024, (3, 3), activation='relu'))\n",
    "model_2.add(layers.MaxPooling2D((2, 2)))\n",
    "\n",
    "model_2.add(Dropout(.5))\n",
    "model_2.add(layers.Flatten())\n",
    "model_2.add(layers.Dense(128, activation='relu'))\n",
    "model_2.add(layers.Dense(1, activation='sigmoid'))\n",
    "\n",
    "model_2.compile(loss='binary_crossentropy', optimizer='rmsprop', metrics=['acc'])"
   ]
  },
  {
   "cell_type": "code",
   "execution_count": 12,
   "metadata": {
    "scrolled": true
   },
   "outputs": [
    {
     "name": "stdout",
     "output_type": "stream",
     "text": [
      "Train on 3170 samples, validate on 791 samples\n",
      "Epoch 1/10\n",
      "3170/3170 [==============================] - 12s 4ms/step - loss: 0.8275 - acc: 0.5773 - val_loss: 0.6573 - val_acc: 0.5980\n",
      "Epoch 2/10\n",
      "3170/3170 [==============================] - 11s 4ms/step - loss: 0.6705 - acc: 0.5946 - val_loss: 0.6604 - val_acc: 0.5980\n",
      "Epoch 3/10\n",
      "3170/3170 [==============================] - 11s 4ms/step - loss: 0.6566 - acc: 0.5975 - val_loss: 0.6442 - val_acc: 0.5980\n",
      "Epoch 4/10\n",
      "3170/3170 [==============================] - 11s 4ms/step - loss: 0.6482 - acc: 0.5924 - val_loss: 0.6371 - val_acc: 0.6245\n",
      "Epoch 5/10\n",
      "3170/3170 [==============================] - 11s 4ms/step - loss: 0.6314 - acc: 0.6132 - val_loss: 0.6321 - val_acc: 0.6688\n",
      "Epoch 6/10\n",
      "3170/3170 [==============================] - 11s 4ms/step - loss: 0.6177 - acc: 0.6726 - val_loss: 0.8200 - val_acc: 0.5082\n",
      "Epoch 7/10\n",
      "3170/3170 [==============================] - 11s 4ms/step - loss: 0.6005 - acc: 0.6789 - val_loss: 0.6672 - val_acc: 0.5891\n",
      "Epoch 8/10\n",
      "3170/3170 [==============================] - 11s 4ms/step - loss: 0.5911 - acc: 0.6845 - val_loss: 0.6406 - val_acc: 0.6018\n",
      "Epoch 9/10\n",
      "3170/3170 [==============================] - 11s 4ms/step - loss: 0.5634 - acc: 0.7142 - val_loss: 0.6392 - val_acc: 0.6448\n",
      "Epoch 10/10\n",
      "3170/3170 [==============================] - 11s 4ms/step - loss: 0.5297 - acc: 0.7350 - val_loss: 0.6224 - val_acc: 0.6928\n",
      "CPU times: user 59 s, sys: 21.8 s, total: 1min 20s\n",
      "Wall time: 1min 55s\n"
     ]
    }
   ],
   "source": [
    "%%time\n",
    "#early_stopping = [EarlyStopping(monitor = 'val_loss', patience = 5)]\n",
    "history_2 = model_2.fit(train_images,\n",
    "                                                 train_y,\n",
    "                                                 epochs=10,\n",
    "                                                 batch_size=50,\n",
    "                                                 validation_data=(val_images, val_y))\n",
    "                                                #callbacks=early_stopping)"
   ]
  },
  {
   "cell_type": "code",
   "execution_count": 13,
   "metadata": {
    "scrolled": true
   },
   "outputs": [
    {
     "name": "stdout",
     "output_type": "stream",
     "text": [
      "Accuracy \n",
      " Train: 0.773, Test: 0.717\n",
      "Loss \n",
      " Train: 0.469, Test: 0.512 \n",
      "\n"
     ]
    },
    {
     "data": {
      "image/png": "[encoded data removed]",
      "text/plain": [
       "<Figure size 432x288 with 2 Axes>"
      ]
     },
     "metadata": {
      "needs_background": "light"
     },
     "output_type": "display_data"
    },
    {
     "name": "stdout",
     "output_type": "stream",
     "text": [
      "\n",
      "\n",
      "Confusion Matrix, without normalization\n"
     ]
    },
    {
     "data": {
      "image/png": "[encoded data removed]",
      "text/plain": [
       "<Figure size 432x288 with 2 Axes>"
      ]
     },
     "metadata": {
      "needs_background": "light"
     },
     "output_type": "display_data"
    },
    {
     "name": "stdout",
     "output_type": "stream",
     "text": [
      "\n",
      "\n",
      "              precision    recall  f1-score   support\n",
      "\n",
      "     Non-MCU       0.87      0.73      0.80      1184\n",
      "         MCU       0.46      0.67      0.54       397\n",
      "\n",
      "    accuracy                           0.72      1581\n",
      "   macro avg       0.66      0.70      0.67      1581\n",
      "weighted avg       0.76      0.72      0.73      1581\n",
      "\n"
     ]
    }
   ],
   "source": [
    "print(mf.evaluate_test(model_2, history_2, class_labels, train_images, test_images, train_y, test_y))"
   ]
  },
  {
   "cell_type": "markdown",
   "metadata": {},
   "source": [
    "# 3, rmsprop with double dropout"
   ]
  },
  {
   "cell_type": "code",
   "execution_count": 9,
   "metadata": {},
   "outputs": [],
   "source": [
    "model_3 = models.Sequential()\n",
    "model_3.add(layers.Conv2D(128, (3, 3), activation='relu', input_shape=(128, 128, 1)))\n",
    "model_3.add(layers.MaxPooling2D((2, 2)))\n",
    "\n",
    "model_3.add(layers.Conv2D(128, (6, 6), activation='relu'))\n",
    "model_3.add(layers.MaxPooling2D((2, 2)))\n",
    "\n",
    "model_3.add(layers.Conv2D(256, (5, 5), activation='relu'))\n",
    "model_3.add(layers.MaxPooling2D((2, 2)))\n",
    "\n",
    "model_3.add(layers.Conv2D(512, (4, 4), activation='relu'))\n",
    "model_3.add(layers.MaxPooling2D((2, 2)))\n",
    "\n",
    "model_3.add(layers.Conv2D(1024, (3, 3), activation='relu'))\n",
    "model_3.add(layers.MaxPooling2D((2, 2)))\n",
    "\n",
    "model_3.add(Dropout(.5))\n",
    "model_3.add(layers.Flatten())\n",
    "model_3.add(layers.Dense(256, activation='relu'))\n",
    "model_3.add(Dropout(.5))\n",
    "model_3.add(layers.Dense(1, activation='sigmoid'))\n",
    "\n",
    "model_3.compile(loss='binary_crossentropy', optimizer='rmsprop', metrics=['acc'])"
   ]
  },
  {
   "cell_type": "code",
   "execution_count": 15,
   "metadata": {
    "scrolled": true
   },
   "outputs": [
    {
     "name": "stdout",
     "output_type": "stream",
     "text": [
      "Train on 4172 samples, validate on 1042 samples\n",
      "Epoch 1/30\n",
      "4172/4172 [==============================] - 19s 5ms/step - loss: 1.0202 - acc: 0.6244 - val_loss: 0.8685 - val_acc: 0.6324\n",
      "Epoch 2/30\n",
      "4172/4172 [==============================] - 15s 4ms/step - loss: 0.6735 - acc: 0.6314 - val_loss: 0.6153 - val_acc: 0.6324\n",
      "Epoch 3/30\n",
      "4172/4172 [==============================] - 16s 4ms/step - loss: 0.6620 - acc: 0.6326 - val_loss: 0.6516 - val_acc: 0.6324\n",
      "Epoch 4/30\n",
      "4172/4172 [==============================] - 15s 4ms/step - loss: 0.6401 - acc: 0.6328 - val_loss: 0.6447 - val_acc: 0.6324\n",
      "Epoch 5/30\n",
      "4172/4172 [==============================] - 15s 4ms/step - loss: 0.6462 - acc: 0.6326 - val_loss: 0.5939 - val_acc: 0.6324\n",
      "Epoch 6/30\n",
      "4172/4172 [==============================] - 15s 4ms/step - loss: 0.6277 - acc: 0.6275 - val_loss: 0.6370 - val_acc: 0.6344\n",
      "Epoch 7/30\n",
      "4172/4172 [==============================] - 16s 4ms/step - loss: 0.6240 - acc: 0.6335 - val_loss: 0.6038 - val_acc: 0.6324\n",
      "Epoch 8/30\n",
      "4172/4172 [==============================] - 15s 4ms/step - loss: 0.6022 - acc: 0.6544 - val_loss: 1.8059 - val_acc: 0.6401\n",
      "Epoch 9/30\n",
      "4172/4172 [==============================] - 16s 4ms/step - loss: 0.5961 - acc: 0.6793 - val_loss: 0.5535 - val_acc: 0.7332\n",
      "Epoch 10/30\n",
      "4172/4172 [==============================] - 16s 4ms/step - loss: 0.5568 - acc: 0.7114 - val_loss: 0.6340 - val_acc: 0.6440\n",
      "Epoch 11/30\n",
      "4172/4172 [==============================] - 16s 4ms/step - loss: 0.5211 - acc: 0.7258 - val_loss: 0.5593 - val_acc: 0.7179\n",
      "Epoch 12/30\n",
      "4172/4172 [==============================] - 16s 4ms/step - loss: 0.4996 - acc: 0.7495 - val_loss: 0.6042 - val_acc: 0.6900\n",
      "Epoch 13/30\n",
      "4172/4172 [==============================] - 15s 4ms/step - loss: 0.4656 - acc: 0.7776 - val_loss: 0.6121 - val_acc: 0.6996\n",
      "Epoch 14/30\n",
      "4172/4172 [==============================] - 15s 4ms/step - loss: 0.4459 - acc: 0.8025 - val_loss: 0.5680 - val_acc: 0.7294\n",
      "CPU times: user 1min 51s, sys: 41.5 s, total: 2min 33s\n",
      "Wall time: 3min 41s\n"
     ]
    }
   ],
   "source": [
    "%%time\n",
    "early_stopping = [EarlyStopping(monitor = 'val_loss', patience = 5)]\n",
    "history_3 = model_3.fit(train_images,\n",
    "                                                 train_y,\n",
    "                                                 epochs=30,\n",
    "                                                 batch_size=50,\n",
    "                                                 validation_data=(val_images, val_y),\n",
    "                                                callbacks=early_stopping)"
   ]
  },
  {
   "cell_type": "code",
   "execution_count": 16,
   "metadata": {
    "scrolled": true
   },
   "outputs": [
    {
     "name": "stdout",
     "output_type": "stream",
     "text": [
      "Accuracy \n",
      " Train: 0.852, Test: 0.705\n",
      "Loss \n",
      " Train: 0.365, Test: 0.612 \n",
      "\n"
     ]
    },
    {
     "data": {
      "image/png": "[encoded data removed]",
      "text/plain": [
       "<Figure size 432x288 with 2 Axes>"
      ]
     },
     "metadata": {
      "needs_background": "light"
     },
     "output_type": "display_data"
    },
    {
     "name": "stdout",
     "output_type": "stream",
     "text": [
      "\n",
      "\n",
      "Confusion Matrix, without normalization\n"
     ]
    },
    {
     "data": {
      "image/png": "[encoded data removed]",
      "text/plain": [
       "<Figure size 432x288 with 2 Axes>"
      ]
     },
     "metadata": {
      "needs_background": "light"
     },
     "output_type": "display_data"
    },
    {
     "name": "stdout",
     "output_type": "stream",
     "text": [
      "\n",
      "\n",
      "              precision    recall  f1-score   support\n",
      "\n",
      "     Non-MCU       0.88      0.70      0.78      1374\n",
      "         MCU       0.45      0.71      0.56       478\n",
      "\n",
      "    accuracy                           0.71      1852\n",
      "   macro avg       0.67      0.71      0.67      1852\n",
      "weighted avg       0.77      0.71      0.72      1852\n",
      "\n"
     ]
    }
   ],
   "source": [
    "print(mf.evaluate_test(model_3, history_3, class_labels, train_images, test_images, train_y, test_y))"
   ]
  },
  {
   "cell_type": "markdown",
   "metadata": {},
   "source": [
    "# 4, adam with double dropout"
   ]
  },
  {
   "cell_type": "code",
   "execution_count": 17,
   "metadata": {},
   "outputs": [],
   "source": [
    "model_4 = models.Sequential()\n",
    "model_4.add(layers.Conv2D(128, (3, 3), activation='relu', input_shape=(128, 128, 1)))\n",
    "model_4.add(layers.MaxPooling2D((2, 2)))\n",
    "\n",
    "model_4.add(layers.Conv2D(128, (6, 6), activation='relu'))\n",
    "model_4.add(layers.MaxPooling2D((2, 2)))\n",
    "\n",
    "model_4.add(layers.Conv2D(256, (5, 5), activation='relu'))\n",
    "model_4.add(layers.MaxPooling2D((2, 2)))\n",
    "\n",
    "model_4.add(layers.Conv2D(512, (4, 4), activation='relu'))\n",
    "model_4.add(layers.MaxPooling2D((2, 2)))\n",
    "\n",
    "model_4.add(layers.Conv2D(1024, (3, 3), activation='relu'))\n",
    "model_4.add(layers.MaxPooling2D((2, 2)))\n",
    "\n",
    "model_4.add(Dropout(.5))\n",
    "model_4.add(layers.Flatten())\n",
    "model_4.add(layers.Dense(256, activation='relu'))\n",
    "model_4.add(Dropout(.5))\n",
    "model_4.add(layers.Dense(1, activation='sigmoid'))\n",
    "\n",
    "model_4.compile(loss='binary_crossentropy', optimizer='adam', metrics=['acc'])"
   ]
  },
  {
   "cell_type": "code",
   "execution_count": 18,
   "metadata": {
    "scrolled": true
   },
   "outputs": [
    {
     "name": "stdout",
     "output_type": "stream",
     "text": [
      "Train on 4172 samples, validate on 1042 samples\n",
      "Epoch 1/30\n",
      "4172/4172 [==============================] - 16s 4ms/step - loss: 0.6526 - acc: 0.6294 - val_loss: 0.6273 - val_acc: 0.6324\n",
      "Epoch 2/30\n",
      "4172/4172 [==============================] - 16s 4ms/step - loss: 0.6424 - acc: 0.6292 - val_loss: 0.6350 - val_acc: 0.6324\n",
      "Epoch 3/30\n",
      "4172/4172 [==============================] - 16s 4ms/step - loss: 0.6294 - acc: 0.6326 - val_loss: 0.6120 - val_acc: 0.6324\n",
      "Epoch 4/30\n",
      "4172/4172 [==============================] - 16s 4ms/step - loss: 0.6170 - acc: 0.6419 - val_loss: 0.5662 - val_acc: 0.7044\n",
      "Epoch 5/30\n",
      "4172/4172 [==============================] - 15s 4ms/step - loss: 0.5871 - acc: 0.6692 - val_loss: 0.5566 - val_acc: 0.6862\n",
      "Epoch 6/30\n",
      "4172/4172 [==============================] - 16s 4ms/step - loss: 0.5455 - acc: 0.7198 - val_loss: 0.5249 - val_acc: 0.7476\n",
      "Epoch 7/30\n",
      "4172/4172 [==============================] - 16s 4ms/step - loss: 0.5112 - acc: 0.7414 - val_loss: 0.5484 - val_acc: 0.7495\n",
      "Epoch 8/30\n",
      "4172/4172 [==============================] - 17s 4ms/step - loss: 0.4781 - acc: 0.7627 - val_loss: 0.5295 - val_acc: 0.7495\n",
      "Epoch 9/30\n",
      "4172/4172 [==============================] - 16s 4ms/step - loss: 0.4370 - acc: 0.7881 - val_loss: 0.5287 - val_acc: 0.7582\n",
      "Epoch 10/30\n",
      "4172/4172 [==============================] - 16s 4ms/step - loss: 0.3821 - acc: 0.8248 - val_loss: 0.6233 - val_acc: 0.7198\n",
      "Epoch 11/30\n",
      "4172/4172 [==============================] - 16s 4ms/step - loss: 0.3396 - acc: 0.8468 - val_loss: 0.6504 - val_acc: 0.7150\n",
      "CPU times: user 1min 29s, sys: 33.1 s, total: 2min 2s\n",
      "Wall time: 2min 56s\n"
     ]
    }
   ],
   "source": [
    "%%time\n",
    "early_stopping = [EarlyStopping(monitor = 'val_loss', patience = 5)]\n",
    "history_4 = model_4.fit(train_images,\n",
    "                                                 train_y,\n",
    "                                                 epochs=30,\n",
    "                                                 batch_size=50,\n",
    "                                                 validation_data=(val_images, val_y),\n",
    "                                                callbacks=early_stopping)"
   ]
  },
  {
   "cell_type": "code",
   "execution_count": 19,
   "metadata": {
    "scrolled": true
   },
   "outputs": [
    {
     "name": "stdout",
     "output_type": "stream",
     "text": [
      "Accuracy \n",
      " Train: 0.882, Test: 0.760\n",
      "Loss \n",
      " Train: 0.272, Test: 0.572 \n",
      "\n"
     ]
    },
    {
     "data": {
      "image/png": "[encoded data removed]",
      "text/plain": [
       "<Figure size 432x288 with 2 Axes>"
      ]
     },
     "metadata": {
      "needs_background": "light"
     },
     "output_type": "display_data"
    },
    {
     "name": "stdout",
     "output_type": "stream",
     "text": [
      "\n",
      "\n",
      "Confusion Matrix, without normalization\n"
     ]
    },
    {
     "data": {
      "image/png": "[encoded data removed]",
      "text/plain": [
       "<Figure size 432x288 with 2 Axes>"
      ]
     },
     "metadata": {
      "needs_background": "light"
     },
     "output_type": "display_data"
    },
    {
     "name": "stdout",
     "output_type": "stream",
     "text": [
      "\n",
      "\n",
      "              precision    recall  f1-score   support\n",
      "\n",
      "     Non-MCU       0.82      0.86      0.84      1374\n",
      "         MCU       0.54      0.46      0.50       478\n",
      "\n",
      "    accuracy                           0.76      1852\n",
      "   macro avg       0.68      0.66      0.67      1852\n",
      "weighted avg       0.75      0.76      0.75      1852\n",
      "\n"
     ]
    }
   ],
   "source": [
    "print(mf.evaluate_test(model_4, history_4, class_labels, train_images, test_images, train_y, test_y))"
   ]
  },
  {
   "cell_type": "code",
   "execution_count": null,
   "metadata": {},
   "outputs": [],
   "source": []
  }
 ],
 "metadata": {
  "kernelspec": {
   "display_name": "Python 3",
   "language": "python",
   "name": "python3"
  },
  "language_info": {
   "codemirror_mode": {
    "name": "ipython",
    "version": 3
   },
   "file_extension": ".py",
   "mimetype": "text/x-python",
   "name": "python",
   "nbconvert_exporter": "python",
   "pygments_lexer": "ipython3",
   "version": "3.6.9"
  }
 },
 "nbformat": 4,
 "nbformat_minor": 4
}
