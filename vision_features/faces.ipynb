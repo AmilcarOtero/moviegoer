{
 "cells": [
  {
   "cell_type": "markdown",
   "metadata": {},
   "source": [
    "# faces\n",
    "We can extract a few more features from each frame by using the `face_recognition` library to find and analyze faces."
   ]
  },
  {
   "cell_type": "code",
   "execution_count": 1,
   "metadata": {},
   "outputs": [],
   "source": [
    "import face_recognition\n",
    "import os\n",
    "from vision_features_io import *"
   ]
  },
  {
   "cell_type": "markdown",
   "metadata": {},
   "source": [
    "# Finding Faces\n",
    "We can load an image and find the locations of each detected face. We've defined a function to simplify this called `face_locations` in `vision_features_io.py`. The number of faces can be stored as a feature in the frame-level DataFrame."
   ]
  },
  {
   "cell_type": "code",
   "execution_count": 2,
   "metadata": {},
   "outputs": [],
   "source": [
    "film = 'booksmart'\n",
    "frame = 170\n",
    "frame_folder = os.path.join('../frame_per_second', film)\n",
    "img_path = frame_folder + '/' + film + '_frame' + str(frame) + '.jpg'"
   ]
  },
  {
   "cell_type": "code",
   "execution_count": 3,
   "metadata": {},
   "outputs": [
    {
     "name": "stdout",
     "output_type": "stream",
     "text": [
      "Found 1 face(s) in frame 170\n"
     ]
    }
   ],
   "source": [
    "image = face_recognition.load_image_file(img_path)\n",
    "locations = face_recognition.face_locations(image, number_of_times_to_upsample=1)\n",
    "\n",
    "print('Found ' + str(len(locations)) + ' face(s) in frame ' + str(frame))"
   ]
  },
  {
   "cell_type": "markdown",
   "metadata": {},
   "source": [
    "# Face Locations\n",
    "When we use `face_recognition.face_locations()` to find the locations, we're returned with a square bounding box which encompasses a character's face. We can see if either of the two rule-of-thirds points falls within this bounding box."
   ]
  },
  {
   "cell_type": "code",
   "execution_count": 4,
   "metadata": {},
   "outputs": [
    {
     "name": "stdout",
     "output_type": "stream",
     "text": [
      "Found 1 face(s) in frame 170\n"
     ]
    }
   ],
   "source": [
    "locations = face_locations('booksmart', 170)"
   ]
  },
  {
   "cell_type": "markdown",
   "metadata": {},
   "source": [
    "In this example, we've located a single face. A list is returned, and we can access the bounding box by accessing the first (and only) item. The bounding box has four values: top, right, bottom, left edges of the bounding box, measured in pixels, starting from the top-left corner."
   ]
  },
  {
   "cell_type": "code",
   "execution_count": 5,
   "metadata": {
    "scrolled": true
   },
   "outputs": [
    {
     "data": {
      "text/plain": [
       "(82, 411, 211, 282)"
      ]
     },
     "execution_count": 5,
     "metadata": {},
     "output_type": "execute_result"
    }
   ],
   "source": [
    "character = locations[0] # top, right, bottom, left\n",
    "character"
   ]
  },
  {
   "cell_type": "markdown",
   "metadata": {},
   "source": [
    "## Thirds Points\n",
    "We can also identify where faces are present in the frame. Typically in a dialogue scene, a cinematographer will position the camera so a character lines up with one of two rule-of-thirds points. Instead of positioning a character so they're smack-dab in the center of frame, it's more dynamic if they're at two-thirds of the frame height, and one-third width away from the left- or right-edge.\n",
    "\n",
    "We can calculate the coordinates for the left and right thirds points using a previously-defined function in the `dimensions` notebook.\n",
    "- Left third point: (one-third the frame width from the left, one-third the frame height from the top)\n",
    "- Right third point: (two-thirds the frame width from the left, one-third the frame height from the top)"
   ]
  },
  {
   "cell_type": "code",
   "execution_count": 6,
   "metadata": {},
   "outputs": [
    {
     "name": "stdout",
     "output_type": "stream",
     "text": [
      "(285, 119)\n",
      "(569, 119)\n"
     ]
    }
   ],
   "source": [
    "frame = load_frame('booksmart', 170)\n",
    "left_thirds_point = thirds_points(frame)[0]\n",
    "right_thirds_point = thirds_points(frame)[1]\n",
    "print(left_thirds_point)\n",
    "print(right_thirds_point)"
   ]
  },
  {
   "cell_type": "markdown",
   "metadata": {},
   "source": [
    "We'll check if this face is aligned at the left thirds point. We take the X and Y coordinates of the left thirds point and see if it lies within the bounding box of the face. "
   ]
  },
  {
   "cell_type": "code",
   "execution_count": 7,
   "metadata": {},
   "outputs": [
    {
     "name": "stdout",
     "output_type": "stream",
     "text": [
      "face is vertically aligned at left thirds point\n"
     ]
    }
   ],
   "source": [
    "if character[0] <= left_thirds_point[1] <= character[2]: # bottom of face bounding box < left thirds point X < top of face bounding box\n",
    "    print('face is vertically aligned at left thirds point')"
   ]
  },
  {
   "cell_type": "code",
   "execution_count": 8,
   "metadata": {
    "scrolled": true
   },
   "outputs": [
    {
     "name": "stdout",
     "output_type": "stream",
     "text": [
      "face is horizontally aligned at left thirds point\n"
     ]
    }
   ],
   "source": [
    "if character[3] <= left_thirds_point[0] <= character[1]: # right edge of face bounding box < left thirds point Y < left edge of face bounding box\n",
    "    print('face is horizontally aligned at left thirds point')"
   ]
  },
  {
   "cell_type": "markdown",
   "metadata": {},
   "source": [
    "We can combine these two code blocks and turn them into two functions, one each for the left and right thirds points."
   ]
  },
  {
   "cell_type": "code",
   "execution_count": 9,
   "metadata": {},
   "outputs": [
    {
     "name": "stdout",
     "output_type": "stream",
     "text": [
      "face is at left thirds point\n"
     ]
    }
   ],
   "source": [
    "if character[0] <= left_thirds_point[1] <= character[2] and character[3] <= left_thirds_point[0] <= character[1]:\n",
    "    print('face is at left thirds point')"
   ]
  },
  {
   "cell_type": "code",
   "execution_count": 10,
   "metadata": {},
   "outputs": [],
   "source": [
    "if character[0] <= right_thirds_point[1] <= character[2] and character[3] <= right_thirds_point[0] <= character[1]:\n",
    "    print('face is at right thirds point')"
   ]
  }
 ],
 "metadata": {
  "kernelspec": {
   "display_name": "Python (moviegoer)",
   "language": "python",
   "name": "moviegoer"
  },
  "language_info": {
   "codemirror_mode": {
    "name": "ipython",
    "version": 3
   },
   "file_extension": ".py",
   "mimetype": "text/x-python",
   "name": "python",
   "nbconvert_exporter": "python",
   "pygments_lexer": "ipython3",
   "version": "3.7.7"
  }
 },
 "nbformat": 4,
 "nbformat_minor": 4
}
