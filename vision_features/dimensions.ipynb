{
 "cells": [
  {
   "cell_type": "markdown",
   "metadata": {},
   "source": [
    "# dimensions\n",
    "We can extract a few features from the frames' image size. We can also designate several \"points of interest\" in the frame, which would be useful, for example, in detecting if a character's face is positioned in the frame according to the rule-of-thirds."
   ]
  },
  {
   "cell_type": "code",
   "execution_count": 1,
   "metadata": {},
   "outputs": [],
   "source": [
    "import cv2\n",
    "import os"
   ]
  },
  {
   "cell_type": "code",
   "execution_count": 2,
   "metadata": {},
   "outputs": [],
   "source": [
    "film = 'teen_spirit'\n",
    "frame = 1335\n",
    "frame_folder = os.path.join('../frame_per_second', film)\n",
    "img_path = frame_folder + '/' + film + '_frame' + str(frame) + '.jpg'\n",
    "image = cv2.imread(img_path)"
   ]
  },
  {
   "cell_type": "markdown",
   "metadata": {},
   "source": [
    "# Basic Dimensions\n",
    "After loading the image, we can get the height and weight. From there, we can calculate the aspect ratio. In this case, it's 2.4, a very common cinema widescreen ratio."
   ]
  },
  {
   "cell_type": "code",
   "execution_count": 3,
   "metadata": {},
   "outputs": [
    {
     "data": {
      "text/plain": [
       "356"
      ]
     },
     "execution_count": 3,
     "metadata": {},
     "output_type": "execute_result"
    }
   ],
   "source": [
    "height = image.shape[0]\n",
    "height"
   ]
  },
  {
   "cell_type": "code",
   "execution_count": 4,
   "metadata": {},
   "outputs": [
    {
     "data": {
      "text/plain": [
       "854"
      ]
     },
     "execution_count": 4,
     "metadata": {},
     "output_type": "execute_result"
    }
   ],
   "source": [
    "width = image.shape[1]\n",
    "width"
   ]
  },
  {
   "cell_type": "code",
   "execution_count": 5,
   "metadata": {},
   "outputs": [
    {
     "data": {
      "text/plain": [
       "2.4"
      ]
     },
     "execution_count": 5,
     "metadata": {},
     "output_type": "execute_result"
    }
   ],
   "source": [
    "aspect_ratio = round(width/height, 2)\n",
    "aspect_ratio"
   ]
  },
  {
   "cell_type": "markdown",
   "metadata": {},
   "source": [
    "# Points of Interest\n",
    "We can designate specific points in the frame as points of interest. \n",
    "### Center\n",
    "Certain directors, most namely Wes Anderson, like to compose characters, objects, or other physical elements in the center of the frame. In addition, some \"split-screen\" scenes can be identified by a central border and left- and right-half images."
   ]
  },
  {
   "cell_type": "code",
   "execution_count": 6,
   "metadata": {},
   "outputs": [
    {
     "data": {
      "text/plain": [
       "178"
      ]
     },
     "execution_count": 6,
     "metadata": {},
     "output_type": "execute_result"
    }
   ],
   "source": [
    "half_height = round(height * (1/2))\n",
    "half_height"
   ]
  },
  {
   "cell_type": "code",
   "execution_count": 7,
   "metadata": {},
   "outputs": [
    {
     "data": {
      "text/plain": [
       "427"
      ]
     },
     "execution_count": 7,
     "metadata": {},
     "output_type": "execute_result"
    }
   ],
   "source": [
    "half_width = round(width * (1/2))\n",
    "half_width"
   ]
  },
  {
   "cell_type": "code",
   "execution_count": 8,
   "metadata": {},
   "outputs": [
    {
     "data": {
      "text/plain": [
       "(178, 427)"
      ]
     },
     "execution_count": 8,
     "metadata": {},
     "output_type": "execute_result"
    }
   ],
   "source": [
    "center_point = (half_height, half_width)\n",
    "center_point"
   ]
  },
  {
   "cell_type": "code",
   "execution_count": 9,
   "metadata": {},
   "outputs": [
    {
     "data": {
      "text/plain": [
       "tuple"
      ]
     },
     "execution_count": 9,
     "metadata": {},
     "output_type": "execute_result"
    }
   ],
   "source": [
    "type(center_point)"
   ]
  },
  {
   "cell_type": "markdown",
   "metadata": {},
   "source": [
    "### Rule of Thirds\n",
    "The rule of thirds is an important axiom of cinemtography and photography. Rather than placing characters, objects, or horizon lines in the dead-center of frame (one-half), they can be placed at one- or two-thirds of the total width or height. Horizon lines are often placed at one-third of frame height, allowing two-thirds of the frame to be occupied by sky."
   ]
  },
  {
   "cell_type": "code",
   "execution_count": 10,
   "metadata": {},
   "outputs": [
    {
     "name": "stdout",
     "output_type": "stream",
     "text": [
      "1/3 height: 119\n",
      "2/3 height: 237\n",
      "1/3 width: 285\n",
      "2/3 width: 569\n"
     ]
    }
   ],
   "source": [
    "one_third_height = round(height * (1/3))\n",
    "two_thirds_height = round(height * (2/3))\n",
    "one_third_width = round(width * (1/3))\n",
    "two_thirds_width = round(width * (2/3))\n",
    "print('1/3 height:', one_third_height)\n",
    "print('2/3 height:', two_thirds_height)\n",
    "print('1/3 width:', one_third_width)\n",
    "print('2/3 width:', two_thirds_width)"
   ]
  },
  {
   "cell_type": "markdown",
   "metadata": {},
   "source": [
    "Cinematographers will often position characters or other prominent objects at the intersection of (1/3) or (2/3) width and height. There are four points where the rule of thirds applies."
   ]
  },
  {
   "cell_type": "code",
   "execution_count": 11,
   "metadata": {},
   "outputs": [
    {
     "name": "stdout",
     "output_type": "stream",
     "text": [
      "Rule of Thirds Point A: (119, 285)\n",
      "Rule of Thirds Point B: (237, 285)\n",
      "Rule of Thirds Point C: (119, 569)\n",
      "Rule of Thirds Point D: (237, 569)\n"
     ]
    }
   ],
   "source": [
    "thirds_point_a = (one_third_height, one_third_width)\n",
    "thirds_point_b = (two_thirds_height, one_third_width)\n",
    "thirds_point_c = (one_third_height, two_thirds_width)\n",
    "thirds_point_d = (two_thirds_height, two_thirds_width)\n",
    "print('Rule of Thirds Point A:', thirds_point_a)\n",
    "print('Rule of Thirds Point B:', thirds_point_b)\n",
    "print('Rule of Thirds Point C:', thirds_point_c)\n",
    "print('Rule of Thirds Point D:', thirds_point_d)"
   ]
  }
 ],
 "metadata": {
  "kernelspec": {
   "display_name": "Python (moviegoer)",
   "language": "python",
   "name": "moviegoer"
  },
  "language_info": {
   "codemirror_mode": {
    "name": "ipython",
    "version": 3
   },
   "file_extension": ".py",
   "mimetype": "text/x-python",
   "name": "python",
   "nbconvert_exporter": "python",
   "pygments_lexer": "ipython3",
   "version": "3.7.7"
  }
 },
 "nbformat": 4,
 "nbformat_minor": 4
}
