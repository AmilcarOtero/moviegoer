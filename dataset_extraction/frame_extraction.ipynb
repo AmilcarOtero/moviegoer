{
 "cells": [
  {
   "cell_type": "markdown",
   "metadata": {},
   "source": [
    "# frame_extraction\n",
    "We've been able to break the film down into individual image frames and perform some basic cinematic analyses on them. We've stored this information/metadata in dataframes. We'll want to be able to use these analyses to select specific image frames for future model training purposes, such as selecting all images with a specific color palette or with a certain number of characters present.\n",
    "\n",
    "For the purposes of training CNNs and GANs with Keras/TensorFlow, we'll want to copy frames images into a single folder. We can use `os` and other Python libraries to navigate the directory structure and copy files around."
   ]
  },
  {
   "cell_type": "code",
   "execution_count": 1,
   "metadata": {},
   "outputs": [],
   "source": [
    "import os\n",
    "from distutils.dir_util import copy_tree\n",
    "from shutil import copy, move, rmtree\n",
    "import pandas as pd"
   ]
  },
  {
   "cell_type": "markdown",
   "metadata": {},
   "source": [
    "Each movie's frames are stored in their own directory in `/frame_per_second`."
   ]
  },
  {
   "cell_type": "code",
   "execution_count": 2,
   "metadata": {
    "scrolled": false
   },
   "outputs": [
    {
     "name": "stdout",
     "output_type": "stream",
     "text": [
      "\u001b[0m\u001b[01;34mall_is_true_2018\u001b[0m/\r\n",
      "\u001b[01;34mbefore_sunset_2004\u001b[0m/\r\n",
      "\u001b[01;34mblack_and_blue_2019\u001b[0m/\r\n",
      "\u001b[01;34mbooksmart_2019\u001b[0m/\r\n",
      "\u001b[01;34mextremely_wicked_shockingly_evil_and_vile_2019\u001b[0m/\r\n",
      "\u001b[01;34mford_v_ferrari_2019\u001b[0m/\r\n",
      "\u001b[01;34mjoker_2019\u001b[0m/\r\n",
      "\u001b[01;34mknives_out_2019\u001b[0m/\r\n",
      "\u001b[01;34mlost_in_translation_2003\u001b[0m/\r\n",
      "\u001b[01;34moceans_eleven_2001\u001b[0m/\r\n",
      "\u001b[01;34monce_upon_a_time_in_hollywood_2019\u001b[0m/\r\n",
      "\u001b[01;34mplus_one_2019\u001b[0m/\r\n",
      "\u001b[01;34msecond_act_2018\u001b[0m/\r\n",
      "\u001b[01;34mthe_hustle_2019\u001b[0m/\r\n",
      "\u001b[01;34mtoy_story_4_2019\u001b[0m/\r\n"
     ]
    }
   ],
   "source": [
    "%ls ../frame_per_second/"
   ]
  },
  {
   "cell_type": "markdown",
   "metadata": {},
   "source": [
    "### Medium Close-Ups\n",
    "Let's say we want to compile movie frames where it's a close-up of a single-character. Most two-character dialogue scenes make extensive use of medium close-ups of each character. \n",
    "\n",
    "We'll start with *The Hustle* (2019)."
   ]
  },
  {
   "cell_type": "code",
   "execution_count": 3,
   "metadata": {},
   "outputs": [],
   "source": [
    "import sys\n",
    "sys.path.append('../data_serialization')\n",
    "from serialization_preprocessing_io import *"
   ]
  },
  {
   "cell_type": "code",
   "execution_count": 4,
   "metadata": {},
   "outputs": [],
   "source": [
    "film = 'the_hustle_2019'\n",
    "srt_df, subtitle_df, sentence_df, vision_df, face_df = read_pickle(film)"
   ]
  },
  {
   "cell_type": "markdown",
   "metadata": {},
   "source": [
    "First we look at frames with prim_char_flag equal to 1. These are frames that satisfy one of the two conditions:\n",
    "- There is one face in frame\n",
    "- There are multiple face in frame, but there is one face much larger than the others (the other faces are 75% or less in size)"
   ]
  },
  {
   "cell_type": "code",
   "execution_count": 5,
   "metadata": {},
   "outputs": [
    {
     "data": {
      "text/html": [
       "<div>\n",
       "<style scoped>\n",
       "    .dataframe tbody tr th:only-of-type {\n",
       "        vertical-align: middle;\n",
       "    }\n",
       "\n",
       "    .dataframe tbody tr th {\n",
       "        vertical-align: top;\n",
       "    }\n",
       "\n",
       "    .dataframe thead th {\n",
       "        text-align: right;\n",
       "    }\n",
       "</style>\n",
       "<table border=\"1\" class=\"dataframe\">\n",
       "  <thead>\n",
       "    <tr style=\"text-align: right;\">\n",
       "      <th></th>\n",
       "      <th>face_locations</th>\n",
       "      <th>face_sizes</th>\n",
       "      <th>face_encodings</th>\n",
       "      <th>faces_found</th>\n",
       "      <th>prim_char_flag</th>\n",
       "      <th>p_center_alignment</th>\n",
       "      <th>p_horizontal_distance</th>\n",
       "      <th>p_open_mouth</th>\n",
       "      <th>p_face_cluster</th>\n",
       "      <th>p_emotion</th>\n",
       "    </tr>\n",
       "    <tr>\n",
       "      <th>frame</th>\n",
       "      <th></th>\n",
       "      <th></th>\n",
       "      <th></th>\n",
       "      <th></th>\n",
       "      <th></th>\n",
       "      <th></th>\n",
       "      <th></th>\n",
       "      <th></th>\n",
       "      <th></th>\n",
       "      <th></th>\n",
       "    </tr>\n",
       "  </thead>\n",
       "  <tbody>\n",
       "    <tr>\n",
       "      <th>194</th>\n",
       "      <td>[(102, 547, 263, 387)]</td>\n",
       "      <td>[8.37]</td>\n",
       "      <td>[[-0.1602196991443634, 0.05712738633155823, 0....</td>\n",
       "      <td>1</td>\n",
       "      <td>1</td>\n",
       "      <td>None</td>\n",
       "      <td>NaN</td>\n",
       "      <td>1.0</td>\n",
       "      <td>28.0</td>\n",
       "      <td>surprise</td>\n",
       "    </tr>\n",
       "    <tr>\n",
       "      <th>195</th>\n",
       "      <td>[(102, 405, 263, 244)]</td>\n",
       "      <td>[8.48]</td>\n",
       "      <td>[[-0.1326746940612793, 0.05337563902139664, 0....</td>\n",
       "      <td>1</td>\n",
       "      <td>1</td>\n",
       "      <td>left</td>\n",
       "      <td>183.0</td>\n",
       "      <td>1.0</td>\n",
       "      <td>10.0</td>\n",
       "      <td>fear</td>\n",
       "    </tr>\n",
       "    <tr>\n",
       "      <th>196</th>\n",
       "      <td>[(100, 366, 233, 233)]</td>\n",
       "      <td>[5.79]</td>\n",
       "      <td>[[-0.0987188071012497, 0.0743609368801117, 0.0...</td>\n",
       "      <td>1</td>\n",
       "      <td>1</td>\n",
       "      <td>left</td>\n",
       "      <td>194.0</td>\n",
       "      <td>1.0</td>\n",
       "      <td>6.0</td>\n",
       "      <td>surprise</td>\n",
       "    </tr>\n",
       "    <tr>\n",
       "      <th>197</th>\n",
       "      <td>[(66, 654, 227, 494)]</td>\n",
       "      <td>[8.37]</td>\n",
       "      <td>[[-0.18016411364078522, 0.09841547906398773, 0...</td>\n",
       "      <td>1</td>\n",
       "      <td>1</td>\n",
       "      <td>right</td>\n",
       "      <td>227.0</td>\n",
       "      <td>0.0</td>\n",
       "      <td>28.0</td>\n",
       "      <td>surprise</td>\n",
       "    </tr>\n",
       "  </tbody>\n",
       "</table>\n",
       "</div>"
      ],
      "text/plain": [
       "               face_locations face_sizes  \\\n",
       "frame                                      \n",
       "194    [(102, 547, 263, 387)]     [8.37]   \n",
       "195    [(102, 405, 263, 244)]     [8.48]   \n",
       "196    [(100, 366, 233, 233)]     [5.79]   \n",
       "197     [(66, 654, 227, 494)]     [8.37]   \n",
       "\n",
       "                                          face_encodings  faces_found  \\\n",
       "frame                                                                   \n",
       "194    [[-0.1602196991443634, 0.05712738633155823, 0....            1   \n",
       "195    [[-0.1326746940612793, 0.05337563902139664, 0....            1   \n",
       "196    [[-0.0987188071012497, 0.0743609368801117, 0.0...            1   \n",
       "197    [[-0.18016411364078522, 0.09841547906398773, 0...            1   \n",
       "\n",
       "       prim_char_flag p_center_alignment  p_horizontal_distance  p_open_mouth  \\\n",
       "frame                                                                           \n",
       "194                 1               None                    NaN           1.0   \n",
       "195                 1               left                  183.0           1.0   \n",
       "196                 1               left                  194.0           1.0   \n",
       "197                 1              right                  227.0           0.0   \n",
       "\n",
       "       p_face_cluster p_emotion  \n",
       "frame                            \n",
       "194              28.0  surprise  \n",
       "195              10.0      fear  \n",
       "196               6.0  surprise  \n",
       "197              28.0  surprise  "
      ]
     },
     "execution_count": 5,
     "metadata": {},
     "output_type": "execute_result"
    }
   ],
   "source": [
    "face_df[face_df['prim_char_flag'] == 1][100:104]"
   ]
  },
  {
   "cell_type": "code",
   "execution_count": 6,
   "metadata": {},
   "outputs": [
    {
     "data": {
      "text/plain": [
       "3163"
      ]
     },
     "execution_count": 6,
     "metadata": {},
     "output_type": "execute_result"
    }
   ],
   "source": [
    "len(face_df[face_df['prim_char_flag'] == 1])"
   ]
  },
  {
   "cell_type": "markdown",
   "metadata": {},
   "source": [
    "Next, we'll want to make sure the sizes of the faces are at least a certain percentage of the overall frame size. We'll set this threshold at 4%. There's a bit of difficulty using the traditional Pandas filters, because we need to process the first element of `face_sizes`, which is a list."
   ]
  },
  {
   "cell_type": "code",
   "execution_count": 7,
   "metadata": {},
   "outputs": [
    {
     "data": {
      "text/plain": [
       "[8.37]"
      ]
     },
     "execution_count": 7,
     "metadata": {},
     "output_type": "execute_result"
    }
   ],
   "source": [
    "face_df.loc[194].face_sizes"
   ]
  },
  {
   "cell_type": "code",
   "execution_count": 8,
   "metadata": {},
   "outputs": [
    {
     "data": {
      "text/plain": [
       "8.37"
      ]
     },
     "execution_count": 8,
     "metadata": {},
     "output_type": "execute_result"
    }
   ],
   "source": [
    "face_df.loc[194].face_sizes[0]"
   ]
  },
  {
   "cell_type": "code",
   "execution_count": 9,
   "metadata": {},
   "outputs": [
    {
     "data": {
      "text/plain": [
       "3163"
      ]
     },
     "execution_count": 9,
     "metadata": {},
     "output_type": "execute_result"
    }
   ],
   "source": [
    "prim_char_indices = face_df[face_df['prim_char_flag'] == 1].index.tolist()\n",
    "len(prim_char_indices)"
   ]
  },
  {
   "cell_type": "code",
   "execution_count": 10,
   "metadata": {},
   "outputs": [],
   "source": [
    "prim_large_indices = []\n",
    "\n",
    "for index in prim_char_indices:\n",
    "    if face_df.loc[index].face_sizes[0] > 4:\n",
    "        prim_large_indices.append(index)"
   ]
  },
  {
   "cell_type": "code",
   "execution_count": 11,
   "metadata": {},
   "outputs": [
    {
     "data": {
      "text/plain": [
       "1747"
      ]
     },
     "execution_count": 11,
     "metadata": {},
     "output_type": "execute_result"
    }
   ],
   "source": [
    "len(prim_large_indices)"
   ]
  },
  {
   "cell_type": "code",
   "execution_count": 12,
   "metadata": {},
   "outputs": [
    {
     "data": {
      "text/plain": [
       "[81, 82, 91]"
      ]
     },
     "execution_count": 12,
     "metadata": {},
     "output_type": "execute_result"
    }
   ],
   "source": [
    "prim_large_indices[0:3]"
   ]
  },
  {
   "cell_type": "markdown",
   "metadata": {},
   "source": [
    "We now have a list of frames where there's a primary character, and that character's face is above a certain size. Next, we'll want to use this list to copy these frames into a new folder. We'll put them in `/filtered_character/primary_character/`.\n",
    "\n",
    "In this directory, we'll have two folders: `positive` and `negative`, for images that fit our criteria, and images that don't."
   ]
  },
  {
   "cell_type": "code",
   "execution_count": 13,
   "metadata": {},
   "outputs": [
    {
     "name": "stdout",
     "output_type": "stream",
     "text": [
      "\u001b[0m\u001b[01;34mprimary_character\u001b[0m/\r\n"
     ]
    }
   ],
   "source": [
    "%ls ../filtered_data/"
   ]
  },
  {
   "cell_type": "code",
   "execution_count": 14,
   "metadata": {},
   "outputs": [
    {
     "name": "stdout",
     "output_type": "stream",
     "text": [
      "\u001b[0m\u001b[01;34mnegative\u001b[0m/  \u001b[01;34mpositive\u001b[0m/\r\n"
     ]
    }
   ],
   "source": [
    "%ls ../filtered_data/primary_character/"
   ]
  }
 ],
 "metadata": {
  "kernelspec": {
   "display_name": "Python (moviegoer)",
   "language": "python",
   "name": "moviegoer"
  },
  "language_info": {
   "codemirror_mode": {
    "name": "ipython",
    "version": 3
   },
   "file_extension": ".py",
   "mimetype": "text/x-python",
   "name": "python",
   "nbconvert_exporter": "python",
   "pygments_lexer": "ipython3",
   "version": "3.7.7"
  }
 },
 "nbformat": 4,
 "nbformat_minor": 4
}
