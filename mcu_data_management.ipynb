{
 "cells": [
  {
   "cell_type": "markdown",
   "metadata": {},
   "source": [
    "The purpose of this notebook is to manage the data necessary for MCU image classification. Because the classifier works with individual files, much of this notebook is dedicated to building a data pipeline, and populating the Train/Test folders appropriately."
   ]
  },
  {
   "cell_type": "code",
   "execution_count": 1,
   "metadata": {
    "scrolled": true
   },
   "outputs": [],
   "source": [
    "import os\n",
    "from distutils.dir_util import copy_tree\n",
    "from shutil import copy, move, rmtree\n",
    "import random\n",
    "import matplotlib.pyplot as plt\n",
    "import pandas as pd"
   ]
  },
  {
   "cell_type": "code",
   "execution_count": 1,
   "metadata": {
    "scrolled": true
   },
   "outputs": [
    {
     "name": "stdout",
     "output_type": "stream",
     "text": [
      "\u001b[33mWARNING: The directory '/.cache/pip/http' or its parent directory is not owned by the current user and the cache has been disabled. Please check the permissions and owner of that directory. If executing pip with sudo, you may want sudo's -H flag.\u001b[0m\n",
      "\u001b[33mWARNING: The directory '/.cache/pip' or its parent directory is not owned by the current user and caching wheels has been disabled. check the permissions and owner of that directory. If executing pip with sudo, you may want sudo's -H flag.\u001b[0m\n",
      "Collecting pandas\n",
      "\u001b[?25l  Downloading https://files.pythonhosted.org/packages/bb/71/8f53bdbcbc67c912b888b40def255767e475402e9df64050019149b1a943/pandas-1.0.3-cp36-cp36m-manylinux1_x86_64.whl (10.0MB)\n",
      "\u001b[K     |████████████████████████████████| 10.0MB 1.8MB/s eta 0:00:01    |██████████████████████▉         | 7.2MB 2.1MB/s eta 0:00:02\n",
      "\u001b[?25hRequirement already satisfied: python-dateutil>=2.6.1 in /usr/local/lib/python3.6/dist-packages (from pandas) (2.8.1)\n",
      "Requirement already satisfied: numpy>=1.13.3 in /usr/local/lib/python3.6/dist-packages (from pandas) (1.18.1)\n",
      "Collecting pytz>=2017.2\n",
      "\u001b[?25l  Downloading https://files.pythonhosted.org/packages/4f/a4/879454d49688e2fad93e59d7d4efda580b783c745fd2ec2a3adf87b0808d/pytz-2020.1-py2.py3-none-any.whl (510kB)\n",
      "\u001b[K     |████████████████████████████████| 512kB 1.3MB/s eta 0:00:01\n",
      "\u001b[?25hRequirement already satisfied: six>=1.5 in /usr/local/lib/python3.6/dist-packages (from python-dateutil>=2.6.1->pandas) (1.13.0)\n",
      "Installing collected packages: pytz, pandas\n",
      "Successfully installed pandas-1.0.3 pytz-2020.1\n",
      "\u001b[33mWARNING: You are using pip version 19.3.1; however, version 20.1 is available.\n",
      "You should consider upgrading via the 'pip install --upgrade pip' command.\u001b[0m\n",
      "Note: you may need to restart the kernel to use updated packages.\n"
     ]
    }
   ],
   "source": [
    "pip install pandas --user"
   ]
  },
  {
   "cell_type": "code",
   "execution_count": 2,
   "metadata": {},
   "outputs": [],
   "source": [
    "working_directory = 'movie_frames'"
   ]
  },
  {
   "cell_type": "code",
   "execution_count": 3,
   "metadata": {
    "scrolled": false
   },
   "outputs": [
    {
     "name": "stdout",
     "output_type": "stream",
     "text": [
      "\u001b[0m\u001b[01;34mamerican_bistro\u001b[0m/  \u001b[01;34mdrillbit_taylor\u001b[0m/  \u001b[01;34mmadea_funeral\u001b[0m/      \u001b[01;34munearthed\u001b[0m/\r\n",
      "\u001b[01;34manimals\u001b[0m/          \u001b[01;34mextremely_loud\u001b[0m/   \u001b[01;34mmidnight_in_paris\u001b[0m/  \u001b[01;34mvalentine\u001b[0m/\r\n",
      "\u001b[01;34mballon\u001b[0m/           \u001b[01;34mford_v_ferrari\u001b[0m/   \u001b[01;34mmollys_game\u001b[0m/        \u001b[01;34mvault\u001b[0m/\r\n",
      "\u001b[01;34mblack_and_blue\u001b[0m/   \u001b[01;34mgemini\u001b[0m/           \u001b[01;34mmonte_carlo\u001b[0m/        \u001b[01;34mwarriors_way\u001b[0m/\r\n",
      "\u001b[01;34mbooksmart\u001b[0m/        \u001b[01;34mglory_road\u001b[0m/       \u001b[01;34mno_escape\u001b[0m/          \u001b[01;34mwhat_still_remains\u001b[0m/\r\n",
      "\u001b[01;34mbrooklyn\u001b[0m/         \u001b[01;34mhobbs_shaw\u001b[0m/       \u001b[01;34mparasite\u001b[0m/           \u001b[01;34myesterday\u001b[0m/\r\n",
      "\u001b[01;34mchildren_of_men\u001b[0m/  \u001b[01;34mhustle\u001b[0m/           \u001b[01;34mparts_you_lose\u001b[0m/\r\n",
      "\u001b[01;34mdownton_abbey\u001b[0m/    \u001b[01;34mjohn_wick_3\u001b[0m/      \u001b[01;34mplus_one\u001b[0m/\r\n"
     ]
    }
   ],
   "source": [
    "%ls movie_frames/"
   ]
  },
  {
   "cell_type": "code",
   "execution_count": 4,
   "metadata": {},
   "outputs": [],
   "source": [
    "#movie_directories = os.listdir(working_directory)"
   ]
  },
  {
   "cell_type": "code",
   "execution_count": 30,
   "metadata": {},
   "outputs": [],
   "source": [
    "def get_frame_counts(working_directory):\n",
    "    mcu_count = 0\n",
    "    non_mcu_count = 0\n",
    "    unlabeled_count = 0\n",
    "\n",
    "    movie_directories = os.listdir(working_directory)\n",
    "    \n",
    "    for movie in movie_directories:\n",
    "        movie_folder = os.path.join(working_directory, movie)\n",
    "        mcu_folder = os.path.join(working_directory, movie, 'mcu')\n",
    "        non_mcu_folder = os.path.join(working_directory, movie, 'non_mcu')\n",
    "\n",
    "        unlabeled_count += len(os.listdir(movie_folder)) - 2\n",
    "        mcu_count += len(os.listdir(mcu_folder))\n",
    "        non_mcu_count += len(os.listdir(non_mcu_folder))\n",
    "        \n",
    "    print('There are', mcu_count, 'MCU frames')\n",
    "    print('There are', non_mcu_count, 'non-MCU frames')\n",
    "    print('There are', unlabeled_count, 'unlabeled frames')\n",
    "\n",
    "    return mcu_count, non_mcu_count, unlabeled_count"
   ]
  },
  {
   "cell_type": "code",
   "execution_count": 31,
   "metadata": {},
   "outputs": [
    {
     "name": "stdout",
     "output_type": "stream",
     "text": [
      "There are 2394 MCU frames\n",
      "There are 6870 non-MCU frames\n",
      "There are 15484 unlabeled frames\n"
     ]
    }
   ],
   "source": [
    "mcu_count, non_mcu_count, unlabeled_count = get_frame_counts(working_directory)"
   ]
  },
  {
   "cell_type": "code",
   "execution_count": null,
   "metadata": {},
   "outputs": [],
   "source": []
  },
  {
   "cell_type": "code",
   "execution_count": 6,
   "metadata": {},
   "outputs": [],
   "source": [
    "def display_movie_labels(working_directory):\n",
    "    mcu_frames_univ = []\n",
    "    non_frames_univ = []\n",
    "    movies = []\n",
    "    \n",
    "    # iterate through each film and designate the directory, then count number of frames in each category\n",
    "    for movie in movie_directories:\n",
    "        movie_folder = os.path.join(working_directory, movie)\n",
    "        mcu_folder = os.path.join(movie_folder, 'mcu')\n",
    "        non_mcu_folder = os.path.join(movie_folder, 'non_mcu')\n",
    "        \n",
    "        # create lists for use in pandas dataframe\n",
    "        mcu_frames_univ.append(len(os.listdir(mcu_folder)))\n",
    "        non_frames_univ.append(len(os.listdir(non_mcu_folder)))\n",
    "        movies.append(movie)\n",
    "        \n",
    "        # count type of frame for print\n",
    "        mcu_frames = len(os.listdir(mcu_folder))\n",
    "        non_mcu_frames = len(os.listdir(non_mcu_folder))\n",
    "        unlabeled_frames = len(os.listdir(movie_folder)) - 2\n",
    "\n",
    "        # calculate percentages\n",
    "        labeled_percentage = '{0:.2f}%'.format((mcu_frames + non_mcu_frames) / ((mcu_frames + non_mcu_frames + unlabeled_frames)) * 100)\n",
    "        try:\n",
    "            mcu_percentage = '{0:.2f}%'.format(mcu_frames / (mcu_frames + non_mcu_frames) * 100)\n",
    "            non_mcu_percentage = '{0:.2f}%'.format(non_mcu_frames / (mcu_frames + non_mcu_frames) * 100)\n",
    "        except ZeroDivisionError:\n",
    "            mcu_percentage = '0.00%'\n",
    "            non_mcu_percentage = '0.00%'\n",
    "        \n",
    "        # informational text\n",
    "        print(movie + ', frames labeled:', labeled_percentage)\n",
    "        print('\\tMCU frames:\\t\\t', mcu_frames, '\\t', mcu_percentage)\n",
    "        print('\\tNon-MCU frames:\\t\\t', non_mcu_frames, '\\t', non_mcu_percentage)\n",
    "        print('\\tUnlabeled frames:\\t', unlabeled_frames)\n",
    "    \n",
    "    return movies, mcu_frames_univ, non_frames_univ"
   ]
  },
  {
   "cell_type": "code",
   "execution_count": 7,
   "metadata": {
    "scrolled": true
   },
   "outputs": [
    {
     "name": "stdout",
     "output_type": "stream",
     "text": [
      "warriors_way, frames labeled: 33.47%\n",
      "\tMCU frames:\t\t 79 \t 31.23%\n",
      "\tNon-MCU frames:\t\t 174 \t 68.77%\n",
      "\tUnlabeled frames:\t 503\n",
      "hustle, frames labeled: 31.36%\n",
      "\tMCU frames:\t\t 97 \t 43.69%\n",
      "\tNon-MCU frames:\t\t 125 \t 56.31%\n",
      "\tUnlabeled frames:\t 486\n",
      "extremely_loud, frames labeled: 39.24%\n",
      "\tMCU frames:\t\t 92 \t 24.02%\n",
      "\tNon-MCU frames:\t\t 291 \t 75.98%\n",
      "\tUnlabeled frames:\t 593\n",
      "midnight_in_paris, frames labeled: 37.71%\n",
      "\tMCU frames:\t\t 53 \t 19.85%\n",
      "\tNon-MCU frames:\t\t 214 \t 80.15%\n",
      "\tUnlabeled frames:\t 441\n",
      "downton_abbey, frames labeled: 35.75%\n",
      "\tMCU frames:\t\t 66 \t 20.89%\n",
      "\tNon-MCU frames:\t\t 250 \t 79.11%\n",
      "\tUnlabeled frames:\t 568\n",
      "children_of_men, frames labeled: 100.00%\n",
      "\tMCU frames:\t\t 49 \t 7.06%\n",
      "\tNon-MCU frames:\t\t 645 \t 92.94%\n",
      "\tUnlabeled frames:\t 0\n",
      "john_wick_3, frames labeled: 31.68%\n",
      "\tMCU frames:\t\t 56 \t 17.95%\n",
      "\tNon-MCU frames:\t\t 256 \t 82.05%\n",
      "\tUnlabeled frames:\t 673\n",
      "what_still_remains, frames labeled: 28.74%\n",
      "\tMCU frames:\t\t 57 \t 28.79%\n",
      "\tNon-MCU frames:\t\t 141 \t 71.21%\n",
      "\tUnlabeled frames:\t 491\n",
      "gemini, frames labeled: 38.09%\n",
      "\tMCU frames:\t\t 87 \t 32.58%\n",
      "\tNon-MCU frames:\t\t 180 \t 67.42%\n",
      "\tUnlabeled frames:\t 434\n",
      "ford_v_ferrari, frames labeled: 28.35%\n",
      "\tMCU frames:\t\t 110 \t 33.74%\n",
      "\tNon-MCU frames:\t\t 216 \t 66.26%\n",
      "\tUnlabeled frames:\t 824\n",
      "parasite, frames labeled: 100.00%\n",
      "\tMCU frames:\t\t 142 \t 16.65%\n",
      "\tNon-MCU frames:\t\t 711 \t 83.35%\n",
      "\tUnlabeled frames:\t 0\n",
      "black_and_blue, frames labeled: 29.61%\n",
      "\tMCU frames:\t\t 62 \t 25.73%\n",
      "\tNon-MCU frames:\t\t 179 \t 74.27%\n",
      "\tUnlabeled frames:\t 573\n",
      "ballon, frames labeled: 20.64%\n",
      "\tMCU frames:\t\t 48 \t 24.74%\n",
      "\tNon-MCU frames:\t\t 146 \t 75.26%\n",
      "\tUnlabeled frames:\t 746\n",
      "parts_you_lose, frames labeled: 43.93%\n",
      "\tMCU frames:\t\t 73 \t 23.47%\n",
      "\tNon-MCU frames:\t\t 238 \t 76.53%\n",
      "\tUnlabeled frames:\t 397\n",
      "glory_road, frames labeled: 25.98%\n",
      "\tMCU frames:\t\t 67 \t 29.00%\n",
      "\tNon-MCU frames:\t\t 164 \t 71.00%\n",
      "\tUnlabeled frames:\t 658\n",
      "drillbit_taylor, frames labeled: 34.94%\n",
      "\tMCU frames:\t\t 91 \t 31.38%\n",
      "\tNon-MCU frames:\t\t 199 \t 68.62%\n",
      "\tUnlabeled frames:\t 540\n",
      "animals, frames labeled: 26.37%\n",
      "\tMCU frames:\t\t 56 \t 25.93%\n",
      "\tNon-MCU frames:\t\t 160 \t 74.07%\n",
      "\tUnlabeled frames:\t 603\n",
      "valentine, frames labeled: 30.20%\n",
      "\tMCU frames:\t\t 44 \t 19.82%\n",
      "\tNon-MCU frames:\t\t 178 \t 80.18%\n",
      "\tUnlabeled frames:\t 513\n",
      "american_bistro, frames labeled: 32.51%\n",
      "\tMCU frames:\t\t 101 \t 42.80%\n",
      "\tNon-MCU frames:\t\t 135 \t 57.20%\n",
      "\tUnlabeled frames:\t 490\n",
      "no_escape, frames labeled: 27.93%\n",
      "\tMCU frames:\t\t 67 \t 30.88%\n",
      "\tNon-MCU frames:\t\t 150 \t 69.12%\n",
      "\tUnlabeled frames:\t 560\n",
      "booksmart, frames labeled: 28.79%\n",
      "\tMCU frames:\t\t 90 \t 40.54%\n",
      "\tNon-MCU frames:\t\t 132 \t 59.46%\n",
      "\tUnlabeled frames:\t 549\n",
      "unearthed, frames labeled: 30.68%\n",
      "\tMCU frames:\t\t 57 \t 26.39%\n",
      "\tNon-MCU frames:\t\t 159 \t 73.61%\n",
      "\tUnlabeled frames:\t 488\n",
      "vault, frames labeled: 30.35%\n",
      "\tMCU frames:\t\t 59 \t 25.99%\n",
      "\tNon-MCU frames:\t\t 168 \t 74.01%\n",
      "\tUnlabeled frames:\t 521\n",
      "plus_one, frames labeled: 32.57%\n",
      "\tMCU frames:\t\t 71 \t 29.34%\n",
      "\tNon-MCU frames:\t\t 171 \t 70.66%\n",
      "\tUnlabeled frames:\t 501\n",
      "mollys_game, frames labeled: 32.02%\n",
      "\tMCU frames:\t\t 74 \t 21.76%\n",
      "\tNon-MCU frames:\t\t 266 \t 78.24%\n",
      "\tUnlabeled frames:\t 722\n",
      "madea_funeral, frames labeled: 40.64%\n",
      "\tMCU frames:\t\t 120 \t 36.36%\n",
      "\tNon-MCU frames:\t\t 210 \t 63.64%\n",
      "\tUnlabeled frames:\t 482\n",
      "brooklyn, frames labeled: 55.60%\n",
      "\tMCU frames:\t\t 166 \t 35.55%\n",
      "\tNon-MCU frames:\t\t 301 \t 64.45%\n",
      "\tUnlabeled frames:\t 373\n",
      "monte_carlo, frames labeled: 44.15%\n",
      "\tMCU frames:\t\t 105 \t 29.01%\n",
      "\tNon-MCU frames:\t\t 257 \t 70.99%\n",
      "\tUnlabeled frames:\t 458\n",
      "hobbs_shaw, frames labeled: 29.32%\n",
      "\tMCU frames:\t\t 101 \t 33.44%\n",
      "\tNon-MCU frames:\t\t 201 \t 66.56%\n",
      "\tUnlabeled frames:\t 728\n",
      "yesterday, frames labeled: 35.05%\n",
      "\tMCU frames:\t\t 54 \t 17.59%\n",
      "\tNon-MCU frames:\t\t 253 \t 82.41%\n",
      "\tUnlabeled frames:\t 569\n"
     ]
    }
   ],
   "source": [
    "movies, mcu_frames_univ, non_frames_univ = display_movie_labels(working_directory)"
   ]
  },
  {
   "cell_type": "code",
   "execution_count": 8,
   "metadata": {},
   "outputs": [],
   "source": [
    "arrays = [movies, mcu_frames_univ, non_frames_univ]\n",
    "frames_df = pd.DataFrame(data = arrays).T\n",
    "frames_df.columns = ['movie_title', 'mcu', 'non-mcu']"
   ]
  },
  {
   "cell_type": "code",
   "execution_count": 21,
   "metadata": {
    "scrolled": true
   },
   "outputs": [
    {
     "data": {
      "text/html": [
       "<div>\n",
       "<style scoped>\n",
       "    .dataframe tbody tr th:only-of-type {\n",
       "        vertical-align: middle;\n",
       "    }\n",
       "\n",
       "    .dataframe tbody tr th {\n",
       "        vertical-align: top;\n",
       "    }\n",
       "\n",
       "    .dataframe thead th {\n",
       "        text-align: right;\n",
       "    }\n",
       "</style>\n",
       "<table border=\"1\" class=\"dataframe\">\n",
       "  <thead>\n",
       "    <tr style=\"text-align: right;\">\n",
       "      <th></th>\n",
       "      <th>movie_title</th>\n",
       "      <th>mcu</th>\n",
       "      <th>non-mcu</th>\n",
       "    </tr>\n",
       "  </thead>\n",
       "  <tbody>\n",
       "    <tr>\n",
       "      <th>0</th>\n",
       "      <td>warriors_way</td>\n",
       "      <td>79</td>\n",
       "      <td>174</td>\n",
       "    </tr>\n",
       "    <tr>\n",
       "      <th>1</th>\n",
       "      <td>hustle</td>\n",
       "      <td>97</td>\n",
       "      <td>125</td>\n",
       "    </tr>\n",
       "  </tbody>\n",
       "</table>\n",
       "</div>"
      ],
      "text/plain": [
       "    movie_title mcu non-mcu\n",
       "0  warriors_way  79     174\n",
       "1        hustle  97     125"
      ]
     },
     "execution_count": 21,
     "metadata": {},
     "output_type": "execute_result"
    }
   ],
   "source": [
    "frames_df.head(2)"
   ]
  },
  {
   "cell_type": "code",
   "execution_count": 10,
   "metadata": {
    "scrolled": false
   },
   "outputs": [
    {
     "data": {
      "image/png": "[encoded data removed]",
      "text/plain": [
       "<Figure size 1080x504 with 1 Axes>"
      ]
     },
     "metadata": {
      "needs_background": "light"
     },
     "output_type": "display_data"
    }
   ],
   "source": [
    "ax = frames_df.plot.bar(stacked=True, figsize=(15,7))\n",
    "ax.set_title('MCU frames vs. non-MCU frames per movie (labeled only)')\n",
    "ax.set_xlabel('Movie')\n",
    "ax.set_xticklabels(frames_df.movie_title)\n",
    "ax.set_ylabel('Frames')\n",
    "plt.xticks(rotation=45)\n",
    "plt.show()"
   ]
  },
  {
   "cell_type": "code",
   "execution_count": 11,
   "metadata": {},
   "outputs": [],
   "source": [
    "frames_eda_df = frames_df.copy()\n",
    "frames_eda_df['mcu_percentage'] = frames_eda_df['mcu'] / (frames_eda_df['mcu'] + frames_eda_df['non-mcu'])"
   ]
  },
  {
   "cell_type": "code",
   "execution_count": 19,
   "metadata": {},
   "outputs": [
    {
     "data": {
      "text/html": [
       "<div>\n",
       "<style scoped>\n",
       "    .dataframe tbody tr th:only-of-type {\n",
       "        vertical-align: middle;\n",
       "    }\n",
       "\n",
       "    .dataframe tbody tr th {\n",
       "        vertical-align: top;\n",
       "    }\n",
       "\n",
       "    .dataframe thead th {\n",
       "        text-align: right;\n",
       "    }\n",
       "</style>\n",
       "<table border=\"1\" class=\"dataframe\">\n",
       "  <thead>\n",
       "    <tr style=\"text-align: right;\">\n",
       "      <th></th>\n",
       "      <th>movie_title</th>\n",
       "      <th>mcu</th>\n",
       "      <th>non-mcu</th>\n",
       "      <th>mcu_percentage</th>\n",
       "    </tr>\n",
       "  </thead>\n",
       "  <tbody>\n",
       "    <tr>\n",
       "      <th>0</th>\n",
       "      <td>warriors_way</td>\n",
       "      <td>79</td>\n",
       "      <td>174</td>\n",
       "      <td>0.312253</td>\n",
       "    </tr>\n",
       "    <tr>\n",
       "      <th>1</th>\n",
       "      <td>hustle</td>\n",
       "      <td>97</td>\n",
       "      <td>125</td>\n",
       "      <td>0.436937</td>\n",
       "    </tr>\n",
       "  </tbody>\n",
       "</table>\n",
       "</div>"
      ],
      "text/plain": [
       "    movie_title mcu non-mcu mcu_percentage\n",
       "0  warriors_way  79     174       0.312253\n",
       "1        hustle  97     125       0.436937"
      ]
     },
     "execution_count": 19,
     "metadata": {},
     "output_type": "execute_result"
    }
   ],
   "source": [
    "frames_eda_df.head(2)"
   ]
  },
  {
   "cell_type": "code",
   "execution_count": 20,
   "metadata": {},
   "outputs": [
    {
     "data": {
      "image/png": "[encoded data removed]",
      "text/plain": [
       "<Figure size 1080x504 with 1 Axes>"
      ]
     },
     "metadata": {
      "needs_background": "light"
     },
     "output_type": "display_data"
    }
   ],
   "source": [
    "fig = plt.figure(figsize = (15,7))\n",
    "ax = fig.gca()\n",
    "ax.bar(frames_eda_df['movie_title'], frames_eda_df['mcu_percentage'])\n",
    "ax.set_title('Percentage of MCU frames (labeled only)')\n",
    "plt.xticks(rotation=90)\n",
    "ax.set_xlabel('Frames')\n",
    "ax.set_ylabel('Movie')\n",
    "plt.show()"
   ]
  },
  {
   "cell_type": "markdown",
   "metadata": {},
   "source": [
    "# Scenario 1: \"Mixed Frames\" Testing on frames from all movies"
   ]
  },
  {
   "cell_type": "code",
   "execution_count": 16,
   "metadata": {},
   "outputs": [],
   "source": [
    "copy_directory = 'mixed_frames'"
   ]
  },
  {
   "cell_type": "code",
   "execution_count": 32,
   "metadata": {},
   "outputs": [],
   "source": [
    "def populated_mixed_movies(working_directory, copy_directory, test_split, imbalance_removal):\n",
    "    \n",
    "    movie_directories = os.listdir(working_directory)\n",
    "    \n",
    "    # delete existing directories and files\n",
    "    rmtree(os.path.join('mcu_data', copy_directory, 'train'))\n",
    "    rmtree(os.path.join('mcu_data', copy_directory, 'test'))\n",
    "    \n",
    "    # create file structure\n",
    "    os.mkdir(os.path.join('mcu_data', copy_directory, 'train'))\n",
    "    os.mkdir(os.path.join('mcu_data', copy_directory, 'train/mcu'))\n",
    "    os.mkdir(os.path.join('mcu_data', copy_directory, 'train/non_mcu'))\n",
    "    os.mkdir(os.path.join('mcu_data', copy_directory, 'test'))\n",
    "    os.mkdir(os.path.join('mcu_data', copy_directory, 'test/mcu'))\n",
    "    os.mkdir(os.path.join('mcu_data', copy_directory, 'test/non_mcu'))\n",
    "    \n",
    "    # create variables for use within function \n",
    "    train_mcu_folder = os.path.join('mcu_data', copy_directory, 'train/mcu')\n",
    "    train_non_folder = os.path.join('mcu_data', copy_directory, 'train/non_mcu')\n",
    "    test_mcu_folder = os.path.join('mcu_data', copy_directory, 'test/mcu')\n",
    "    test_non_folder = os.path.join('mcu_data', copy_directory, 'test/non_mcu')\n",
    "    \n",
    "    # move frames from each movie directory into Train's mcu and non_mcu folders\n",
    "    for movie in movie_directories:\n",
    "        movie_folder = os.path.join(working_directory, movie)\n",
    "        mcu_folder = os.path.join(movie_folder, 'mcu')\n",
    "        target_mcu_folder = os.path.join('mcu_data', copy_directory, 'train/mcu')  \n",
    "        non_folder = os.path.join(movie_folder, 'non_mcu')\n",
    "        target_non_folder = os.path.join('mcu_data', copy_directory, 'train/non_mcu')\n",
    "        copy_tree(mcu_folder, target_mcu_folder)\n",
    "        copy_tree(non_folder, target_non_folder)\n",
    "    \n",
    "    # take a random sample (test_split) of frames in Train and move to Test, for both mcu and non_mcu\n",
    "    for frame in random.sample(os.listdir(train_mcu_folder), int(len(os.listdir(train_mcu_folder))* test_split)):\n",
    "        move(os.path.join(train_mcu_folder, frame), test_mcu_folder)\n",
    "    for frame in random.sample(os.listdir(train_non_folder), int(len(os.listdir(train_non_folder))* test_split)):\n",
    "        move(os.path.join(train_non_folder, frame), test_non_folder)\n",
    "    \n",
    "    # remove certain percentage(imbalance_removal) of non-mcu frames from Train, because of class imbalance\n",
    "    for frame in random.sample(os.listdir(train_non_folder), int(len(os.listdir(train_non_folder))* imbalance_removal)):\n",
    "        os.remove(os.path.join(train_non_folder, frame))\n",
    "    \n",
    "    # informational text\n",
    "    print('Moved', len(os.listdir(train_mcu_folder)), 'MCU images into Train')\n",
    "    print('Moved', len(os.listdir(train_non_folder)), 'non-MCU images into Train')\n",
    "    print('Moved', len(os.listdir(test_mcu_folder)), 'MCU images into Test')\n",
    "    print('Moved', len(os.listdir(test_non_folder)), 'non-MCU images into Test')"
   ]
  },
  {
   "cell_type": "code",
   "execution_count": 33,
   "metadata": {},
   "outputs": [
    {
     "name": "stdout",
     "output_type": "stream",
     "text": [
      "Moved 1916 MCU images into Train\n",
      "Moved 3298 non-MCU images into Train\n",
      "Moved 478 MCU images into Test\n",
      "Moved 1374 non-MCU images into Test\n"
     ]
    }
   ],
   "source": [
    "populated_mixed_movies(working_directory, copy_directory, test_split=.2, imbalance_removal=.4)"
   ]
  },
  {
   "cell_type": "markdown",
   "metadata": {},
   "source": [
    "## Scenario 2: Keeping certain movies' frames out of Train, and exclusively Testing on these movies"
   ]
  },
  {
   "cell_type": "code",
   "execution_count": null,
   "metadata": {},
   "outputs": [],
   "source": []
  }
 ],
 "metadata": {
  "kernelspec": {
   "display_name": "Python 3",
   "language": "python",
   "name": "python3"
  },
  "language_info": {
   "codemirror_mode": {
    "name": "ipython",
    "version": 3
   },
   "file_extension": ".py",
   "mimetype": "text/x-python",
   "name": "python",
   "nbconvert_exporter": "python",
   "pygments_lexer": "ipython3",
   "version": "3.6.9"
  }
 },
 "nbformat": 4,
 "nbformat_minor": 4
}
