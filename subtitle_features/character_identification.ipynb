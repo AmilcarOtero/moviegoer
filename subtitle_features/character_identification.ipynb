{
 "cells": [
  {
   "cell_type": "markdown",
   "metadata": {},
   "source": [
    "# character_identification\n",
    "We can learn the names of characters by getting creative with the subtitle track. Character names are important for NLP-based plot comprehension. We'll also want to identify names and tie them to face and vocal encodings, to persistently track characters throughout the film.\n",
    "\n",
    "The audience learns who the names of characters by listening to the dialogue (except for the cases where character names are displayed onscreen, most often in documentaries or docu-dramatizations). So screenwriters know they have to put character names in dialogue. These might take the form of self-introductions \"I am Detective Lieutenant Elliot\" or more subtle hints like a line that addresses them in second-person \"I'm sorry, Marta.\"\n",
    "\n",
    "Screenwriters need to drop these hints when the character is introduced. But since we can analyze movies non-chronologically (all at once, in an instant), we can look for these types of clues everywhere.\n",
    "\n",
    "In previous notebooks, we've demonstrated how to parse and clean subtitles. For clarity, we'll just be typing in the lines of dialogue manually."
   ]
  },
  {
   "cell_type": "code",
   "execution_count": 1,
   "metadata": {},
   "outputs": [],
   "source": [
    "import pysrt\n",
    "import spacy"
   ]
  },
  {
   "cell_type": "code",
   "execution_count": 2,
   "metadata": {},
   "outputs": [],
   "source": [
    "nlp = spacy.load('en')"
   ]
  },
  {
   "cell_type": "markdown",
   "metadata": {},
   "source": [
    "# Introductions\n",
    "## Self-Introduction\n",
    "The most basic form of character introduction is the first-person introduction, which may take the form of \"I'm Alice\", or \"My name is Marlowe.\"\n",
    "\n",
    "This is a good time to clarify that many of the sentence structures we're looking for will be somewhat hard-coded. The two examples above are very common — there are only so many ways screenwriters can have a character introduce herself."
   ]
  },
  {
   "cell_type": "code",
   "execution_count": 3,
   "metadata": {},
   "outputs": [],
   "source": [
    "sent = \"Hey, I'm Vlad.\"\n",
    "sent_doc = nlp(sent)"
   ]
  },
  {
   "cell_type": "code",
   "execution_count": 4,
   "metadata": {},
   "outputs": [
    {
     "name": "stdout",
     "output_type": "stream",
     "text": [
      "Hey hey INTJ UH intj Xxx\n",
      ", , PUNCT , punct ,\n",
      "I -PRON- PRON PRP nsubj X\n",
      "'m be AUX VBP ROOT 'x\n",
      "Vlad Vlad PROPN NNP attr Xxxx\n",
      ". . PUNCT . punct .\n"
     ]
    }
   ],
   "source": [
    "for token in sent_doc:\n",
    "    print(token.text, token.lemma_, token.pos_, token.tag_, token.dep_, token.shape_)"
   ]
  },
  {
   "cell_type": "markdown",
   "metadata": {},
   "source": [
    "We can have spaCy analyze this simple sentence. This three-word sentence turns into six tokens. Vlad is properly labeled as a PROPN, a proper noun."
   ]
  }
 ],
 "metadata": {
  "kernelspec": {
   "display_name": "Python (moviegoer)",
   "language": "python",
   "name": "moviegoer"
  },
  "language_info": {
   "codemirror_mode": {
    "name": "ipython",
    "version": 3
   },
   "file_extension": ".py",
   "mimetype": "text/x-python",
   "name": "python",
   "nbconvert_exporter": "python",
   "pygments_lexer": "ipython3",
   "version": "3.7.7"
  }
 },
 "nbformat": 4,
 "nbformat_minor": 4
}
