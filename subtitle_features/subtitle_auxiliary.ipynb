{
 "cells": [
  {
   "cell_type": "markdown",
   "metadata": {},
   "source": [
    "# subtitle_auxiliary\n",
    "We can define a few other subtitle functions to help us interpret films, which aren't related to the NLP-style analyses defined in other notebooks. These functions help with other interprations, such as determining the film's characters, or identifying scene boundaries."
   ]
  },
  {
   "cell_type": "code",
   "execution_count": 1,
   "metadata": {},
   "outputs": [],
   "source": [
    "from subtitle_dataframes_io import *\n",
    "from collections import Counter\n",
    "nlp = spacy.load('en')"
   ]
  },
  {
   "cell_type": "code",
   "execution_count": 2,
   "metadata": {},
   "outputs": [],
   "source": [
    "subs = pysrt.open('../subtitles/plus_one.srt')\n",
    "subtitle_df = generate_base_subtitle_df(subs)\n",
    "subtitle_df = generate_subtitle_features(subtitle_df)\n",
    "subtitle_df['cleaned_text'] = subtitle_df['concat_sep_text'].map(clean_line)\n",
    "sentences = partition_sentences(remove_blanks(subtitle_df['cleaned_text'].tolist()), nlp)"
   ]
  },
  {
   "cell_type": "markdown",
   "metadata": {},
   "source": [
    "## Character Identification\n",
    "### Dialogue Mentions\n",
    "By passing in a list of (cleaned) text consisting solely of dialogue, `spaCy` can count the number of times a name was spoken. This is a rough way of determining of the film's characters, the main characters are usually mentioned the most. We also define a blacklist of names we know aren't character names, but epithets like \"Jesus\" and \"God\"."
   ]
  },
  {
   "cell_type": "code",
   "execution_count": 3,
   "metadata": {},
   "outputs": [],
   "source": [
    "doc = nlp(' '.join(sentences))"
   ]
  },
  {
   "cell_type": "code",
   "execution_count": 4,
   "metadata": {},
   "outputs": [
    {
     "data": {
      "text/plain": [
       "[('Ben', 95),\n",
       " ('Alice', 33),\n",
       " ('Dad', 21),\n",
       " ('Gina', 11),\n",
       " ('Brett', 7),\n",
       " ('Nick', 6),\n",
       " ('Matt', 5),\n",
       " ('Jess Ramsey', 5),\n",
       " ('Amanda', 4),\n",
       " ('Ben King', 4)]"
      ]
     },
     "execution_count": 4,
     "metadata": {},
     "output_type": "execute_result"
    }
   ],
   "source": [
    "people_blacklist = ['Jesus', 'Jesus Christ', 'Whoo', 'God', 'Mm', 'Dude', 'Mm-hmm', 'Huh']\n",
    "\n",
    "people = []\n",
    "\n",
    "for ent in doc.ents:\n",
    "    if ent.label_ == 'PERSON' and ent.text not in people_blacklist:\n",
    "        people.append(ent.text)\n",
    "count = Counter(people)\n",
    "count.most_common(10)"
   ]
  },
  {
   "cell_type": "markdown",
   "metadata": {},
   "source": [
    "### Offscreen Speaker Names\n",
    "In many subtitle formats, especially SDH (subtitles for the deaf and hard-of-hearing), any character speaking from offscreen has their name in the subtitles for clarity, like *Anna: Open the door!*. We can count up the number of times this happens; like before, the main characters bubble up to the top. Again, we define a small blacklist."
   ]
  },
  {
   "cell_type": "code",
   "execution_count": 5,
   "metadata": {},
   "outputs": [
    {
     "data": {
      "text/plain": [
       "[('ALICE', 51),\n",
       " ('BEN', 47),\n",
       " ('CHUCK', 14),\n",
       " ('ANGELA', 5),\n",
       " ('DAVIS', 3),\n",
       " ('NICK', 3),\n",
       " ('MATT', 3),\n",
       " ('DEEJAY', 2),\n",
       " ('BRETT', 2),\n",
       " ('RECEPTIONIST', 1)]"
      ]
     },
     "execution_count": 5,
     "metadata": {},
     "output_type": "execute_result"
    }
   ],
   "source": [
    "speaker_counts = subtitle_df.speaker.value_counts()\n",
    "speakers = []\n",
    "speaker_blacklist = ['MAN', 'WOMAN', 'BOY', 'GIRL', 'BOTH', 'ALL']\n",
    "\n",
    "x = 0\n",
    "while x < len(speaker_counts):\n",
    "    if speaker_counts.index[x] not in speaker_blacklist:\n",
    "        speakers.append((speaker_counts.index[x], speaker_counts[x]))\n",
    "    x+=1\n",
    "speakers[0:10]"
   ]
  }
 ],
 "metadata": {
  "kernelspec": {
   "display_name": "Python (moviegoer)",
   "language": "python",
   "name": "moviegoer"
  },
  "language_info": {
   "codemirror_mode": {
    "name": "ipython",
    "version": 3
   },
   "file_extension": ".py",
   "mimetype": "text/x-python",
   "name": "python",
   "nbconvert_exporter": "python",
   "pygments_lexer": "ipython3",
   "version": "3.7.7"
  }
 },
 "nbformat": 4,
 "nbformat_minor": 4
}
