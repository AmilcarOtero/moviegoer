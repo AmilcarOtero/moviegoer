{
 "cells": [
  {
   "cell_type": "markdown",
   "metadata": {},
   "source": [
    "# Scene Audio\n",
    "In `scene_boundary_partitioning.ipynb`, in `unifying_features/`, we demonstrated how we can identify individual two-character dialogue scenes. We'll want to conduct some audio analysis on the scene's audio.\n",
    "\n",
    "We can extract the film's *entire* audio track. However, this presents a challenge because most audio analyses will have memory constraints if loading the entire audio track. We can solve this by extracting just a portion of the film's audio file. We'll take the saved audio file from `/extracted_audio/`, create a new audio file with just the scene's audio, and then save it to `/extracted_audio/(film_name)/`.\n",
    "\n",
    "We'll use the ffmpeg-python library, which is a Python wrapper for the ffmpeg suite of audio/video tools."
   ]
  },
  {
   "cell_type": "code",
   "execution_count": 1,
   "metadata": {},
   "outputs": [],
   "source": [
    "import os\n",
    "import sys\n",
    "import ffmpeg\n",
    "sys.path.append('../unifying_features')\n",
    "sys.path.append('../data_serialization')\n",
    "from serialization_preprocessing_io import *\n",
    "from scene_identification_io import *"
   ]
  },
  {
   "cell_type": "markdown",
   "metadata": {},
   "source": [
    "We'll start by identifying the film's scenes."
   ]
  },
  {
   "cell_type": "code",
   "execution_count": 2,
   "metadata": {},
   "outputs": [],
   "source": [
    "film = 'lost_in_translation_2003'\n",
    "srt_df, subtitle_df, sentence_df, vision_df, face_df = read_pickle(film)\n",
    "scene_dictionaries = generate_scenes(vision_df, face_df, substantial_minimum=4, anchor_search=6)"
   ]
  },
  {
   "cell_type": "code",
   "execution_count": 3,
   "metadata": {},
   "outputs": [
    {
     "data": {
      "text/plain": [
       "{'scene_id': 1,\n",
       " 'first_frame': 1929,\n",
       " 'last_frame': 2082,\n",
       " 'scene_duration': 154,\n",
       " 'left_anchor_shot_cluster': 207,\n",
       " 'left_anchor_face_cluster': 6.0,\n",
       " 'matching_left_face_clusters': [],\n",
       " 'right_anchor_shot_cluster': 66,\n",
       " 'right_anchor_face_cluster': 17.0,\n",
       " 'matching_right_face_clusters': [18.0, 12.0],\n",
       " 'cutaway_shot_clusters': [7, 29, 142]}"
      ]
     },
     "execution_count": 3,
     "metadata": {},
     "output_type": "execute_result"
    }
   ],
   "source": [
    "scene_dict = scene_dictionaries[1]\n",
    "scene_dict"
   ]
  },
  {
   "cell_type": "markdown",
   "metadata": {},
   "source": [
    "We'll extract audio for the first scene, and name it based on the frame numbers."
   ]
  },
  {
   "cell_type": "code",
   "execution_count": 4,
   "metadata": {},
   "outputs": [
    {
     "data": {
      "text/plain": [
       "'../extracted_audio/lost_in_translation_2003/1929_2082.wav'"
      ]
     },
     "execution_count": 4,
     "metadata": {},
     "output_type": "execute_result"
    }
   ],
   "source": [
    "first = str(scene_dict['first_frame'])\n",
    "last = str(scene_dict['last_frame'])\n",
    "\n",
    "extracted_file_name = os.path.join('../extracted_audio', film, first + '_' + last + '.wav')\n",
    "extracted_file_name"
   ]
  }
 ],
 "metadata": {
  "kernelspec": {
   "display_name": "Python (moviegoer)",
   "language": "python",
   "name": "moviegoer"
  },
  "language_info": {
   "codemirror_mode": {
    "name": "ipython",
    "version": 3
   },
   "file_extension": ".py",
   "mimetype": "text/x-python",
   "name": "python",
   "nbconvert_exporter": "python",
   "pygments_lexer": "ipython3",
   "version": "3.7.7"
  }
 },
 "nbformat": 4,
 "nbformat_minor": 4
}
