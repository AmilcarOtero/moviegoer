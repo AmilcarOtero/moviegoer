{
 "cells": [
  {
   "cell_type": "markdown",
   "metadata": {},
   "source": [
    "# mcu_data_management\n",
    "This notebook contains light EDA and visualizations, as well as the pipeline functions for automatically populating data in specific Test/Train split configurations."
   ]
  },
  {
   "cell_type": "code",
   "execution_count": 1,
   "metadata": {
    "scrolled": true
   },
   "outputs": [],
   "source": [
    "import sys\n",
    "import os\n",
    "sys.path.append('site-packages') # manually put all packages/libraries into this folder\n",
    "from distutils.dir_util import copy_tree\n",
    "from shutil import copy, move, rmtree\n",
    "import random\n",
    "import matplotlib.pyplot as plt\n",
    "import pandas as pd"
   ]
  },
  {
   "cell_type": "markdown",
   "metadata": {},
   "source": [
    "## View Information for Each Movie's Directory\n",
    "Each movie has its own directory, and each of those directories has a folder for **mcu** and **non-mcu**."
   ]
  },
  {
   "cell_type": "code",
   "execution_count": 2,
   "metadata": {},
   "outputs": [],
   "source": [
    "working_directory = 'movie_frames'"
   ]
  },
  {
   "cell_type": "code",
   "execution_count": 3,
   "metadata": {
    "scrolled": false
   },
   "outputs": [
    {
     "name": "stdout",
     "output_type": "stream",
     "text": [
      "\u001b[0m\u001b[01;34mamerican_bistro\u001b[0m/     \u001b[01;34mgemini\u001b[0m/                 \u001b[01;34mparts_you_lose\u001b[0m/\r\n",
      "\u001b[01;34manimals\u001b[0m/             \u001b[01;34mglory_road\u001b[0m/             \u001b[01;34mplus_one\u001b[0m/\r\n",
      "\u001b[01;34mballon\u001b[0m/              \u001b[01;34mhobbs_shaw\u001b[0m/             \u001b[01;34mpreggoland\u001b[0m/\r\n",
      "\u001b[01;34mblack_and_blue\u001b[0m/      \u001b[01;34mhustle\u001b[0m/                 \u001b[01;34mready_or_not\u001b[0m/\r\n",
      "\u001b[01;34mbooksmart\u001b[0m/           \u001b[01;34mjay_silent_bob_reboot\u001b[0m/  \u001b[01;34msaint_judy\u001b[0m/\r\n",
      "\u001b[01;34mboy\u001b[0m/                 \u001b[01;34mjohn_wick_3\u001b[0m/            \u001b[01;34mthink_like_a_man\u001b[0m/\r\n",
      "\u001b[01;34mbreakthrough\u001b[0m/        \u001b[01;34mlying_stealing\u001b[0m/         \u001b[01;34munearthed\u001b[0m/\r\n",
      "\u001b[01;34mbrooklyn\u001b[0m/            \u001b[01;34mma\u001b[0m/                     \u001b[01;34mvalentine\u001b[0m/\r\n",
      "\u001b[01;34mchildren_of_men\u001b[0m/     \u001b[01;34mmadea_funeral\u001b[0m/          \u001b[01;34mvault\u001b[0m/\r\n",
      "\u001b[01;34mdownton_abbey\u001b[0m/       \u001b[01;34mmidnight_in_paris\u001b[0m/      \u001b[01;34mwarriors_way\u001b[0m/\r\n",
      "\u001b[01;34mdrillbit_taylor\u001b[0m/     \u001b[01;34mmollys_game\u001b[0m/            \u001b[01;34mwhat_still_remains\u001b[0m/\r\n",
      "\u001b[01;34mextremely_loud\u001b[0m/      \u001b[01;34mmonte_carlo\u001b[0m/            \u001b[01;34myesterday\u001b[0m/\r\n",
      "\u001b[01;34mfishermans_friends\u001b[0m/  \u001b[01;34mno_escape\u001b[0m/\r\n",
      "\u001b[01;34mford_v_ferrari\u001b[0m/      \u001b[01;34mparasite\u001b[0m/\r\n"
     ]
    }
   ],
   "source": [
    "%ls movie_frames/"
   ]
  },
  {
   "cell_type": "code",
   "execution_count": 4,
   "metadata": {},
   "outputs": [],
   "source": [
    "def get_frame_counts(working_directory):\n",
    "    mcu_count = 0\n",
    "    non_mcu_count = 0\n",
    "    unlabeled_count = 0\n",
    "    \n",
    "    # get list of each movie directory\n",
    "    movie_directories = os.listdir(working_directory)\n",
    "    \n",
    "    # iterate through each film and designate the directory, then count number of frames in each category\n",
    "    for movie in movie_directories:\n",
    "        movie_folder = os.path.join(working_directory, movie)\n",
    "        mcu_folder = os.path.join(working_directory, movie, 'mcu')\n",
    "        non_mcu_folder = os.path.join(working_directory, movie, 'non_mcu')\n",
    "\n",
    "        unlabeled_count += len(os.listdir(movie_folder)) - 2\n",
    "        mcu_count += len(os.listdir(mcu_folder))\n",
    "        non_mcu_count += len(os.listdir(non_mcu_folder))\n",
    "        \n",
    "    print('There are', mcu_count, 'MCU frames')\n",
    "    print('There are', non_mcu_count, 'non-MCU frames')\n",
    "    print('There are', unlabeled_count, 'unlabeled frames')\n",
    "\n",
    "    return mcu_count, non_mcu_count, unlabeled_count"
   ]
  },
  {
   "cell_type": "code",
   "execution_count": 5,
   "metadata": {
    "scrolled": true
   },
   "outputs": [
    {
     "name": "stdout",
     "output_type": "stream",
     "text": [
      "There are 3023 MCU frames\n",
      "There are 8409 non-MCU frames\n",
      "There are 21328 unlabeled frames\n"
     ]
    }
   ],
   "source": [
    "# return a simple total of all types of frames\n",
    "mcu_count, non_mcu_count, unlabeled_count = get_frame_counts(working_directory)"
   ]
  },
  {
   "cell_type": "markdown",
   "metadata": {},
   "source": [
    "## Creating a DataFrame for MCU/non-MCU counts\n",
    "For the purposes of creating a dataframe, we can store the counts of MCUs and non-MCUs for each film, as well as the movie title."
   ]
  },
  {
   "cell_type": "code",
   "execution_count": 6,
   "metadata": {},
   "outputs": [],
   "source": [
    "def generate_movie_labels(working_directory):\n",
    "    mcu_frames_univ = []\n",
    "    non_frames_univ = []\n",
    "    movies = []\n",
    "    \n",
    "    # get list of each movie directory\n",
    "    movie_directories = os.listdir(working_directory)\n",
    "    \n",
    "    # iterate through each film and designate the directory, then count number of frames in each category\n",
    "    for movie in movie_directories:\n",
    "        movie_folder = os.path.join(working_directory, movie)\n",
    "        mcu_folder = os.path.join(movie_folder, 'mcu')\n",
    "        non_mcu_folder = os.path.join(movie_folder, 'non_mcu')\n",
    "        \n",
    "        # create lists for use in pandas dataframe\n",
    "        mcu_frames_univ.append(len(os.listdir(mcu_folder)))\n",
    "        non_frames_univ.append(len(os.listdir(non_mcu_folder)))\n",
    "        movies.append(movie)\n",
    "        \n",
    "        # count type of frame for print\n",
    "        mcu_frames = len(os.listdir(mcu_folder))\n",
    "        non_mcu_frames = len(os.listdir(non_mcu_folder))\n",
    "        unlabeled_frames = len(os.listdir(movie_folder)) - 2\n",
    "\n",
    "        # calculate percentages\n",
    "        labeled_percentage = '{0:.2f}%'.format((mcu_frames + non_mcu_frames) / ((mcu_frames + non_mcu_frames + unlabeled_frames)) * 100)\n",
    "        try:\n",
    "            mcu_percentage = '{0:.2f}%'.format(mcu_frames / (mcu_frames + non_mcu_frames) * 100)\n",
    "            non_mcu_percentage = '{0:.2f}%'.format(non_mcu_frames / (mcu_frames + non_mcu_frames) * 100)\n",
    "        except ZeroDivisionError:\n",
    "            mcu_percentage = '0.00%'\n",
    "            non_mcu_percentage = '0.00%'\n",
    "        \n",
    "        # informational text\n",
    "        print(movie + ', frames labeled:', labeled_percentage)\n",
    "        print('\\tMCU frames:\\t\\t', mcu_frames, '\\t', mcu_percentage)\n",
    "        print('\\tNon-MCU frames:\\t\\t', non_mcu_frames, '\\t', non_mcu_percentage)\n",
    "        print('\\tUnlabeled frames:\\t', unlabeled_frames)\n",
    "    \n",
    "    return movies, mcu_frames_univ, non_frames_univ"
   ]
  },
  {
   "cell_type": "code",
   "execution_count": 7,
   "metadata": {
    "scrolled": true
   },
   "outputs": [
    {
     "name": "stdout",
     "output_type": "stream",
     "text": [
      "fishermans_friends, frames labeled: 27.45%\n",
      "\tMCU frames:\t\t 54 \t 23.48%\n",
      "\tNon-MCU frames:\t\t 176 \t 76.52%\n",
      "\tUnlabeled frames:\t 608\n",
      "preggoland, frames labeled: 23.43%\n",
      "\tMCU frames:\t\t 41 \t 21.13%\n",
      "\tNon-MCU frames:\t\t 153 \t 78.87%\n",
      "\tUnlabeled frames:\t 634\n",
      "boy, frames labeled: 26.87%\n",
      "\tMCU frames:\t\t 53 \t 26.77%\n",
      "\tNon-MCU frames:\t\t 145 \t 73.23%\n",
      "\tUnlabeled frames:\t 539\n",
      "breakthrough, frames labeled: 28.60%\n",
      "\tMCU frames:\t\t 54 \t 21.60%\n",
      "\tNon-MCU frames:\t\t 196 \t 78.40%\n",
      "\tUnlabeled frames:\t 624\n",
      "warriors_way, frames labeled: 33.47%\n",
      "\tMCU frames:\t\t 79 \t 31.23%\n",
      "\tNon-MCU frames:\t\t 174 \t 68.77%\n",
      "\tUnlabeled frames:\t 503\n",
      "hustle, frames labeled: 31.36%\n",
      "\tMCU frames:\t\t 97 \t 43.69%\n",
      "\tNon-MCU frames:\t\t 125 \t 56.31%\n",
      "\tUnlabeled frames:\t 486\n",
      "extremely_loud, frames labeled: 39.24%\n",
      "\tMCU frames:\t\t 92 \t 24.02%\n",
      "\tNon-MCU frames:\t\t 291 \t 75.98%\n",
      "\tUnlabeled frames:\t 593\n",
      "midnight_in_paris, frames labeled: 37.71%\n",
      "\tMCU frames:\t\t 53 \t 19.85%\n",
      "\tNon-MCU frames:\t\t 214 \t 80.15%\n",
      "\tUnlabeled frames:\t 441\n",
      "downton_abbey, frames labeled: 35.75%\n",
      "\tMCU frames:\t\t 66 \t 20.89%\n",
      "\tNon-MCU frames:\t\t 250 \t 79.11%\n",
      "\tUnlabeled frames:\t 568\n",
      "ready_or_not, frames labeled: 27.82%\n",
      "\tMCU frames:\t\t 62 \t 31.00%\n",
      "\tNon-MCU frames:\t\t 138 \t 69.00%\n",
      "\tUnlabeled frames:\t 519\n",
      "children_of_men, frames labeled: 100.00%\n",
      "\tMCU frames:\t\t 49 \t 7.06%\n",
      "\tNon-MCU frames:\t\t 645 \t 92.94%\n",
      "\tUnlabeled frames:\t 0\n",
      "john_wick_3, frames labeled: 31.68%\n",
      "\tMCU frames:\t\t 56 \t 17.95%\n",
      "\tNon-MCU frames:\t\t 256 \t 82.05%\n",
      "\tUnlabeled frames:\t 673\n",
      "what_still_remains, frames labeled: 28.74%\n",
      "\tMCU frames:\t\t 57 \t 28.79%\n",
      "\tNon-MCU frames:\t\t 141 \t 71.21%\n",
      "\tUnlabeled frames:\t 491\n",
      "gemini, frames labeled: 38.09%\n",
      "\tMCU frames:\t\t 87 \t 32.58%\n",
      "\tNon-MCU frames:\t\t 180 \t 67.42%\n",
      "\tUnlabeled frames:\t 434\n",
      "ford_v_ferrari, frames labeled: 28.35%\n",
      "\tMCU frames:\t\t 110 \t 33.74%\n",
      "\tNon-MCU frames:\t\t 216 \t 66.26%\n",
      "\tUnlabeled frames:\t 824\n",
      "parasite, frames labeled: 100.00%\n",
      "\tMCU frames:\t\t 142 \t 16.65%\n",
      "\tNon-MCU frames:\t\t 711 \t 83.35%\n",
      "\tUnlabeled frames:\t 0\n",
      "black_and_blue, frames labeled: 29.61%\n",
      "\tMCU frames:\t\t 62 \t 25.73%\n",
      "\tNon-MCU frames:\t\t 179 \t 74.27%\n",
      "\tUnlabeled frames:\t 573\n",
      "saint_judy, frames labeled: 26.82%\n",
      "\tMCU frames:\t\t 67 \t 31.31%\n",
      "\tNon-MCU frames:\t\t 147 \t 68.69%\n",
      "\tUnlabeled frames:\t 584\n",
      "ballon, frames labeled: 20.64%\n",
      "\tMCU frames:\t\t 48 \t 24.74%\n",
      "\tNon-MCU frames:\t\t 146 \t 75.26%\n",
      "\tUnlabeled frames:\t 746\n",
      "parts_you_lose, frames labeled: 43.93%\n",
      "\tMCU frames:\t\t 73 \t 23.47%\n",
      "\tNon-MCU frames:\t\t 238 \t 76.53%\n",
      "\tUnlabeled frames:\t 397\n",
      "glory_road, frames labeled: 25.98%\n",
      "\tMCU frames:\t\t 67 \t 29.00%\n",
      "\tNon-MCU frames:\t\t 164 \t 71.00%\n",
      "\tUnlabeled frames:\t 658\n",
      "drillbit_taylor, frames labeled: 34.94%\n",
      "\tMCU frames:\t\t 91 \t 31.38%\n",
      "\tNon-MCU frames:\t\t 199 \t 68.62%\n",
      "\tUnlabeled frames:\t 540\n",
      "animals, frames labeled: 26.37%\n",
      "\tMCU frames:\t\t 56 \t 25.93%\n",
      "\tNon-MCU frames:\t\t 160 \t 74.07%\n",
      "\tUnlabeled frames:\t 603\n",
      "think_like_a_man, frames labeled: 21.74%\n",
      "\tMCU frames:\t\t 105 \t 52.50%\n",
      "\tNon-MCU frames:\t\t 95 \t 47.50%\n",
      "\tUnlabeled frames:\t 720\n",
      "valentine, frames labeled: 30.20%\n",
      "\tMCU frames:\t\t 44 \t 19.82%\n",
      "\tNon-MCU frames:\t\t 178 \t 80.18%\n",
      "\tUnlabeled frames:\t 513\n",
      "american_bistro, frames labeled: 32.51%\n",
      "\tMCU frames:\t\t 101 \t 42.80%\n",
      "\tNon-MCU frames:\t\t 135 \t 57.20%\n",
      "\tUnlabeled frames:\t 490\n",
      "no_escape, frames labeled: 27.93%\n",
      "\tMCU frames:\t\t 67 \t 30.88%\n",
      "\tNon-MCU frames:\t\t 150 \t 69.12%\n",
      "\tUnlabeled frames:\t 560\n",
      "booksmart, frames labeled: 28.79%\n",
      "\tMCU frames:\t\t 90 \t 40.54%\n",
      "\tNon-MCU frames:\t\t 132 \t 59.46%\n",
      "\tUnlabeled frames:\t 549\n",
      "unearthed, frames labeled: 30.68%\n",
      "\tMCU frames:\t\t 57 \t 26.39%\n",
      "\tNon-MCU frames:\t\t 159 \t 73.61%\n",
      "\tUnlabeled frames:\t 488\n",
      "jay_silent_bob_reboot, frames labeled: 28.72%\n",
      "\tMCU frames:\t\t 89 \t 39.04%\n",
      "\tNon-MCU frames:\t\t 139 \t 60.96%\n",
      "\tUnlabeled frames:\t 566\n",
      "vault, frames labeled: 30.35%\n",
      "\tMCU frames:\t\t 59 \t 25.99%\n",
      "\tNon-MCU frames:\t\t 168 \t 74.01%\n",
      "\tUnlabeled frames:\t 521\n",
      "plus_one, frames labeled: 32.57%\n",
      "\tMCU frames:\t\t 71 \t 29.34%\n",
      "\tNon-MCU frames:\t\t 171 \t 70.66%\n",
      "\tUnlabeled frames:\t 501\n",
      "mollys_game, frames labeled: 32.02%\n",
      "\tMCU frames:\t\t 74 \t 21.76%\n",
      "\tNon-MCU frames:\t\t 266 \t 78.24%\n",
      "\tUnlabeled frames:\t 722\n",
      "madea_funeral, frames labeled: 40.64%\n",
      "\tMCU frames:\t\t 120 \t 36.36%\n",
      "\tNon-MCU frames:\t\t 210 \t 63.64%\n",
      "\tUnlabeled frames:\t 482\n",
      "ma, frames labeled: 30.31%\n",
      "\tMCU frames:\t\t 58 \t 25.55%\n",
      "\tNon-MCU frames:\t\t 169 \t 74.45%\n",
      "\tUnlabeled frames:\t 522\n",
      "brooklyn, frames labeled: 55.60%\n",
      "\tMCU frames:\t\t 166 \t 35.55%\n",
      "\tNon-MCU frames:\t\t 301 \t 64.45%\n",
      "\tUnlabeled frames:\t 373\n",
      "lying_stealing, frames labeled: 30.07%\n",
      "\tMCU frames:\t\t 46 \t 20.26%\n",
      "\tNon-MCU frames:\t\t 181 \t 79.74%\n",
      "\tUnlabeled frames:\t 528\n",
      "monte_carlo, frames labeled: 44.15%\n",
      "\tMCU frames:\t\t 105 \t 29.01%\n",
      "\tNon-MCU frames:\t\t 257 \t 70.99%\n",
      "\tUnlabeled frames:\t 458\n",
      "hobbs_shaw, frames labeled: 29.32%\n",
      "\tMCU frames:\t\t 101 \t 33.44%\n",
      "\tNon-MCU frames:\t\t 201 \t 66.56%\n",
      "\tUnlabeled frames:\t 728\n",
      "yesterday, frames labeled: 35.05%\n",
      "\tMCU frames:\t\t 54 \t 17.59%\n",
      "\tNon-MCU frames:\t\t 253 \t 82.41%\n",
      "\tUnlabeled frames:\t 569\n"
     ]
    }
   ],
   "source": [
    "# store lists of movie title, its count of MCUs, and count of non-MCUs\n",
    "movies, mcu_frames_univ, non_frames_univ = generate_movie_labels(working_directory)"
   ]
  },
  {
   "cell_type": "code",
   "execution_count": 8,
   "metadata": {},
   "outputs": [],
   "source": [
    "# create DataFrame\n",
    "arrays = [movies, mcu_frames_univ, non_frames_univ]\n",
    "frames_df = pd.DataFrame(data = arrays).T\n",
    "frames_df.columns = ['movie_title', 'mcu', 'non-mcu']"
   ]
  },
  {
   "cell_type": "code",
   "execution_count": 9,
   "metadata": {
    "scrolled": false
   },
   "outputs": [
    {
     "data": {
      "text/html": [
       "<div>\n",
       "<style scoped>\n",
       "    .dataframe tbody tr th:only-of-type {\n",
       "        vertical-align: middle;\n",
       "    }\n",
       "\n",
       "    .dataframe tbody tr th {\n",
       "        vertical-align: top;\n",
       "    }\n",
       "\n",
       "    .dataframe thead th {\n",
       "        text-align: right;\n",
       "    }\n",
       "</style>\n",
       "<table border=\"1\" class=\"dataframe\">\n",
       "  <thead>\n",
       "    <tr style=\"text-align: right;\">\n",
       "      <th></th>\n",
       "      <th>movie_title</th>\n",
       "      <th>mcu</th>\n",
       "      <th>non-mcu</th>\n",
       "    </tr>\n",
       "  </thead>\n",
       "  <tbody>\n",
       "    <tr>\n",
       "      <th>0</th>\n",
       "      <td>fishermans_friends</td>\n",
       "      <td>54</td>\n",
       "      <td>176</td>\n",
       "    </tr>\n",
       "    <tr>\n",
       "      <th>1</th>\n",
       "      <td>preggoland</td>\n",
       "      <td>41</td>\n",
       "      <td>153</td>\n",
       "    </tr>\n",
       "  </tbody>\n",
       "</table>\n",
       "</div>"
      ],
      "text/plain": [
       "          movie_title mcu non-mcu\n",
       "0  fishermans_friends  54     176\n",
       "1          preggoland  41     153"
      ]
     },
     "execution_count": 9,
     "metadata": {},
     "output_type": "execute_result"
    }
   ],
   "source": [
    "frames_df.head(2)"
   ]
  },
  {
   "cell_type": "code",
   "execution_count": 10,
   "metadata": {},
   "outputs": [
    {
     "data": {
      "text/plain": [
       "(40, 3)"
      ]
     },
     "execution_count": 10,
     "metadata": {},
     "output_type": "execute_result"
    }
   ],
   "source": [
    "frames_df.shape"
   ]
  },
  {
   "cell_type": "markdown",
   "metadata": {},
   "source": [
    "## Visualizing Counts\n",
    "Though the primary data are the image files themselves, we can gain some insight by visualizing the counts of each category. There's a heavy class imbalance: 26% vs. 74%."
   ]
  },
  {
   "cell_type": "code",
   "execution_count": 13,
   "metadata": {
    "scrolled": false
   },
   "outputs": [
    {
     "data": {
      "image/png": "[encoded data removed]",
      "text/plain": [
       "<Figure size 1080x504 with 1 Axes>"
      ]
     },
     "metadata": {},
     "output_type": "display_data"
    }
   ],
   "source": [
    "ax = frames_df[['mcu','non-mcu']].sum().plot.pie(figsize=(15,7), colors = ['dodgerblue', 'salmon'], shadow=True, autopct=lambda p: '{:.0f}'.format(p * frames_df[['mcu','non-mcu']].sum().sum() / 100), labels = ['MCU', 'non-MCU'])\n",
    "ax.set_title('MCU frames vs. non-MCU frames')\n",
    "plt.axis('off')\n",
    "plt.show()"
   ]
  },
  {
   "cell_type": "markdown",
   "metadata": {},
   "source": [
    "We can see MCUs vs. non-MCUs, as well as the movies for which I spent the most effort labelling."
   ]
  },
  {
   "cell_type": "code",
   "execution_count": 20,
   "metadata": {
    "scrolled": false
   },
   "outputs": [
    {
     "data": {
      "image/png": "[encoded data removed]",
      "text/plain": [
       "<Figure size 1152x504 with 1 Axes>"
      ]
     },
     "metadata": {
      "needs_background": "light"
     },
     "output_type": "display_data"
    }
   ],
   "source": [
    "ax = frames_df.plot.bar(stacked=True, color = ['dodgerblue', 'salmon'], figsize=(16,7))\n",
    "ax.set_title('MCU frames vs. non-MCU frames per movie (labeled only)')\n",
    "ax.set_xlabel('Movie')\n",
    "ax.set_xticklabels(frames_df.movie_title)\n",
    "ax.set_ylabel('Frames')\n",
    "plt.xticks(rotation=90)\n",
    "plt.show()"
   ]
  },
  {
   "cell_type": "markdown",
   "metadata": {},
   "source": [
    "We can create a new dataframe containing the percentage of MCUs per film."
   ]
  },
  {
   "cell_type": "code",
   "execution_count": 21,
   "metadata": {},
   "outputs": [],
   "source": [
    "frames_eda_df = frames_df.copy()\n",
    "frames_eda_df['mcu_percentage'] = frames_eda_df['mcu'] / (frames_eda_df['mcu'] + frames_eda_df['non-mcu'])\n",
    "frames_eda_df = frames_eda_df.sort_values('mcu_percentage', ascending = False).reset_index(drop=True)"
   ]
  },
  {
   "cell_type": "code",
   "execution_count": 22,
   "metadata": {
    "scrolled": true
   },
   "outputs": [
    {
     "data": {
      "text/html": [
       "<div>\n",
       "<style scoped>\n",
       "    .dataframe tbody tr th:only-of-type {\n",
       "        vertical-align: middle;\n",
       "    }\n",
       "\n",
       "    .dataframe tbody tr th {\n",
       "        vertical-align: top;\n",
       "    }\n",
       "\n",
       "    .dataframe thead th {\n",
       "        text-align: right;\n",
       "    }\n",
       "</style>\n",
       "<table border=\"1\" class=\"dataframe\">\n",
       "  <thead>\n",
       "    <tr style=\"text-align: right;\">\n",
       "      <th></th>\n",
       "      <th>movie_title</th>\n",
       "      <th>mcu</th>\n",
       "      <th>non-mcu</th>\n",
       "      <th>mcu_percentage</th>\n",
       "    </tr>\n",
       "  </thead>\n",
       "  <tbody>\n",
       "    <tr>\n",
       "      <th>0</th>\n",
       "      <td>think_like_a_man</td>\n",
       "      <td>105</td>\n",
       "      <td>95</td>\n",
       "      <td>0.525</td>\n",
       "    </tr>\n",
       "    <tr>\n",
       "      <th>1</th>\n",
       "      <td>hustle</td>\n",
       "      <td>97</td>\n",
       "      <td>125</td>\n",
       "      <td>0.436937</td>\n",
       "    </tr>\n",
       "  </tbody>\n",
       "</table>\n",
       "</div>"
      ],
      "text/plain": [
       "        movie_title  mcu non-mcu mcu_percentage\n",
       "0  think_like_a_man  105      95          0.525\n",
       "1            hustle   97     125       0.436937"
      ]
     },
     "execution_count": 22,
     "metadata": {},
     "output_type": "execute_result"
    }
   ],
   "source": [
    "frames_eda_df.head(2)"
   ]
  },
  {
   "cell_type": "markdown",
   "metadata": {},
   "source": [
    "This plot shows each film's percentage of MCU frames. Four of the five films with the highest percentages are high-budget comedy films. These kinds of films are mostly just vehicles for their stars, and don't deviate from the formula of using standard two-character dialogue scenes for stars to quip jokes at one another.\n",
    "\n",
    "On the other end of the spectrum is Children of Men, which employed a naturalistic, distant, method of filming. This percentage is also impacted by its multiple long-take scenes, including the seven-minute, video-game-like climax. No frames from these scenes constituted MCUs."
   ]
  },
  {
   "cell_type": "code",
   "execution_count": 23,
   "metadata": {},
   "outputs": [
    {
     "data": {
      "image/png": "[encoded data removed]",
      "text/plain": [
       "<Figure size 1080x504 with 1 Axes>"
      ]
     },
     "metadata": {
      "needs_background": "light"
     },
     "output_type": "display_data"
    }
   ],
   "source": [
    "fig = plt.figure(figsize = (15,7))\n",
    "ax = fig.gca()\n",
    "ax.bar(frames_eda_df['movie_title'], frames_eda_df['mcu_percentage'], color = ['dodgerblue'])\n",
    "ax.set_title('Percentage of MCU frames (labeled only)')\n",
    "plt.xticks(rotation=90)\n",
    "ax.set_xlabel('Movie')\n",
    "ax.set_ylabel('% of MCU frames')\n",
    "plt.show()"
   ]
  },
  {
   "cell_type": "markdown",
   "metadata": {},
   "source": [
    "## Populating Test/Train Data\n",
    "These functions were written to automatically pull frames from each movie's MCU/non-MCU folders and populate them in new folders for a Test/Train split.\n",
    "### Split Configuration 1: \"Mixed Frames\" Testing on frames from all movies\n",
    "This shuffles frames from all 40 films into a random split of 80% Train and 20% Test. This is the primary configuration used for preliminary training, as it allows for the most variety in frames for training."
   ]
  },
  {
   "cell_type": "code",
   "execution_count": 14,
   "metadata": {},
   "outputs": [],
   "source": [
    "def populated_mixed_movies(working_directory, copy_directory, test_split, imbalance_removal):\n",
    "    \n",
    "    movie_directories = os.listdir(working_directory)\n",
    "    \n",
    "    # delete existing directories and files\n",
    "    rmtree(os.path.join('mcu_data', copy_directory, 'train'))\n",
    "    rmtree(os.path.join('mcu_data', copy_directory, 'test'))\n",
    "    \n",
    "    # create file structure\n",
    "    os.mkdir(os.path.join('mcu_data', copy_directory, 'train'))\n",
    "    os.mkdir(os.path.join('mcu_data', copy_directory, 'train/mcu'))\n",
    "    os.mkdir(os.path.join('mcu_data', copy_directory, 'train/non_mcu'))\n",
    "    os.mkdir(os.path.join('mcu_data', copy_directory, 'test'))\n",
    "    os.mkdir(os.path.join('mcu_data', copy_directory, 'test/mcu'))\n",
    "    os.mkdir(os.path.join('mcu_data', copy_directory, 'test/non_mcu'))\n",
    "    \n",
    "    # create variables for use within function \n",
    "    train_mcu_folder = os.path.join('mcu_data', copy_directory, 'train/mcu')\n",
    "    train_non_folder = os.path.join('mcu_data', copy_directory, 'train/non_mcu')\n",
    "    test_mcu_folder = os.path.join('mcu_data', copy_directory, 'test/mcu')\n",
    "    test_non_folder = os.path.join('mcu_data', copy_directory, 'test/non_mcu')\n",
    "    \n",
    "    # move frames from each movie directory into Train's mcu and non_mcu folders\n",
    "    for movie in movie_directories:\n",
    "        movie_folder = os.path.join(working_directory, movie)\n",
    "        mcu_folder = os.path.join(movie_folder, 'mcu')\n",
    "        target_mcu_folder = os.path.join('mcu_data', copy_directory, 'train/mcu')  \n",
    "        non_folder = os.path.join(movie_folder, 'non_mcu')\n",
    "        target_non_folder = os.path.join('mcu_data', copy_directory, 'train/non_mcu')\n",
    "        copy_tree(mcu_folder, target_mcu_folder)\n",
    "        copy_tree(non_folder, target_non_folder)\n",
    "    \n",
    "    # take a random sample (test_split) of frames in Train and move to Test, for both mcu and non_mcu\n",
    "    for frame in random.sample(os.listdir(train_mcu_folder), int(len(os.listdir(train_mcu_folder)) * test_split)):\n",
    "        move(os.path.join(train_mcu_folder, frame), test_mcu_folder)\n",
    "    for frame in random.sample(os.listdir(train_non_folder), int(len(os.listdir(train_non_folder)) * test_split)):\n",
    "        move(os.path.join(train_non_folder, frame), test_non_folder)\n",
    "    \n",
    "    # remove certain percentage(imbalance_removal) of non-mcu frames from Train, because of class imbalance\n",
    "    for frame in random.sample(os.listdir(train_non_folder), int(len(os.listdir(train_non_folder)) * imbalance_removal)):\n",
    "        os.remove(os.path.join(train_non_folder, frame))\n",
    "    \n",
    "    # informational text\n",
    "    print('Moved', len(os.listdir(train_mcu_folder)), 'MCU images into Train')\n",
    "    print('Moved', len(os.listdir(train_non_folder)), 'non-MCU images into Train')\n",
    "    print('Moved', len(os.listdir(test_mcu_folder)), 'MCU images into Test')\n",
    "    print('Moved', len(os.listdir(test_non_folder)), 'non-MCU images into Test')"
   ]
  },
  {
   "cell_type": "markdown",
   "metadata": {},
   "source": [
    "This function allows for the removal of non-MCU images from the Training set, to mitigate class imbalance. Three of these datasets were created: removing 20%, 40%, and 60% of non-MCUs from Train."
   ]
  },
  {
   "cell_type": "code",
   "execution_count": 15,
   "metadata": {
    "scrolled": true
   },
   "outputs": [
    {
     "name": "stdout",
     "output_type": "stream",
     "text": [
      "Moved 2419 MCU images into Train\n",
      "Moved 5383 non-MCU images into Train\n",
      "Moved 604 MCU images into Test\n",
      "Moved 1681 non-MCU images into Test\n"
     ]
    }
   ],
   "source": [
    "copy_directory = 'mixed_frames_remove_20'\n",
    "populated_mixed_movies(working_directory, copy_directory, test_split=.2, imbalance_removal=.2)"
   ]
  },
  {
   "cell_type": "code",
   "execution_count": 16,
   "metadata": {},
   "outputs": [
    {
     "name": "stdout",
     "output_type": "stream",
     "text": [
      "Moved 2419 MCU images into Train\n",
      "Moved 4037 non-MCU images into Train\n",
      "Moved 604 MCU images into Test\n",
      "Moved 1681 non-MCU images into Test\n"
     ]
    }
   ],
   "source": [
    "copy_directory = 'mixed_frames_remove_40'\n",
    "populated_mixed_movies(working_directory, copy_directory, test_split=.2, imbalance_removal=.4)"
   ]
  },
  {
   "cell_type": "code",
   "execution_count": 17,
   "metadata": {},
   "outputs": [
    {
     "name": "stdout",
     "output_type": "stream",
     "text": [
      "Moved 2419 MCU images into Train\n",
      "Moved 2692 non-MCU images into Train\n",
      "Moved 604 MCU images into Test\n",
      "Moved 1681 non-MCU images into Test\n"
     ]
    }
   ],
   "source": [
    "copy_directory = 'mixed_frames_remove_60'\n",
    "populated_mixed_movies(working_directory, copy_directory, test_split=.2, imbalance_removal=.6)"
   ]
  },
  {
   "cell_type": "markdown",
   "metadata": {},
   "source": [
    "### Split Configuration 2: Keeping \"Unseen\" movies' frames out of Train, and exclusively Testing on these movies\n",
    "This randomly splits the films into 32 Train and 8 Test movies; each film's frames will only be in Train OR Test. This simulates the testing of the model on films it hasn't watched before, but at this early stage of training, the 25% increase in frame variety is more important."
   ]
  },
  {
   "cell_type": "code",
   "execution_count": 32,
   "metadata": {},
   "outputs": [],
   "source": [
    "def populated_unseen_movies(working_directory, copy_directory, test_movies, imbalance_removal):\n",
    "    \n",
    "    movie_directories = os.listdir(working_directory)\n",
    "    \n",
    "    # delete existing directories and files\n",
    "    rmtree(os.path.join('mcu_data', copy_directory, 'train'))\n",
    "    rmtree(os.path.join('mcu_data', copy_directory, 'test'))\n",
    "    \n",
    "    # create file structure\n",
    "    os.mkdir(os.path.join('mcu_data', copy_directory, 'train'))\n",
    "    os.mkdir(os.path.join('mcu_data', copy_directory, 'train/mcu'))\n",
    "    os.mkdir(os.path.join('mcu_data', copy_directory, 'train/non_mcu'))\n",
    "    os.mkdir(os.path.join('mcu_data', copy_directory, 'test'))\n",
    "    os.mkdir(os.path.join('mcu_data', copy_directory, 'test/mcu'))\n",
    "    os.mkdir(os.path.join('mcu_data', copy_directory, 'test/non_mcu'))\n",
    "    \n",
    "    # create variables for use within function \n",
    "    train_mcu_folder = os.path.join('mcu_data', copy_directory, 'train/mcu')\n",
    "    train_non_folder = os.path.join('mcu_data', copy_directory, 'train/non_mcu')\n",
    "    test_mcu_folder = os.path.join('mcu_data', copy_directory, 'test/mcu')\n",
    "    test_non_folder = os.path.join('mcu_data', copy_directory, 'test/non_mcu')\n",
    "    \n",
    "    # create new list for \"unseen\" movies to serve as the Test set, and avoid populating these in Train\n",
    "    test_directories = random.sample(movie_directories, test_movies)\n",
    "    for movie in test_list:\n",
    "        movie_directories.remove(movie)\n",
    "    \n",
    "    # move frames from each movie directory into Train's mcu and non_mcu folders\n",
    "    for movie in movie_directories:\n",
    "        movie_folder = os.path.join(working_directory, movie)\n",
    "        mcu_folder = os.path.join(movie_folder, 'mcu')\n",
    "        target_mcu_folder = os.path.join('mcu_data', copy_directory, 'train/mcu')  \n",
    "        non_folder = os.path.join(movie_folder, 'non_mcu')\n",
    "        target_non_folder = os.path.join('mcu_data', copy_directory, 'train/non_mcu')\n",
    "        copy_tree(mcu_folder, target_mcu_folder)\n",
    "        copy_tree(non_folder, target_non_folder)\n",
    "    \n",
    "    # move frames from each movie directory into Test's mcu and non_mcu folders\n",
    "    for movie in test_directories:\n",
    "        movie_folder = os.path.join(working_directory, movie)\n",
    "        mcu_folder = os.path.join(movie_folder, 'mcu')\n",
    "        target_mcu_folder = os.path.join('mcu_data', copy_directory, 'test/mcu')  \n",
    "        non_folder = os.path.join(movie_folder, 'non_mcu')\n",
    "        target_non_folder = os.path.join('mcu_data', copy_directory, 'test/non_mcu')\n",
    "        copy_tree(mcu_folder, target_mcu_folder)\n",
    "        copy_tree(non_folder, target_non_folder)\n",
    "        \n",
    "    # remove certain percentage(imbalance_removal) of non-mcu frames from Train, because of class imbalance\n",
    "    for frame in random.sample(os.listdir(train_non_folder), int(len(os.listdir(train_non_folder)) * imbalance_removal)):\n",
    "        os.remove(os.path.join(train_non_folder, frame))\n",
    "    \n",
    "    # informational text\n",
    "    print('Moved', len(os.listdir(train_mcu_folder)), 'MCU images into Train')\n",
    "    print('Moved', len(os.listdir(train_non_folder)), 'non-MCU images into Train')\n",
    "    print('Moved', len(os.listdir(test_mcu_folder)), 'MCU images into Test')\n",
    "    print('Moved', len(os.listdir(test_non_folder)), 'non-MCU images into Test')\n",
    "    print('\\nThe following films', test_movies, 'are in the testing set:')\n",
    "    for movie in test_directories:\n",
    "        print(movie)"
   ]
  },
  {
   "cell_type": "code",
   "execution_count": 33,
   "metadata": {},
   "outputs": [
    {
     "name": "stdout",
     "output_type": "stream",
     "text": [
      "Moved 2891 MCU images into Train\n",
      "Moved 3236 non-MCU images into Train\n",
      "Moved 674 MCU images into Test\n",
      "Moved 1684 non-MCU images into Test\n",
      "\n",
      "The following films 8 are in the testing set:\n",
      "brooklyn\n",
      "parts_you_lose\n",
      "animals\n",
      "madea_funeral\n",
      "extremely_loud\n",
      "ballon\n",
      "black_and_blue\n",
      "unearthed\n"
     ]
    }
   ],
   "source": [
    "copy_directory = 'unseen_frames_remove_60'\n",
    "populated_unseen_movies(working_directory, copy_directory, test_movies=8, imbalance_removal=.6)"
   ]
  }
 ],
 "metadata": {
  "kernelspec": {
   "display_name": "Python 3",
   "language": "python",
   "name": "python3"
  },
  "language_info": {
   "codemirror_mode": {
    "name": "ipython",
    "version": 3
   },
   "file_extension": ".py",
   "mimetype": "text/x-python",
   "name": "python",
   "nbconvert_exporter": "python",
   "pygments_lexer": "ipython3",
   "version": "3.6.9"
  }
 },
 "nbformat": 4,
 "nbformat_minor": 4
}
