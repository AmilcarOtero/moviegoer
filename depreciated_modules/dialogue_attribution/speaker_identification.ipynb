{
 "cells": [
  {
   "cell_type": "markdown",
   "metadata": {},
   "source": [
    "# speaker_identification\n",
    "This notebook attempts to identify which character is speaking in two-character scenes. A combination of features gleaned from the frame visuals, audio, and subtitles will be used to infer the speaker.\n",
    "\n",
    "Although we've been able to successfully cluster voices and divide the spoken dialogue audio into two voices, we need to be able to reconcile this with the two characters onscreen.\n",
    "\n",
    "In other words: we have face A and face B, and voice M and voice N, but which face corresponds with which voice?\n",
    "\n",
    "There's also the subtask of determining if someone is speaking at this very moment. We've previously defined a few functions to help with each."
   ]
  },
  {
   "cell_type": "code",
   "execution_count": 1,
   "metadata": {},
   "outputs": [],
   "source": [
    "import os\n",
    "import pandas as pd\n",
    "from dialogue_attribution_io import *"
   ]
  },
  {
   "cell_type": "code",
   "execution_count": 2,
   "metadata": {},
   "outputs": [],
   "source": [
    "film = 'hobbs_shaw'\n",
    "frame_choice = list(range(766, 824))\n",
    "frame_folder = os.path.join('../frame_per_second', film)"
   ]
  },
  {
   "cell_type": "markdown",
   "metadata": {},
   "source": [
    "In the notebook `attribution_visual.ipynb`, we were able to determine the primary character onscreen, as well as count the number of faces. We can also tell if, if there's a primary character onscreen, if their mouth is open or not."
   ]
  },
  {
   "cell_type": "code",
   "execution_count": 3,
   "metadata": {},
   "outputs": [],
   "source": [
    "primary_character_list, faces_found, mouth_open_list = frame_attribution_analysis(frame_folder, film, frame_choice)"
   ]
  },
  {
   "cell_type": "markdown",
   "metadata": {},
   "source": [
    "Next, we were able to determine if there was a subtitle onscreen in `attribution_subtitle.ipynb`. This will help us determine if anyone is currently speaking."
   ]
  },
  {
   "cell_type": "code",
   "execution_count": 4,
   "metadata": {},
   "outputs": [],
   "source": [
    "sub_files = '../subtitles/hobbs_shaw.srt'\n",
    "subs = load_subtitles(sub_files)"
   ]
  },
  {
   "cell_type": "code",
   "execution_count": 5,
   "metadata": {},
   "outputs": [],
   "source": [
    "subtitle_onscreen = analyze_onscreen_subtitles(subs, frame_choice)"
   ]
  },
  {
   "cell_type": "markdown",
   "metadata": {},
   "source": [
    "Finally, in addition to the voice clustering, we were able to determine if there isn't silence during a particular time, in `attribution_audio.ipynb`."
   ]
  },
  {
   "cell_type": "code",
   "execution_count": 6,
   "metadata": {},
   "outputs": [],
   "source": [
    "audio_file = ('../extracted_audio/prison_stereo.wav')"
   ]
  },
  {
   "cell_type": "code",
   "execution_count": 7,
   "metadata": {},
   "outputs": [
    {
     "data": {
      "image/png": "[encoded data removed]",
      "text/plain": [
       "<Figure size 432x288 with 1 Axes>"
      ]
     },
     "metadata": {
      "needs_background": "light"
     },
     "output_type": "display_data"
    }
   ],
   "source": [
    "speaker_list = cluster_voices(audio_file)"
   ]
  },
  {
   "cell_type": "code",
   "execution_count": 8,
   "metadata": {},
   "outputs": [],
   "source": [
    "audible_sound = analyze_audible_sound(audio_file)"
   ]
  },
  {
   "cell_type": "markdown",
   "metadata": {},
   "source": [
    "We zip all of the information we have into a Pandas DataFrame. For each `frame_file`, representing one second of the film, we know which (arbitrary clustered) character is onscreen, which (arbitrary clustered) voice spoke last (or is currently speaking), if an onscreen character has their mouth open, if there's audible sound during this one second, and if there's a subtitle onscreen."
   ]
  },
  {
   "cell_type": "code",
   "execution_count": 9,
   "metadata": {},
   "outputs": [],
   "source": [
    "scene_df = pd.DataFrame(zip(frame_choice, faces_found, primary_character_list, mouth_open_list, speaker_list, audible_sound, subtitle_onscreen), columns=['frame_file', 'number_faces', 'primary_character', 'mouth_open', 'speaker', 'audible_sound', 'subtitle_onscreen'])"
   ]
  },
  {
   "cell_type": "code",
   "execution_count": 10,
   "metadata": {
    "scrolled": false
   },
   "outputs": [
    {
     "data": {
      "text/html": [
       "<div>\n",
       "<style scoped>\n",
       "    .dataframe tbody tr th:only-of-type {\n",
       "        vertical-align: middle;\n",
       "    }\n",
       "\n",
       "    .dataframe tbody tr th {\n",
       "        vertical-align: top;\n",
       "    }\n",
       "\n",
       "    .dataframe thead th {\n",
       "        text-align: right;\n",
       "    }\n",
       "</style>\n",
       "<table border=\"1\" class=\"dataframe\">\n",
       "  <thead>\n",
       "    <tr style=\"text-align: right;\">\n",
       "      <th></th>\n",
       "      <th>frame_file</th>\n",
       "      <th>number_faces</th>\n",
       "      <th>primary_character</th>\n",
       "      <th>mouth_open</th>\n",
       "      <th>speaker</th>\n",
       "      <th>audible_sound</th>\n",
       "      <th>subtitle_onscreen</th>\n",
       "    </tr>\n",
       "  </thead>\n",
       "  <tbody>\n",
       "    <tr>\n",
       "      <th>0</th>\n",
       "      <td>766</td>\n",
       "      <td>1</td>\n",
       "      <td>A</td>\n",
       "      <td>1</td>\n",
       "      <td>N</td>\n",
       "      <td>1</td>\n",
       "      <td>0</td>\n",
       "    </tr>\n",
       "    <tr>\n",
       "      <th>1</th>\n",
       "      <td>767</td>\n",
       "      <td>1</td>\n",
       "      <td>A</td>\n",
       "      <td>1</td>\n",
       "      <td>M</td>\n",
       "      <td>1</td>\n",
       "      <td>1</td>\n",
       "    </tr>\n",
       "    <tr>\n",
       "      <th>2</th>\n",
       "      <td>768</td>\n",
       "      <td>0</td>\n",
       "      <td>0</td>\n",
       "      <td>0</td>\n",
       "      <td>M</td>\n",
       "      <td>1</td>\n",
       "      <td>1</td>\n",
       "    </tr>\n",
       "    <tr>\n",
       "      <th>3</th>\n",
       "      <td>769</td>\n",
       "      <td>0</td>\n",
       "      <td>0</td>\n",
       "      <td>0</td>\n",
       "      <td>N</td>\n",
       "      <td>1</td>\n",
       "      <td>1</td>\n",
       "    </tr>\n",
       "    <tr>\n",
       "      <th>4</th>\n",
       "      <td>770</td>\n",
       "      <td>1</td>\n",
       "      <td>A</td>\n",
       "      <td>1</td>\n",
       "      <td>M</td>\n",
       "      <td>1</td>\n",
       "      <td>1</td>\n",
       "    </tr>\n",
       "  </tbody>\n",
       "</table>\n",
       "</div>"
      ],
      "text/plain": [
       "   frame_file  number_faces primary_character  mouth_open speaker  \\\n",
       "0         766             1                 A           1       N   \n",
       "1         767             1                 A           1       M   \n",
       "2         768             0                 0           0       M   \n",
       "3         769             0                 0           0       N   \n",
       "4         770             1                 A           1       M   \n",
       "\n",
       "   audible_sound  subtitle_onscreen  \n",
       "0              1                  0  \n",
       "1              1                  1  \n",
       "2              1                  1  \n",
       "3              1                  1  \n",
       "4              1                  1  "
      ]
     },
     "execution_count": 10,
     "metadata": {},
     "output_type": "execute_result"
    }
   ],
   "source": [
    "scene_df.head(5)"
   ]
  },
  {
   "cell_type": "markdown",
   "metadata": {},
   "source": [
    "Since the speaker diarization (voice clustering) doesn't tell us if someone is currently speaking (only who the present speaker, or if no one is currently speaking, the last character to speak), we need to determine frames which have a character speaking. It must satisfy the following conditions:\n",
    "1. There is a subtitle onscreen.\n",
    "2. There is audio, not silence.\n",
    "\n",
    "With this filter in place, we can look for \"matches\" in both combinations: onscreen character A with voice M, and onscreen character B with voice N, or the opposite, A-N and B-M. We also introduce this condition:\n",
    "3. The onscreen character has their mouth open.\n",
    "\n",
    "We check both combinations."
   ]
  },
  {
   "cell_type": "code",
   "execution_count": 11,
   "metadata": {},
   "outputs": [
    {
     "name": "stdout",
     "output_type": "stream",
     "text": [
      "Matches for A-M: 9\n",
      "Matches for B-N: 3\n"
     ]
    }
   ],
   "source": [
    "print('Matches for A-M:', scene_df.loc[(scene_df['mouth_open'] == 1) & (scene_df['subtitle_onscreen'] == 1) & (scene_df['audible_sound'] == 1) & (scene_df['primary_character'] == 'A') & (scene_df['speaker'] == 'M')].frame_file.size)\n",
    "print('Matches for B-N:', scene_df.loc[(scene_df['mouth_open'] == 1) & (scene_df['subtitle_onscreen'] == 1) & (scene_df['audible_sound'] == 1) & (scene_df['primary_character'] == 'B') & (scene_df['speaker'] == 'N')].frame_file.size)"
   ]
  },
  {
   "cell_type": "code",
   "execution_count": 12,
   "metadata": {},
   "outputs": [
    {
     "name": "stdout",
     "output_type": "stream",
     "text": [
      "Matches for A-N: 4\n",
      "Matches for B-M: 1\n"
     ]
    }
   ],
   "source": [
    "print('Matches for A-N:', scene_df.loc[(scene_df['mouth_open'] == 1) & (scene_df['subtitle_onscreen'] == 1) & (scene_df['audible_sound'] == 1) & (scene_df['primary_character'] == 'A') & (scene_df['speaker'] == 'N')].frame_file.size)\n",
    "print('Matches for B-M:', scene_df.loc[(scene_df['mouth_open'] == 1) & (scene_df['subtitle_onscreen'] == 1) & (scene_df['audible_sound'] == 1) & (scene_df['primary_character'] == 'B') & (scene_df['speaker'] == 'M')].frame_file.size)"
   ]
  },
  {
   "cell_type": "markdown",
   "metadata": {},
   "source": [
    "The combination of A-M and B-N had 12 matches, while the combination of A-N and B-M had 5 matches, so we match face A to voice M, and face B to voice N. This is a rough solution, but its confidence grows as we analyze additional scenes' facees and voices. We'll also be able to improve this solution as we extract more features from each data track (frame, audio, subtitles)."
   ]
  }
 ],
 "metadata": {
  "kernelspec": {
   "display_name": "Python (moviegoer)",
   "language": "python",
   "name": "moviegoer"
  },
  "language_info": {
   "codemirror_mode": {
    "name": "ipython",
    "version": 3
   },
   "file_extension": ".py",
   "mimetype": "text/x-python",
   "name": "python",
   "nbconvert_exporter": "python",
   "pygments_lexer": "ipython3",
   "version": "3.7.7"
  }
 },
 "nbformat": 4,
 "nbformat_minor": 4
}
