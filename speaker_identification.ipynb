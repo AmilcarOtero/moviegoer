{
 "cells": [
  {
   "cell_type": "code",
   "execution_count": 1,
   "metadata": {},
   "outputs": [],
   "source": [
    "import face_recognition\n",
    "import os\n",
    "import numpy as np\n",
    "from sklearn.cluster import KMeans, AgglomerativeClustering\n",
    "import pandas as pd\n",
    "import math\n",
    "import pyAudioAnalysis.audioSegmentation"
   ]
  },
  {
   "cell_type": "code",
   "execution_count": 2,
   "metadata": {},
   "outputs": [],
   "source": [
    "film = 'hobbs_shaw'\n",
    "frame_choice = list(range(766, 823))\n",
    "dialogue_folder = os.path.join('dialogue_frames', film)"
   ]
  },
  {
   "cell_type": "code",
   "execution_count": 5,
   "metadata": {},
   "outputs": [
    {
     "name": "stdout",
     "output_type": "stream",
     "text": [
      "Found 1 face(s) in frame 766\n",
      "Found 1 face(s) in frame 767\n",
      "Found 0 face(s) in frame 768\n",
      "Found 1 face(s) in frame 769\n",
      "Found 1 face(s) in frame 770\n",
      "Found 1 face(s) in frame 771\n",
      "Found 1 face(s) in frame 772\n",
      "Found 1 face(s) in frame 773\n",
      "Found 0 face(s) in frame 774\n",
      "Found 1 face(s) in frame 775\n",
      "Found 1 face(s) in frame 776\n",
      "Found 1 face(s) in frame 777\n",
      "Found 1 face(s) in frame 778\n",
      "Found 1 face(s) in frame 779\n",
      "Found 1 face(s) in frame 780\n",
      "Found 1 face(s) in frame 781\n",
      "Found 1 face(s) in frame 782\n",
      "Found 0 face(s) in frame 783\n",
      "Found 0 face(s) in frame 784\n",
      "Found 0 face(s) in frame 785\n",
      "Found 1 face(s) in frame 786\n",
      "Found 1 face(s) in frame 787\n",
      "Found 1 face(s) in frame 788\n",
      "Found 0 face(s) in frame 789\n",
      "Found 0 face(s) in frame 790\n",
      "Found 1 face(s) in frame 791\n",
      "Found 1 face(s) in frame 792\n",
      "Found 0 face(s) in frame 793\n",
      "Found 1 face(s) in frame 794\n",
      "Found 1 face(s) in frame 795\n",
      "Found 1 face(s) in frame 796\n",
      "Found 1 face(s) in frame 797\n",
      "Found 1 face(s) in frame 798\n",
      "Found 1 face(s) in frame 799\n",
      "Found 1 face(s) in frame 800\n",
      "Found 1 face(s) in frame 801\n",
      "Found 1 face(s) in frame 802\n",
      "Found 1 face(s) in frame 803\n",
      "Found 1 face(s) in frame 804\n",
      "Found 1 face(s) in frame 805\n",
      "Found 1 face(s) in frame 806\n",
      "Found 1 face(s) in frame 807\n",
      "Found 1 face(s) in frame 808\n",
      "Found 1 face(s) in frame 809\n",
      "Found 0 face(s) in frame 810\n",
      "Found 0 face(s) in frame 811\n",
      "Found 1 face(s) in frame 812\n",
      "Found 1 face(s) in frame 813\n",
      "Found 1 face(s) in frame 814\n",
      "Found 1 face(s) in frame 815\n",
      "Found 0 face(s) in frame 816\n",
      "Found 0 face(s) in frame 817\n",
      "Found 1 face(s) in frame 818\n",
      "Found 1 face(s) in frame 819\n",
      "Found 1 face(s) in frame 820\n",
      "Found 1 face(s) in frame 821\n",
      "Found 1 face(s) in frame 822\n"
     ]
    }
   ],
   "source": [
    "encodings_list = []\n",
    "faces_found = []\n",
    "mouth_open_list = []\n",
    "\n",
    "for x in frame_choice:\n",
    "    img_path = dialogue_folder + '/' + film + '_frame' + str(x) + '.jpg'\n",
    "    image = face_recognition.load_image_file(img_path)\n",
    "    face_locations = face_recognition.face_locations(image, number_of_times_to_upsample=1)\n",
    "    face_landmarks_list = face_recognition.face_landmarks(image, face_locations)\n",
    "\n",
    "    print('Found ' + str(len(face_locations)) + ' face(s) in frame ' + str(x))\n",
    "    frame_encodings_list = face_recognition.face_encodings(image, face_locations)\n",
    "\n",
    "    if frame_encodings_list:\n",
    "        encoding = frame_encodings_list[0]\n",
    "        encodings_list.append(encoding)\n",
    "        faces_found.append(len(face_locations))\n",
    "        face_landmarks = face_landmarks_list[0]\n",
    "        mouth_open_list.append(mouth_open_check(face_landmarks))\n",
    "    else:\n",
    "        faces_found.append(0)\n",
    "        mouth_open_list.append(0)"
   ]
  },
  {
   "cell_type": "code",
   "execution_count": 6,
   "metadata": {},
   "outputs": [
    {
     "data": {
      "text/plain": [
       "(45, 128)"
      ]
     },
     "execution_count": 6,
     "metadata": {},
     "output_type": "execute_result"
    }
   ],
   "source": [
    "encodings_list_np = np.array(encodings_list)\n",
    "encodings_list_np.shape"
   ]
  },
  {
   "cell_type": "code",
   "execution_count": 7,
   "metadata": {},
   "outputs": [
    {
     "name": "stdout",
     "output_type": "stream",
     "text": [
      "Number of clusters: 2\n",
      "[0 0 0 1 1 1 0 0 1 1 0 0 1 1 0 0 0 0 0 1 0 1 1 0 1 0 0 0 1 1 0 0 1 0 0 0 0\n",
      " 0 1 1 1 1 1 1 1]\n"
     ]
    }
   ],
   "source": [
    "hac = AgglomerativeClustering(n_clusters = None, distance_threshold = 1).fit(encodings_list_np)\n",
    "hac_labels = hac.labels_\n",
    "print('Number of clusters:', hac.n_clusters_)\n",
    "print(hac_labels)"
   ]
  },
  {
   "cell_type": "code",
   "execution_count": 9,
   "metadata": {},
   "outputs": [],
   "source": [
    "primary_character_list = []\n",
    "y = 0\n",
    "for x in faces_found:\n",
    "    if x != 0:\n",
    "        primary_character_list.append(chr(hac_labels[y]+65)) # converts numbers to Unicode characters (A, B, etc.)\n",
    "        y +=1\n",
    "    else:\n",
    "        primary_character_list.append(0)"
   ]
  },
  {
   "cell_type": "code",
   "execution_count": 10,
   "metadata": {},
   "outputs": [
    {
     "data": {
      "image/png": "[encoded data removed]",
      "text/plain": [
       "<Figure size 432x288 with 1 Axes>"
      ]
     },
     "metadata": {
      "needs_background": "light"
     },
     "output_type": "display_data"
    }
   ],
   "source": [
    "audio_file = ('extracted_audio/prison_stereo.wav')\n",
    "clusters = pyAudioAnalysis.audioSegmentation.speaker_diarization(audio_file, 2, mid_window=.8, mid_step=0.1, short_window=0.02, lda_dim=0, plot_res=True)"
   ]
  },
  {
   "cell_type": "code",
   "execution_count": 11,
   "metadata": {},
   "outputs": [],
   "source": [
    "speaker_list = []\n",
    "x = 0\n",
    "while x < len(clusters): \n",
    "    speaker_list.append(int(round(np.mean(clusters[x:x+10])))) # take the average of the ten samples per second\n",
    "    x += 10"
   ]
  },
  {
   "cell_type": "code",
   "execution_count": 12,
   "metadata": {},
   "outputs": [],
   "source": [
    "scene_df = pd.DataFrame(zip(frame_choice, faces_found, primary_chararcter_list, mouth_open_list, speaker_list), columns=['frame_file', 'number_faces', 'primary_character', 'mouth_open', 'speaker'])"
   ]
  },
  {
   "cell_type": "code",
   "execution_count": 13,
   "metadata": {},
   "outputs": [
    {
     "data": {
      "text/html": [
       "<div>\n",
       "<style scoped>\n",
       "    .dataframe tbody tr th:only-of-type {\n",
       "        vertical-align: middle;\n",
       "    }\n",
       "\n",
       "    .dataframe tbody tr th {\n",
       "        vertical-align: top;\n",
       "    }\n",
       "\n",
       "    .dataframe thead th {\n",
       "        text-align: right;\n",
       "    }\n",
       "</style>\n",
       "<table border=\"1\" class=\"dataframe\">\n",
       "  <thead>\n",
       "    <tr style=\"text-align: right;\">\n",
       "      <th></th>\n",
       "      <th>frame_file</th>\n",
       "      <th>number_faces</th>\n",
       "      <th>primary_character</th>\n",
       "      <th>mouth_open</th>\n",
       "      <th>speaker</th>\n",
       "    </tr>\n",
       "  </thead>\n",
       "  <tbody>\n",
       "    <tr>\n",
       "      <th>0</th>\n",
       "      <td>766</td>\n",
       "      <td>1</td>\n",
       "      <td>A</td>\n",
       "      <td>1</td>\n",
       "      <td>1</td>\n",
       "    </tr>\n",
       "    <tr>\n",
       "      <th>1</th>\n",
       "      <td>767</td>\n",
       "      <td>1</td>\n",
       "      <td>A</td>\n",
       "      <td>1</td>\n",
       "      <td>0</td>\n",
       "    </tr>\n",
       "    <tr>\n",
       "      <th>2</th>\n",
       "      <td>768</td>\n",
       "      <td>0</td>\n",
       "      <td>0</td>\n",
       "      <td>0</td>\n",
       "      <td>0</td>\n",
       "    </tr>\n",
       "    <tr>\n",
       "      <th>3</th>\n",
       "      <td>769</td>\n",
       "      <td>1</td>\n",
       "      <td>A</td>\n",
       "      <td>1</td>\n",
       "      <td>1</td>\n",
       "    </tr>\n",
       "    <tr>\n",
       "      <th>4</th>\n",
       "      <td>770</td>\n",
       "      <td>1</td>\n",
       "      <td>B</td>\n",
       "      <td>0</td>\n",
       "      <td>0</td>\n",
       "    </tr>\n",
       "  </tbody>\n",
       "</table>\n",
       "</div>"
      ],
      "text/plain": [
       "   frame_file  number_faces primary_character  mouth_open  speaker\n",
       "0         766             1                 A           1        1\n",
       "1         767             1                 A           1        0\n",
       "2         768             0                 0           0        0\n",
       "3         769             1                 A           1        1\n",
       "4         770             1                 B           0        0"
      ]
     },
     "execution_count": 13,
     "metadata": {},
     "output_type": "execute_result"
    }
   ],
   "source": [
    "scene_df.head(5)"
   ]
  },
  {
   "cell_type": "code",
   "execution_count": 24,
   "metadata": {},
   "outputs": [
    {
     "name": "stdout",
     "output_type": "stream",
     "text": [
      "Matches for A, 0: 9\n",
      "Matches for B, 1: 4\n"
     ]
    }
   ],
   "source": [
    "print('Matches for A, 0:', scene_df.loc[(scene_df['mouth_open'] == 1) & (scene_df['primary_character'] == 'A') & (scene_df['speaker'] == 0)].frame_file.size)\n",
    "print('Matches for B, 1:', scene_df.loc[(scene_df['mouth_open'] == 1) & (scene_df['primary_character'] == 'B') & (scene_df['speaker'] == 1)].frame_file.size)"
   ]
  },
  {
   "cell_type": "code",
   "execution_count": 26,
   "metadata": {},
   "outputs": [
    {
     "name": "stdout",
     "output_type": "stream",
     "text": [
      "Matches for A, 1: 4\n",
      "Matches for B, 0: 3\n"
     ]
    }
   ],
   "source": [
    "print('Matches for A, 1:', scene_df.loc[(scene_df['mouth_open'] == 1) & (scene_df['primary_character'] == 'A') & (scene_df['speaker'] == 1)].frame_file.size)\n",
    "print('Matches for B, 0:', scene_df.loc[(scene_df['mouth_open'] == 1) & (scene_df['primary_character'] == 'B') & (scene_df['speaker'] == 0)].frame_file.size)"
   ]
  },
  {
   "cell_type": "code",
   "execution_count": null,
   "metadata": {},
   "outputs": [],
   "source": []
  },
  {
   "cell_type": "code",
   "execution_count": 4,
   "metadata": {},
   "outputs": [],
   "source": [
    "def get_lip_height(lip):\n",
    "    for i in [2,3,4]:\n",
    "        sum = 0\n",
    "        distance = math.sqrt( (lip[i][0] - lip[12-i][0])**2 +\n",
    "                              (lip[i][1] - lip[12-i][1])**2   )\n",
    "        sum += distance\n",
    "    return sum / 3\n",
    "\n",
    "\n",
    "def get_mouth_height(top_lip, bottom_lip):\n",
    "    for i in [8,9,10]:\n",
    "        sum = 0\n",
    "        distance = math.sqrt( (top_lip[i][0] - bottom_lip[18-i][0])**2 + \n",
    "                              (top_lip[i][1] - bottom_lip[18-i][1])**2   )\n",
    "        sum += distance\n",
    "    return sum / 3\n",
    "\n",
    "\n",
    "def mouth_open_check(face_landmarks, open_ratio=.8):\n",
    "    top_lip = face_landmarks['top_lip']\n",
    "    bottom_lip = face_landmarks['bottom_lip']\n",
    "    \n",
    "    top_lip_height =    get_lip_height(top_lip)\n",
    "    bottom_lip_height = get_lip_height(bottom_lip)\n",
    "    mouth_height =      get_mouth_height(top_lip, bottom_lip)\n",
    "\n",
    "    if mouth_height > min(top_lip_height, bottom_lip_height) * open_ratio:\n",
    "        return 1\n",
    "    else:\n",
    "        return 0"
   ]
  }
 ],
 "metadata": {
  "kernelspec": {
   "display_name": "Python (moviegoer)",
   "language": "python",
   "name": "moviegoer"
  },
  "language_info": {
   "codemirror_mode": {
    "name": "ipython",
    "version": 3
   },
   "file_extension": ".py",
   "mimetype": "text/x-python",
   "name": "python",
   "nbconvert_exporter": "python",
   "pygments_lexer": "ipython3",
   "version": "3.7.7"
  }
 },
 "nbformat": 4,
 "nbformat_minor": 4
}
