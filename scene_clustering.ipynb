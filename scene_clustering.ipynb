{
 "cells": [
  {
   "cell_type": "markdown",
   "metadata": {},
   "source": [
    "# scene_clustering\n",
    "This notebook contains inital code for clustering frames into shots, identifying the A/B/A/B pattern, and using the image classifier model to see if they're MCUs"
   ]
  },
  {
   "cell_type": "code",
   "execution_count": 20,
   "metadata": {
    "scrolled": false
   },
   "outputs": [],
   "source": [
    "import sys\n",
    "import os\n",
    "sys.path.append('site-packages') # manually put all packages/libraries into this folder\n",
    "from keras.preprocessing import image\n",
    "from keras.preprocessing.image import ImageDataGenerator, array_to_img, img_to_array, load_img\n",
    "from keras.applications.vgg16 import VGG16\n",
    "from keras.applications.vgg16 import preprocess_input\n",
    "from keras import models\n",
    "import numpy as np\n",
    "from sklearn.cluster import KMeans, AgglomerativeClustering"
   ]
  },
  {
   "cell_type": "code",
   "execution_count": 13,
   "metadata": {},
   "outputs": [],
   "source": [
    "# input frame and \n",
    "film = 'booksmart'\n",
    "frame_choice = list(range(1001, 1163)) # good example for Booksmart!!! 6 clusters, 2500 distance_threshold\n",
    "# frames = list(range(1619, 1641))\n",
    "# frames = list(range(1710, 1901))"
   ]
  },
  {
   "cell_type": "code",
   "execution_count": 18,
   "metadata": {},
   "outputs": [
    {
     "name": "stdout",
     "output_type": "stream",
     "text": [
      "There are 6395 images in the folder\n",
      "Selected 162 of those frames\n"
     ]
    }
   ],
   "source": [
    "dialogue_folder = os.path.join('dialogue_frames', film)\n",
    "\n",
    "print('There are', len(os.listdir(dialogue_folder)), 'images in the folder')\n",
    "print('Selected', len(frame_choice), 'of those frames')"
   ]
  },
  {
   "cell_type": "code",
   "execution_count": null,
   "metadata": {},
   "outputs": [],
   "source": []
  },
  {
   "cell_type": "code",
   "execution_count": 19,
   "metadata": {
    "scrolled": true
   },
   "outputs": [
    {
     "name": "stdout",
     "output_type": "stream",
     "text": [
      "Model: \"vgg16\"\n",
      "_________________________________________________________________\n",
      "Layer (type)                 Output Shape              Param #   \n",
      "=================================================================\n",
      "input_2 (InputLayer)         (None, None, None, 3)     0         \n",
      "_________________________________________________________________\n",
      "block1_conv1 (Conv2D)        (None, None, None, 64)    1792      \n",
      "_________________________________________________________________\n",
      "block1_conv2 (Conv2D)        (None, None, None, 64)    36928     \n",
      "_________________________________________________________________\n",
      "block1_pool (MaxPooling2D)   (None, None, None, 64)    0         \n",
      "_________________________________________________________________\n",
      "block2_conv1 (Conv2D)        (None, None, None, 128)   73856     \n",
      "_________________________________________________________________\n",
      "block2_conv2 (Conv2D)        (None, None, None, 128)   147584    \n",
      "_________________________________________________________________\n",
      "block2_pool (MaxPooling2D)   (None, None, None, 128)   0         \n",
      "_________________________________________________________________\n",
      "block3_conv1 (Conv2D)        (None, None, None, 256)   295168    \n",
      "_________________________________________________________________\n",
      "block3_conv2 (Conv2D)        (None, None, None, 256)   590080    \n",
      "_________________________________________________________________\n",
      "block3_conv3 (Conv2D)        (None, None, None, 256)   590080    \n",
      "_________________________________________________________________\n",
      "block3_pool (MaxPooling2D)   (None, None, None, 256)   0         \n",
      "_________________________________________________________________\n",
      "block4_conv1 (Conv2D)        (None, None, None, 512)   1180160   \n",
      "_________________________________________________________________\n",
      "block4_conv2 (Conv2D)        (None, None, None, 512)   2359808   \n",
      "_________________________________________________________________\n",
      "block4_conv3 (Conv2D)        (None, None, None, 512)   2359808   \n",
      "_________________________________________________________________\n",
      "block4_pool (MaxPooling2D)   (None, None, None, 512)   0         \n",
      "_________________________________________________________________\n",
      "block5_conv1 (Conv2D)        (None, None, None, 512)   2359808   \n",
      "_________________________________________________________________\n",
      "block5_conv2 (Conv2D)        (None, None, None, 512)   2359808   \n",
      "_________________________________________________________________\n",
      "block5_conv3 (Conv2D)        (None, None, None, 512)   2359808   \n",
      "_________________________________________________________________\n",
      "block5_pool (MaxPooling2D)   (None, None, None, 512)   0         \n",
      "=================================================================\n",
      "Total params: 14,714,688\n",
      "Trainable params: 14,714,688\n",
      "Non-trainable params: 0\n",
      "_________________________________________________________________\n",
      "(1, 7, 7, 512)\n",
      "(1, 7, 7, 512)\n",
      "(1, 7, 7, 512)\n",
      "(1, 7, 7, 512)\n",
      "(1, 7, 7, 512)\n",
      "(1, 7, 7, 512)\n",
      "(1, 7, 7, 512)\n",
      "(1, 7, 7, 512)\n",
      "(1, 7, 7, 512)\n",
      "(1, 7, 7, 512)\n",
      "(1, 7, 7, 512)\n",
      "(1, 7, 7, 512)\n",
      "(1, 7, 7, 512)\n",
      "(1, 7, 7, 512)\n",
      "(1, 7, 7, 512)\n",
      "(1, 7, 7, 512)\n",
      "(1, 7, 7, 512)\n",
      "(1, 7, 7, 512)\n",
      "(1, 7, 7, 512)\n",
      "(1, 7, 7, 512)\n",
      "(1, 7, 7, 512)\n",
      "(1, 7, 7, 512)\n",
      "(1, 7, 7, 512)\n",
      "(1, 7, 7, 512)\n",
      "(1, 7, 7, 512)\n",
      "(1, 7, 7, 512)\n",
      "(1, 7, 7, 512)\n",
      "(1, 7, 7, 512)\n",
      "(1, 7, 7, 512)\n",
      "(1, 7, 7, 512)\n",
      "(1, 7, 7, 512)\n",
      "(1, 7, 7, 512)\n",
      "(1, 7, 7, 512)\n",
      "(1, 7, 7, 512)\n",
      "(1, 7, 7, 512)\n",
      "(1, 7, 7, 512)\n",
      "(1, 7, 7, 512)\n",
      "(1, 7, 7, 512)\n",
      "(1, 7, 7, 512)\n",
      "(1, 7, 7, 512)\n",
      "(1, 7, 7, 512)\n",
      "(1, 7, 7, 512)\n",
      "(1, 7, 7, 512)\n",
      "(1, 7, 7, 512)\n",
      "(1, 7, 7, 512)\n",
      "(1, 7, 7, 512)\n",
      "(1, 7, 7, 512)\n",
      "(1, 7, 7, 512)\n",
      "(1, 7, 7, 512)\n",
      "(1, 7, 7, 512)\n",
      "(1, 7, 7, 512)\n",
      "(1, 7, 7, 512)\n",
      "(1, 7, 7, 512)\n",
      "(1, 7, 7, 512)\n",
      "(1, 7, 7, 512)\n",
      "(1, 7, 7, 512)\n",
      "(1, 7, 7, 512)\n",
      "(1, 7, 7, 512)\n",
      "(1, 7, 7, 512)\n",
      "(1, 7, 7, 512)\n",
      "(1, 7, 7, 512)\n",
      "(1, 7, 7, 512)\n",
      "(1, 7, 7, 512)\n",
      "(1, 7, 7, 512)\n",
      "(1, 7, 7, 512)\n",
      "(1, 7, 7, 512)\n",
      "(1, 7, 7, 512)\n",
      "(1, 7, 7, 512)\n",
      "(1, 7, 7, 512)\n",
      "(1, 7, 7, 512)\n",
      "(1, 7, 7, 512)\n",
      "(1, 7, 7, 512)\n",
      "(1, 7, 7, 512)\n",
      "(1, 7, 7, 512)\n",
      "(1, 7, 7, 512)\n",
      "(1, 7, 7, 512)\n",
      "(1, 7, 7, 512)\n",
      "(1, 7, 7, 512)\n",
      "(1, 7, 7, 512)\n",
      "(1, 7, 7, 512)\n",
      "(1, 7, 7, 512)\n",
      "(1, 7, 7, 512)\n",
      "(1, 7, 7, 512)\n",
      "(1, 7, 7, 512)\n",
      "(1, 7, 7, 512)\n",
      "(1, 7, 7, 512)\n",
      "(1, 7, 7, 512)\n",
      "(1, 7, 7, 512)\n",
      "(1, 7, 7, 512)\n",
      "(1, 7, 7, 512)\n",
      "(1, 7, 7, 512)\n",
      "(1, 7, 7, 512)\n",
      "(1, 7, 7, 512)\n",
      "(1, 7, 7, 512)\n",
      "(1, 7, 7, 512)\n",
      "(1, 7, 7, 512)\n",
      "(1, 7, 7, 512)\n",
      "(1, 7, 7, 512)\n",
      "(1, 7, 7, 512)\n",
      "(1, 7, 7, 512)\n",
      "(1, 7, 7, 512)\n",
      "(1, 7, 7, 512)\n",
      "(1, 7, 7, 512)\n",
      "(1, 7, 7, 512)\n",
      "(1, 7, 7, 512)\n",
      "(1, 7, 7, 512)\n",
      "(1, 7, 7, 512)\n",
      "(1, 7, 7, 512)\n",
      "(1, 7, 7, 512)\n",
      "(1, 7, 7, 512)\n",
      "(1, 7, 7, 512)\n",
      "(1, 7, 7, 512)\n",
      "(1, 7, 7, 512)\n",
      "(1, 7, 7, 512)\n",
      "(1, 7, 7, 512)\n",
      "(1, 7, 7, 512)\n",
      "(1, 7, 7, 512)\n",
      "(1, 7, 7, 512)\n",
      "(1, 7, 7, 512)\n",
      "(1, 7, 7, 512)\n",
      "(1, 7, 7, 512)\n",
      "(1, 7, 7, 512)\n",
      "(1, 7, 7, 512)\n",
      "(1, 7, 7, 512)\n",
      "(1, 7, 7, 512)\n",
      "(1, 7, 7, 512)\n",
      "(1, 7, 7, 512)\n",
      "(1, 7, 7, 512)\n",
      "(1, 7, 7, 512)\n",
      "(1, 7, 7, 512)\n",
      "(1, 7, 7, 512)\n",
      "(1, 7, 7, 512)\n",
      "(1, 7, 7, 512)\n",
      "(1, 7, 7, 512)\n",
      "(1, 7, 7, 512)\n",
      "(1, 7, 7, 512)\n",
      "(1, 7, 7, 512)\n",
      "(1, 7, 7, 512)\n",
      "(1, 7, 7, 512)\n",
      "(1, 7, 7, 512)\n",
      "(1, 7, 7, 512)\n",
      "(1, 7, 7, 512)\n",
      "(1, 7, 7, 512)\n",
      "(1, 7, 7, 512)\n",
      "(1, 7, 7, 512)\n",
      "(1, 7, 7, 512)\n",
      "(1, 7, 7, 512)\n",
      "(1, 7, 7, 512)\n",
      "(1, 7, 7, 512)\n",
      "(1, 7, 7, 512)\n",
      "(1, 7, 7, 512)\n",
      "(1, 7, 7, 512)\n",
      "(1, 7, 7, 512)\n",
      "(1, 7, 7, 512)\n",
      "(1, 7, 7, 512)\n",
      "(1, 7, 7, 512)\n",
      "(1, 7, 7, 512)\n",
      "(1, 7, 7, 512)\n",
      "(1, 7, 7, 512)\n",
      "(1, 7, 7, 512)\n",
      "(1, 7, 7, 512)\n",
      "(1, 7, 7, 512)\n"
     ]
    }
   ],
   "source": [
    "model = VGG16(weights='imagenet', include_top=False)\n",
    "model.summary()\n",
    "\n",
    "vgg16_feature_list = []\n",
    "\n",
    "\n",
    "for x in frame_choice:\n",
    "    #img_path = 'output/frame' + str(x) + '.jpg'\n",
    "    img_path = dialogue_folder + '/' + film + '_frame'+ str(x) + '.jpg'\n",
    "    img = image.load_img(img_path, target_size=(224, 224))\n",
    "    img_data = image.img_to_array(img)\n",
    "    img_data = np.expand_dims(img_data, axis=0)\n",
    "    img_data = preprocess_input(img_data)\n",
    "\n",
    "    vgg16_feature = model.predict(img_data)\n",
    "    vgg16_feature_np = np.array(vgg16_feature)\n",
    "    vgg16_feature_list.append(vgg16_feature_np.flatten())\n",
    "\n",
    "    print(vgg16_feature.shape)\n",
    "\n",
    "    x += 1"
   ]
  },
  {
   "cell_type": "code",
   "execution_count": null,
   "metadata": {},
   "outputs": [],
   "source": []
  },
  {
   "cell_type": "code",
   "execution_count": 5,
   "metadata": {},
   "outputs": [],
   "source": [
    "vgg16_feature_list_np = np.array(vgg16_feature_list)"
   ]
  },
  {
   "cell_type": "code",
   "execution_count": 6,
   "metadata": {},
   "outputs": [
    {
     "data": {
      "text/plain": [
       "(162, 25088)"
      ]
     },
     "execution_count": 6,
     "metadata": {},
     "output_type": "execute_result"
    }
   ],
   "source": [
    "vgg16_feature_list_np.shape"
   ]
  },
  {
   "cell_type": "code",
   "execution_count": 6,
   "metadata": {},
   "outputs": [
    {
     "name": "stdout",
     "output_type": "stream",
     "text": [
      "[0 0 0 0 0 0 0 0 0 0 0 0 0 0 0 0 0 0 0 0 0 0 0 0 0 0 0 0 0 0 0 0 0 0 0 0 0\n",
      " 0 0 0 0 0 0 0 0 0 0 0 0 0 0 0 0 0 0 0 0 0 0 0 0 0 0 0 0 0 0 0 0 0 0 0 0 0\n",
      " 0 0 0 0 0 0 0 0 0 0 0 0 0 0 0 0 0 0 0 0 1 1 1 1 0 0 0 0 0 1 1 1 1 0 0 0 0\n",
      " 0 2 2 0 0 0 0 0 0 0 0 0 0 0 0 0 0 0 0 0 0 0 0 0 0 0 0 0 0 0 0 0 0 0 0 0 0\n",
      " 0 0 0 0 0 0 0 0 0 0 0 0 0 0 0 0 0 0 0 0 0 0 0]\n"
     ]
    }
   ],
   "source": [
    "# not used, since k clusters needs to be pre-defined\n",
    "kmeans = KMeans(n_clusters=3, random_state=0).fit(vgg16_feature_list_np)\n",
    "\n",
    "print(kmeans.labels_)"
   ]
  },
  {
   "cell_type": "code",
   "execution_count": 7,
   "metadata": {},
   "outputs": [
    {
     "name": "stdout",
     "output_type": "stream",
     "text": [
      "Number of clusters: 6\n",
      "[3 3 3 1 1 1 1 2 2 2 2 2 2 1 1 2 0 0 0 0 0 2 2 2 2 1 1 1 1 1 2 1 1 1 1 1 1\n",
      " 2 2 2 2 2 2 2 3 3 3 3 1 1 2 1 1 2 2 1 1 1 2 2 1 1 2 2 1 2 2 2 2 2 1 1 1 1\n",
      " 2 2 2 1 2 2 2 1 1 2 0 0 0 0 0 0 0 2 2 1 1 1 1 1 1 1 1 2 2 1 1 1 1 1 1 1 1\n",
      " 2 1 2 2 1 5 5 5 4 5 4 4 4 4 4 5 5 5 5 5 4 4 4 4 4 4 5 5 4 4 5 5 4 5 5 5 5\n",
      " 5 5 4 4 4 4 4 4 5 5 0 0 0 0]\n"
     ]
    }
   ],
   "source": [
    "hac = AgglomerativeClustering(n_clusters = None, distance_threshold = 2500).fit(vgg16_feature_list_np)\n",
    "print('Number of clusters:', hac.n_clusters_)\n",
    "print(hac.labels_)"
   ]
  },
  {
   "cell_type": "code",
   "execution_count": 21,
   "metadata": {
    "scrolled": true
   },
   "outputs": [
    {
     "name": "stdout",
     "output_type": "stream",
     "text": [
      "1004 1\n",
      "1005 1\n",
      "1006 1\n",
      "1007 1\n",
      "1008 2\n",
      "1009 2\n",
      "1010 2\n",
      "1011 2\n",
      "1012 2\n",
      "1013 2\n",
      "1014 1\n",
      "1015 1\n",
      "1016 2\n",
      "1022 2\n",
      "1023 2\n",
      "1024 2\n",
      "1025 2\n",
      "1026 1\n",
      "1027 1\n",
      "1028 1\n",
      "1029 1\n",
      "1030 1\n",
      "1031 2\n",
      "1032 1\n",
      "1033 1\n",
      "1034 1\n",
      "1035 1\n",
      "1036 1\n",
      "1037 1\n",
      "1038 2\n",
      "1039 2\n",
      "1040 2\n",
      "1041 2\n",
      "1042 2\n",
      "1043 2\n",
      "1044 2\n",
      "1049 1\n",
      "1050 1\n",
      "1051 2\n",
      "1052 1\n",
      "1053 1\n",
      "1054 2\n",
      "1055 2\n",
      "1056 1\n",
      "1057 1\n",
      "1058 1\n",
      "1059 2\n",
      "1060 2\n",
      "1061 1\n",
      "1062 1\n",
      "1063 2\n",
      "1064 2\n",
      "1065 1\n",
      "1066 2\n",
      "1067 2\n",
      "1068 2\n",
      "1069 2\n",
      "1070 2\n",
      "1071 1\n",
      "1072 1\n",
      "1073 1\n",
      "1074 1\n",
      "1075 2\n",
      "1076 2\n",
      "1077 2\n",
      "1078 1\n",
      "1079 2\n",
      "1080 2\n",
      "1081 2\n",
      "1082 1\n",
      "1083 1\n",
      "1084 2\n",
      "1092 2\n",
      "1093 2\n",
      "1094 1\n",
      "1095 1\n",
      "1096 1\n",
      "1097 1\n",
      "1098 1\n",
      "1099 1\n",
      "1100 1\n",
      "1101 1\n",
      "1102 2\n",
      "1103 2\n",
      "1104 1\n",
      "1105 1\n",
      "1106 1\n",
      "1107 1\n",
      "1108 1\n",
      "1109 1\n",
      "1110 1\n",
      "1111 1\n",
      "1112 2\n",
      "1113 1\n",
      "1114 2\n",
      "1115 2\n",
      "1116 1\n"
     ]
    }
   ],
   "source": [
    "cluster_numbers = [1, 2]\n",
    "\n",
    "zip(hac.labels_, frames)\n",
    "for frame, label in zip(frames, hac.labels_):\n",
    "    if label in cluster_numbers:\n",
    "        print(frame, label)"
   ]
  },
  {
   "cell_type": "code",
   "execution_count": null,
   "metadata": {},
   "outputs": [],
   "source": []
  },
  {
   "cell_type": "code",
   "execution_count": 9,
   "metadata": {
    "scrolled": false
   },
   "outputs": [
    {
     "name": "stdout",
     "output_type": "stream",
     "text": [
      "1001 3\n",
      "1002 3\n",
      "1003 3\n",
      "1004 1\n",
      "1005 1\n",
      "1006 1\n",
      "1007 1\n",
      "1008 2\n",
      "1009 2\n",
      "1010 2\n",
      "1011 2\n",
      "1012 2\n",
      "1013 2\n",
      "1014 1\n",
      "1015 1\n",
      "1016 2\n",
      "1017 0\n",
      "1018 0\n",
      "1019 0\n",
      "1020 0\n",
      "1021 0\n",
      "1022 2\n",
      "1023 2\n",
      "1024 2\n",
      "1025 2\n",
      "1026 1\n",
      "1027 1\n",
      "1028 1\n",
      "1029 1\n",
      "1030 1\n",
      "1031 2\n",
      "1032 1\n",
      "1033 1\n",
      "1034 1\n",
      "1035 1\n",
      "1036 1\n",
      "1037 1\n",
      "1038 2\n",
      "1039 2\n",
      "1040 2\n",
      "1041 2\n",
      "1042 2\n",
      "1043 2\n",
      "1044 2\n",
      "1045 3\n",
      "1046 3\n",
      "1047 3\n",
      "1048 3\n",
      "1049 1\n",
      "1050 1\n",
      "1051 2\n",
      "1052 1\n",
      "1053 1\n",
      "1054 2\n",
      "1055 2\n",
      "1056 1\n",
      "1057 1\n",
      "1058 1\n",
      "1059 2\n",
      "1060 2\n",
      "1061 1\n",
      "1062 1\n",
      "1063 2\n",
      "1064 2\n",
      "1065 1\n",
      "1066 2\n",
      "1067 2\n",
      "1068 2\n",
      "1069 2\n",
      "1070 2\n",
      "1071 1\n",
      "1072 1\n",
      "1073 1\n",
      "1074 1\n",
      "1075 2\n",
      "1076 2\n",
      "1077 2\n",
      "1078 1\n",
      "1079 2\n",
      "1080 2\n",
      "1081 2\n",
      "1082 1\n",
      "1083 1\n",
      "1084 2\n",
      "1085 0\n",
      "1086 0\n",
      "1087 0\n",
      "1088 0\n",
      "1089 0\n",
      "1090 0\n",
      "1091 0\n",
      "1092 2\n",
      "1093 2\n",
      "1094 1\n",
      "1095 1\n",
      "1096 1\n",
      "1097 1\n",
      "1098 1\n",
      "1099 1\n",
      "1100 1\n",
      "1101 1\n",
      "1102 2\n",
      "1103 2\n",
      "1104 1\n",
      "1105 1\n",
      "1106 1\n",
      "1107 1\n",
      "1108 1\n",
      "1109 1\n",
      "1110 1\n",
      "1111 1\n",
      "1112 2\n",
      "1113 1\n",
      "1114 2\n",
      "1115 2\n",
      "1116 1\n",
      "1117 5\n",
      "1118 5\n",
      "1119 5\n",
      "1120 4\n",
      "1121 5\n",
      "1122 4\n",
      "1123 4\n",
      "1124 4\n",
      "1125 4\n",
      "1126 4\n",
      "1127 5\n",
      "1128 5\n",
      "1129 5\n",
      "1130 5\n",
      "1131 5\n",
      "1132 4\n",
      "1133 4\n",
      "1134 4\n",
      "1135 4\n",
      "1136 4\n",
      "1137 4\n",
      "1138 5\n",
      "1139 5\n",
      "1140 4\n",
      "1141 4\n",
      "1142 5\n",
      "1143 5\n",
      "1144 4\n",
      "1145 5\n",
      "1146 5\n",
      "1147 5\n",
      "1148 5\n",
      "1149 5\n",
      "1150 5\n",
      "1151 4\n",
      "1152 4\n",
      "1153 4\n",
      "1154 4\n",
      "1155 4\n",
      "1156 4\n",
      "1157 5\n",
      "1158 5\n",
      "1159 0\n",
      "1160 0\n",
      "1161 0\n",
      "1162 0\n"
     ]
    }
   ],
   "source": [
    "# identify clusters for each frame\n",
    "zip(hac.labels_, frames)\n",
    "for frame, label in zip(frames, hac.labels_):\n",
    "    print(frame, label)"
   ]
  },
  {
   "cell_type": "markdown",
   "metadata": {},
   "source": [
    "## Load Saved Model and Identify MCUs"
   ]
  },
  {
   "cell_type": "code",
   "execution_count": 12,
   "metadata": {},
   "outputs": [],
   "source": [
    "tuned_model = models.load_model('saved_models/tuned_model')"
   ]
  },
  {
   "cell_type": "code",
   "execution_count": null,
   "metadata": {},
   "outputs": [],
   "source": [
    "# create image data from frame_choice\n",
    "test_generator = ImageDataGenerator(rescale=1./255).flow_from_directory(dialogue_folder, target_size=(128, 128), color_mode = 'grayscale', batch_size = 1000)"
   ]
  },
  {
   "cell_type": "code",
   "execution_count": null,
   "metadata": {},
   "outputs": [],
   "source": [
    "class_labels = ['Non-MCU', 'MCU']\n",
    "test_images, test_labels = next(test_generator)\n",
    "test_y = np.reshape(test_labels[:,0], (2285,1))\n",
    "print (\"test_images shape: \" + str(test_images.shape))\n",
    "print (\"test_labels shape: \" + str(test_labels.shape))"
   ]
  },
  {
   "cell_type": "code",
   "execution_count": 31,
   "metadata": {},
   "outputs": [],
   "source": [
    "x = 1023\n",
    "sample_image = img_to_array(load_img(dialogue_folder + '/' + film + '_frame'+ str(x) + '.jpg', target_size = (128, 128), color_mode = 'grayscale'))"
   ]
  },
  {
   "cell_type": "code",
   "execution_count": 32,
   "metadata": {
    "scrolled": true
   },
   "outputs": [
    {
     "data": {
      "text/plain": [
       "(128, 128, 1)"
      ]
     },
     "execution_count": 32,
     "metadata": {},
     "output_type": "execute_result"
    }
   ],
   "source": [
    "sample_image.shape"
   ]
  },
  {
   "cell_type": "code",
   "execution_count": 34,
   "metadata": {},
   "outputs": [
    {
     "data": {
      "text/plain": [
       "(128, 128, 1)"
      ]
     },
     "execution_count": 34,
     "metadata": {},
     "output_type": "execute_result"
    }
   ],
   "source": [
    "np.reshape(sample_image, (1, 128, 128, 1))\n",
    "sample_image.shape"
   ]
  },
  {
   "cell_type": "code",
   "execution_count": 40,
   "metadata": {},
   "outputs": [],
   "source": [
    "x_list = [1023, 1024]\n",
    "sample_list = []\n",
    "for x in x_list:\n",
    "    sample_list.append(img_to_array(load_img(dialogue_folder + '/' + film + '_frame'+ str(x) + '.jpg', target_size = (128, 128), color_mode = 'grayscale')))"
   ]
  },
  {
   "cell_type": "code",
   "execution_count": 43,
   "metadata": {},
   "outputs": [],
   "source": [
    "sample_array = np.array(sample_list)"
   ]
  },
  {
   "cell_type": "code",
   "execution_count": 45,
   "metadata": {},
   "outputs": [],
   "source": [
    "y_pred = tuned_model.predict_classes(sample_array)"
   ]
  },
  {
   "cell_type": "code",
   "execution_count": 46,
   "metadata": {},
   "outputs": [
    {
     "data": {
      "text/plain": [
       "array([[1],\n",
       "       [1]], dtype=int32)"
      ]
     },
     "execution_count": 46,
     "metadata": {},
     "output_type": "execute_result"
    }
   ],
   "source": [
    "y_pred"
   ]
  },
  {
   "cell_type": "code",
   "execution_count": null,
   "metadata": {},
   "outputs": [],
   "source": []
  }
 ],
 "metadata": {
  "kernelspec": {
   "display_name": "Python 3",
   "language": "python",
   "name": "python3"
  },
  "language_info": {
   "codemirror_mode": {
    "name": "ipython",
    "version": 3
   },
   "file_extension": ".py",
   "mimetype": "text/x-python",
   "name": "python",
   "nbconvert_exporter": "python",
   "pygments_lexer": "ipython3",
   "version": "3.6.9"
  }
 },
 "nbformat": 4,
 "nbformat_minor": 4
}
