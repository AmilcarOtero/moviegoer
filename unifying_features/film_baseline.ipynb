{
 "cells": [
  {
   "cell_type": "markdown",
   "metadata": {},
   "source": [
    "# film_baseline\n",
    "To get the general feel for a film, we'll define some baseline characteristics. Some of these, such as conversation speed, can be compared to individual scenes; this helps us find scenes which might be particularly dramatic or emotional."
   ]
  },
  {
   "cell_type": "code",
   "execution_count": 1,
   "metadata": {},
   "outputs": [],
   "source": [
    "import sys\n",
    "sys.path.append('../data_serialization')\n",
    "from serialization_preprocessing_io import *"
   ]
  },
  {
   "cell_type": "code",
   "execution_count": 2,
   "metadata": {},
   "outputs": [],
   "source": [
    "film = 'plus_one_2019'\n",
    "srt_df, subtitle_df, sentence_df, vision_df, face_df = read_pickle(film)"
   ]
  },
  {
   "cell_type": "markdown",
   "metadata": {},
   "source": [
    "### Disregarding credits\n",
    "First, we'll need a way to disregard frames that contain the credits. This will throw off our baseline characteristics.\n",
    "\n",
    "As a quick-and-dirty way of accomplishing this, we can look for the last frame that has a face in it, and then disregard every frame after that."
   ]
  },
  {
   "cell_type": "code",
   "execution_count": 3,
   "metadata": {},
   "outputs": [],
   "source": [
    "frame_before_credits = face_df[face_df['faces_found'] > 0].tail(1).index[0]  # final frame before credits\n",
    "vision_nocreds_df = vision_df[0:frame_before_credits].copy()\n",
    "face_nocreds_df = face_df[0:frame_before_credits].copy()\n",
    "subtitle_nocreds_df = subtitle_df[0:frame_before_credits].copy()\n",
    "sentence_nocreds_df = sentence_df[0:frame_before_credits].copy()"
   ]
  },
  {
   "cell_type": "markdown",
   "metadata": {},
   "source": [
    "## Dialogue\n",
    "### Profanity Per Word\n",
    "First, we'll take a look at the dialogue. We'll first quantify how much profanity is in the film as a whole. We'll look for \"profanity per word\", like \"1 in X words is a profanity\". After we calculate this, we'll be able to search for dramatic scenes with an above-average amount of profanity.\n",
    "\n",
    "We'll define a function `get_word_count()` to calculate total words. Then we'll count up the number of profanities."
   ]
  },
  {
   "cell_type": "code",
   "execution_count": 4,
   "metadata": {},
   "outputs": [],
   "source": [
    "def get_word_count(sentence_nocreds_df):\n",
    "    space_count = 0\n",
    "    sentence_list = sentence_nocreds_df.sentence.tolist()\n",
    "    for sentence in sentence_list:\n",
    "        for character in sentence:\n",
    "            if character.isspace():\n",
    "                space_count += 1\n",
    "    word_count = space_count + len(sentence_list)\n",
    "\n",
    "    return word_count"
   ]
  },
  {
   "cell_type": "code",
   "execution_count": 5,
   "metadata": {},
   "outputs": [],
   "source": [
    "def get_profanity_per_word(sentence_nocreds_df):\n",
    "    word_count = get_word_count(sentence_nocreds_df)\n",
    "    profanity_count = sentence_nocreds_df.profanity.sum()\n",
    "\n",
    "    profanity_per_word = profanity_count/word_count\n",
    "\n",
    "    return profanity_per_word"
   ]
  },
  {
   "cell_type": "code",
   "execution_count": 6,
   "metadata": {},
   "outputs": [],
   "source": [
    "profanity_per_word = get_profanity_per_word(sentence_nocreds_df)"
   ]
  },
  {
   "cell_type": "code",
   "execution_count": 7,
   "metadata": {},
   "outputs": [
    {
     "name": "stdout",
     "output_type": "stream",
     "text": [
      "One in 117 words is a profanity.\n"
     ]
    }
   ],
   "source": [
    "if profanity_per_word == 0:\n",
    "    print('The film contains no profanity.')\n",
    "else:\n",
    "    print('One in', round(1 / profanity_per_word), 'words is a profanity.')"
   ]
  }
 ],
 "metadata": {
  "kernelspec": {
   "display_name": "Python (moviegoer)",
   "language": "python",
   "name": "moviegoer"
  },
  "language_info": {
   "codemirror_mode": {
    "name": "ipython",
    "version": 3
   },
   "file_extension": ".py",
   "mimetype": "text/x-python",
   "name": "python",
   "nbconvert_exporter": "python",
   "pygments_lexer": "ipython3",
   "version": "3.7.7"
  }
 },
 "nbformat": 4,
 "nbformat_minor": 4
}
