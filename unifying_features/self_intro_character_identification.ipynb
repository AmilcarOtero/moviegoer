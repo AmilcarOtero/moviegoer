{
 "cells": [
  {
   "cell_type": "markdown",
   "metadata": {},
   "source": [
    "# self_intro_character_identification\n",
    "Since we've explored the visual, audio, and subtitle tracks and extracted features from each, we can start to use them all together to accomplish broader *Moviegoer* goals. This notebook is the first example of this.\n",
    "\n",
    "We'll be generating a list of possible characters, then looking for these names in self-identifications (\"My name is Alice.\" or \"I'm Ben.\"). Then we can build a composite, \"average\" encoding of their face, so we can track them throughout the film, every time we spot their face."
   ]
  },
  {
   "cell_type": "code",
   "execution_count": 1,
   "metadata": {},
   "outputs": [],
   "source": [
    "import sys\n",
    "sys.path.append('../subtitle_features')\n",
    "from subtitle_dataframes_io import *\n",
    "from subtitle_auxiliary_io import *\n",
    "sys.path.append('../vision_features')\n",
    "from vision_dataframes_io import *\n",
    "sys.path.append('../audio_features')\n",
    "from audio_dataframes_io import *\n",
    "from time_reference_io import *\n",
    "import datetime\n",
    "\n",
    "pd.set_option('display.max_colwidth', None)\n",
    "nlp = spacy.load('en')"
   ]
  },
  {
   "cell_type": "markdown",
   "metadata": {},
   "source": [
    "## Generating the Film's Character List\n",
    "We'll generate the `subtitle_df` and `sentence_df` dataframes based off the subtitle file."
   ]
  },
  {
   "cell_type": "code",
   "execution_count": 2,
   "metadata": {},
   "outputs": [],
   "source": [
    "subs = pysrt.open('../subtitles/plus_one.srt')\n",
    "subtitle_df = generate_base_subtitle_df(subs)\n",
    "subtitle_df = generate_subtitle_features(subtitle_df)\n",
    "subtitle_df['cleaned_text'] = subtitle_df['concat_sep_text'].map(clean_line)\n",
    "sentences = partition_sentences(remove_blanks(subtitle_df['cleaned_text'].tolist()), nlp)\n",
    "subtitle_indices = tie_sentence_subtitle_indices(sentences, subtitle_df)\n",
    "sentence_df = pd.DataFrame(list(zip(sentences, subtitle_indices)), columns=['sentence', 'subtitle_indices'])\n",
    "sentence_df = generate_sentence_features(sentence_df, nlp)"
   ]
  },
  {
   "cell_type": "markdown",
   "metadata": {},
   "source": [
    "We've previously defined two functions that will read through the subtitles and count up character names, either mentioned as dialogue, or labelling an offscreen speaker."
   ]
  },
  {
   "cell_type": "code",
   "execution_count": 3,
   "metadata": {},
   "outputs": [
    {
     "data": {
      "text/plain": [
       "[('Ben', 95),\n",
       " ('Alice', 33),\n",
       " ('Dad', 21),\n",
       " ('Gina', 11),\n",
       " ('Brett', 7),\n",
       " ('Nick', 6),\n",
       " ('Matt', 5),\n",
       " ('Jess Ramsey', 5),\n",
       " ('Amanda', 4),\n",
       " ('Ben King', 4)]"
      ]
     },
     "execution_count": 3,
     "metadata": {},
     "output_type": "execute_result"
    }
   ],
   "source": [
    "chars_sub_mentions = character_subtitle_mentions(sentences, nlp)\n",
    "chars_sub_mentions"
   ]
  },
  {
   "cell_type": "code",
   "execution_count": 4,
   "metadata": {
    "scrolled": true
   },
   "outputs": [
    {
     "data": {
      "text/plain": [
       "[('ALICE', 51),\n",
       " ('BEN', 47),\n",
       " ('CHUCK', 14),\n",
       " ('ANGELA', 5),\n",
       " ('NICK', 3),\n",
       " ('DAVIS', 3),\n",
       " ('MATT', 3),\n",
       " ('DEEJAY', 2),\n",
       " ('BRETT', 2),\n",
       " ('NATE', 1)]"
      ]
     },
     "execution_count": 4,
     "metadata": {},
     "output_type": "execute_result"
    }
   ],
   "source": [
    "chars_offscreen_speakers = character_offscreen_speakers(subtitle_df)\n",
    "chars_offscreen_speakers"
   ]
  },
  {
   "cell_type": "markdown",
   "metadata": {},
   "source": [
    "We can take the most common names, and assume they're the main characters."
   ]
  },
  {
   "cell_type": "code",
   "execution_count": 5,
   "metadata": {},
   "outputs": [
    {
     "data": {
      "text/plain": [
       "['angela', 'alice', 'dad', 'gina', 'chuck', 'ben']"
      ]
     },
     "execution_count": 5,
     "metadata": {},
     "output_type": "execute_result"
    }
   ],
   "source": [
    "characters = []\n",
    "\n",
    "for character in chars_sub_mentions:\n",
    "    if character[1] >= 10:\n",
    "        characters.append(character[0].lower())\n",
    "\n",
    "for character in chars_offscreen_speakers:\n",
    "    if character[1] >= 5: \n",
    "        characters.append(character[0].lower())\n",
    "        \n",
    "characters = list(set(characters))\n",
    "characters"
   ]
  },
  {
   "cell_type": "markdown",
   "metadata": {},
   "source": [
    "## Finding Self-Introduction Sentences\n",
    "For this exercise, we're going to identify characters solely based on self-introductions. We have a function to find phrases like \"My name is Alice.\" or \"I'm Ben.\""
   ]
  },
  {
   "cell_type": "code",
   "execution_count": 6,
   "metadata": {
    "scrolled": true
   },
   "outputs": [
    {
     "data": {
      "text/html": [
       "<div>\n",
       "<style scoped>\n",
       "    .dataframe tbody tr th:only-of-type {\n",
       "        vertical-align: middle;\n",
       "    }\n",
       "\n",
       "    .dataframe tbody tr th {\n",
       "        vertical-align: top;\n",
       "    }\n",
       "\n",
       "    .dataframe thead th {\n",
       "        text-align: right;\n",
       "    }\n",
       "</style>\n",
       "<table border=\"1\" class=\"dataframe\">\n",
       "  <thead>\n",
       "    <tr style=\"text-align: right;\">\n",
       "      <th></th>\n",
       "      <th>sentence</th>\n",
       "      <th>subtitle_indices</th>\n",
       "      <th>self_intro</th>\n",
       "      <th>other_intro</th>\n",
       "      <th>direct_address</th>\n",
       "      <th>conv_boundary</th>\n",
       "    </tr>\n",
       "  </thead>\n",
       "  <tbody>\n",
       "    <tr>\n",
       "      <th>539</th>\n",
       "      <td>I'm Ben, by the way.\"</td>\n",
       "      <td>[506]</td>\n",
       "      <td>Ben</td>\n",
       "      <td>None</td>\n",
       "      <td>None</td>\n",
       "      <td>None</td>\n",
       "    </tr>\n",
       "    <tr>\n",
       "      <th>564</th>\n",
       "      <td>I'm Ben.</td>\n",
       "      <td>[527]</td>\n",
       "      <td>Ben</td>\n",
       "      <td>None</td>\n",
       "      <td>None</td>\n",
       "      <td>None</td>\n",
       "    </tr>\n",
       "    <tr>\n",
       "      <th>566</th>\n",
       "      <td>I'm Kara.</td>\n",
       "      <td>[528]</td>\n",
       "      <td>Kara</td>\n",
       "      <td>None</td>\n",
       "      <td>None</td>\n",
       "      <td>None</td>\n",
       "    </tr>\n",
       "    <tr>\n",
       "      <th>748</th>\n",
       "      <td>I'm Ellie, by the way.</td>\n",
       "      <td>[697]</td>\n",
       "      <td>Ellie</td>\n",
       "      <td>None</td>\n",
       "      <td>None</td>\n",
       "      <td>None</td>\n",
       "    </tr>\n",
       "    <tr>\n",
       "      <th>752</th>\n",
       "      <td>I'm Alice.</td>\n",
       "      <td>[701]</td>\n",
       "      <td>Alice</td>\n",
       "      <td>None</td>\n",
       "      <td>None</td>\n",
       "      <td>None</td>\n",
       "    </tr>\n",
       "    <tr>\n",
       "      <th>909</th>\n",
       "      <td>I'm Ben King.</td>\n",
       "      <td>[843]</td>\n",
       "      <td>Ben King</td>\n",
       "      <td>None</td>\n",
       "      <td>None</td>\n",
       "      <td>None</td>\n",
       "    </tr>\n",
       "    <tr>\n",
       "      <th>2324</th>\n",
       "      <td>Uh, I'm Ben.</td>\n",
       "      <td>[2068]</td>\n",
       "      <td>Ben</td>\n",
       "      <td>None</td>\n",
       "      <td>None</td>\n",
       "      <td>None</td>\n",
       "    </tr>\n",
       "    <tr>\n",
       "      <th>2327</th>\n",
       "      <td>I'm Alice.</td>\n",
       "      <td>[2069]</td>\n",
       "      <td>Alice</td>\n",
       "      <td>None</td>\n",
       "      <td>None</td>\n",
       "      <td>None</td>\n",
       "    </tr>\n",
       "    <tr>\n",
       "      <th>2331</th>\n",
       "      <td>I'm Jackie.</td>\n",
       "      <td>[2070]</td>\n",
       "      <td>Jackie</td>\n",
       "      <td>None</td>\n",
       "      <td>None</td>\n",
       "      <td>None</td>\n",
       "    </tr>\n",
       "    <tr>\n",
       "      <th>2961</th>\n",
       "      <td>I'm Ben, and most of you here probably know me as Chuck's son.</td>\n",
       "      <td>[2619, 2620]</td>\n",
       "      <td>Ben</td>\n",
       "      <td>None</td>\n",
       "      <td>None</td>\n",
       "      <td>None</td>\n",
       "    </tr>\n",
       "  </tbody>\n",
       "</table>\n",
       "</div>"
      ],
      "text/plain": [
       "                                                            sentence  \\\n",
       "539                                            I'm Ben, by the way.\"   \n",
       "564                                                         I'm Ben.   \n",
       "566                                                        I'm Kara.   \n",
       "748                                           I'm Ellie, by the way.   \n",
       "752                                                       I'm Alice.   \n",
       "909                                                    I'm Ben King.   \n",
       "2324                                                    Uh, I'm Ben.   \n",
       "2327                                                      I'm Alice.   \n",
       "2331                                                     I'm Jackie.   \n",
       "2961  I'm Ben, and most of you here probably know me as Chuck's son.   \n",
       "\n",
       "     subtitle_indices self_intro other_intro direct_address conv_boundary  \n",
       "539             [506]        Ben        None           None          None  \n",
       "564             [527]        Ben        None           None          None  \n",
       "566             [528]       Kara        None           None          None  \n",
       "748             [697]      Ellie        None           None          None  \n",
       "752             [701]      Alice        None           None          None  \n",
       "909             [843]   Ben King        None           None          None  \n",
       "2324           [2068]        Ben        None           None          None  \n",
       "2327           [2069]      Alice        None           None          None  \n",
       "2331           [2070]     Jackie        None           None          None  \n",
       "2961     [2619, 2620]        Ben        None           None          None  "
      ]
     },
     "execution_count": 6,
     "metadata": {},
     "output_type": "execute_result"
    }
   ],
   "source": [
    "sentence_df[sentence_df['self_intro'].notnull()]"
   ]
  },
  {
   "cell_type": "markdown",
   "metadata": {},
   "source": [
    "For now, we'll focus on Ben's self-introductions. The film has five sentences where he introduces himself. "
   ]
  },
  {
   "cell_type": "code",
   "execution_count": 7,
   "metadata": {},
   "outputs": [],
   "source": [
    "ben_string = 'ben'"
   ]
  },
  {
   "cell_type": "code",
   "execution_count": 8,
   "metadata": {},
   "outputs": [
    {
     "data": {
      "text/html": [
       "<div>\n",
       "<style scoped>\n",
       "    .dataframe tbody tr th:only-of-type {\n",
       "        vertical-align: middle;\n",
       "    }\n",
       "\n",
       "    .dataframe tbody tr th {\n",
       "        vertical-align: top;\n",
       "    }\n",
       "\n",
       "    .dataframe thead th {\n",
       "        text-align: right;\n",
       "    }\n",
       "</style>\n",
       "<table border=\"1\" class=\"dataframe\">\n",
       "  <thead>\n",
       "    <tr style=\"text-align: right;\">\n",
       "      <th></th>\n",
       "      <th>sentence</th>\n",
       "      <th>subtitle_indices</th>\n",
       "      <th>self_intro</th>\n",
       "      <th>other_intro</th>\n",
       "      <th>direct_address</th>\n",
       "      <th>conv_boundary</th>\n",
       "    </tr>\n",
       "  </thead>\n",
       "  <tbody>\n",
       "    <tr>\n",
       "      <th>539</th>\n",
       "      <td>I'm Ben, by the way.\"</td>\n",
       "      <td>[506]</td>\n",
       "      <td>Ben</td>\n",
       "      <td>None</td>\n",
       "      <td>None</td>\n",
       "      <td>None</td>\n",
       "    </tr>\n",
       "    <tr>\n",
       "      <th>564</th>\n",
       "      <td>I'm Ben.</td>\n",
       "      <td>[527]</td>\n",
       "      <td>Ben</td>\n",
       "      <td>None</td>\n",
       "      <td>None</td>\n",
       "      <td>None</td>\n",
       "    </tr>\n",
       "    <tr>\n",
       "      <th>909</th>\n",
       "      <td>I'm Ben King.</td>\n",
       "      <td>[843]</td>\n",
       "      <td>Ben King</td>\n",
       "      <td>None</td>\n",
       "      <td>None</td>\n",
       "      <td>None</td>\n",
       "    </tr>\n",
       "    <tr>\n",
       "      <th>2324</th>\n",
       "      <td>Uh, I'm Ben.</td>\n",
       "      <td>[2068]</td>\n",
       "      <td>Ben</td>\n",
       "      <td>None</td>\n",
       "      <td>None</td>\n",
       "      <td>None</td>\n",
       "    </tr>\n",
       "    <tr>\n",
       "      <th>2961</th>\n",
       "      <td>I'm Ben, and most of you here probably know me as Chuck's son.</td>\n",
       "      <td>[2619, 2620]</td>\n",
       "      <td>Ben</td>\n",
       "      <td>None</td>\n",
       "      <td>None</td>\n",
       "      <td>None</td>\n",
       "    </tr>\n",
       "  </tbody>\n",
       "</table>\n",
       "</div>"
      ],
      "text/plain": [
       "                                                            sentence  \\\n",
       "539                                            I'm Ben, by the way.\"   \n",
       "564                                                         I'm Ben.   \n",
       "909                                                    I'm Ben King.   \n",
       "2324                                                    Uh, I'm Ben.   \n",
       "2961  I'm Ben, and most of you here probably know me as Chuck's son.   \n",
       "\n",
       "     subtitle_indices self_intro other_intro direct_address conv_boundary  \n",
       "539             [506]        Ben        None           None          None  \n",
       "564             [527]        Ben        None           None          None  \n",
       "909             [843]   Ben King        None           None          None  \n",
       "2324           [2068]        Ben        None           None          None  \n",
       "2961     [2619, 2620]        Ben        None           None          None  "
      ]
     },
     "execution_count": 8,
     "metadata": {},
     "output_type": "execute_result"
    }
   ],
   "source": [
    "sentence_df[sentence_df.self_intro.str.contains(ben_string, na=False, case=False)]"
   ]
  },
  {
   "cell_type": "markdown",
   "metadata": {},
   "source": [
    "## Calculating the Film Times\n",
    "From the `sentence_df`, we need to look for Ben's self-introductions and find the indices in `subtitle_df`, which contains times of the actual subtitles (not sentences)."
   ]
  },
  {
   "cell_type": "code",
   "execution_count": 9,
   "metadata": {},
   "outputs": [
    {
     "data": {
      "text/plain": [
       "array([list([506]), list([527]), list([843]), list([2068]),\n",
       "       list([2619, 2620])], dtype=object)"
      ]
     },
     "execution_count": 9,
     "metadata": {},
     "output_type": "execute_result"
    }
   ],
   "source": [
    "ben_indices = sentence_df[sentence_df.self_intro.str.contains(ben_string, na=False, case=False)].subtitle_indices.values\n",
    "ben_indices"
   ]
  },
  {
   "cell_type": "code",
   "execution_count": 10,
   "metadata": {},
   "outputs": [
    {
     "data": {
      "text/plain": [
       "array([ 506,  527,  843, 2068, 2619, 2620])"
      ]
     },
     "execution_count": 10,
     "metadata": {},
     "output_type": "execute_result"
    }
   ],
   "source": [
    "ben_flattened_indices = np.concatenate(ben_indices).ravel()\n",
    "ben_flattened_indices"
   ]
  },
  {
   "cell_type": "markdown",
   "metadata": {},
   "source": [
    "We can see that one of these sentences spans two separate subtitles. We'll leave both of these in, because if it spans such a long duration, there's a good chance it'll have Ben's face onscreen."
   ]
  },
  {
   "cell_type": "code",
   "execution_count": 11,
   "metadata": {},
   "outputs": [
    {
     "data": {
      "text/html": [
       "<div>\n",
       "<style scoped>\n",
       "    .dataframe tbody tr th:only-of-type {\n",
       "        vertical-align: middle;\n",
       "    }\n",
       "\n",
       "    .dataframe tbody tr th {\n",
       "        vertical-align: top;\n",
       "    }\n",
       "\n",
       "    .dataframe thead th {\n",
       "        text-align: right;\n",
       "    }\n",
       "</style>\n",
       "<table border=\"1\" class=\"dataframe\">\n",
       "  <thead>\n",
       "    <tr style=\"text-align: right;\">\n",
       "      <th></th>\n",
       "      <th>srt_index</th>\n",
       "      <th>original_text</th>\n",
       "      <th>start_time</th>\n",
       "      <th>end_time</th>\n",
       "      <th>concat_sep_text</th>\n",
       "      <th>separated_flag</th>\n",
       "      <th>laugh</th>\n",
       "      <th>hesitation</th>\n",
       "      <th>speaker</th>\n",
       "      <th>music</th>\n",
       "      <th>parenthetical</th>\n",
       "      <th>el_parenthetical</th>\n",
       "      <th>el_italic</th>\n",
       "      <th>cleaned_text</th>\n",
       "    </tr>\n",
       "  </thead>\n",
       "  <tbody>\n",
       "    <tr>\n",
       "      <th>506</th>\n",
       "      <td>450</td>\n",
       "      <td>I'm Ben, by the way.\"</td>\n",
       "      <td>00:17:57.244000</td>\n",
       "      <td>00:17:58.662000</td>\n",
       "      <td>I'm Ben, by the way.\"</td>\n",
       "      <td>0</td>\n",
       "      <td>0</td>\n",
       "      <td>0</td>\n",
       "      <td>None</td>\n",
       "      <td>0</td>\n",
       "      <td>None</td>\n",
       "      <td>0</td>\n",
       "      <td>0</td>\n",
       "      <td>I'm Ben, by the way.\"</td>\n",
       "    </tr>\n",
       "    <tr>\n",
       "      <th>527</th>\n",
       "      <td>466</td>\n",
       "      <td>- I'm Ben.\\n- Hi. I'm Kara.</td>\n",
       "      <td>00:18:26.356000</td>\n",
       "      <td>00:18:28.066000</td>\n",
       "      <td>I'm Ben.</td>\n",
       "      <td>1</td>\n",
       "      <td>0</td>\n",
       "      <td>0</td>\n",
       "      <td>None</td>\n",
       "      <td>0</td>\n",
       "      <td>None</td>\n",
       "      <td>0</td>\n",
       "      <td>0</td>\n",
       "      <td>I'm Ben.</td>\n",
       "    </tr>\n",
       "    <tr>\n",
       "      <th>843</th>\n",
       "      <td>747</td>\n",
       "      <td>It's the same thing with me.\\nI'm Ben King.</td>\n",
       "      <td>00:29:33.982000</td>\n",
       "      <td>00:29:35.650000</td>\n",
       "      <td>It's the same thing with me. I'm Ben King.</td>\n",
       "      <td>0</td>\n",
       "      <td>0</td>\n",
       "      <td>0</td>\n",
       "      <td>None</td>\n",
       "      <td>0</td>\n",
       "      <td>None</td>\n",
       "      <td>0</td>\n",
       "      <td>0</td>\n",
       "      <td>It's the same thing with me. I'm Ben King.</td>\n",
       "    </tr>\n",
       "    <tr>\n",
       "      <th>2068</th>\n",
       "      <td>1742</td>\n",
       "      <td>Uh, I'm Ben.\\nThis is Alice.</td>\n",
       "      <td>01:10:01.448000</td>\n",
       "      <td>01:10:03.200000</td>\n",
       "      <td>Uh, I'm Ben. This is Alice.</td>\n",
       "      <td>0</td>\n",
       "      <td>0</td>\n",
       "      <td>0</td>\n",
       "      <td>None</td>\n",
       "      <td>0</td>\n",
       "      <td>None</td>\n",
       "      <td>0</td>\n",
       "      <td>0</td>\n",
       "      <td>Uh, I'm Ben. This is Alice.</td>\n",
       "    </tr>\n",
       "    <tr>\n",
       "      <th>2619</th>\n",
       "      <td>2232</td>\n",
       "      <td>I'm Ben,</td>\n",
       "      <td>01:31:08.547000</td>\n",
       "      <td>01:31:10.341000</td>\n",
       "      <td>I'm Ben,</td>\n",
       "      <td>0</td>\n",
       "      <td>0</td>\n",
       "      <td>0</td>\n",
       "      <td>None</td>\n",
       "      <td>0</td>\n",
       "      <td>None</td>\n",
       "      <td>0</td>\n",
       "      <td>0</td>\n",
       "      <td>I'm Ben,</td>\n",
       "    </tr>\n",
       "    <tr>\n",
       "      <th>2620</th>\n",
       "      <td>2233</td>\n",
       "      <td>and most of you here\\nprobably know me as Chuck's son.</td>\n",
       "      <td>01:31:10.383000</td>\n",
       "      <td>01:31:13.427000</td>\n",
       "      <td>and most of you here probably know me as Chuck's son.</td>\n",
       "      <td>0</td>\n",
       "      <td>0</td>\n",
       "      <td>0</td>\n",
       "      <td>None</td>\n",
       "      <td>0</td>\n",
       "      <td>None</td>\n",
       "      <td>0</td>\n",
       "      <td>0</td>\n",
       "      <td>and most of you here probably know me as Chuck's son.</td>\n",
       "    </tr>\n",
       "  </tbody>\n",
       "</table>\n",
       "</div>"
      ],
      "text/plain": [
       "      srt_index                                           original_text  \\\n",
       "506         450                                   I'm Ben, by the way.\"   \n",
       "527         466                             - I'm Ben.\\n- Hi. I'm Kara.   \n",
       "843         747             It's the same thing with me.\\nI'm Ben King.   \n",
       "2068       1742                            Uh, I'm Ben.\\nThis is Alice.   \n",
       "2619       2232                                                I'm Ben,   \n",
       "2620       2233  and most of you here\\nprobably know me as Chuck's son.   \n",
       "\n",
       "           start_time         end_time  \\\n",
       "506   00:17:57.244000  00:17:58.662000   \n",
       "527   00:18:26.356000  00:18:28.066000   \n",
       "843   00:29:33.982000  00:29:35.650000   \n",
       "2068  01:10:01.448000  01:10:03.200000   \n",
       "2619  01:31:08.547000  01:31:10.341000   \n",
       "2620  01:31:10.383000  01:31:13.427000   \n",
       "\n",
       "                                            concat_sep_text  separated_flag  \\\n",
       "506                                   I'm Ben, by the way.\"               0   \n",
       "527                                                I'm Ben.               1   \n",
       "843              It's the same thing with me. I'm Ben King.               0   \n",
       "2068                            Uh, I'm Ben. This is Alice.               0   \n",
       "2619                                               I'm Ben,               0   \n",
       "2620  and most of you here probably know me as Chuck's son.               0   \n",
       "\n",
       "      laugh  hesitation speaker  music parenthetical  el_parenthetical  \\\n",
       "506       0           0    None      0          None                 0   \n",
       "527       0           0    None      0          None                 0   \n",
       "843       0           0    None      0          None                 0   \n",
       "2068      0           0    None      0          None                 0   \n",
       "2619      0           0    None      0          None                 0   \n",
       "2620      0           0    None      0          None                 0   \n",
       "\n",
       "      el_italic                                           cleaned_text  \n",
       "506           0                                  I'm Ben, by the way.\"  \n",
       "527           0                                               I'm Ben.  \n",
       "843           0             It's the same thing with me. I'm Ben King.  \n",
       "2068          0                            Uh, I'm Ben. This is Alice.  \n",
       "2619          0                                               I'm Ben,  \n",
       "2620          0  and most of you here probably know me as Chuck's son.  "
      ]
     },
     "execution_count": 11,
     "metadata": {},
     "output_type": "execute_result"
    }
   ],
   "source": [
    "subtitle_df[subtitle_df.index.isin(ben_flattened_indices)]"
   ]
  },
  {
   "cell_type": "markdown",
   "metadata": {},
   "source": [
    "For each subtitle, we'll calculate the `mid_time`, or the difference between the start and end times."
   ]
  },
  {
   "cell_type": "code",
   "execution_count": 12,
   "metadata": {},
   "outputs": [
    {
     "data": {
      "text/plain": [
       "1078"
      ]
     },
     "execution_count": 12,
     "metadata": {},
     "output_type": "execute_result"
    }
   ],
   "source": [
    "mid_time = subtitle_mid_time(subtitle_df.iloc[506].start_time, subtitle_df.iloc[506].end_time)\n",
    "time_to_frame(mid_time)"
   ]
  },
  {
   "cell_type": "code",
   "execution_count": 13,
   "metadata": {},
   "outputs": [
    {
     "data": {
      "text/plain": [
       "[1078, 1107, 1775, 4202, 5469, 5472]"
      ]
     },
     "execution_count": 13,
     "metadata": {},
     "output_type": "execute_result"
    }
   ],
   "source": [
    "mid_time_frames = []\n",
    "for sub_index in ben_flattened_indices:\n",
    "    mid_time = subtitle_mid_time(subtitle_df.iloc[sub_index].start_time, subtitle_df.iloc[sub_index].end_time)\n",
    "    mid_time_frames.append(time_to_frame(mid_time))\n",
    "\n",
    "mid_time_frames"
   ]
  }
 ],
 "metadata": {
  "kernelspec": {
   "display_name": "Python (moviegoer)",
   "language": "python",
   "name": "moviegoer"
  },
  "language_info": {
   "codemirror_mode": {
    "name": "ipython",
    "version": 3
   },
   "file_extension": ".py",
   "mimetype": "text/x-python",
   "name": "python",
   "nbconvert_exporter": "python",
   "pygments_lexer": "ipython3",
   "version": "3.7.7"
  }
 },
 "nbformat": 4,
 "nbformat_minor": 4
}
