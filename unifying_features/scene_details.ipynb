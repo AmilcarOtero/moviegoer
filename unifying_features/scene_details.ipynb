{
 "cells": [
  {
   "cell_type": "markdown",
   "metadata": {},
   "source": [
    "# scene_details\n",
    "Since we can automatically identify a few scenes of a film, we can begin taking a closer look at each. In this notebook, we'll try and identify as many features as we can: the level of drama in the dialogue, the emotions of the characters, the mood of the score, etc."
   ]
  },
  {
   "cell_type": "code",
   "execution_count": 1,
   "metadata": {},
   "outputs": [],
   "source": [
    "from sklearn.feature_extraction.text import TfidfVectorizer\n",
    "from time_reference_io import *\n",
    "from film_details_io import *\n",
    "from collections import Counter\n",
    "import pandas as pd\n",
    "from scene_identification_io import *\n",
    "sys.path.append('../subtitle_features')\n",
    "from subtitle_dataframes_io import *"
   ]
  },
  {
   "cell_type": "code",
   "execution_count": 2,
   "metadata": {},
   "outputs": [],
   "source": [
    "film = 'lost_in_translation_2003'\n",
    "srt_df, subtitle_df, sentence_df, vision_df, face_df = read_pickle(film)"
   ]
  },
  {
   "cell_type": "markdown",
   "metadata": {},
   "source": [
    "## Creating Scene-Specific DataFrames\n",
    "We have a function to create a dictionary of scenes."
   ]
  },
  {
   "cell_type": "code",
   "execution_count": 3,
   "metadata": {},
   "outputs": [
    {
     "data": {
      "text/plain": [
       "5"
      ]
     },
     "execution_count": 3,
     "metadata": {},
     "output_type": "execute_result"
    }
   ],
   "source": [
    "scene_dictionaries = generate_scenes(vision_df, face_df, substantial_minimum=4, anchor_search=6)\n",
    "len(scene_dictionaries)"
   ]
  },
  {
   "cell_type": "code",
   "execution_count": 4,
   "metadata": {},
   "outputs": [
    {
     "data": {
      "text/plain": [
       "{'scene_id': 3,\n",
       " 'first_frame': 2489,\n",
       " 'last_frame': 2533,\n",
       " 'scene_duration': 45,\n",
       " 'left_anchor_shot_cluster': 196,\n",
       " 'left_anchor_face_cluster': 18.0,\n",
       " 'matching_left_face_clusters': [9.0, 12.0],\n",
       " 'right_anchor_shot_cluster': 38,\n",
       " 'right_anchor_face_cluster': 6.0,\n",
       " 'matching_right_face_clusters': [],\n",
       " 'cutaway_shot_clusters': [29]}"
      ]
     },
     "execution_count": 4,
     "metadata": {},
     "output_type": "execute_result"
    }
   ],
   "source": [
    "scene_dict = scene_dictionaries[3]\n",
    "scene_dict"
   ]
  },
  {
   "cell_type": "markdown",
   "metadata": {},
   "source": [
    "Each dictionary gives us the first and last frames. We can use these to create new subtitle-related dataframes containing only data from this scene."
   ]
  },
  {
   "cell_type": "code",
   "execution_count": 5,
   "metadata": {},
   "outputs": [],
   "source": [
    "scene_duration = scene_dict['last_frame'] + 1 - scene_dict['first_frame']\n",
    "scene_start_time = frame_to_time(scene_dict['first_frame'])\n",
    "scene_end_time = frame_to_time(scene_dict['last_frame'] + 1) # add 1 second; scene ends one second after this frame is onscreen\n",
    "scene_subtitle_df = subtitle_df[\n",
    "    (subtitle_df['end_time'] > scene_start_time) & (subtitle_df['start_time'] < scene_end_time)].copy()\n",
    "\n",
    "scene_sentence_indices = []\n",
    "x = 0\n",
    "for sub_index_list in sentence_df.subtitle_indices.values:\n",
    "    for sub_index in sub_index_list:\n",
    "        if sub_index in scene_subtitle_df.index.values:\n",
    "            scene_sentence_indices.append(x)\n",
    "    x += 1\n",
    "scene_sentence_df = sentence_df[scene_sentence_indices[0]: scene_sentence_indices[-1] + 1]"
   ]
  },
  {
   "cell_type": "code",
   "execution_count": 6,
   "metadata": {},
   "outputs": [
    {
     "data": {
      "text/html": [
       "<div>\n",
       "<style scoped>\n",
       "    .dataframe tbody tr th:only-of-type {\n",
       "        vertical-align: middle;\n",
       "    }\n",
       "\n",
       "    .dataframe tbody tr th {\n",
       "        vertical-align: top;\n",
       "    }\n",
       "\n",
       "    .dataframe thead th {\n",
       "        text-align: right;\n",
       "    }\n",
       "</style>\n",
       "<table border=\"1\" class=\"dataframe\">\n",
       "  <thead>\n",
       "    <tr style=\"text-align: right;\">\n",
       "      <th></th>\n",
       "      <th>srt_index</th>\n",
       "      <th>original_text</th>\n",
       "      <th>start_time</th>\n",
       "      <th>end_time</th>\n",
       "      <th>concat_sep_text</th>\n",
       "      <th>separated_flag</th>\n",
       "      <th>laugh</th>\n",
       "      <th>hesitation</th>\n",
       "      <th>speaker</th>\n",
       "      <th>music</th>\n",
       "      <th>parenthetical</th>\n",
       "      <th>el_parenthetical</th>\n",
       "      <th>el_italic</th>\n",
       "      <th>cleaned_text</th>\n",
       "    </tr>\n",
       "  </thead>\n",
       "  <tbody>\n",
       "    <tr>\n",
       "      <th>630</th>\n",
       "      <td>631</td>\n",
       "      <td>(GIGGLES)\\nHello.</td>\n",
       "      <td>00:41:30.488000</td>\n",
       "      <td>00:41:31.780000</td>\n",
       "      <td>(GIGGLES) Hello.</td>\n",
       "      <td>0</td>\n",
       "      <td>1</td>\n",
       "      <td>0</td>\n",
       "      <td>None</td>\n",
       "      <td>0</td>\n",
       "      <td>GIGGLES</td>\n",
       "      <td>0</td>\n",
       "      <td>0</td>\n",
       "      <td>Hello.</td>\n",
       "    </tr>\n",
       "    <tr>\n",
       "      <th>631</th>\n",
       "      <td>632</td>\n",
       "      <td>Hello.\\nHow are you?</td>\n",
       "      <td>00:41:31.865000</td>\n",
       "      <td>00:41:33.073000</td>\n",
       "      <td>Hello. How are you?</td>\n",
       "      <td>0</td>\n",
       "      <td>0</td>\n",
       "      <td>0</td>\n",
       "      <td>None</td>\n",
       "      <td>0</td>\n",
       "      <td>None</td>\n",
       "      <td>0</td>\n",
       "      <td>0</td>\n",
       "      <td>Hello. How are you?</td>\n",
       "    </tr>\n",
       "    <tr>\n",
       "      <th>632</th>\n",
       "      <td>633</td>\n",
       "      <td>Good. How are you?</td>\n",
       "      <td>00:41:33.158000</td>\n",
       "      <td>00:41:34.575000</td>\n",
       "      <td>Good. How are you?</td>\n",
       "      <td>0</td>\n",
       "      <td>0</td>\n",
       "      <td>0</td>\n",
       "      <td>None</td>\n",
       "      <td>0</td>\n",
       "      <td>None</td>\n",
       "      <td>0</td>\n",
       "      <td>0</td>\n",
       "      <td>Good. How are you?</td>\n",
       "    </tr>\n",
       "  </tbody>\n",
       "</table>\n",
       "</div>"
      ],
      "text/plain": [
       "     srt_index         original_text       start_time         end_time  \\\n",
       "630        631     (GIGGLES)\\nHello.  00:41:30.488000  00:41:31.780000   \n",
       "631        632  Hello.\\nHow are you?  00:41:31.865000  00:41:33.073000   \n",
       "632        633    Good. How are you?  00:41:33.158000  00:41:34.575000   \n",
       "\n",
       "         concat_sep_text  separated_flag  laugh  hesitation speaker  music  \\\n",
       "630     (GIGGLES) Hello.               0      1           0    None      0   \n",
       "631  Hello. How are you?               0      0           0    None      0   \n",
       "632   Good. How are you?               0      0           0    None      0   \n",
       "\n",
       "    parenthetical  el_parenthetical  el_italic         cleaned_text  \n",
       "630       GIGGLES                 0          0               Hello.  \n",
       "631          None                 0          0  Hello. How are you?  \n",
       "632          None                 0          0   Good. How are you?  "
      ]
     },
     "execution_count": 6,
     "metadata": {},
     "output_type": "execute_result"
    }
   ],
   "source": [
    "scene_subtitle_df.head(3)"
   ]
  },
  {
   "cell_type": "code",
   "execution_count": 7,
   "metadata": {},
   "outputs": [
    {
     "data": {
      "text/html": [
       "<div>\n",
       "<style scoped>\n",
       "    .dataframe tbody tr th:only-of-type {\n",
       "        vertical-align: middle;\n",
       "    }\n",
       "\n",
       "    .dataframe tbody tr th {\n",
       "        vertical-align: top;\n",
       "    }\n",
       "\n",
       "    .dataframe thead th {\n",
       "        text-align: right;\n",
       "    }\n",
       "</style>\n",
       "<table border=\"1\" class=\"dataframe\">\n",
       "  <thead>\n",
       "    <tr style=\"text-align: right;\">\n",
       "      <th></th>\n",
       "      <th>sentence</th>\n",
       "      <th>subtitle_indices</th>\n",
       "      <th>profanity</th>\n",
       "      <th>self_intro</th>\n",
       "      <th>other_intro</th>\n",
       "      <th>direct_address</th>\n",
       "      <th>conv_boundary</th>\n",
       "      <th>offscreen_speaker</th>\n",
       "      <th>implied_speaker</th>\n",
       "    </tr>\n",
       "  </thead>\n",
       "  <tbody>\n",
       "    <tr>\n",
       "      <th>721</th>\n",
       "      <td>Hello.</td>\n",
       "      <td>[630]</td>\n",
       "      <td>0</td>\n",
       "      <td>None</td>\n",
       "      <td>None</td>\n",
       "      <td>None</td>\n",
       "      <td>None</td>\n",
       "      <td>None</td>\n",
       "      <td>NaN</td>\n",
       "    </tr>\n",
       "    <tr>\n",
       "      <th>722</th>\n",
       "      <td>Hello.</td>\n",
       "      <td>[631]</td>\n",
       "      <td>0</td>\n",
       "      <td>None</td>\n",
       "      <td>None</td>\n",
       "      <td>None</td>\n",
       "      <td>None</td>\n",
       "      <td>None</td>\n",
       "      <td>18.0</td>\n",
       "    </tr>\n",
       "    <tr>\n",
       "      <th>723</th>\n",
       "      <td>How are you?</td>\n",
       "      <td>[631]</td>\n",
       "      <td>0</td>\n",
       "      <td>None</td>\n",
       "      <td>None</td>\n",
       "      <td>None</td>\n",
       "      <td>starter</td>\n",
       "      <td>None</td>\n",
       "      <td>18.0</td>\n",
       "    </tr>\n",
       "  </tbody>\n",
       "</table>\n",
       "</div>"
      ],
      "text/plain": [
       "         sentence subtitle_indices  profanity self_intro other_intro  \\\n",
       "721        Hello.            [630]          0       None        None   \n",
       "722        Hello.            [631]          0       None        None   \n",
       "723  How are you?            [631]          0       None        None   \n",
       "\n",
       "    direct_address conv_boundary offscreen_speaker  implied_speaker  \n",
       "721           None          None              None              NaN  \n",
       "722           None          None              None             18.0  \n",
       "723           None       starter              None             18.0  "
      ]
     },
     "execution_count": 7,
     "metadata": {},
     "output_type": "execute_result"
    }
   ],
   "source": [
    "scene_sentence_df.head(3)"
   ]
  }
 ],
 "metadata": {
  "kernelspec": {
   "display_name": "Python (moviegoer)",
   "language": "python",
   "name": "moviegoer"
  },
  "language_info": {
   "codemirror_mode": {
    "name": "ipython",
    "version": 3
   },
   "file_extension": ".py",
   "mimetype": "text/x-python",
   "name": "python",
   "nbconvert_exporter": "python",
   "pygments_lexer": "ipython3",
   "version": "3.7.7"
  }
 },
 "nbformat": 4,
 "nbformat_minor": 4
}
