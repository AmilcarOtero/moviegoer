{
 "cells": [
  {
   "cell_type": "markdown",
   "metadata": {},
   "source": [
    "# Character Tracking\n",
    "As part of our overall effort to follow the events of the film, we'll want to track characters throughout the movie. We do this by creating dictionaries which will primarily recognize characters by face - more specifically, their facial encoding clusters."
   ]
  },
  {
   "cell_type": "code",
   "execution_count": 1,
   "metadata": {},
   "outputs": [],
   "source": [
    "import sys\n",
    "sys.path.append('../data_serialization')\n",
    "from serialization_preprocessing_io import *\n",
    "from time_reference_io import *\n",
    "from scene_identification_io import *"
   ]
  },
  {
   "cell_type": "code",
   "execution_count": 2,
   "metadata": {},
   "outputs": [],
   "source": [
    "film = 'plus_one_2019'\n",
    "srt_df, subtitle_df, sentence_df, vision_df, face_df = read_pickle(film)\n",
    "scene_dictionaries = generate_scenes(vision_df, face_df, substantial_minimum=4, anchor_search=8)"
   ]
  },
  {
   "cell_type": "markdown",
   "metadata": {},
   "source": [
    "We begin by creating a dictionary of scenes. Recall that each scene was found because there was a character in the left anchor shots, and another character in the right anchor shots. Because of the inconsistencies in face clustering, there may be multiple face clusters associated with a character.\n",
    "\n",
    "So in a single scene, we're pretty confident that every face in a left anchor shot is the same character, and every face in a right anchor shot is the same character."
   ]
  },
  {
   "cell_type": "code",
   "execution_count": 3,
   "metadata": {},
   "outputs": [
    {
     "data": {
      "text/plain": [
       "{'scene_id': 1,\n",
       " 'first_frame': 483,\n",
       " 'last_frame': 527,\n",
       " 'scene_duration': 45,\n",
       " 'left_anchor_shot_cluster': 179,\n",
       " 'left_anchor_face_cluster': 3.0,\n",
       " 'matching_left_face_clusters': [11.0],\n",
       " 'right_anchor_shot_cluster': 86,\n",
       " 'right_anchor_face_cluster': 15.0,\n",
       " 'matching_right_face_clusters': [5.0],\n",
       " 'cutaway_shot_clusters': [39]}"
      ]
     },
     "execution_count": 3,
     "metadata": {},
     "output_type": "execute_result"
    }
   ],
   "source": [
    "scene_dictionaries[1]"
   ]
  },
  {
   "cell_type": "markdown",
   "metadata": {},
   "source": [
    "So for the first scene, we know that the left anchor character can be represented by two separate face clusters: 3 and 11. The right anchor character can be represented by two face clusters: 15 and 5. We'll attempt to use this logic and join these clusters together in all the film's scenes."
   ]
  }
 ],
 "metadata": {
  "kernelspec": {
   "display_name": "Python (moviegoer)",
   "language": "python",
   "name": "moviegoer"
  },
  "language_info": {
   "codemirror_mode": {
    "name": "ipython",
    "version": 3
   },
   "file_extension": ".py",
   "mimetype": "text/x-python",
   "name": "python",
   "nbconvert_exporter": "python",
   "pygments_lexer": "ipython3",
   "version": "3.7.7"
  }
 },
 "nbformat": 4,
 "nbformat_minor": 4
}
