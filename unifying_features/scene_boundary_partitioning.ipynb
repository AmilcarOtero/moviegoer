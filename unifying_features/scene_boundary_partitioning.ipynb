{
 "cells": [
  {
   "cell_type": "markdown",
   "metadata": {},
   "source": [
    "# Scene Boundary Paritioning\n",
    "Movies are comprised of self-contained units called scenes. Scenes have a beginning and end, usually comprised of a single conversation. They most often take place in one location with a fixed number of characters. By identifying scenes in a movie, we can then begin to analyze them individually, most notably by treating a scenes's dialogue as a freestanding, indepdent conversation.\n",
    "\n",
    "To start, we'll just be identifying two-character dialogue scenes. These are the most basic building-blocks of films: just two characters speaking together with no distractions, purely advancing the plot with their dialogue. In modern filmmaking, these scenes are usually shot in a specific manner. We can take advantage of this by looking for specific patterns of shots, to identify a few two-character dialogue scenes."
   ]
  },
  {
   "cell_type": "code",
   "execution_count": 1,
   "metadata": {},
   "outputs": [],
   "source": [
    "import sys\n",
    "sys.path.append('../data_serialization')\n",
    "from serialization_preprocessing_io import *\n",
    "from time_reference_io import *\n",
    "from scene_identification_io import *"
   ]
  },
  {
   "cell_type": "markdown",
   "metadata": {},
   "source": [
    "We have saved pickle objects of various dataframes. We'll load into memory the five dataframes, but we're most interested in the two which deal with onscreen images. The each have one row per frame (screencap), with one frame per second — so each row represents one second of onscreen action.\n",
    "- vision_df: contains general computer vision information on each frame, including clusterings of similar frames into \"shots\"\n",
    "- face_df: contains information related to faces found, including their vectorized encodings, and clusters of these encodings"
   ]
  },
  {
   "cell_type": "code",
   "execution_count": 2,
   "metadata": {},
   "outputs": [],
   "source": [
    "film = 'lost_in_translation_2003'\n",
    "srt_df, subtitle_df, sentence_df, vision_df, face_df = read_pickle(film)"
   ]
  },
  {
   "cell_type": "markdown",
   "metadata": {},
   "source": [
    "## The A/B/A/B pattern\n",
    "In modern film, two-character dialogue scenes follow a very distinct pattern. Character A speaks, then Character B, then back to A, then to B, etc. We cut back and forth between the two characters.\n",
    "\n",
    "\n",
    "### Anchor Shots\n",
    "We look for these two Anchor shots, which are the shots of the two characters and form the A/B/A/B pattern. We'll be looking through every frame in the film, and trying to find these ABAB patterns.\n",
    "\n",
    "The key to this lies in two columns in vision_df:\n",
    "- shot_cluster:  represents clusters of similar frames, or shots. Think of a four-second shot of a character speaking. This would be represented as four rows with a common shot_cluster\n",
    "- shot_id: sequential numbering of each shot (regardless of uniqueness). Every time a shot changes (and even if we've seen this shot before), the shot_id is incremented by 1"
   ]
  },
  {
   "cell_type": "code",
   "execution_count": 3,
   "metadata": {
    "scrolled": true
   },
   "outputs": [
    {
     "data": {
      "text/html": [
       "<div>\n",
       "<style scoped>\n",
       "    .dataframe tbody tr th:only-of-type {\n",
       "        vertical-align: middle;\n",
       "    }\n",
       "\n",
       "    .dataframe tbody tr th {\n",
       "        vertical-align: top;\n",
       "    }\n",
       "\n",
       "    .dataframe thead th {\n",
       "        text-align: right;\n",
       "    }\n",
       "</style>\n",
       "<table border=\"1\" class=\"dataframe\">\n",
       "  <thead>\n",
       "    <tr style=\"text-align: right;\">\n",
       "      <th></th>\n",
       "      <th>blank</th>\n",
       "      <th>aspect_ratio</th>\n",
       "      <th>brightness</th>\n",
       "      <th>contrast</th>\n",
       "      <th>blue</th>\n",
       "      <th>green</th>\n",
       "      <th>red</th>\n",
       "      <th>shot_cluster</th>\n",
       "      <th>shot_id</th>\n",
       "    </tr>\n",
       "    <tr>\n",
       "      <th>frame</th>\n",
       "      <th></th>\n",
       "      <th></th>\n",
       "      <th></th>\n",
       "      <th></th>\n",
       "      <th></th>\n",
       "      <th></th>\n",
       "      <th></th>\n",
       "      <th></th>\n",
       "      <th></th>\n",
       "    </tr>\n",
       "  </thead>\n",
       "  <tbody>\n",
       "    <tr>\n",
       "      <th>203</th>\n",
       "      <td>None</td>\n",
       "      <td>1.84</td>\n",
       "      <td>26</td>\n",
       "      <td>20</td>\n",
       "      <td>21</td>\n",
       "      <td>23</td>\n",
       "      <td>34</td>\n",
       "      <td>275</td>\n",
       "      <td>37</td>\n",
       "    </tr>\n",
       "    <tr>\n",
       "      <th>204</th>\n",
       "      <td>None</td>\n",
       "      <td>1.84</td>\n",
       "      <td>26</td>\n",
       "      <td>20</td>\n",
       "      <td>21</td>\n",
       "      <td>23</td>\n",
       "      <td>34</td>\n",
       "      <td>275</td>\n",
       "      <td>37</td>\n",
       "    </tr>\n",
       "    <tr>\n",
       "      <th>205</th>\n",
       "      <td>None</td>\n",
       "      <td>1.84</td>\n",
       "      <td>36</td>\n",
       "      <td>28</td>\n",
       "      <td>43</td>\n",
       "      <td>35</td>\n",
       "      <td>35</td>\n",
       "      <td>3</td>\n",
       "      <td>38</td>\n",
       "    </tr>\n",
       "    <tr>\n",
       "      <th>206</th>\n",
       "      <td>None</td>\n",
       "      <td>1.84</td>\n",
       "      <td>39</td>\n",
       "      <td>28</td>\n",
       "      <td>47</td>\n",
       "      <td>39</td>\n",
       "      <td>38</td>\n",
       "      <td>3</td>\n",
       "      <td>38</td>\n",
       "    </tr>\n",
       "    <tr>\n",
       "      <th>207</th>\n",
       "      <td>None</td>\n",
       "      <td>1.84</td>\n",
       "      <td>38</td>\n",
       "      <td>29</td>\n",
       "      <td>46</td>\n",
       "      <td>37</td>\n",
       "      <td>37</td>\n",
       "      <td>3</td>\n",
       "      <td>38</td>\n",
       "    </tr>\n",
       "    <tr>\n",
       "      <th>208</th>\n",
       "      <td>None</td>\n",
       "      <td>1.84</td>\n",
       "      <td>36</td>\n",
       "      <td>29</td>\n",
       "      <td>44</td>\n",
       "      <td>36</td>\n",
       "      <td>34</td>\n",
       "      <td>3</td>\n",
       "      <td>38</td>\n",
       "    </tr>\n",
       "    <tr>\n",
       "      <th>209</th>\n",
       "      <td>None</td>\n",
       "      <td>1.84</td>\n",
       "      <td>33</td>\n",
       "      <td>28</td>\n",
       "      <td>40</td>\n",
       "      <td>32</td>\n",
       "      <td>32</td>\n",
       "      <td>3</td>\n",
       "      <td>38</td>\n",
       "    </tr>\n",
       "    <tr>\n",
       "      <th>210</th>\n",
       "      <td>None</td>\n",
       "      <td>1.84</td>\n",
       "      <td>32</td>\n",
       "      <td>30</td>\n",
       "      <td>38</td>\n",
       "      <td>32</td>\n",
       "      <td>32</td>\n",
       "      <td>3</td>\n",
       "      <td>38</td>\n",
       "    </tr>\n",
       "    <tr>\n",
       "      <th>211</th>\n",
       "      <td>None</td>\n",
       "      <td>1.84</td>\n",
       "      <td>32</td>\n",
       "      <td>29</td>\n",
       "      <td>37</td>\n",
       "      <td>31</td>\n",
       "      <td>31</td>\n",
       "      <td>3</td>\n",
       "      <td>38</td>\n",
       "    </tr>\n",
       "    <tr>\n",
       "      <th>212</th>\n",
       "      <td>None</td>\n",
       "      <td>1.84</td>\n",
       "      <td>24</td>\n",
       "      <td>29</td>\n",
       "      <td>30</td>\n",
       "      <td>24</td>\n",
       "      <td>23</td>\n",
       "      <td>15</td>\n",
       "      <td>39</td>\n",
       "    </tr>\n",
       "    <tr>\n",
       "      <th>213</th>\n",
       "      <td>None</td>\n",
       "      <td>1.84</td>\n",
       "      <td>20</td>\n",
       "      <td>23</td>\n",
       "      <td>23</td>\n",
       "      <td>19</td>\n",
       "      <td>19</td>\n",
       "      <td>15</td>\n",
       "      <td>39</td>\n",
       "    </tr>\n",
       "  </tbody>\n",
       "</table>\n",
       "</div>"
      ],
      "text/plain": [
       "      blank  aspect_ratio  brightness  contrast  blue  green  red  \\\n",
       "frame                                                               \n",
       "203    None          1.84          26        20    21     23   34   \n",
       "204    None          1.84          26        20    21     23   34   \n",
       "205    None          1.84          36        28    43     35   35   \n",
       "206    None          1.84          39        28    47     39   38   \n",
       "207    None          1.84          38        29    46     37   37   \n",
       "208    None          1.84          36        29    44     36   34   \n",
       "209    None          1.84          33        28    40     32   32   \n",
       "210    None          1.84          32        30    38     32   32   \n",
       "211    None          1.84          32        29    37     31   31   \n",
       "212    None          1.84          24        29    30     24   23   \n",
       "213    None          1.84          20        23    23     19   19   \n",
       "\n",
       "       shot_cluster  shot_id  \n",
       "frame                         \n",
       "203             275       37  \n",
       "204             275       37  \n",
       "205               3       38  \n",
       "206               3       38  \n",
       "207               3       38  \n",
       "208               3       38  \n",
       "209               3       38  \n",
       "210               3       38  \n",
       "211               3       38  \n",
       "212              15       39  \n",
       "213              15       39  "
      ]
     },
     "execution_count": 3,
     "metadata": {},
     "output_type": "execute_result"
    }
   ],
   "source": [
    "vision_df[202:213]"
   ]
  },
  {
   "cell_type": "markdown",
   "metadata": {},
   "source": [
    "The below code will generate two lists each time an ABAB pattern is found:\n",
    "- alternating_pairs: the two shot_clusters\n",
    "- pair_shot_ids: the beginning and ending shot_id"
   ]
  },
  {
   "cell_type": "code",
   "execution_count": 4,
   "metadata": {},
   "outputs": [
    {
     "name": "stdout",
     "output_type": "stream",
     "text": [
      "58\n",
      "58\n"
     ]
    }
   ],
   "source": [
    "shot_id_list = vision_df.shot_id.tolist()\n",
    "shot_clusters = vision_df.shot_cluster.tolist()\n",
    "frame_choice = range(1, (len(vision_df) + 1))\n",
    "\n",
    "# to check for an A/B/A/B pattern, we must store the previous three clusters in memory\n",
    "prev_clust_1 = 1001\n",
    "prev_clust_2 = 1002\n",
    "prev_clust_3 = 1003\n",
    "prev_shot_id = -1\n",
    "alternate_a_list = []\n",
    "alternate_b_list = []\n",
    "pair_shot_ids = []\n",
    "pair_found = 0\n",
    "\n",
    "# zip our various lists into a usable data structure\n",
    "for frame_file, cluster, shot_id in zip(frame_choice, shot_clusters, shot_id_list):\n",
    "\n",
    "\n",
    "    # we use prev_shot_id to identify when there's a new shot (when the cluster value changes)\n",
    "    # when iterating through each frame, look for an A/B/A/B pattern, and save the clusters of any patterns\n",
    "    if shot_id != prev_shot_id:\n",
    "        if cluster == prev_clust_2 and prev_clust_1 == prev_clust_3:\n",
    "            if pair_found == 0:\n",
    "                alternate_a_list.append(min(cluster, prev_clust_1)) # min and max are used to avoid duplicates of (1, 2), (2, 1)\n",
    "                alternate_b_list.append(max(cluster, prev_clust_1))\n",
    "                beginning_shot = shot_id - 3\n",
    "            pair_found = 1\n",
    "        else:\n",
    "            if pair_found == 1:\n",
    "                ending_shot = shot_id - 1\n",
    "                pair_shot_ids.append([beginning_shot, ending_shot])\n",
    "            pair_found = 0\n",
    "        \n",
    "        # every time there's a new shot, we update the cluster memory\n",
    "        prev_shot_id = shot_id\n",
    "        prev_clust_3 = prev_clust_2\n",
    "        prev_clust_2 = prev_clust_1\n",
    "        prev_clust_1 = cluster\n",
    "        \n",
    "    # the below print can be used for troubleshooting and visualizing the memory state at each frame\n",
    "    # print(frame_file, '\\t', mcu_flag, '\\t', cluster,'\\t', shot_id, '\\t', prev_shot_id, '\\t', prev_clust_1, '\\t', prev_clust_2, '\\t', prev_clust_3, '\\tend')\n",
    "\n",
    "# save non-unique alternating pairs, because these must line up with pair_shot_ids\n",
    "alternating_pairs = []\n",
    "\n",
    "for a, b, in zip(alternate_a_list, alternate_b_list):\n",
    "    alternating_pairs.append([int(a), int(b)])\n",
    "\n",
    "print(len(alternating_pairs))\n",
    "print(len(pair_shot_ids))"
   ]
  },
  {
   "cell_type": "code",
   "execution_count": 5,
   "metadata": {},
   "outputs": [
    {
     "data": {
      "text/plain": [
       "[0, 151]"
      ]
     },
     "execution_count": 5,
     "metadata": {},
     "output_type": "execute_result"
    }
   ],
   "source": [
    "alternating_pairs[0]"
   ]
  },
  {
   "cell_type": "code",
   "execution_count": 6,
   "metadata": {},
   "outputs": [
    {
     "data": {
      "text/plain": [
       "[57, 61]"
      ]
     },
     "execution_count": 6,
     "metadata": {},
     "output_type": "execute_result"
    }
   ],
   "source": [
    "pair_shot_ids[0]"
   ]
  }
 ],
 "metadata": {
  "kernelspec": {
   "display_name": "Python (moviegoer)",
   "language": "python",
   "name": "moviegoer"
  },
  "language_info": {
   "codemirror_mode": {
    "name": "ipython",
    "version": 3
   },
   "file_extension": ".py",
   "mimetype": "text/x-python",
   "name": "python",
   "nbconvert_exporter": "python",
   "pygments_lexer": "ipython3",
   "version": "3.7.7"
  }
 },
 "nbformat": 4,
 "nbformat_minor": 4
}
