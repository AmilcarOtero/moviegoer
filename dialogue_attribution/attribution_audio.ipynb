{
 "cells": [
  {
   "cell_type": "markdown",
   "metadata": {},
   "source": [
    "# attribution_audio\n",
    "This notebook explores the `pyAudioAnalysis` library for voice clustering/speaker diarisation. This can be used to help the overall goal of dialogue attribution. With two-character dialogue scenes identified, we need to be able to identify each character and determine which one is speaking."
   ]
  },
  {
   "cell_type": "code",
   "execution_count": 1,
   "metadata": {},
   "outputs": [],
   "source": [
    "import pyAudioAnalysis.audioSegmentation\n",
    "import numpy as np"
   ]
  },
  {
   "cell_type": "markdown",
   "metadata": {},
   "source": [
    "# Speaker Diarization\n",
    "`pyAudioAnalysis` has a function to automatically identify changes in speakers. We specify that there are two characters speaking. When a character starts speaking, they are listed as the speaker until the other character speaks, or until the end of the scene. (Periods of silence will be attributed to the last character who spoke.) \n",
    "\n",
    "Here's an example of a .wav file manually extracted from a two-character scene in *Hobbs and Shaw*, and converted into stereo format (from 5.1 surround sound) for use in `speaker_diarization()`."
   ]
  },
  {
   "cell_type": "code",
   "execution_count": 2,
   "metadata": {},
   "outputs": [],
   "source": [
    "audio_file = ('../extracted_audio/diner_stereo.wav')"
   ]
  },
  {
   "cell_type": "code",
   "execution_count": 3,
   "metadata": {
    "scrolled": false
   },
   "outputs": [
    {
     "data": {
      "image/png": "[encoded data removed]",
      "text/plain": [
       "<Figure size 432x288 with 1 Axes>"
      ]
     },
     "metadata": {
      "needs_background": "light"
     },
     "output_type": "display_data"
    }
   ],
   "source": [
    "clusters = pyAudioAnalysis.audioSegmentation.speaker_diarization(audio_file, n_speakers=2, lda_dim=0, plot_res=True)"
   ]
  },
  {
   "cell_type": "markdown",
   "metadata": {},
   "source": [
    "This is also available in a NumPy array. With the function's default parameters, the current (or last) speaker is noted every .2 seconds (or 5 times a second). This frequency can be modified by changing `mid_step` from its default value of .2."
   ]
  },
  {
   "cell_type": "code",
   "execution_count": 4,
   "metadata": {
    "scrolled": true
   },
   "outputs": [
    {
     "data": {
      "text/plain": [
       "array([0., 0., 0., 0., 0., 0., 0., 0., 0., 0., 0., 0., 0., 0., 0., 0., 0.,\n",
       "       0., 0., 0., 0., 0., 0., 0., 0., 0., 0., 0., 0., 0., 0., 0., 0., 0.,\n",
       "       0., 0., 0., 0., 0., 0., 0., 0., 0., 0., 0., 0., 0., 0., 0., 0., 0.,\n",
       "       0., 0., 0., 0., 0., 0., 0., 0., 0., 0., 0., 0., 0., 0., 0., 0., 0.,\n",
       "       0., 0., 0., 0., 0., 0., 0., 0., 0., 0., 0., 0., 0., 0., 0., 0., 0.,\n",
       "       0., 0., 0., 0., 0., 0., 0., 0., 0., 0., 0., 0., 0., 0., 0., 0., 0.,\n",
       "       0., 0., 0., 0., 1., 1., 1., 1., 1., 1., 1., 1., 1., 1., 1., 1., 1.,\n",
       "       1., 1., 1., 1., 0., 0., 0., 0., 0., 0., 0., 1., 1., 1., 1., 1., 1.,\n",
       "       1., 1., 1., 1., 1., 1., 1., 1., 1., 1., 1., 1., 1., 1., 1., 1., 1.,\n",
       "       0., 0., 0., 0., 0., 0., 0., 0., 0., 0., 0., 0., 0., 0., 0., 0., 0.,\n",
       "       0., 0., 0., 0., 0., 0., 0., 0., 0., 0., 0., 0., 0., 0., 0., 0., 0.,\n",
       "       0., 0., 0., 0., 0., 0., 0., 0., 0., 0., 0., 0., 0., 0., 0., 0., 0.,\n",
       "       0., 0., 0., 0., 0., 0., 0., 0., 0., 0., 0., 0., 0., 0., 0., 0., 0.,\n",
       "       0., 0., 0., 0., 0., 0., 0., 0., 0., 0., 0., 0., 0., 0., 0., 1., 1.,\n",
       "       1., 1., 1., 1., 1., 1., 1., 1., 1., 1., 1., 1., 1., 1., 0., 0., 0.,\n",
       "       0., 0., 0., 0., 0., 0., 0., 0., 0., 0., 0., 0., 0., 0., 0., 0., 0.,\n",
       "       0., 0., 0., 0., 0., 0., 0., 1., 1., 1., 1., 1., 1., 1., 1., 1., 1.,\n",
       "       1., 1., 1., 1., 1., 1., 1., 1., 1., 1., 1., 1., 1., 1., 1., 1., 1.,\n",
       "       1., 1., 1., 1., 1., 1., 1., 1., 1., 1., 1., 1., 1., 1., 1., 1., 1.,\n",
       "       1., 1., 1., 1., 1., 1., 1., 1., 1., 1., 1., 1., 1., 1., 1., 1., 1.,\n",
       "       1., 1., 1., 1., 1., 1., 1., 1., 1., 1., 1., 1., 1., 1., 1., 1., 1.,\n",
       "       1., 1., 1., 1., 1., 1., 1., 1., 1., 1., 1., 1., 1., 1., 1., 0., 0.,\n",
       "       0., 0., 0., 0., 0., 0., 0., 0., 0., 0., 0., 0., 1., 1., 1., 1., 1.,\n",
       "       1., 1., 1., 1., 1., 1., 0., 0., 0., 0., 0., 0., 0., 0., 0., 0., 0.,\n",
       "       1., 1., 1., 1., 1., 1., 1., 1., 1., 1., 0., 0., 0., 0., 0., 0., 0.,\n",
       "       0., 0., 0., 0., 0., 0., 0., 0., 0., 0., 0., 0., 0., 0., 0., 0., 0.,\n",
       "       0., 0., 0., 0., 0., 0., 0., 0.])"
      ]
     },
     "execution_count": 4,
     "metadata": {},
     "output_type": "execute_result"
    }
   ],
   "source": [
    "clusters"
   ]
  },
  {
   "cell_type": "markdown",
   "metadata": {},
   "source": [
    "## Tuning Parameters\n",
    "Here's another example from *Hobbs and Shaw*, with a scene with more back-and-forth and less monologue compared to the previous example. The first diarization uses the default parameters, while the second has the mid- and short-term windows and the mid_step shortened, all of which allow for more sampling, generating better results.\n",
    "\n",
    "We'll take a closer look at the `clusters` list in the next section, and it's worth noting that halving the mid_step length doubles the amount of samples in `clusters`, to 10 samples per second."
   ]
  },
  {
   "cell_type": "code",
   "execution_count": 5,
   "metadata": {},
   "outputs": [],
   "source": [
    "audio_file = ('../extracted_audio/prison_stereo.wav')"
   ]
  },
  {
   "cell_type": "code",
   "execution_count": 6,
   "metadata": {},
   "outputs": [
    {
     "data": {
      "image/png": "[encoded data removed]",
      "text/plain": [
       "<Figure size 432x288 with 1 Axes>"
      ]
     },
     "metadata": {
      "needs_background": "light"
     },
     "output_type": "display_data"
    },
    {
     "name": "stdout",
     "output_type": "stream",
     "text": [
      "290\n",
      "CPU times: user 12.2 s, sys: 681 ms, total: 12.9 s\n",
      "Wall time: 3.73 s\n"
     ]
    }
   ],
   "source": [
    "%%time\n",
    "# default parameters\n",
    "clusters = pyAudioAnalysis.audioSegmentation.speaker_diarization(audio_file, n_speakers=2, lda_dim=0, plot_res=True)\n",
    "print(len(clusters))"
   ]
  },
  {
   "cell_type": "code",
   "execution_count": 7,
   "metadata": {
    "scrolled": true
   },
   "outputs": [
    {
     "data": {
      "image/png": "[encoded data removed]",
      "text/plain": [
       "<Figure size 432x288 with 1 Axes>"
      ]
     },
     "metadata": {
      "needs_background": "light"
     },
     "output_type": "display_data"
    },
    {
     "name": "stdout",
     "output_type": "stream",
     "text": [
      "580 samples\n",
      "CPU times: user 22.2 s, sys: 1.06 s, total: 23.2 s\n",
      "Wall time: 7.08 s\n"
     ]
    }
   ],
   "source": [
    "%%time\n",
    "# mid_window = .8, mid_step = .1, short_window = .02\n",
    "clusters = pyAudioAnalysis.audioSegmentation.speaker_diarization(audio_file, n_speakers=2, mid_window=0.8, mid_step=0.1, short_window=0.02, lda_dim=0, plot_res=True)\n",
    "print(len(clusters), 'samples')"
   ]
  },
  {
   "cell_type": "markdown",
   "metadata": {},
   "source": [
    "While I manually specified that there were two characters to diarise, this prison scene actually has a third character, a prison guard who chimes in at 0:42 with a single two-word line \"time's up\". `speaker_diarization()` allows the user to specify 0 to indicate an unknown number of speakers, but it was unable to identify this third speaker, possibly because the line was so short."
   ]
  },
  {
   "cell_type": "code",
   "execution_count": 8,
   "metadata": {
    "scrolled": true
   },
   "outputs": [
    {
     "data": {
      "image/png": "[encoded data removed]",
      "text/plain": [
       "<Figure size 432x288 with 2 Axes>"
      ]
     },
     "metadata": {
      "needs_background": "light"
     },
     "output_type": "display_data"
    },
    {
     "name": "stdout",
     "output_type": "stream",
     "text": [
      "CPU times: user 24.2 s, sys: 1.09 s, total: 25.3 s\n",
      "Wall time: 7.3 s\n"
     ]
    }
   ],
   "source": [
    "%%time\n",
    "n_clusters = pyAudioAnalysis.audioSegmentation.speaker_diarization(audio_file, n_speakers=0, mid_window=.8, mid_step=0.1, short_window=0.02, lda_dim=0, plot_res=True)"
   ]
  },
  {
   "cell_type": "markdown",
   "metadata": {},
   "source": [
    "Though we were unable to detect a third speaker, we may choose to not pre-specify two speakers. Though we're primarily working with two-character scenes, some of these scenes may have additional characters deliver lines."
   ]
  },
  {
   "cell_type": "markdown",
   "metadata": {},
   "source": [
    "## Voice Clustering\n",
    "We can use the `clusters` list to assign (arbitrary) names to the voices. The list contains 10 samples per second, indicating the speaker (or who spoke last if no one is speaking). With two characters, this list is populated with a 0 or a 1. We can round the average of the ten samples, to a 0 or a 1. If there's a perfect 5-5 tie, we populate a dummy value.\n",
    "\n",
    "Rather than populating the final list with 0s and 1s, we'll call them M and N. This is to avoid confusion around continuous data, and the fact that other clusters will be using 0 and 1 but may not necessarily be correlated.\n",
    "\n",
    "For a 58-second scene, we end up with a list of length 58, which we can later insert into our frame DataFrame (with one row per second) for dialogue attribution."
   ]
  },
  {
   "cell_type": "code",
   "execution_count": 9,
   "metadata": {},
   "outputs": [],
   "source": [
    "speaker_list = []\n",
    "x = 0\n",
    "while x < len(clusters): \n",
    "    if sum(clusters[x:x+10]) == 5: # ignore tie\n",
    "        speaker_list.append(0)\n",
    "    else:\n",
    "        speaker_list.append(chr(int(round(np.mean(clusters[x:x+10])))+77)) # convert 0 and 1 to M and N\n",
    "    x += 10"
   ]
  },
  {
   "cell_type": "code",
   "execution_count": 10,
   "metadata": {},
   "outputs": [
    {
     "data": {
      "text/plain": [
       "58"
      ]
     },
     "execution_count": 10,
     "metadata": {},
     "output_type": "execute_result"
    }
   ],
   "source": [
    "len(speaker_list)"
   ]
  },
  {
   "cell_type": "code",
   "execution_count": 11,
   "metadata": {},
   "outputs": [
    {
     "data": {
      "text/plain": [
       "['M', 'N', 'N', 'M', 0]"
      ]
     },
     "execution_count": 11,
     "metadata": {},
     "output_type": "execute_result"
    }
   ],
   "source": [
    "speaker_list[0:5]"
   ]
  },
  {
   "cell_type": "markdown",
   "metadata": {},
   "source": [
    "## Audible Sound Flag\n",
    "We can also use the `pyAudioAnalysis` library to detect silence in the audio track. This immediately remediates an issue we just encountered: when conducting speaker diarization, exactly one character is listed as the speaker, even if no one is currently speaking.\n",
    "\n",
    "However, finding pure silence in a film's audio mix is rare. Even if no one is speaking, we may still hear the score (music) or sound effects.\n",
    "\n",
    "The `silence_removal()` function returns a list of times when there ISN'T silence."
   ]
  },
  {
   "cell_type": "code",
   "execution_count": 12,
   "metadata": {},
   "outputs": [
    {
     "data": {
      "image/png": "[encoded data removed]",
      "text/plain": [
       "<Figure size 432x288 with 2 Axes>"
      ]
     },
     "metadata": {
      "needs_background": "light"
     },
     "output_type": "display_data"
    }
   ],
   "source": [
    "sampling_rate, signal = pyAudioAnalysis.audioBasicIO.read_audio_file(audio_file)\n",
    "segments_with_sound = pyAudioAnalysis.audioSegmentation.silence_removal(signal, sampling_rate, st_win=0.05, st_step=0.025, smooth_window=0.5, weight=0.3, plot=True)"
   ]
  },
  {
   "cell_type": "code",
   "execution_count": 13,
   "metadata": {},
   "outputs": [
    {
     "data": {
      "text/plain": [
       "[[0.0, 1.075],\n",
       " [2.225, 4.45],\n",
       " [5.7250000000000005, 7.25],\n",
       " [8.55, 9.075000000000001],\n",
       " [9.9, 10.375],\n",
       " [11.65, 12.3],\n",
       " [13.525, 13.950000000000001],\n",
       " [14.200000000000001, 14.55],\n",
       " [14.700000000000001, 15.275],\n",
       " [17.125, 19.700000000000003],\n",
       " [20.55, 21.25],\n",
       " [21.825000000000003, 23.0],\n",
       " [23.1, 23.55],\n",
       " [24.1, 27.375],\n",
       " [28.075000000000003, 28.5],\n",
       " [28.725, 29.55],\n",
       " [29.825000000000003, 30.525000000000002],\n",
       " [30.925, 31.375],\n",
       " [32.125, 34.425000000000004],\n",
       " [35.025, 35.800000000000004],\n",
       " [36.85, 37.375],\n",
       " [38.575, 41.275000000000006],\n",
       " [42.150000000000006, 43.575],\n",
       " [43.650000000000006, 44.900000000000006],\n",
       " [45.150000000000006, 45.525000000000006],\n",
       " [46.400000000000006, 50.525000000000006],\n",
       " [50.85, 53.95],\n",
       " [56.050000000000004, 57.95]]"
      ]
     },
     "execution_count": 13,
     "metadata": {},
     "output_type": "execute_result"
    }
   ],
   "source": [
    "segments_with_sound"
   ]
  },
  {
   "cell_type": "markdown",
   "metadata": {},
   "source": [
    "To use this in our frame DataFrame, we want to measure if there's audible sound at ANY time during the frame's duration (of one second). We loop through each frame duration and loop through `segments_with_sound` and see if there's sound at any point during the frame duration. But it isn't enough to check if there's audible sound at 8 seconds, we also check if there's sound at 8.25, 8.5, 8.75, and 8.99 seconds. If there's sound during any of these five times, we give the frame a flag for audible sound.\n",
    "\n",
    "This size-58 list will also be used in our 58-frame DataFrame for dialogue attribution."
   ]
  },
  {
   "cell_type": "code",
   "execution_count": 14,
   "metadata": {},
   "outputs": [],
   "source": [
    "audible_sound = []\n",
    "\n",
    "for frame in range(0, 58):\n",
    "    sound_found = 0\n",
    "    \n",
    "    for segment in segments_with_sound:\n",
    "        sound_start = segment[0]\n",
    "        sound_end = segment[1]\n",
    "        if sound_start <= frame <= sound_end:\n",
    "            sound_found = 1\n",
    "        if sound_start <= frame + .25 <= sound_end:\n",
    "            sound_found = 1\n",
    "        if sound_start <= frame + .5 <= sound_end:\n",
    "            sound_found = 1\n",
    "        if sound_start <= frame + .75 <= sound_end:\n",
    "            sound_found = 1\n",
    "        if sound_start <= frame + .999 <= sound_end:\n",
    "            sound_found = 1\n",
    "        \n",
    "    if sound_found:\n",
    "        audible_sound.append(1)\n",
    "    else:\n",
    "        audible_sound.append(0)"
   ]
  },
  {
   "cell_type": "code",
   "execution_count": 15,
   "metadata": {
    "scrolled": true
   },
   "outputs": [
    {
     "data": {
      "text/plain": [
       "58"
      ]
     },
     "execution_count": 15,
     "metadata": {},
     "output_type": "execute_result"
    }
   ],
   "source": [
    "len(audible_sound)"
   ]
  },
  {
   "cell_type": "code",
   "execution_count": 16,
   "metadata": {},
   "outputs": [
    {
     "data": {
      "text/plain": [
       "[1, 1, 1, 1, 1]"
      ]
     },
     "execution_count": 16,
     "metadata": {},
     "output_type": "execute_result"
    }
   ],
   "source": [
    "audible_sound[0:5]"
   ]
  }
 ],
 "metadata": {
  "kernelspec": {
   "display_name": "Python (moviegoer)",
   "language": "python",
   "name": "moviegoer"
  },
  "language_info": {
   "codemirror_mode": {
    "name": "ipython",
    "version": 3
   },
   "file_extension": ".py",
   "mimetype": "text/x-python",
   "name": "python",
   "nbconvert_exporter": "python",
   "pygments_lexer": "ipython3",
   "version": "3.7.7"
  }
 },
 "nbformat": 4,
 "nbformat_minor": 4
}
