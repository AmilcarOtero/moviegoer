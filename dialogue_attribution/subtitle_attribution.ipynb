{
 "cells": [
  {
   "cell_type": "markdown",
   "metadata": {},
   "source": [
    "# subtitle_attribution\n",
    "Subtitle attribution is the ultimate goal of this module. By using various clues in the audio, video, and subtitle tracks, we were able to match onscreen characters with voices. Now we just need to go through the subtitle file and attribute each line of dialogue to the appropriate character."
   ]
  },
  {
   "cell_type": "code",
   "execution_count": 1,
   "metadata": {},
   "outputs": [],
   "source": [
    "import os\n",
    "import pandas as pd\n",
    "from dialogue_attribution_io import *"
   ]
  },
  {
   "cell_type": "markdown",
   "metadata": {},
   "source": [
    "# Comparison with Actual Audio\n",
    "We can compare the subtitles with the audio in a scene we've previously identified. This specific .wav file was extracted from the audio track and only contains audio from this scene. In another file, we've explored the `speaker_diarization()` function from the `pyAudioAnalysis` library to split the audio from a conversation into two clusters (corresponding to each speaker)."
   ]
  },
  {
   "cell_type": "code",
   "execution_count": 2,
   "metadata": {},
   "outputs": [],
   "source": [
    "audio_file = ('../extracted_audio/prison_stereo.wav')"
   ]
  },
  {
   "cell_type": "code",
   "execution_count": 3,
   "metadata": {},
   "outputs": [
    {
     "data": {
      "image/png": "[encoded data removed]",
      "text/plain": [
       "<Figure size 432x288 with 1 Axes>"
      ]
     },
     "metadata": {
      "needs_background": "light"
     },
     "output_type": "display_data"
    }
   ],
   "source": [
    "clusters = pyAudioAnalysis.audioSegmentation.speaker_diarization(audio_file, 2, mid_window=.8, mid_step=0.1, short_window=0.02, lda_dim=0, plot_res=True)"
   ]
  },
  {
   "cell_type": "code",
   "execution_count": 4,
   "metadata": {},
   "outputs": [
    {
     "data": {
      "text/plain": [
       "580"
      ]
     },
     "execution_count": 4,
     "metadata": {},
     "output_type": "execute_result"
    }
   ],
   "source": [
    "len(clusters) # 580 clusters means 58 seconds"
   ]
  },
  {
   "cell_type": "markdown",
   "metadata": {},
   "source": [
    "# Speaker Changes\n",
    "We have to work through three challenges.\n",
    "1. pyAudioAnalysis' `speaker_diarization` doesn't actually tell us when someone is speaking, only the character who last spoke (whether currently speaking ot not). \n",
    "2. Frame extraction and subtitle timestamps may not line up perfectly. This is due to the issue of extracting frames from a 23.976p video.\n",
    "3. Subtitles and onscreen visuals usually don't align perfectly. Subtitle authoring is more of an art than a science. They usually appear onscreen before a character actually starts speaking, but sometimes (for dramatic effect or to avoid spoiling a joke), they appear just as the character speaks.\n",
    "\n",
    "Here are the speaker changes identified from the first 30 seconds of `speaker_diarization`. The `clusters` object contains the current or last-to-speak speaker, and reports this ten times per second. I've manually printed eight speaker changes (when the reported speaker flips from cluster 1 to 0 or 0 to 1). Remember that each item in the `clusters` list represents a tenth of a second. So a speaker change at `clusters[13]` means there's a speaker change 1.3 seconds into the scene."
   ]
  },
  {
   "cell_type": "code",
   "execution_count": 22,
   "metadata": {
    "scrolled": false
   },
   "outputs": [
    {
     "name": "stdout",
     "output_type": "stream",
     "text": [
      "Flip A: 1.3 seconds\n",
      "0.0 12\n",
      "1.0 13\n",
      "\n",
      "Flip B: 2.9 seconds\n",
      "1.0 28\n",
      "0.0 29\n",
      "\n",
      "Flip C: 4.5 seconds\n",
      "0.0 43\n",
      "1.0 44\n",
      "\n",
      "Flip D: 14.6 seconds\n",
      "1.0 147\n",
      "0.0 148\n",
      "\n",
      "Flip E: 20.1 seconds\n",
      "0.0 200\n",
      "1.0 201\n",
      "\n",
      "Flip F: 25.3 seconds\n",
      "1.0 252\n",
      "0.0 253\n",
      "\n",
      "Flip G: 27.4 seconds\n",
      "0.0 273\n",
      "1.0 274\n",
      "\n",
      "Flip H: 29.6 seconds\n",
      "1.0 295\n",
      "0.0 296\n"
     ]
    }
   ],
   "source": [
    "# illustrate flip from 0 to 1 or vice versa\n",
    "print('Flip A: 1.3 seconds')\n",
    "for x in range(12, 14): # frame 13, or 1.3 seconds into the scene\n",
    "    print(clusters[x], x)\n",
    "print()\n",
    "print('Flip B: 2.9 seconds')\n",
    "for x in range(28, 30): # frame 29\n",
    "    print(clusters[x], x)\n",
    "print()\n",
    "print('Flip C: 4.4 seconds')\n",
    "for x in range(43, 45): # frame 44\n",
    "    print(clusters[x], x)\n",
    "print()\n",
    "print('Flip D: 14.8 seconds')\n",
    "for x in range(147, 149): # frame 148\n",
    "    print(clusters[x], x)\n",
    "print()\n",
    "print('Flip E: 20.1 seconds')\n",
    "for x in range(200, 202): # frame 201\n",
    "    print(clusters[x], x)\n",
    "print()\n",
    "print('Flip F: 25.3 seconds')\n",
    "for x in range(252, 254): # frame 253\n",
    "    print(clusters[x], x)\n",
    "print()\n",
    "print('Flip G: 27.4 seconds')\n",
    "for x in range(273, 275): # frame 274\n",
    "    print(clusters[x], x)\n",
    "print()\n",
    "print('Flip H: 29.6 seconds')\n",
    "for x in range(295, 297): # frame 296\n",
    "    print(clusters[x], x)"
   ]
  },
  {
   "cell_type": "markdown",
   "metadata": {},
   "source": [
    "This cluster flip searching will be be defined as a function in `dialogue_attribution_io.py` called `get_cluster_changes()`:"
   ]
  },
  {
   "cell_type": "code",
   "execution_count": 19,
   "metadata": {},
   "outputs": [],
   "source": [
    "prev_clust = 200\n",
    "index = 0\n",
    "cluster_change_indices = []\n",
    "\n",
    "for clust in clusters:\n",
    "    if clust != prev_clust and index != 0:\n",
    "        cluster_change_indices.append(index)\n",
    "    prev_clust = clust\n",
    "    index += 1"
   ]
  },
  {
   "cell_type": "code",
   "execution_count": 24,
   "metadata": {},
   "outputs": [
    {
     "data": {
      "text/plain": [
       "[13, 29, 44, 148, 201, 253, 274, 296]"
      ]
     },
     "execution_count": 24,
     "metadata": {},
     "output_type": "execute_result"
    }
   ],
   "source": [
    "cluster_change_indices[0:8]"
   ]
  },
  {
   "cell_type": "markdown",
   "metadata": {},
   "source": [
    "In this example scene, I've manually looked at the .srt file and transcribed the speaker for the first 30 seconds. Since the audio file is only from this scene (and not the entire film), it start at 00:00:00; I've subtracted 00:12:46 from the subtitle times and wrote when they occur in the audio file. I've added commentary to how the 0-1 flips in `clusters` compare.\n",
    "\n",
    "`Helen Mirren:  12:47.7-12:49.1    :01.7-:03.1` A: Flips .4 seconds early\n",
    "\n",
    "`Jason Statham: 12:49.1-12:51.1    :03.1-:05.1` B: Flips .2 seconds early\n",
    "\n",
    "`Helen Mirren:  12:51.1-13:00.6    :05.1-:14.6` C: Flips .6 seconds early\n",
    "\n",
    "`Jason Statham: 13:00.6-13:02.3    :14.6-:16.3` D: Flips exactly on time\n",
    "\n",
    "`No subtitle:   13:02.3-13:05.2    :16.3-:19.2` (Correctly) doesn't flip\n",
    "\n",
    "`Helen Mirren:  13:05.2-13:12.1    :19.2-:26.1` E: Flips .9 seconds late\n",
    "\n",
    "`Jason Statham: 13:12.1-13:13.7    :26.1-:27.7` F: Flips .8 seconds early\n",
    "\n",
    "`Helen Mirren:  13:13.7-13:15.7    :27.7-:29.7` G: Flips .8 seconds early\n",
    "\n",
    "`Simulteanous:  13:15.7-13:17.7    :29.7-:31.7` H: Flips .1 seconds early, but the subtitles here are ambigious since they contain one line of dialogue for each character."
   ]
  },
  {
   "cell_type": "markdown",
   "metadata": {},
   "source": [
    "Comparing the `clusters` from `voice_diarization()` to the actual subtitles, it looks like the clusters indicate speaker changes a little bit earlier than the subtitles. There is one exception, Flip E, which comes in .9 seconds late - this is probably because Helen Mirren's line starts with a curt and quiet \"well\", before continuing with the rest of her dialogue."
   ]
  },
  {
   "cell_type": "markdown",
   "metadata": {},
   "source": [
    "# Subtitle Times"
   ]
  },
  {
   "cell_type": "code",
   "execution_count": 7,
   "metadata": {},
   "outputs": [],
   "source": [
    "sub_file = '../subtitles/hobbs_shaw.srt'\n",
    "subs = load_subtitles(sub_file)"
   ]
  },
  {
   "cell_type": "markdown",
   "metadata": {},
   "source": [
    "We need to calculate the times of each cluster flip. As a reminder, the `pysrt` library works with `time` objects, not `datetime` objects. First we'll calculate the time of the first frame into a `time` object using the previously-defined `frame_to_time()` function. We'll then convert that into a `datetime` object, so we can conduct arithemetic operation (not possible on time objects. Then, we'll use each cluster flip as a `timedelta`, and add it to the scene start time.  \n",
    "\n",
    "An example for one cluster flip is shown below."
   ]
  },
  {
   "cell_type": "code",
   "execution_count": 61,
   "metadata": {},
   "outputs": [
    {
     "data": {
      "text/plain": [
       "datetime.time(0, 12, 46)"
      ]
     },
     "execution_count": 61,
     "metadata": {},
     "output_type": "execute_result"
    }
   ],
   "source": [
    "scene_start_time = frame_to_time(766)\n",
    "scene_start_time"
   ]
  },
  {
   "cell_type": "code",
   "execution_count": 50,
   "metadata": {},
   "outputs": [],
   "source": [
    "scene_start_datetime = datetime.datetime(year=2000, month=1, day=1, hour=scene_start_time.hour, minute=scene_start_time.minute, second=scene_start_time.second)"
   ]
  },
  {
   "cell_type": "code",
   "execution_count": 51,
   "metadata": {
    "scrolled": true
   },
   "outputs": [
    {
     "data": {
      "text/plain": [
       "13"
      ]
     },
     "execution_count": 51,
     "metadata": {},
     "output_type": "execute_result"
    }
   ],
   "source": [
    "cluster_change_indices[0]"
   ]
  },
  {
   "cell_type": "markdown",
   "metadata": {},
   "source": [
    "Since each item in `clusters` represents a tenth of a second, we divide the cluster change index by ten, to be used as a `timedelta`."
   ]
  },
  {
   "cell_type": "code",
   "execution_count": 53,
   "metadata": {},
   "outputs": [
    {
     "data": {
      "text/plain": [
       "datetime.timedelta(seconds=1, microseconds=300000)"
      ]
     },
     "execution_count": 53,
     "metadata": {},
     "output_type": "execute_result"
    }
   ],
   "source": [
    "cluster_flip = datetime.timedelta(seconds=cluster_change_indices[0] / 10)\n",
    "cluster_flip"
   ]
  },
  {
   "cell_type": "code",
   "execution_count": 54,
   "metadata": {},
   "outputs": [
    {
     "data": {
      "text/plain": [
       "datetime.datetime(2000, 1, 1, 0, 12, 47, 300000)"
      ]
     },
     "execution_count": 54,
     "metadata": {},
     "output_type": "execute_result"
    }
   ],
   "source": [
    "flip_datetime = scene_start_datetime + cluster_flip\n",
    "flip_datetime"
   ]
  },
  {
   "cell_type": "code",
   "execution_count": 55,
   "metadata": {
    "scrolled": false
   },
   "outputs": [
    {
     "data": {
      "text/plain": [
       "datetime.time(0, 12, 47, 300000)"
      ]
     },
     "execution_count": 55,
     "metadata": {},
     "output_type": "execute_result"
    }
   ],
   "source": [
    "flip_time = datetime.time(hour=flip_datetime.hour, minute=flip_datetime.minute, second=flip_datetime.second, microsecond=flip_datetime.microsecond)\n",
    "flip_time"
   ]
  },
  {
   "cell_type": "markdown",
   "metadata": {},
   "source": [
    "We can perform this for all the cluster flips, though we're only interested in the first 9, the first 30 seconds' worth. This calculation of all the times when the speaker changes will be be defined as a function in `dialogue_attribution_io.py` called `get_subtitle_flip_times()`:"
   ]
  },
  {
   "cell_type": "code",
   "execution_count": 123,
   "metadata": {},
   "outputs": [],
   "source": [
    "scene_start_time = frame_to_time(766)\n",
    "flip_times = []\n",
    "for cluster_change in cluster_change_indices:\n",
    "    scene_start_datetime = datetime.datetime(year=2000, month=1, day=1, hour=scene_start_time.hour, minute=scene_start_time.minute, second=scene_start_time.second)\n",
    "    cluster_flip = datetime.timedelta(seconds=cluster_change / 10)\n",
    "    flip_datetime = scene_start_datetime + cluster_flip\n",
    "    flip_time = datetime.time(hour=flip_datetime.hour, minute=flip_datetime.minute, second=flip_datetime.second, microsecond=flip_datetime.microsecond)\n",
    "    flip_times.append(flip_time)"
   ]
  },
  {
   "cell_type": "code",
   "execution_count": 124,
   "metadata": {
    "scrolled": true
   },
   "outputs": [
    {
     "data": {
      "text/plain": [
       "[datetime.time(0, 12, 47, 300000),\n",
       " datetime.time(0, 12, 48, 900000),\n",
       " datetime.time(0, 12, 50, 400000),\n",
       " datetime.time(0, 13, 0, 800000),\n",
       " datetime.time(0, 13, 6, 100000),\n",
       " datetime.time(0, 13, 11, 300000),\n",
       " datetime.time(0, 13, 13, 400000),\n",
       " datetime.time(0, 13, 15, 600000)]"
      ]
     },
     "execution_count": 124,
     "metadata": {},
     "output_type": "execute_result"
    }
   ],
   "source": [
    "flip_times[0:8]"
   ]
  },
  {
   "cell_type": "markdown",
   "metadata": {},
   "source": [
    "We now have a list of all the times the speaker changes (according to the audio track), but as we realized above, this doesn't line up with the subtitles file.  These are the subtitles that we're looking for:"
   ]
  },
  {
   "cell_type": "markdown",
   "metadata": {},
   "source": [
    "`Helen Mirren:  12:47.7-12:49.1    :01.7-:03.1 A: Flips .4 seconds early, \"That's my boy.\"`\n",
    "\n",
    "`Jason Statham: 12:49.1-12:51.1    :03.1-:05.1 B: Flips .2 seconds early  \"No wonder we left\"`\n",
    "\n",
    "`Helen Mirren:  12:51.1-13:00.6    :05.1-:14.6 C: Flips .6 seconds early  \"She loves you, you know\"`\n",
    "\n",
    "`Jason Statham: 13:00.6-13:02.3    :14.6-:16.3 D: Flips exactly on time   \"Used to.\"`\n",
    "\n",
    "`No subtitle:   13:02.3-13:05.2    :16.3-:19.2 (Correctly) doesn't flip`\n",
    "\n",
    "`Helen Mirren:  13:05.2-13:12.1    :19.2-:26.1 E: Flips .9 seconds late   \"Well, one day, I just hope\"`\n",
    "\n",
    "`Jason Statham: 13:12.1-13:13.7    :26.1-:27.7 F: Flips .8 seconds early  \"How many years you got left?\"`\n",
    "\n",
    "`Helen Mirren:  13:13.7-13:15.7    :27.7-:29.7 G: Flips .8 seconds early  \"Two, with good behavior\"`\n",
    "\n",
    "`Simulteanous:  13:15.7-13:17.7    :29.7-:31.7 H: Ambiguous subtitles     \"-So how many, really?\"`"
   ]
  },
  {
   "cell_type": "code",
   "execution_count": 84,
   "metadata": {
    "scrolled": true
   },
   "outputs": [
    {
     "name": "stdout",
     "output_type": "stream",
     "text": [
      "(laughs)\n",
      "\n",
      "That's my boy.\n",
      "\n",
      "No wonder we left\n",
      "the family business.\n",
      "\n",
      "Used to.\n",
      "\n",
      "Well, one day, I just hope\n",
      "that I walk through that door\n",
      "\n",
      "and I see the two of you\n",
      "sitting there.\n",
      "\n",
      "How many years you got left?\n",
      "\n",
      "Two, with good behavior.\n",
      "\n"
     ]
    }
   ],
   "source": [
    "# these are mostly incorrect\n",
    "for time in flip_times[0:8]:\n",
    "    print(subs.at(time).text)\n",
    "    print()"
   ]
  },
  {
   "cell_type": "markdown",
   "metadata": {},
   "source": [
    "## Time Offset\n",
    "We've previously defined functions that will allow us to add or subtract a time offset, to try and align the subtitles correctly."
   ]
  },
  {
   "cell_type": "code",
   "execution_count": 9,
   "metadata": {},
   "outputs": [
    {
     "data": {
      "text/plain": [
       "datetime.time(0, 12, 47, 700000)"
      ]
     },
     "execution_count": 9,
     "metadata": {},
     "output_type": "execute_result"
    }
   ],
   "source": [
    "flip_time = datetime.time(0, 12, 47, 300000)\n",
    "offset_time = add_time_offset(flip_time, 400)\n",
    "offset_time"
   ]
  },
  {
   "cell_type": "code",
   "execution_count": 10,
   "metadata": {},
   "outputs": [
    {
     "data": {
      "text/plain": [
       "datetime.time(0, 12, 46, 900000)"
      ]
     },
     "execution_count": 10,
     "metadata": {},
     "output_type": "execute_result"
    }
   ],
   "source": [
    "flip_time = datetime.time(0, 12, 47, 300000)\n",
    "offset_time = subtract_time_offset(flip_time, 400)\n",
    "offset_time"
   ]
  },
  {
   "cell_type": "markdown",
   "metadata": {},
   "source": [
    "With these, we can offset the time we search for subtitles. Here's an example of offsetting the first flip time by half a second, to get the correct subtitle."
   ]
  },
  {
   "cell_type": "code",
   "execution_count": 64,
   "metadata": {},
   "outputs": [
    {
     "data": {
      "text/plain": [
       "'(laughs)'"
      ]
     },
     "execution_count": 64,
     "metadata": {},
     "output_type": "execute_result"
    }
   ],
   "source": [
    "subs.at(flip_times[0]).text"
   ]
  },
  {
   "cell_type": "code",
   "execution_count": 68,
   "metadata": {},
   "outputs": [
    {
     "data": {
      "text/plain": [
       "\"That's my boy.\""
      ]
     },
     "execution_count": 68,
     "metadata": {},
     "output_type": "execute_result"
    }
   ],
   "source": [
    "subs.at(add_time_offset(flip_times[0], 500)).text"
   ]
  },
  {
   "cell_type": "markdown",
   "metadata": {},
   "source": [
    "Using list comprehension, we add an offset of .8 seconds to all the flip times."
   ]
  },
  {
   "cell_type": "code",
   "execution_count": 81,
   "metadata": {},
   "outputs": [
    {
     "data": {
      "text/plain": [
       "[datetime.time(0, 12, 48, 100000),\n",
       " datetime.time(0, 12, 49, 700000),\n",
       " datetime.time(0, 12, 51, 200000),\n",
       " datetime.time(0, 13, 1, 600000),\n",
       " datetime.time(0, 13, 6, 900000),\n",
       " datetime.time(0, 13, 12, 100000),\n",
       " datetime.time(0, 13, 14, 200000),\n",
       " datetime.time(0, 13, 16, 400000),\n",
       " datetime.time(0, 13, 17, 100000),\n",
       " datetime.time(0, 13, 17, 800000),\n",
       " datetime.time(0, 13, 28, 800000),\n",
       " datetime.time(0, 13, 29, 500000)]"
      ]
     },
     "execution_count": 81,
     "metadata": {},
     "output_type": "execute_result"
    }
   ],
   "source": [
    "offset_flip_times = [add_time_offset(flip_time, offset=800) for flip_time in flip_times]\n",
    "offset_flip_times"
   ]
  },
  {
   "cell_type": "code",
   "execution_count": 83,
   "metadata": {},
   "outputs": [
    {
     "name": "stdout",
     "output_type": "stream",
     "text": [
      "That's my boy.\n",
      "\n",
      "No wonder we left\n",
      "the family business.\n",
      "\n",
      "She loves you, you know.\n",
      "\n",
      "Used to.\n",
      "\n",
      "Well, one day, I just hope\n",
      "that I walk through that door\n",
      "\n",
      "How many years you got left?\n",
      "\n",
      "Two, with good behavior.\n",
      "\n",
      "-So how many, really?\n",
      "-Four.\n",
      "\n"
     ]
    }
   ],
   "source": [
    "# these are all correct\n",
    "for time in offset_flip_times[0:8]:\n",
    "    print(subs.at(time).text)\n",
    "    print()"
   ]
  },
  {
   "cell_type": "markdown",
   "metadata": {},
   "source": [
    "## Subtitle Attribution\n",
    "We've gotten the correct subtitles for all flip times. Next, we just have to collect all the subtitles, including the ones between these flip times. Here are the indices where we've identified the flips."
   ]
  },
  {
   "cell_type": "code",
   "execution_count": 112,
   "metadata": {
    "scrolled": true
   },
   "outputs": [
    {
     "data": {
      "text/plain": [
       "[265, 266, 267, 271, 272, 274, 275, 276]"
      ]
     },
     "execution_count": 112,
     "metadata": {},
     "output_type": "execute_result"
    }
   ],
   "source": [
    "subtitle_flip_indices = []\n",
    "for time in offset_flip_times[0:8]:\n",
    "    subtitle_flip_indices.append(subs.at(time)[0].index)\n",
    "subtitle_flip_indices"
   ]
  },
  {
   "cell_type": "markdown",
   "metadata": {},
   "source": [
    "For example, `subs[265]` belongs to character T, `subs[266]` belongs to character S, and `subs[267]` through `subs[270]` belongs to character T. We build a list for each character containing the index for each of their subtitle lines. This will be be defined as a function in `dialogue_attribution_io.py` called `attribute_subs()`."
   ]
  },
  {
   "cell_type": "code",
   "execution_count": 115,
   "metadata": {},
   "outputs": [
    {
     "name": "stdout",
     "output_type": "stream",
     "text": [
      "[266, 271, 274]\n",
      "[265, 267, 268, 269, 270, 272, 273, 275]\n"
     ]
    }
   ],
   "source": [
    "character_s_subs = []\n",
    "character_t_subs = []\n",
    "character = 1 # since we're just working with two-character scenes for now, this value flips between 1 and -1\n",
    "sub_index_start = subtitle_flip_indices[0]\n",
    "sub_index_finish = subtitle_flip_indices[-1] # this discards final subtitles, for now\n",
    "\n",
    "for index in range(sub_index_start, sub_index_finish):\n",
    "    if index in subtitle_flip_indices:\n",
    "        character *= -1\n",
    "    if character == 1:\n",
    "        character_s_subs.append(index)\n",
    "    if character == -1:\n",
    "        character_t_subs.append(index)    \n",
    "    \n",
    "print(character_s_subs)\n",
    "print(character_t_subs)"
   ]
  },
  {
   "cell_type": "code",
   "execution_count": 121,
   "metadata": {},
   "outputs": [
    {
     "data": {
      "text/plain": [
       "['No wonder we left\\nthe family business.',\n",
       " 'Used to.',\n",
       " 'How many years you got left?']"
      ]
     },
     "execution_count": 121,
     "metadata": {},
     "output_type": "execute_result"
    }
   ],
   "source": [
    "character_s_lines = []\n",
    "for index in character_s_subs:\n",
    "    character_s_lines.append(subs[index].text)\n",
    "character_s_lines"
   ]
  },
  {
   "cell_type": "code",
   "execution_count": 122,
   "metadata": {},
   "outputs": [
    {
     "data": {
      "text/plain": [
       "[\"That's my boy.\",\n",
       " 'She loves you, you know.',\n",
       " 'All you got to do is\\npick up the phone, Decks.',\n",
       " \"Look at me.\\nYou're her big brother.\",\n",
       " 'She looks up to you.',\n",
       " 'Well, one day, I just hope\\nthat I walk through that door',\n",
       " 'and I see the two of you\\nsitting there.',\n",
       " 'Two, with good behavior.']"
      ]
     },
     "execution_count": 122,
     "metadata": {},
     "output_type": "execute_result"
    }
   ],
   "source": [
    "character_t_lines = []\n",
    "for index in character_t_subs:\n",
    "    character_t_lines.append(subs[index].text)\n",
    "character_t_lines"
   ]
  },
  {
   "cell_type": "markdown",
   "metadata": {},
   "source": [
    "This gives us lists for each character, each containing the subtitle lines for each characters. Development on this module will pause for now, since there's some difficulty in merging these lists with the one-second-per-frame DataFrame. That DataFrame and the subtitles operate on a different time system, and the time offset introduces another headache."
   ]
  }
 ],
 "metadata": {
  "kernelspec": {
   "display_name": "Python (moviegoer)",
   "language": "python",
   "name": "moviegoer"
  },
  "language_info": {
   "codemirror_mode": {
    "name": "ipython",
    "version": 3
   },
   "file_extension": ".py",
   "mimetype": "text/x-python",
   "name": "python",
   "nbconvert_exporter": "python",
   "pygments_lexer": "ipython3",
   "version": "3.7.7"
  }
 },
 "nbformat": 4,
 "nbformat_minor": 4
}
