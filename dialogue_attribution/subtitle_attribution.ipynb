{
 "cells": [
  {
   "cell_type": "markdown",
   "metadata": {},
   "source": [
    "# subtitle_attribution\n",
    "Subtitle attribution is the ultimate goal of this module. By using various clues in the audio, video, and subtitle streams, we were able to match onscreen characters with voices. Now we just need to go through the subtitle file and attribute each line of dialogue to the appropriate character."
   ]
  },
  {
   "cell_type": "code",
   "execution_count": 1,
   "metadata": {},
   "outputs": [],
   "source": [
    "import os\n",
    "import pandas as pd\n",
    "from dialogue_attribution_io import *"
   ]
  },
  {
   "cell_type": "markdown",
   "metadata": {},
   "source": [
    "# Comparison with actual audio\n",
    "We can compare the subtitles with the audio in a scene we've previously identified. This specific .wav file was extracted from the audio track and only contains audio from this scene. In another file, we've explored the `speaker_diarization()` function from the `pyAudioAnalysis` library to split the audio from a conversation into two clusters (corresponding to each speaker)."
   ]
  },
  {
   "cell_type": "code",
   "execution_count": 2,
   "metadata": {},
   "outputs": [],
   "source": [
    "audio_file = ('../extracted_audio/prison_stereo.wav')"
   ]
  },
  {
   "cell_type": "code",
   "execution_count": 3,
   "metadata": {},
   "outputs": [
    {
     "data": {
      "image/png": "[encoded data removed]",
      "text/plain": [
       "<Figure size 432x288 with 1 Axes>"
      ]
     },
     "metadata": {
      "needs_background": "light"
     },
     "output_type": "display_data"
    }
   ],
   "source": [
    "clusters = pyAudioAnalysis.audioSegmentation.speaker_diarization(audio_file, 2, mid_window=.8, mid_step=0.1, short_window=0.02, lda_dim=0, plot_res=True)"
   ]
  },
  {
   "cell_type": "code",
   "execution_count": 4,
   "metadata": {},
   "outputs": [
    {
     "data": {
      "text/plain": [
       "580"
      ]
     },
     "execution_count": 4,
     "metadata": {},
     "output_type": "execute_result"
    }
   ],
   "source": [
    "len(clusters) # 580 clusters means 58 seconds"
   ]
  },
  {
   "cell_type": "markdown",
   "metadata": {},
   "source": [
    "# Speaker Changes\n",
    "We have to work through three challenges.\n",
    "1. pyAudioAnalysis' `speaker_diarization` doesn't actually tell us when someone is speaking, only the character who last spoke (whether currently speaking ot not). \n",
    "2. Frame extraction and subtitle timestamps may not line up perfectly. This is due to the issue of extracting frames from a 23.976p video.\n",
    "3. Subtitles and onscreen visuals usually don't align perfectly. Subtitle authoring is more of an art than a science. They usually appear onscreen before a character actually starts speaking, but sometimes (for dramatic effect or to avoid spoiling a joke), they appear just as the character speaks.\n",
    "\n",
    "Here are the speaker changes identified from the first 30 seconds of `speaker_diarization`. The `clusters` object contains the current or last-to-speak speaker, and reports this ten times per second. I've manually printed eight speaker changes (when the reported speaker flips from cluster 1 to 0 or 0 to 1). Remember that each item in the `clusters` list represents a tenth of a second. So a speaker change at `clusters[13]` means there's a speaker change 1.3 seconds into the scene."
   ]
  },
  {
   "cell_type": "code",
   "execution_count": 5,
   "metadata": {
    "scrolled": false
   },
   "outputs": [
    {
     "name": "stdout",
     "output_type": "stream",
     "text": [
      "Flip A: 1.3 seconds\n",
      "1.0 12\n",
      "0.0 13\n",
      "\n",
      "Flip B: 2.9 seconds\n",
      "0.0 28\n",
      "1.0 29\n",
      "\n",
      "Flip C: 4.5 seconds\n",
      "0.0 44\n",
      "0.0 45\n",
      "\n",
      "Flip D: 14.6 seconds\n",
      "0.0 145\n",
      "0.0 146\n",
      "\n",
      "Flip E: 20.1 seconds\n",
      "1.0 200\n",
      "0.0 201\n",
      "\n",
      "Flip F: 25.3 seconds\n",
      "0.0 252\n",
      "1.0 253\n",
      "\n",
      "Flip G: 27.4 seconds\n",
      "1.0 273\n",
      "0.0 274\n",
      "\n",
      "Flip H: 29.6 seconds\n",
      "0.0 295\n",
      "1.0 296\n"
     ]
    }
   ],
   "source": [
    "# illustrate flip from 0 to 1 or vice versa\n",
    "print('Flip A: 1.3 seconds')\n",
    "for x in range(12, 14): # frame 13, or 1.3 seconds into the scene\n",
    "    print(clusters[x], x)\n",
    "print()\n",
    "print('Flip B: 2.9 seconds')\n",
    "for x in range(28, 30): # frame 29\n",
    "    print(clusters[x], x)\n",
    "print()\n",
    "print('Flip C: 4.5 seconds')\n",
    "for x in range(44, 46): # frame 45\n",
    "    print(clusters[x], x)\n",
    "print()\n",
    "print('Flip D: 14.6 seconds')\n",
    "for x in range(145, 147): # frame 146\n",
    "    print(clusters[x], x)\n",
    "print()\n",
    "print('Flip E: 20.1 seconds')\n",
    "for x in range(200, 202): # frame 201\n",
    "    print(clusters[x], x)\n",
    "print()\n",
    "print('Flip F: 25.3 seconds')\n",
    "for x in range(252, 254): # frame 253\n",
    "    print(clusters[x], x)\n",
    "print()\n",
    "print('Flip G: 27.4 seconds')\n",
    "for x in range(273, 275): # frame 274\n",
    "    print(clusters[x], x)\n",
    "print()\n",
    "print('Flip H: 29.6 seconds')\n",
    "for x in range(295, 297): # frame 296\n",
    "    print(clusters[x], x)"
   ]
  },
  {
   "cell_type": "markdown",
   "metadata": {},
   "source": [
    "In this example scene, I've manually looked at the .srt file and transcribed the speaker for the first 30 seconds. Since the audio file is only from this scene (and not the entire film), it start at 00:00:00; I've subtracted 00:12:46 from the subtitle times and wrote when they occur in the audio file. I've added commentary to how the 0-1 flips in `clusters` compare.\n",
    "\n",
    "`Helen Mirren:  12:47.7-12:49.1    :01.7-:03.1` A: Flips .4 seconds early\n",
    "\n",
    "`Jason Statham: 12:49.1-12:51.1    :03.1-:05.1` B: Flips .2 seconds early\n",
    "\n",
    "`Helen Mirren:  12:51.1-13:00.6    :05.1-:14.6` C: Flips .6 seconds early\n",
    "\n",
    "`Jason Statham: 13:00.6-13:02.3    :14.6-:16.3` D: Flips exactly on time\n",
    "\n",
    "`No subtitle:   13:02.3-13:05.2    :16.3-:19.2` (Correctly) doesn't flip\n",
    "\n",
    "`Helen Mirren:  13:05.2-13:12.1    :19.2-:26.1` E: Flips .9 seconds late\n",
    "\n",
    "`Jason Statham: 13:12.1-13:13.7    :26.1-:27.7` F: Flips .8 seconds early\n",
    "\n",
    "`Helen Mirren:  13:13.7-13:15.7    :27.7-:29.7` G: Flips .8 seconds early\n",
    "\n",
    "`Simulteanous:  13:15.7-13:17.7    :29.7-:31.7` H: Flips .1 seconds early, but the subtitles here are ambigious since they contain one line of dialogue for each character."
   ]
  },
  {
   "cell_type": "markdown",
   "metadata": {},
   "source": [
    "Comparing the `clusters` from `voice_diarization()` to the actual subtitles, it looks like the clusters indicate speaker changes a little bit earlier than the subtitles. There is one exception, Flip E, which comes in .9 seconds late - this is probably because Helen Mirren's line starts with a curt and quiet \"well\", before continuing with the rest of her dialogue."
   ]
  },
  {
   "cell_type": "code",
   "execution_count": 6,
   "metadata": {},
   "outputs": [
    {
     "data": {
      "text/plain": [
       "datetime.time(0, 12, 46)"
      ]
     },
     "execution_count": 6,
     "metadata": {},
     "output_type": "execute_result"
    }
   ],
   "source": [
    "time_object = frame_to_time(766)\n",
    "time_object"
   ]
  },
  {
   "cell_type": "markdown",
   "metadata": {},
   "source": [
    "frame_to_time + \n",
    "clusters[0] is frame time\n",
    "clusters[1] is frame time + 100 milliseconds \n",
    "clusters[10] is frame time + 1 second\n",
    "clusters[11] is frame time + 1 second + 100 milliseconds"
   ]
  },
  {
   "cell_type": "code",
   "execution_count": 7,
   "metadata": {},
   "outputs": [],
   "source": [
    "sub_files = '../subtitles/hobbs_shaw.srt'\n",
    "subs = load_subtitles(sub_files)"
   ]
  },
  {
   "cell_type": "markdown",
   "metadata": {},
   "source": [
    "Must convert time object to datetime object, add time_delta, then convert back to time object"
   ]
  },
  {
   "cell_type": "markdown",
   "metadata": {},
   "source": [
    "- Identify flips (need function, use memory)\n",
    "\n",
    "- Scene start\n",
    "- Add time for clusters[index] (need function that can work with identified flips)\n",
    "- Add time for offset (function exists)"
   ]
  },
  {
   "cell_type": "code",
   "execution_count": null,
   "metadata": {},
   "outputs": [],
   "source": [
    "# scene_start = datetime.time(0, 12, 47)\n",
    "# convert to datetime\n",
    "# timedelta for clusters[index]\n",
    "# add together\n",
    "# convert to time (which will eventually be used to add/subtract time offset)"
   ]
  },
  {
   "cell_type": "code",
   "execution_count": 12,
   "metadata": {},
   "outputs": [
    {
     "data": {
      "text/plain": [
       "datetime.time(0, 12, 47, 700000)"
      ]
     },
     "execution_count": 12,
     "metadata": {},
     "output_type": "execute_result"
    }
   ],
   "source": [
    "flip_time = datetime.time(0, 12, 47, 300000)\n",
    "offset_time = add_time_offset(flip_time, 400)\n",
    "offset_time"
   ]
  },
  {
   "cell_type": "code",
   "execution_count": 13,
   "metadata": {},
   "outputs": [
    {
     "data": {
      "text/plain": [
       "datetime.time(0, 12, 46, 900000)"
      ]
     },
     "execution_count": 13,
     "metadata": {},
     "output_type": "execute_result"
    }
   ],
   "source": [
    "flip_time = datetime.time(0, 12, 47, 300000)\n",
    "offset_time = subtract_time_offset(flip_time, 400)\n",
    "offset_time"
   ]
  },
  {
   "cell_type": "code",
   "execution_count": null,
   "metadata": {},
   "outputs": [],
   "source": []
  }
 ],
 "metadata": {
  "kernelspec": {
   "display_name": "Python (moviegoer)",
   "language": "python",
   "name": "moviegoer"
  },
  "language_info": {
   "codemirror_mode": {
    "name": "ipython",
    "version": 3
   },
   "file_extension": ".py",
   "mimetype": "text/x-python",
   "name": "python",
   "nbconvert_exporter": "python",
   "pygments_lexer": "ipython3",
   "version": "3.7.7"
  }
 },
 "nbformat": 4,
 "nbformat_minor": 4
}
