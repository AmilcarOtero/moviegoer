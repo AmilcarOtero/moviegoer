{
 "cells": [
  {
   "cell_type": "markdown",
   "metadata": {},
   "source": [
    "# characters\n",
    "Character tracking is another key goal of *Moviegoer*. We can identify and compile information on individual characters. We'll keep looking at the romantic comedy *Plus One* (2019)."
   ]
  },
  {
   "cell_type": "code",
   "execution_count": 1,
   "metadata": {},
   "outputs": [],
   "source": [
    "import sys\n",
    "sys.path.append('../unifying_features')\n",
    "sys.path.append('../data_serialization')\n",
    "from serialization_preprocessing_io import *\n",
    "from time_reference_io import *\n",
    "from scene_identification_io import *\n",
    "from scene_details_io import *\n",
    "from character_identification_io import *\n",
    "from character_details_io import *\n",
    "nlp = spacy.load('en')"
   ]
  },
  {
   "cell_type": "code",
   "execution_count": 2,
   "metadata": {},
   "outputs": [],
   "source": [
    "film = 'plus_one_2019'\n",
    "srt_df, subtitle_df, sentence_df, vision_df, face_df = read_pickle(film)\n",
    "scene_dictionaries = generate_scenes(vision_df, face_df, substantial_minimum=4, anchor_search=8)\n",
    "character_dictionaries = generate_characters(scene_dictionaries)"
   ]
  },
  {
   "cell_type": "markdown",
   "metadata": {},
   "source": [
    "# Character Identification\n",
    "\n",
    "We were able to identify two main characters. This makes sense — *Plus One* is a romantic comedy. We identify them by their faces, and can place them in the scenes we've previously identified."
   ]
  },
  {
   "cell_type": "code",
   "execution_count": 3,
   "metadata": {
    "scrolled": false
   },
   "outputs": [
    {
     "data": {
      "text/plain": [
       "{1: {'character_id': 1,\n",
       "  'face_clusters': [0.0, 3.0, 11.0, 13.0, 17.0, 31.0],\n",
       "  'scenes_present': [1, 2, 3, 4, 5, 6, 8, 9, 10, 11, 13, 14, 15, 16, 17, 18]},\n",
       " 2: {'character_id': 2,\n",
       "  'face_clusters': [2.0, 7.0, 8.0, 10.0, 22.0],\n",
       "  'scenes_present': [2, 3, 4, 5, 7, 10, 11, 12, 13, 14, 16, 17, 18]}}"
      ]
     },
     "execution_count": 3,
     "metadata": {},
     "output_type": "execute_result"
    }
   ],
   "source": [
    "character_dictionaries"
   ]
  },
  {
   "cell_type": "markdown",
   "metadata": {},
   "source": [
    "## Demographic Information\n",
    "We can use facial recognition models to find a best-guess at a character's age, race, and gender. We'll look at the character of Ben, played by the actor Jack Quaid."
   ]
  },
  {
   "cell_type": "code",
   "execution_count": 4,
   "metadata": {},
   "outputs": [],
   "source": [
    "chosen_character = character_dictionaries[1]\n",
    "character_face_clusters = chosen_character['face_clusters']"
   ]
  },
  {
   "cell_type": "markdown",
   "metadata": {},
   "source": [
    "To choose an appropriate frame to run the facial recognition, we have to find the frame where his face is biggest. In the chosen frame, his face takes up 12.8% of the frame. "
   ]
  },
  {
   "cell_type": "code",
   "execution_count": 5,
   "metadata": {},
   "outputs": [
    {
     "data": {
      "text/plain": [
       "593"
      ]
     },
     "execution_count": 5,
     "metadata": {},
     "output_type": "execute_result"
    }
   ],
   "source": [
    "get_biggest_face_frame(character_face_clusters, face_df)"
   ]
  },
  {
   "cell_type": "markdown",
   "metadata": {},
   "source": [
    "Because of memory constraints, the facial recognition model won't fit in this Jupyter Notebook. You'll have to trust me on the output. It predicted that the character of Ben is white, male, and 31 years old. The actor Jack Quaid is indeed white, male, but 28 years old. Still, not a bad guess."
   ]
  },
  {
   "cell_type": "markdown",
   "metadata": {},
   "source": [
    "## Emotion Tracking\n",
    "Since we'll eventually be identifying what causes characters' emotional changes, we want to track their emotions throughout the entire film. We can recognize their face across the film, and assign one of seven emotions. These are Charles Darwin's six core emotions: Happy, Sad, Angry, Surprised, Fearful, and Disgusted; we also add Neutral."
   ]
  },
  {
   "cell_type": "code",
   "execution_count": 6,
   "metadata": {},
   "outputs": [
    {
     "data": {
      "text/plain": [
       "sad         1038\n",
       "neutral      664\n",
       "fear         452\n",
       "happy        354\n",
       "angry        207\n",
       "surprise      48\n",
       "disgust        3\n",
       "Name: p_emotion, dtype: int64"
      ]
     },
     "execution_count": 6,
     "metadata": {},
     "output_type": "execute_result"
    }
   ],
   "source": [
    "face_df.p_emotion.value_counts()"
   ]
  },
  {
   "cell_type": "markdown",
   "metadata": {},
   "source": [
    "In practice, we mostly only see emotions categorized as Sad, Neutral, Fearful, Angry, and Happy. We group together the emotions Sad and Angry into one category called \"upset\". Whenever we see a character Upset, we assume they're in emotional distress. We can plot these Upset emotions across the film. A film can be divided into eight sequences (a more granular version of the three act structure), so for now, we'll plot these Upset emotions across eight equal durations.\n",
    "\n",
    "This plot roughly tracks the traditional three act structure. Most of the drama happens at the climax near the end of the film, before culminating in a happy ending."
   ]
  },
  {
   "cell_type": "code",
   "execution_count": 7,
   "metadata": {},
   "outputs": [
    {
     "data": {
      "image/png": "[encoded data removed]",
      "text/plain": [
       "<Figure size 432x288 with 1 Axes>"
      ]
     },
     "metadata": {
      "needs_background": "light"
     },
     "output_type": "display_data"
    }
   ],
   "source": [
    "plot_character_filmwide_emotion(character_face_clusters, face_df)"
   ]
  },
  {
   "cell_type": "markdown",
   "metadata": {},
   "source": [
    "## Dialogue Attribution\n",
    "Attribution of dialogue to their speakers is a key step in understanding characters' plot and motivations. However, the results are a little shaky. The algorithm attributes dialogue by determining who's onscreen with their mouth open when a line is delivered, and this isn't always accurate.\n",
    "\n",
    "The remainder of this notebook contains dialogue possibly attributed to Ben."
   ]
  },
  {
   "cell_type": "code",
   "execution_count": 8,
   "metadata": {
    "scrolled": false
   },
   "outputs": [
    {
     "name": "stdout",
     "output_type": "stream",
     "text": [
      "----------------\n",
      "Direct questions\n",
      "----------------\n",
      "That makes it sadder, you know?\n",
      "When were you gonna tell me?\n",
      "Hey, Mr. Ricciardi, how are you?\n",
      "Do you have one yet?\n",
      "Are you gonna spend the rest of your life moping about Nate?\n",
      "Have you ever heard of such a thing?\n",
      "Do you have any rooms available?\n",
      "How you doing, dude?\n",
      "Do you hate Gina?\n",
      "How did you get in here?\n",
      "What do you mean, that's it?\n",
      "Why do you want this so much?\n",
      "Are you afraid of strong women?\n",
      "Can you tell your girlfriend to keep it down?\n",
      "Did you get that?\n",
      "Do you need to use the girls' room?\n",
      "Can you maybe not assault this one?\n",
      "I just don't think my heart's in this anymore, you know?\n",
      "\n",
      "-------------------------------------\n",
      "Possible important terms, noun groups\n",
      "-------------------------------------\n",
      "['Ben', 'Alice', 'fun', 'Jess Ramsey', 'Gina']\n",
      "\n",
      "-------------------------\n",
      "First-person declarations\n",
      "-------------------------\n",
      "And plus, I got someone to look forward to.\n",
      "I don't like my room.\n",
      "I'm the best man, so I'm a little busy.\n",
      "Alice, I think there's another dance floor in the basement.\n",
      "I'm just gonna get a car and head home.\n",
      "I mean, I feel like I so rarely get to see you.\n",
      "Did I...\n",
      "Did I just do something horrible?\n",
      "Um, I'm so sorry.\n",
      "I had no idea.\n",
      "I stole one of your key cards this morning.\n",
      "Alice, I'm not looking to go to more of these.\n",
      "I just don't think my heart's in this anymore, you know?\n",
      "I don't have to love my work.\n",
      "I don't know.\n",
      "I'm just asking you... to pace yourself so you don't make the same mistakes you have before.\n",
      "I told a friend I'd go to a wedding with her.\n",
      "Yeah, I'm down.\n",
      "And I got some rough ones coming up.\n",
      "I just know it.\n",
      "I'm sorry, but she's literally gonna piss herself.\n",
      "I'm...\n",
      "I'm saying it.\n",
      "I'm admitting it.\n",
      "Alice, when you've been single as long as I have, you know what you want.\n",
      "I would date her, but she's engaged.\n",
      "I'm Ben King.\n",
      "I'm not in the mood to go on dates right now.\n",
      "Every time I've seen you, you've just been like \"Nate!\"\n",
      "God, I love weddings.\n",
      "I don't have a girlfriend.\n",
      "I'm gonna spill a drink on her when the song ends, and you're gonna go up to her with some napkins and a good opening line.\n",
      "Uh, I didn't know you guys...\n",
      "I'm an early riser.\n",
      "Uh, I'll...\n",
      "I'll think about it.\n",
      "I'm all good on doobies for the night.\n",
      "That's all I'm saying.\n",
      "And I do.\n",
      "I can see the whole world from up here.\n",
      "I'm not fucking around here.\n",
      "Yeah, I put that together after the third \"cooter.\"\n",
      "I love what you've done with your hair.\n",
      "I know you had a long flight.\n",
      "But I think I'm a robe guy.\n",
      "I see it.\n",
      "I could.\n",
      "I'm doing it.\n",
      "I love strong women.\n",
      "I didn't know you were in band.\n",
      "I mean, you can.\n",
      "I would.\n",
      "I know what it says.\n",
      "I don't need to check that.\n",
      "I don't want your mom to come in and, like, bop me on the head.\n",
      "I don't know how Nate got in there.\n",
      "I'm really glad you came along, Ben.\n",
      "I didn't introduce you.\n",
      "No, I'm good.\n",
      "I'm so sorry.\n",
      "I can't move it.\n",
      "I'm not in a mood.\n",
      "I'm sorry, but that would kill me if I did that to you.\n",
      "Alice, I'm so sorry.\n",
      "Yeah, I'm...\n",
      "I'm a VP at a start-up.\n",
      "'Cause, man, I don't know.\n",
      "I really think you should consider the flavor business.\n",
      "I'm good.\n",
      "Well, if you'll excuse me, I have to go find the missus.\n",
      "Um, hey, can I...\n",
      "Can I say something?\n",
      "I-I can't do them on my own.\n",
      "and I'm selfish, and fuck me for being too late,\n",
      "but I love you, Alice.\n",
      "I don't hate Gina.\n",
      "And I just decided I didn't want to be like you guys.\n",
      "I'm Ben, and most of you here probably know me as Chuck's son.\n",
      "I-I just didn't want to do it.\n",
      "So I'd like to raise a glass.\n",
      "I'm just trying to be honest.\n",
      "\n",
      "-----------------------\n",
      "Second-person addresses\n",
      "-----------------------\n",
      "How did you get in here?\n",
      "I just don't think my heart's in this anymore, you know?\n",
      "When were you gonna tell me?\n",
      "I'm just asking you... to pace yourself so you don't make the same mistakes you have before.\n",
      "Why do you want this so much?\n",
      "You freak people out when you do that.\n",
      "Can you tell your girlfriend to keep it down?\n",
      "Alice, when you've been single as long as I have, you know what you want.\n",
      "Are you gonna spend the rest of your life moping about Nate?\n",
      "Every time I've seen you, you've just been like \"Nate!\"\n",
      "Do you have any rooms available?\n",
      "Did you get that?\n",
      "I'm gonna spill a drink on her when the song ends, and you're gonna go up to her with some napkins and a good opening line.\n",
      "Can you maybe not assault this one?\n",
      "Oh, you're coming over.\n",
      "You said you knew where our hotel was.\n",
      "I love what you've done with your hair.\n",
      "I know you had a long flight.\n",
      "You have ridiculous vibes coming off of you, and you're acting weird about it.\n",
      "That makes it sadder, you know?\n",
      "Do you have one yet?\n",
      "Are you afraid of strong women?\n",
      "I didn't know you were in band.\n",
      "I mean, you can.\n",
      "I'm really glad you came along, Ben.\n",
      "See, you get to see the excitement.\n",
      "Yes, you are.\n",
      "There you are.\n",
      "you know, what, like, Brett and Nick have.\n",
      "Hey, Mr. Ricciardi, how are you?\n",
      "I really think you should consider the flavor business.\n",
      "Have you ever heard of such a thing?\n",
      "How you doing, dude?\n",
      "Well, if you'll excuse me, I have to go find the missus.\n",
      "Do you need to use the girls' room?\n",
      "And you were right about these weddings.\n",
      "It's 'cause you're lonely.\n",
      "It's because you're not there.\n",
      "Do you hate Gina?\n",
      "What do you...\n",
      "What do you mean, that's it?\n",
      "\n"
     ]
    }
   ],
   "source": [
    "display_character_dialogue_context(character_face_clusters, sentence_df, nlp)"
   ]
  }
 ],
 "metadata": {
  "kernelspec": {
   "display_name": "Python (moviegoer)",
   "language": "python",
   "name": "moviegoer"
  },
  "language_info": {
   "codemirror_mode": {
    "name": "ipython",
    "version": 3
   },
   "file_extension": ".py",
   "mimetype": "text/x-python",
   "name": "python",
   "nbconvert_exporter": "python",
   "pygments_lexer": "ipython3",
   "version": "3.7.7"
  }
 },
 "nbformat": 4,
 "nbformat_minor": 4
}
