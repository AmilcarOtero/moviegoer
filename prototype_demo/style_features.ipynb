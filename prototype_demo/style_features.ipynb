{
 "cells": [
  {
   "cell_type": "markdown",
   "metadata": {},
   "source": [
    "# emotional and style features\n",
    "A film is more than just dialogue. There are many emotional and style features meant to influence the emotional impact. Below are three types of features for which we can look. They each don't quite have a definitive meaning, but we can still infer some information from each."
   ]
  },
  {
   "cell_type": "code",
   "execution_count": 1,
   "metadata": {},
   "outputs": [],
   "source": [
    "import sys\n",
    "sys.path.append('../unifying_features')\n",
    "sys.path.append('../data_serialization')\n",
    "from serialization_preprocessing_io import *\n",
    "from time_reference_io import *\n",
    "from film_details_io import *\n",
    "from scene_identification_io import *\n",
    "from scene_details_io import *\n",
    "from character_identification_io import *\n",
    "from character_details_io import *\n",
    "nlp = spacy.load('en')"
   ]
  },
  {
   "cell_type": "markdown",
   "metadata": {},
   "source": [
    "# Color Shots\n",
    "Movie frames (and all images) can be divided into their RGB components. Three values for the average amounts of red, blue, and green in each pixel. These three values tend to be relatively balanced. We can look for frames where these aren't balanced: images that skew toward one of the primary additive colors red, blue, or green; or images that lack one of the primary additive colors, skewing toward the secondary colors yellow, cyan, or magenta.\n",
    "\n",
    "These color images may be a result of creative lighting, or just the context of the scene (e.g. underwater or containing fire).\n",
    "\n",
    "In the three most prominent examples from *Booksmart* (2019), these shots are all from dialogue-free set pieces.\n",
    "\n",
    "- An underwater scene of a character searching for another character\n",
    "- A dream sequence bathed in neon light in which a character imagines herself dancing with another character\n",
    "- A karaoke scene filled with projections of lyrics and colored lighting"
   ]
  },
  {
   "cell_type": "code",
   "execution_count": 2,
   "metadata": {},
   "outputs": [],
   "source": [
    "film = 'booksmart_2019'\n",
    "srt_df, subtitle_df, sentence_df, vision_df, face_df = read_pickle(film)"
   ]
  },
  {
   "cell_type": "code",
   "execution_count": 3,
   "metadata": {},
   "outputs": [
    {
     "data": {
      "text/plain": [
       "[1090,\n",
       " 1155,\n",
       " 1336,\n",
       " 1158,\n",
       " 1159,\n",
       " 1327,\n",
       " 1200,\n",
       " 1296,\n",
       " 1360,\n",
       " 1300,\n",
       " 1174,\n",
       " 1240,\n",
       " 1242,\n",
       " 1244]"
      ]
     },
     "execution_count": 3,
     "metadata": {},
     "output_type": "execute_result"
    }
   ],
   "source": [
    "get_color_shots(vision_df)"
   ]
  },
  {
   "cell_type": "markdown",
   "metadata": {},
   "source": [
    "# Non-Conforming Aspect Ratio\n",
    "Certain shots of a film might be displayed in an aspect ratio different than the rest of the film. One example is using a more widescreen aspect ratio when showing a \"film within a film\". Another is making the image more square for an \"old-timey\" look to show something happening in the past.\n",
    "\n",
    "We've identified these shots in *Booksmart*, all of which are footage characters are watching on their phone."
   ]
  },
  {
   "cell_type": "code",
   "execution_count": 4,
   "metadata": {},
   "outputs": [
    {
     "data": {
      "text/plain": [
       "[1380,\n",
       " 934,\n",
       " 936,\n",
       " 10,\n",
       " 462,\n",
       " 463,\n",
       " 464,\n",
       " 465,\n",
       " 466,\n",
       " 658,\n",
       " 468,\n",
       " 659,\n",
       " 470,\n",
       " 1422,\n",
       " 1423,\n",
       " 1680]"
      ]
     },
     "execution_count": 4,
     "metadata": {},
     "output_type": "execute_result"
    }
   ],
   "source": [
    "frame_before_credits = face_df[face_df['faces_found'] > 0].tail(1).index[0]\n",
    "vision_nocreds_df = vision_df[0:frame_before_credits].copy()\n",
    "get_nonconform_aspect_ratio_shots(vision_nocreds_df)"
   ]
  },
  {
   "cell_type": "markdown",
   "metadata": {},
   "source": [
    "# Long Take\n",
    "A long take is a shot that's held for a long period of time. Think of the action sequences from *Children of Men* (2006). A long shot builds tension and suspense. It's not just for action scenes, they're effective for dialogue as well. \n",
    "\n",
    "There are four examples from the sports drama *Ford v Ferrari* (2019), each with a different application.\n",
    "- A character delivers a monologue about the challenges of endurance racing\n",
    "- A character, unsure of what to say, talks a long-winded gambit to a company executive\n",
    "- A character has a conversation with his son about the mythical \"perfect lap\"\n",
    "- A character rides (drives) into the sunset"
   ]
  },
  {
   "cell_type": "code",
   "execution_count": 7,
   "metadata": {},
   "outputs": [
    {
     "data": {
      "text/plain": [
       "[(2260, 2314), (4732, 4751), (8791, 8816), (4214, 4237)]"
      ]
     },
     "execution_count": 7,
     "metadata": {},
     "output_type": "execute_result"
    }
   ],
   "source": [
    "film = 'ford_v_ferrari_2019'\n",
    "srt_df, subtitle_df, sentence_df, vision_df, face_df = read_pickle(film)\n",
    "frame_before_credits = face_df[face_df['faces_found'] > 0].tail(1).index[0]\n",
    "vision_nocreds_df = vision_df[0:frame_before_credits].copy()\n",
    "get_long_takes(vision_nocreds_df, duration_threshold=20)"
   ]
  }
 ],
 "metadata": {
  "kernelspec": {
   "display_name": "Python (moviegoer)",
   "language": "python",
   "name": "moviegoer"
  },
  "language_info": {
   "codemirror_mode": {
    "name": "ipython",
    "version": 3
   },
   "file_extension": ".py",
   "mimetype": "text/x-python",
   "name": "python",
   "nbconvert_exporter": "python",
   "pygments_lexer": "ipython3",
   "version": "3.7.7"
  }
 },
 "nbformat": 4,
 "nbformat_minor": 4
}
