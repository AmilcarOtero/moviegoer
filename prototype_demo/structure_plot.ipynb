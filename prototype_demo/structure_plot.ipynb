{
 "cells": [
  {
   "cell_type": "markdown",
   "metadata": {},
   "source": [
    "# Structure and Plot\n",
    "A key goal of *Moviegoer* is understanding a film's structure. A movie can be divided into several types of units: acts, sequences, shots, but the most important is the **scene**. A scene is a self-contained container of action and dialogue, usually taking place at a single location, and involving one or more characters.\n",
    "\n",
    "In this notebook, we'll take a look at some basic information about the film as a whole, then look at scenes we've found and what we can learn from their dialogue. Many of these analyses are image-based, and examples of illustrations are provided in the Readme in the root of this directory. It's strongly recommended to follow along with those illustrations."
   ]
  },
  {
   "cell_type": "code",
   "execution_count": 1,
   "metadata": {},
   "outputs": [],
   "source": [
    "import sys\n",
    "sys.path.append('../unifying_features')\n",
    "sys.path.append('../data_serialization')\n",
    "from serialization_preprocessing_io import *\n",
    "from time_reference_io import *\n",
    "from film_details_io import *\n",
    "from scene_identification_io import *\n",
    "from scene_details_io import *\n",
    "from character_identification_io import *\n",
    "from character_details_io import *\n",
    "nlp = spacy.load('en')"
   ]
  },
  {
   "cell_type": "markdown",
   "metadata": {},
   "source": [
    "# Baseline Film Information\n",
    "First, we'll take a look at the drama *Lost in Translation* (2003). We can view some basic information about the film as a whole."
   ]
  },
  {
   "cell_type": "code",
   "execution_count": 2,
   "metadata": {
    "scrolled": true
   },
   "outputs": [
    {
     "name": "stdout",
     "output_type": "stream",
     "text": [
      "---------\n",
      "Technical\n",
      "---------\n",
      "Aspect Ratio: 1.84\n",
      "Average shot duration: 5.11\n",
      "Average frame brightness: 36\n",
      "Average frame contrast: 29\n",
      "\n",
      "--------\n",
      "Dialogue\n",
      "--------\n",
      "Spoken sentences per minute: 15\n",
      "Words per sentence: 4.13\n",
      "\n",
      "-------\n",
      "Emotion\n",
      "-------\n",
      "Percentage of Upset facial expressions: 50%\n",
      "Instances of laughter, per minute: 0.3\n",
      "One in 1941 words is a profanity.\n"
     ]
    }
   ],
   "source": [
    "film = 'lost_in_translation_2003'\n",
    "display_film_baseline(film)"
   ]
  },
  {
   "cell_type": "markdown",
   "metadata": {},
   "source": [
    "*Lost in Translation* is a famously quiet movie. As a film about loneliness, it features many dialogue-free scenes of its characters wandering through Tokyo, trying to make sense of a foreign culture. The dialogue that does exist is sparse."
   ]
  },
  {
   "cell_type": "markdown",
   "metadata": {},
   "source": [
    "# Two-Character Dialogue Scenes\n",
    "We've created an algorithm to automatically identify scenes, partitioning them with the identification of their first and last frame. For now, the algorithm specifically identifies two-character dialogue scenes. These types of scenes are the basic building blocks of cinema: two characters speaking to each other, with no distractions, purely advancing the plot."
   ]
  },
  {
   "cell_type": "code",
   "execution_count": 3,
   "metadata": {},
   "outputs": [],
   "source": [
    "srt_df, subtitle_df, sentence_df, vision_df, face_df = read_pickle(film)\n",
    "scene_dictionaries = generate_scenes(vision_df, face_df, substantial_minimum=4, anchor_search=6)"
   ]
  },
  {
   "cell_type": "markdown",
   "metadata": {},
   "source": [
    "## The A/B/A/B pattern\n",
    "In modern film, two-character dialogue scenes follow a very distinct pattern. Character A speaks, then Character B, then back to A, then to B, etc. We cut back and forth between the two characters.\n",
    "\n",
    "We look for these two Anchor shots, which are the shots of the two characters and form the A/B/A/B pattern. We can also identify Cutaway shots, which aren't part of the A/B/A/B pattern but are still part of the scene.\n",
    "\n",
    "Let's take a look at the first scene the algorithm identified. This is the very first scene that our main characters, Charlotte and Bob, have a conversation. It doesn't take place until 31 minutes until the film — again, the film is sparse on dialogue."
   ]
  },
  {
   "cell_type": "code",
   "execution_count": 4,
   "metadata": {},
   "outputs": [
    {
     "data": {
      "text/plain": [
       "{'scene_id': 1,\n",
       " 'first_frame': 1929,\n",
       " 'last_frame': 2082,\n",
       " 'scene_duration': 154,\n",
       " 'left_anchor_shot_cluster': 207,\n",
       " 'left_anchor_face_cluster': 6.0,\n",
       " 'matching_left_face_clusters': [],\n",
       " 'right_anchor_shot_cluster': 66,\n",
       " 'right_anchor_face_cluster': 17.0,\n",
       " 'matching_right_face_clusters': [18.0, 12.0],\n",
       " 'cutaway_shot_clusters': [7, 29, 142]}"
      ]
     },
     "execution_count": 4,
     "metadata": {},
     "output_type": "execute_result"
    }
   ],
   "source": [
    "scene_dictionaries[1]"
   ]
  },
  {
   "cell_type": "markdown",
   "metadata": {},
   "source": [
    "In this 2:34 scene, Bob and Charlotte have a conversation in the A/B/A/B format, so we're able to identify the first and last frames in which they speak. We can also discover some Cutaways, which are just two-shots of Bob and Charlotte sitting at the bar.\n",
    "\n",
    "We can then turn to the dialogue to try and identify important phrases and bits of conversation. We extract possible important terms, as well as potentially important pieces of dialogue."
   ]
  },
  {
   "cell_type": "code",
   "execution_count": 5,
   "metadata": {},
   "outputs": [
    {
     "name": "stdout",
     "output_type": "stream",
     "text": [
      "-------------------------------\n",
      "Icebreaker (Conversation Start)\n",
      "-------------------------------\n",
      "Thanks.\n",
      "So, what are you doing here?\n",
      "A couple of things.\n",
      "\n",
      "\n",
      "-------------------------\n",
      "Kicker (Conversation End)\n",
      "-------------------------\n",
      "Cheers to that.\n",
      "Wish I could sleep.\n",
      "Me, too.\n",
      "\n",
      "\n",
      "--------------------------------\n",
      "Possible Important Terms, TF-IDF\n",
      "--------------------------------\n",
      "['years', 'porsche', 'yeah', 'doing', 'just']\n",
      "\n",
      "\n",
      "-------------------------------------\n",
      "Possible Important Terms, Noun Groups\n",
      "-------------------------------------\n",
      "['a Porsche', 'marriage', 'Cheers', 'A couple', 'things']\n",
      "\n",
      "\n",
      "--------------------------------\n",
      "Directed Questions and Responses\n",
      "--------------------------------\n",
      "So, what are you doing here?\n",
      "A couple of things.\n",
      "\n",
      "What are you doing?\n",
      "My husband's a photographer, so he's here working, and I wasn't doing anything, so I came along.\n",
      "\n",
      "How long have you been married?\n",
      "Thank you.\n",
      "\n",
      "Did you buy a Porsche yet?\n",
      "You know, I was thinking about buying a Porsche.\n",
      "\n",
      "What do you do?\n",
      "I'm not sure yet, actually.\n",
      "\n",
      "What did you study?\n",
      "Philosophy.\n",
      "\n",
      "-------------------------\n",
      "First-Person Declarations\n",
      "-------------------------\n",
      "Taking a break from my wife, forgetting my son's birthday and getting paid $2 million to endorse a whisky when I could be doing a play somewhere.\n",
      "My husband's a photographer, so he's here working, and I wasn't doing anything, so I came along.\n",
      "You know, I was thinking about buying a Porsche.\n",
      "I'm not sure yet, actually.\n",
      "I just graduated last spring.\n",
      "Well, I'm sure you'll figure out the angles.\n",
      "I hope your Porsche works out.\n",
      "Wish I could sleep.\n",
      "\n",
      "-----------------------\n",
      "Second-Person Addresses\n",
      "-----------------------\n",
      "Well, you figure you sleep one-third of your life.\n",
      "So you're down to 16 and change.\n",
      "Well, I'm sure you'll figure out the angles.\n",
      "\n",
      "-----------------------\n",
      "Cadence, Flow, and Vibe\n",
      "-----------------------\n",
      "This scene has a slow cadence, with a conversation speed of 18 sentences per minute.\n",
      "There are 3 instances of laughter.\n",
      "There are 0 midsentence hesitation interjections.\n",
      "The scene contains no profanity.\n"
     ]
    }
   ],
   "source": [
    "single_scene_dict = scene_dictionaries[1]\n",
    "display_scene_dialogue_context(single_scene_dict, subtitle_df, sentence_df, nlp)"
   ]
  },
  {
   "cell_type": "markdown",
   "metadata": {},
   "source": [
    "The \"Directed Questions\" section is particularly informative here. This is the first scene where the characters speak, so they're getting to know each other by asking them personal questions.\n",
    "\n",
    "Directed questions are specifically questions addressing the second-person \"you\", so they're generally more informative than any other types of questions. For example, \"Is it cold out?\" vs. \"Are you bringing a jacket?\": the second question invokes a more personal response."
   ]
  },
  {
   "cell_type": "markdown",
   "metadata": {},
   "source": [
    "## Emotional Analysis, at the Scene Level\n",
    "\n",
    "With scenes identified, we can also look into the scene's conversation speed, as well as character facial expressions. This scene has Bob and Charlotte reconciling after a fight, and realizing their time together is coming to an end."
   ]
  },
  {
   "cell_type": "code",
   "execution_count": 6,
   "metadata": {
    "scrolled": true
   },
   "outputs": [
    {
     "data": {
      "text/plain": [
       "{'scene_id': 4,\n",
       " 'first_frame': 5195,\n",
       " 'last_frame': 5242,\n",
       " 'scene_duration': 48,\n",
       " 'left_anchor_shot_cluster': 30,\n",
       " 'left_anchor_face_cluster': 6.0,\n",
       " 'matching_left_face_clusters': [],\n",
       " 'right_anchor_shot_cluster': 38,\n",
       " 'right_anchor_face_cluster': 12.0,\n",
       " 'matching_right_face_clusters': [9.0, 17.0],\n",
       " 'cutaway_shot_clusters': [10, 29]}"
      ]
     },
     "execution_count": 6,
     "metadata": {},
     "output_type": "execute_result"
    }
   ],
   "source": [
    "single_scene_dict = scene_dictionaries[4]\n",
    "single_scene_dict"
   ]
  },
  {
   "cell_type": "code",
   "execution_count": 7,
   "metadata": {},
   "outputs": [
    {
     "name": "stdout",
     "output_type": "stream",
     "text": [
      "-------------------------------\n",
      "Icebreaker (Conversation Start)\n",
      "-------------------------------\n",
      "That was the worst lunch.\n",
      "So bad.\n",
      "What kind of restaurant makes you cook your own food?\n",
      "\n",
      "\n",
      "-------------------------\n",
      "Kicker (Conversation End)\n",
      "-------------------------\n",
      "When are you leaving?\n",
      "Tomorrow.\n",
      "I'll miss you.\n",
      "\n",
      "\n",
      "--------------------------------\n",
      "Possible Important Terms, TF-IDF\n",
      "--------------------------------\n",
      "['makes cook food', 'cook food', 'll miss', 'bad kind', 'bad kind restaurant']\n",
      "\n",
      "\n",
      "-------------------------------------\n",
      "Possible Important Terms, Noun Groups\n",
      "-------------------------------------\n",
      "['the worst lunch', 'What kind', 'restaurant', 'your own food', 'Tomorrow']\n",
      "\n",
      "\n",
      "--------------------------------\n",
      "Directed Questions and Responses\n",
      "--------------------------------\n",
      "What kind of restaurant makes you cook your own food?\n",
      "When are you leaving?\n",
      "\n",
      "When are you leaving?\n",
      "Tomorrow.\n",
      "\n",
      "-------------------------\n",
      "First-Person Declarations\n",
      "-------------------------\n",
      "I'll miss you.\n",
      "\n",
      "-----------------------\n",
      "Second-Person Addresses\n",
      "-----------------------\n",
      "\n",
      "-----------------------\n",
      "Cadence, Flow, and Vibe\n",
      "-----------------------\n",
      "This scene has a slow cadence, with a conversation speed of 8 sentences per minute.\n",
      "There are 0 instances of laughter.\n",
      "There are 0 midsentence hesitation interjections.\n",
      "The scene contains no profanity.\n"
     ]
    }
   ],
   "source": [
    "display_scene_dialogue_context(single_scene_dict, subtitle_df, sentence_df, nlp)"
   ]
  },
  {
   "cell_type": "markdown",
   "metadata": {},
   "source": [
    "Recall that when we looked at the film's baseline statistics and found that it had an average conversation speed of 15 sentences per minute. This scene is even slower, clocking in at a barren 8 sentences per minute. The emotional impact comes from the characters' facial features as they look at each other in silence.\n",
    "\n",
    "Charlotte is sad about their impending departure, and her face is sad in almost 40% of her frames. Bob, played by the notoriously deadpan Bill Murray, has a neutral look on his face for the majority of the scene."
   ]
  },
  {
   "cell_type": "code",
   "execution_count": 8,
   "metadata": {},
   "outputs": [
    {
     "name": "stdout",
     "output_type": "stream",
     "text": [
      "Left character, with face clusters [6.0] has the primary emotion: angry, in 39% of frames\n",
      "Right character, with face clusters [12.0, 9.0, 17.0] has the primary emotion: neutral, in 56% of frames\n"
     ]
    }
   ],
   "source": [
    "display_scene_emotions(single_scene_dict, face_df)"
   ]
  },
  {
   "cell_type": "markdown",
   "metadata": {},
   "source": [
    "## Finding Drama: Scene vs. Film Attributes\n",
    "Finally, we can take a look at a scene from *Plus One* (2019), a romantic comedy."
   ]
  },
  {
   "cell_type": "code",
   "execution_count": 9,
   "metadata": {
    "scrolled": true
   },
   "outputs": [
    {
     "name": "stdout",
     "output_type": "stream",
     "text": [
      "---------\n",
      "Technical\n",
      "---------\n",
      "Aspect Ratio: 2.39\n",
      "Average shot duration: 3.73\n",
      "Average frame brightness: 59\n",
      "Average frame contrast: 44\n",
      "\n",
      "--------\n",
      "Dialogue\n",
      "--------\n",
      "Spoken sentences per minute: 32\n",
      "Words per sentence: 4.0\n",
      "\n",
      "-------\n",
      "Emotion\n",
      "-------\n",
      "Percentage of Upset facial expressions: 45%\n",
      "Instances of laughter, per minute: 0.67\n",
      "One in 117 words is a profanity.\n"
     ]
    }
   ],
   "source": [
    "film = 'plus_one_2019'\n",
    "display_film_baseline(film)"
   ]
  },
  {
   "cell_type": "markdown",
   "metadata": {},
   "source": [
    "Sharp dialogue is a staple of the romantic comedy ― *Plus One* more than doubles the amount of sentences per minute of *Lost in Translation*. As a more mainstream rom-con, it's shot more traditionally than *Lost in Translation*. We've identified 18 two-character dialogue scenes ― we'll take a look at the 17th scene."
   ]
  },
  {
   "cell_type": "code",
   "execution_count": 10,
   "metadata": {},
   "outputs": [
    {
     "name": "stdout",
     "output_type": "stream",
     "text": [
      "-------------------------------\n",
      "Icebreaker (Conversation Start)\n",
      "-------------------------------\n",
      "Uh, does he...\n",
      "Does he know about me?\n",
      "Yeah.\n",
      "\n",
      "\n",
      "-------------------------\n",
      "Kicker (Conversation End)\n",
      "-------------------------\n",
      "Nate, can we just get five minutes?\n",
      "Um, I should really go back inside.\n",
      "Bye, Ben.\n",
      "\n",
      "\n",
      "--------------------------------\n",
      "Possible Important Terms, TF-IDF\n",
      "--------------------------------\n",
      "['right', 'speech', 'love', 'just', 'ben']\n",
      "\n",
      "\n",
      "-------------------------------------\n",
      "Possible Important Terms, Noun Groups\n",
      "-------------------------------------\n",
      "['a big speech', 'Mm', 'the whole Shaina', 'accounting thing', 'one thing']\n",
      "\n",
      "\n",
      "--------------------------------\n",
      "Directed Questions and Responses\n",
      "--------------------------------\n",
      "-------------------------\n",
      "First-Person Declarations\n",
      "-------------------------\n",
      "Um, hey, can I...\n",
      "I just need to say one thing, and I'll...\n",
      "I'll leave you alone, I swear.\n",
      "I really can't handle a big speech right now, Ben.\n",
      "I'm an asshole.\n",
      "I-I can't do them on my own.\n",
      "You're not there to... to insult everything that I do.\n",
      "And the worst part about all this is that you're not there because I hurt you.\n",
      "I hurt the one person that never deserved it.\n",
      "And I pushed you away because I'm dumb\n",
      "and I'm selfish, and fuck me for being too late,\n",
      "but I love you, Alice.\n",
      "Um, I should really go back inside.\n",
      "\n",
      "-----------------------\n",
      "Second-Person Addresses\n",
      "-----------------------\n",
      "Alice, you were right.\n",
      "And you were right about these weddings.\n",
      "It's 'cause you're lonely.\n",
      "It's because you're not there.\n",
      "And the worst part about all this is that you're not there because I hurt you.\n",
      "\n",
      "-----------------------\n",
      "Cadence, Flow, and Vibe\n",
      "-----------------------\n",
      "This scene has a medium cadence, with a conversation speed of 22 sentences per minute.\n",
      "There are 0 instances of laughter.\n",
      "There are 1 midsentence hesitation interjections.\n",
      "One in 57 words is a profanity.\n"
     ]
    }
   ],
   "source": [
    "srt_df, subtitle_df, sentence_df, vision_df, face_df = read_pickle(film)\n",
    "scene_dictionaries = generate_scenes(vision_df, face_df, substantial_minimum=4, anchor_search=6)\n",
    "single_scene_dict = scene_dictionaries[17]\n",
    "display_scene_dialogue_context(single_scene_dict, subtitle_df, sentence_df, nlp)"
   ]
  },
  {
   "cell_type": "markdown",
   "metadata": {},
   "source": [
    "This is a tense scene where the character of Ben pours his heart out for Alice. The scene contains double the amount of profanity as the film overall. We can pay special attention to scenes like these. Lots of profanity might indicate lots of drama (and emotional data!) like a fight or scene like this one. This applies for other scene/film attributes, not just profanity, so we should be comparing scenes to the film baseline.\n",
    "\n",
    "Also of note, this scene contains a lot of First-Person Declarations which tell us a lot about the plot."
   ]
  },
  {
   "cell_type": "code",
   "execution_count": 11,
   "metadata": {},
   "outputs": [
    {
     "name": "stdout",
     "output_type": "stream",
     "text": [
      "Left character, with face clusters [31.0, 11.0, 3.0] has the primary emotion: sad, in 35% of frames\n",
      "Right character, with face clusters [2.0, 8.0] has the primary emotion: sad, in 53% of frames\n"
     ]
    }
   ],
   "source": [
    "display_scene_emotions(single_scene_dict, face_df)"
   ]
  }
 ],
 "metadata": {
  "kernelspec": {
   "display_name": "Python (moviegoer)",
   "language": "python",
   "name": "moviegoer"
  },
  "language_info": {
   "codemirror_mode": {
    "name": "ipython",
    "version": 3
   },
   "file_extension": ".py",
   "mimetype": "text/x-python",
   "name": "python",
   "nbconvert_exporter": "python",
   "pygments_lexer": "ipython3",
   "version": "3.7.7"
  }
 },
 "nbformat": 4,
 "nbformat_minor": 4
}
