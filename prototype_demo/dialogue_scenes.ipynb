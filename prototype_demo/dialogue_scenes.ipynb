{
 "cells": [
  {
   "cell_type": "code",
   "execution_count": 1,
   "metadata": {},
   "outputs": [],
   "source": [
    "import sys\n",
    "sys.path.append('../unifying_features')\n",
    "sys.path.append('../data_serialization')\n",
    "from serialization_preprocessing_io import *\n",
    "from time_reference_io import *\n",
    "from scene_identification_io import *\n",
    "from scene_details_io import *\n",
    "from character_identification_io import *\n",
    "from character_details_io import *\n",
    "nlp = spacy.load('en')"
   ]
  },
  {
   "cell_type": "code",
   "execution_count": 2,
   "metadata": {},
   "outputs": [],
   "source": [
    "film = 'lost_in_translation_2003'\n",
    "srt_df, subtitle_df, sentence_df, vision_df, face_df = read_pickle(film)\n",
    "scene_dictionaries = generate_scenes(vision_df, face_df, substantial_minimum=4, anchor_search=6)\n",
    "character_dictionaries = generate_characters(scene_dictionaries)"
   ]
  },
  {
   "cell_type": "code",
   "execution_count": 3,
   "metadata": {},
   "outputs": [
    {
     "data": {
      "text/plain": [
       "5"
      ]
     },
     "execution_count": 3,
     "metadata": {},
     "output_type": "execute_result"
    }
   ],
   "source": [
    "len(scene_dictionaries)"
   ]
  },
  {
   "cell_type": "code",
   "execution_count": 4,
   "metadata": {},
   "outputs": [
    {
     "data": {
      "text/plain": [
       "[[1.0, 6.0], [9.0, 12.0, 17.0, 18.0]]"
      ]
     },
     "execution_count": 4,
     "metadata": {},
     "output_type": "execute_result"
    }
   ],
   "source": [
    "character_clusters = generate_character_clusters(scene_dictionaries)\n",
    "character_clusters"
   ]
  },
  {
   "cell_type": "code",
   "execution_count": 5,
   "metadata": {},
   "outputs": [
    {
     "data": {
      "text/plain": [
       "{'scene_id': 1,\n",
       " 'first_frame': 1929,\n",
       " 'last_frame': 2082,\n",
       " 'left_anchor_shot_cluster': 207,\n",
       " 'left_anchor_face_cluster': 6.0,\n",
       " 'matching_left_face_clusters': [],\n",
       " 'right_anchor_shot_cluster': 65,\n",
       " 'right_anchor_face_cluster': 17.0,\n",
       " 'matching_right_face_clusters': [18.0, 12.0],\n",
       " 'cutaway_shot_clusters': [133, 52, 142]}"
      ]
     },
     "execution_count": 5,
     "metadata": {},
     "output_type": "execute_result"
    }
   ],
   "source": [
    "scene_dictionaries[1]"
   ]
  },
  {
   "cell_type": "code",
   "execution_count": 6,
   "metadata": {},
   "outputs": [],
   "source": [
    "single_scene_dict = scene_dictionaries[1]"
   ]
  },
  {
   "cell_type": "code",
   "execution_count": 7,
   "metadata": {},
   "outputs": [
    {
     "name": "stdout",
     "output_type": "stream",
     "text": [
      "--------------------------------\n",
      "Possible important terms, tf-idf\n",
      "--------------------------------\n",
      "['years', 'porsche', 'yeah', 'doing', 'just']\n",
      "\n",
      "\n",
      "-------------------------------------\n",
      "Possible important terms, noun groups\n",
      "-------------------------------------\n",
      "['a Porsche', 'marriage', 'Cheers', 'A couple', 'things']\n",
      "\n",
      "\n",
      "------------------------------\n",
      "Direct questions and responses\n",
      "------------------------------\n",
      "So, what are you doing here?\n",
      "A couple of things.\n",
      "\n",
      "What are you doing?\n",
      "My husband's a photographer, so he's here working, and I wasn't doing anything, so I came along.\n",
      "\n",
      "How long have you been married?\n",
      "Thank you.\n",
      "\n",
      "Did you buy a Porsche yet?\n",
      "You know, I was thinking about buying a Porsche.\n",
      "\n",
      "What do you do?\n",
      "I'm not sure yet, actually.\n",
      "\n",
      "What did you study?\n",
      "Philosophy.\n",
      "\n",
      "-------------------------\n",
      "First-person declarations\n",
      "-------------------------\n",
      "Taking a break from my wife, forgetting my son's birthday and getting paid $2 million to endorse a whisky when I could be doing a play somewhere.\n",
      "My husband's a photographer, so he's here working, and I wasn't doing anything, so I came along.\n",
      "You know, I was thinking about buying a Porsche.\n",
      "I'm not sure yet, actually.\n",
      "I just graduated last spring.\n",
      "Well, I'm sure you'll figure out the angles.\n",
      "I hope your Porsche works out.\n",
      "Wish I could sleep.\n",
      "\n",
      "-----------------------\n",
      "Second-person addresses\n",
      "-----------------------\n",
      "Well, you figure you sleep one-third of your life.\n",
      "So you're down to 16 and change.\n",
      "Well, I'm sure you'll figure out the angles.\n",
      "\n",
      "------------------------\n",
      "Laughter and Hesitations\n",
      "------------------------\n",
      "There are 3 instances of laughter.\n",
      "There are 0 midsentence hesitation interjections.\n"
     ]
    }
   ],
   "source": [
    "display_scene_dialogue_context(single_scene_dict, subtitle_df, sentence_df, nlp)"
   ]
  },
  {
   "cell_type": "code",
   "execution_count": 8,
   "metadata": {
    "scrolled": true
   },
   "outputs": [
    {
     "name": "stdout",
     "output_type": "stream",
     "text": [
      "Left character, with face clusters [6.0] has the primary emotion: angry in 0.29 percent of frames\n",
      "Right character, with face clusters [17.0, 18.0, 12.0] has the primary emotion: sad in 0.66 percent of frames\n"
     ]
    }
   ],
   "source": [
    "display_scene_emotions(single_scene_dict, face_df)"
   ]
  },
  {
   "cell_type": "code",
   "execution_count": null,
   "metadata": {},
   "outputs": [],
   "source": []
  },
  {
   "cell_type": "code",
   "execution_count": 9,
   "metadata": {},
   "outputs": [
    {
     "data": {
      "text/plain": [
       "{'scene_id': 2,\n",
       " 'first_frame': 2322,\n",
       " 'last_frame': 2375,\n",
       " 'left_anchor_shot_cluster': 52,\n",
       " 'left_anchor_face_cluster': 6.0,\n",
       " 'matching_left_face_clusters': [],\n",
       " 'right_anchor_shot_cluster': 78,\n",
       " 'right_anchor_face_cluster': 12.0,\n",
       " 'matching_right_face_clusters': [],\n",
       " 'cutaway_shot_clusters': [60, 20]}"
      ]
     },
     "execution_count": 9,
     "metadata": {},
     "output_type": "execute_result"
    }
   ],
   "source": [
    "single_scene_dict = scene_dictionaries[2]\n",
    "single_scene_dict"
   ]
  },
  {
   "cell_type": "code",
   "execution_count": 10,
   "metadata": {},
   "outputs": [
    {
     "name": "stdout",
     "output_type": "stream",
     "text": [
      "--------------------------------\n",
      "Possible important terms, tf-idf\n",
      "--------------------------------\n",
      "['like', 'hello', 'stuff', 'switch seats', 'having nice time']\n",
      "\n",
      "\n",
      "-------------------------------------\n",
      "Possible important terms, noun groups\n",
      "-------------------------------------\n",
      "['the pollution', 'seats', 'this one', 'a nice time', 'a secret']\n",
      "\n",
      "\n",
      "------------------------------\n",
      "Direct questions and responses\n",
      "------------------------------\n",
      "Can you keep a secret?\n",
      "I'm trying to organize a prison break.\n",
      "\n",
      "Are you in, or are you out?\n",
      "I'm in.\n",
      "\n",
      "So, you having a nice time?\n",
      "Can you keep a secret?\n",
      "\n",
      "-------------------------\n",
      "First-person declarations\n",
      "-------------------------\n",
      "I like this one.\n",
      "If I fall, someone will notice.\n",
      "I'm trying to organize a prison break.\n",
      "I'm looking for, like, an accomplice.\n",
      "I'm in.\n",
      "I'll go pack my stuff.\n",
      "I hope you've had enough to drink.\n",
      "\n",
      "-----------------------\n",
      "Second-person addresses\n",
      "-----------------------\n",
      "I hope you've had enough to drink.\n",
      "\n",
      "------------------------\n",
      "Laughter and Hesitations\n",
      "------------------------\n",
      "There are 1 instances of laughter.\n",
      "There are 0 midsentence hesitation interjections.\n"
     ]
    }
   ],
   "source": [
    "display_scene_dialogue_context(single_scene_dict, subtitle_df, sentence_df, nlp)"
   ]
  },
  {
   "cell_type": "code",
   "execution_count": 11,
   "metadata": {},
   "outputs": [
    {
     "name": "stdout",
     "output_type": "stream",
     "text": [
      "Left character, with face clusters [6.0] has the primary emotion: happy in 0.3 percent of frames\n",
      "Right character, with face clusters [12.0] has the primary emotion: neutral in 0.64 percent of frames\n"
     ]
    }
   ],
   "source": [
    "display_scene_emotions(single_scene_dict, face_df)"
   ]
  },
  {
   "cell_type": "code",
   "execution_count": 12,
   "metadata": {},
   "outputs": [
    {
     "data": {
      "text/plain": [
       "[]"
      ]
     },
     "execution_count": 12,
     "metadata": {},
     "output_type": "execute_result"
    }
   ],
   "source": [
    "generate_scene_participants(single_scene_dict, subtitle_df, sentence_df)"
   ]
  },
  {
   "cell_type": "code",
   "execution_count": null,
   "metadata": {},
   "outputs": [],
   "source": []
  },
  {
   "cell_type": "code",
   "execution_count": null,
   "metadata": {},
   "outputs": [],
   "source": []
  },
  {
   "cell_type": "code",
   "execution_count": 13,
   "metadata": {},
   "outputs": [
    {
     "data": {
      "text/plain": [
       "{'scene_id': 3,\n",
       " 'first_frame': 2489,\n",
       " 'last_frame': 2533,\n",
       " 'left_anchor_shot_cluster': 196,\n",
       " 'left_anchor_face_cluster': 18.0,\n",
       " 'matching_left_face_clusters': [9.0, 12.0],\n",
       " 'right_anchor_shot_cluster': 38,\n",
       " 'right_anchor_face_cluster': 6.0,\n",
       " 'matching_right_face_clusters': [],\n",
       " 'cutaway_shot_clusters': [52]}"
      ]
     },
     "execution_count": 13,
     "metadata": {},
     "output_type": "execute_result"
    }
   ],
   "source": [
    "single_scene_dict = scene_dictionaries[3]\n",
    "single_scene_dict"
   ]
  },
  {
   "cell_type": "code",
   "execution_count": 14,
   "metadata": {},
   "outputs": [
    {
     "name": "stdout",
     "output_type": "stream",
     "text": [
      "--------------------------------\n",
      "Possible important terms, tf-idf\n",
      "--------------------------------\n",
      "['later', 'good', 'll', 'okay', 'hello']\n",
      "\n",
      "\n",
      "-------------------------------------\n",
      "Possible important terms, noun groups\n",
      "-------------------------------------\n",
      "['a cool pool', 'any sleep', 'the bar', 'the rest', 'the week']\n",
      "\n",
      "\n",
      "------------------------------\n",
      "Direct questions and responses\n",
      "------------------------------\n",
      "How are you?\n",
      "Good.\n",
      "\n",
      "How are you?\n",
      "It's a cool pool, isn't it?\n",
      "\n",
      "How long you staying for?\n",
      "I'll be in the bar for the rest of the week.\n",
      "\n",
      "-------------------------\n",
      "First-person declarations\n",
      "-------------------------\n",
      "I'll be in the bar for the rest of the week.\n",
      "I'm going out with some friends later, if you wanna come...\n",
      "I'll see you later.\n",
      "\n",
      "-----------------------\n",
      "Second-person addresses\n",
      "-----------------------\n",
      "I'm going out with some friends later, if you wanna come...\n",
      "\n",
      "------------------------\n",
      "Laughter and Hesitations\n",
      "------------------------\n",
      "There are 2 instances of laughter.\n",
      "There are 0 midsentence hesitation interjections.\n"
     ]
    }
   ],
   "source": [
    "display_scene_dialogue_context(single_scene_dict, subtitle_df, sentence_df, nlp)"
   ]
  },
  {
   "cell_type": "code",
   "execution_count": 15,
   "metadata": {},
   "outputs": [
    {
     "name": "stdout",
     "output_type": "stream",
     "text": [
      "Left character, with face clusters [18.0, 9.0, 12.0] has the primary emotion: sad in 0.57 percent of frames\n",
      "Right character, with face clusters [6.0] has the primary emotion: happy in 0.38 percent of frames\n"
     ]
    }
   ],
   "source": [
    "display_scene_emotions(single_scene_dict, face_df)"
   ]
  },
  {
   "cell_type": "code",
   "execution_count": 16,
   "metadata": {},
   "outputs": [
    {
     "data": {
      "text/plain": [
       "[]"
      ]
     },
     "execution_count": 16,
     "metadata": {},
     "output_type": "execute_result"
    }
   ],
   "source": [
    "generate_scene_participants(single_scene_dict, subtitle_df, sentence_df)"
   ]
  },
  {
   "cell_type": "code",
   "execution_count": null,
   "metadata": {},
   "outputs": [],
   "source": []
  },
  {
   "cell_type": "code",
   "execution_count": null,
   "metadata": {},
   "outputs": [],
   "source": []
  },
  {
   "cell_type": "code",
   "execution_count": null,
   "metadata": {},
   "outputs": [],
   "source": []
  },
  {
   "cell_type": "code",
   "execution_count": 17,
   "metadata": {},
   "outputs": [
    {
     "data": {
      "text/plain": [
       "{'scene_id': 4,\n",
       " 'first_frame': 5195,\n",
       " 'last_frame': 5242,\n",
       " 'left_anchor_shot_cluster': 42,\n",
       " 'left_anchor_face_cluster': 6.0,\n",
       " 'matching_left_face_clusters': [],\n",
       " 'right_anchor_shot_cluster': 38,\n",
       " 'right_anchor_face_cluster': 12.0,\n",
       " 'matching_right_face_clusters': [9.0, 17.0],\n",
       " 'cutaway_shot_clusters': [19, 52]}"
      ]
     },
     "execution_count": 17,
     "metadata": {},
     "output_type": "execute_result"
    }
   ],
   "source": [
    "single_scene_dict = scene_dictionaries[4]\n",
    "single_scene_dict"
   ]
  },
  {
   "cell_type": "code",
   "execution_count": 18,
   "metadata": {},
   "outputs": [
    {
     "name": "stdout",
     "output_type": "stream",
     "text": [
      "--------------------------------\n",
      "Possible important terms, tf-idf\n",
      "--------------------------------\n",
      "['makes cook food', 'cook food', 'll miss', 'bad kind', 'bad kind restaurant']\n",
      "\n",
      "\n",
      "-------------------------------------\n",
      "Possible important terms, noun groups\n",
      "-------------------------------------\n",
      "['the worst lunch', 'What kind', 'restaurant', 'your own food', 'Tomorrow']\n",
      "\n",
      "\n",
      "------------------------------\n",
      "Direct questions and responses\n",
      "------------------------------\n",
      "What kind of restaurant makes you cook your own food?\n",
      "When are you leaving?\n",
      "\n",
      "When are you leaving?\n",
      "Tomorrow.\n",
      "\n",
      "-------------------------\n",
      "First-person declarations\n",
      "-------------------------\n",
      "I'll miss you.\n",
      "\n",
      "-----------------------\n",
      "Second-person addresses\n",
      "-----------------------\n",
      "\n",
      "------------------------\n",
      "Laughter and Hesitations\n",
      "------------------------\n",
      "There are 0 instances of laughter.\n",
      "There are 0 midsentence hesitation interjections.\n"
     ]
    }
   ],
   "source": [
    "display_scene_dialogue_context(single_scene_dict, subtitle_df, sentence_df, nlp)"
   ]
  },
  {
   "cell_type": "code",
   "execution_count": 19,
   "metadata": {},
   "outputs": [
    {
     "name": "stdout",
     "output_type": "stream",
     "text": [
      "Left character, with face clusters [6.0] has the primary emotion: sad in 0.39 percent of frames\n",
      "Right character, with face clusters [12.0, 9.0, 17.0] has the primary emotion: neutral in 0.56 percent of frames\n"
     ]
    }
   ],
   "source": [
    "display_scene_emotions(single_scene_dict, face_df)"
   ]
  },
  {
   "cell_type": "code",
   "execution_count": 20,
   "metadata": {},
   "outputs": [
    {
     "data": {
      "text/plain": [
       "[]"
      ]
     },
     "execution_count": 20,
     "metadata": {},
     "output_type": "execute_result"
    }
   ],
   "source": [
    "generate_scene_participants(single_scene_dict, subtitle_df, sentence_df)"
   ]
  },
  {
   "cell_type": "code",
   "execution_count": null,
   "metadata": {},
   "outputs": [],
   "source": []
  },
  {
   "cell_type": "code",
   "execution_count": null,
   "metadata": {},
   "outputs": [],
   "source": []
  },
  {
   "cell_type": "code",
   "execution_count": 21,
   "metadata": {},
   "outputs": [
    {
     "data": {
      "text/plain": [
       "{'scene_id': 5,\n",
       " 'first_frame': 5451,\n",
       " 'last_frame': 5484,\n",
       " 'left_anchor_shot_cluster': 42,\n",
       " 'left_anchor_face_cluster': 6.0,\n",
       " 'matching_left_face_clusters': [1.0],\n",
       " 'right_anchor_shot_cluster': 118,\n",
       " 'right_anchor_face_cluster': 19.0,\n",
       " 'matching_right_face_clusters': [],\n",
       " 'cutaway_shot_clusters': []}"
      ]
     },
     "execution_count": 21,
     "metadata": {},
     "output_type": "execute_result"
    }
   ],
   "source": [
    "single_scene_dict = scene_dictionaries[5]\n",
    "single_scene_dict"
   ]
  },
  {
   "cell_type": "code",
   "execution_count": 22,
   "metadata": {},
   "outputs": [
    {
     "name": "stdout",
     "output_type": "stream",
     "text": [
      "--------------------------------\n",
      "Possible important terms, tf-idf\n",
      "--------------------------------\n",
      "['right', 'yeah', 'right right aren', 'okay bye right', 'good fright yeah']\n",
      "\n",
      "\n",
      "-------------------------------------\n",
      "Possible important terms, noun groups\n",
      "-------------------------------------\n",
      "['my bodyguards']\n",
      "\n",
      "\n",
      "------------------------------\n",
      "Direct questions and responses\n",
      "------------------------------\n",
      "Are you going right now?\n",
      "Yeah.\n",
      "\n",
      "Aren't you gonna wish me \"Have a good 'fright,\"' or something?\n",
      "Yeah, right.\n",
      "\n",
      "-------------------------\n",
      "First-person declarations\n",
      "-------------------------\n",
      "\n",
      "-----------------------\n",
      "Second-person addresses\n",
      "-----------------------\n",
      "\n",
      "------------------------\n",
      "Laughter and Hesitations\n",
      "------------------------\n",
      "There are 1 instances of laughter.\n",
      "There are 0 midsentence hesitation interjections.\n"
     ]
    }
   ],
   "source": [
    "display_scene_dialogue_context(single_scene_dict, subtitle_df, sentence_df, nlp)"
   ]
  },
  {
   "cell_type": "code",
   "execution_count": 23,
   "metadata": {},
   "outputs": [
    {
     "name": "stdout",
     "output_type": "stream",
     "text": [
      "Left character, with face clusters [6.0, 1.0] has the primary emotion: sad in 0.38 percent of frames\n",
      "Right character, with face clusters [19.0] has the primary emotion: sad in 0.45 percent of frames\n"
     ]
    }
   ],
   "source": [
    "display_scene_emotions(single_scene_dict, face_df)"
   ]
  },
  {
   "cell_type": "code",
   "execution_count": 24,
   "metadata": {},
   "outputs": [
    {
     "data": {
      "text/plain": [
       "[]"
      ]
     },
     "execution_count": 24,
     "metadata": {},
     "output_type": "execute_result"
    }
   ],
   "source": [
    "generate_scene_participants(single_scene_dict, subtitle_df, sentence_df)"
   ]
  },
  {
   "cell_type": "code",
   "execution_count": null,
   "metadata": {},
   "outputs": [],
   "source": []
  },
  {
   "cell_type": "code",
   "execution_count": null,
   "metadata": {},
   "outputs": [],
   "source": []
  },
  {
   "cell_type": "code",
   "execution_count": null,
   "metadata": {},
   "outputs": [],
   "source": []
  }
 ],
 "metadata": {
  "kernelspec": {
   "display_name": "Python (moviegoer)",
   "language": "python",
   "name": "moviegoer"
  },
  "language_info": {
   "codemirror_mode": {
    "name": "ipython",
    "version": 3
   },
   "file_extension": ".py",
   "mimetype": "text/x-python",
   "name": "python",
   "nbconvert_exporter": "python",
   "pygments_lexer": "ipython3",
   "version": "3.7.7"
  }
 },
 "nbformat": 4,
 "nbformat_minor": 4
}
